{
  "nbformat": 4,
  "nbformat_minor": 0,
  "metadata": {
    "colab": {
      "provenance": []
    },
    "kernelspec": {
      "name": "python3",
      "display_name": "Python 3"
    }
  },
  "cells": [
    {
      "cell_type": "markdown",
      "metadata": {
        "id": "-WeCeITXoxLf"
      },
      "source": [
        "# Assignment 1\n",
        "\n",
        "**Due to**: 11/01/2022 (dd/mm/yyyy)\n",
        "\n",
        "If you deliver it by 11/12/2021 your assignment will be graded by 11/01/2022.\n",
        "\n",
        "\n",
        "**Credits**: Andrea Galassi, Federico Ruggeri, Paolo Torroni\n",
        "\n",
        "**Summary**: Part-of Speech (POS) tagging as Sequence Labelling using Recurrent Neural Architectures"
      ]
    },
    {
      "cell_type": "markdown",
      "metadata": {
        "id": "a4_wqPdlBcKS"
      },
      "source": [
        "# Execution\n",
        "\n"
      ]
    },
    {
      "cell_type": "code",
      "source": [
        "import nltk\n",
        "\n",
        "import re\n",
        "import pandas as pd\n",
        "import numpy as np\n",
        "\n",
        "import sklearn\n",
        "from sklearn.preprocessing import LabelEncoder, OneHotEncoder\n",
        "\n",
        "from keras.preprocessing.text import Tokenizer\n",
        "from keras_preprocessing.sequence import pad_sequences\n",
        "\n",
        "nltk.download('treebank')\n",
        "nltk.download('punkt')\n",
        "nltk.download('stopwords')"
      ],
      "metadata": {
        "id": "Bk3FPDTGw_4A",
        "colab": {
          "base_uri": "https://localhost:8080/"
        },
        "outputId": "9d9882db-38e8-424e-a448-79c4096e44f0"
      },
      "execution_count": 212,
      "outputs": [
        {
          "output_type": "stream",
          "name": "stderr",
          "text": [
            "[nltk_data] Downloading package treebank to /root/nltk_data...\n",
            "[nltk_data]   Package treebank is already up-to-date!\n",
            "[nltk_data] Downloading package punkt to /root/nltk_data...\n",
            "[nltk_data]   Package punkt is already up-to-date!\n",
            "[nltk_data] Downloading package stopwords to /root/nltk_data...\n",
            "[nltk_data]   Package stopwords is already up-to-date!\n"
          ]
        },
        {
          "output_type": "execute_result",
          "data": {
            "text/plain": [
              "True"
            ]
          },
          "metadata": {},
          "execution_count": 212
        }
      ]
    },
    {
      "cell_type": "code",
      "source": [
        "def pre_process(df,string):\n",
        "  def text_pre_process(text):\n",
        "      ret = re.sub(\"RT @(.)+?:\\s|(&#[0-9]+;)|@([\\w\\-]+)|(#)\\S+|(http)s?\\S+|&gt;|^\\s+|\\b\\s+|\\n\", \"\", text)\n",
        "      ret = re.sub(\"\\s\\s+|[^a-zA-Z\\d\\s:]\" , \" \", ret).rstrip().lower()\n",
        "      return ret\n",
        "  return df[string].apply(text_pre_process)\n",
        "\n",
        "def Encoding(df,Tags):\n",
        "  label_encoder = sklearn.preprocessing.LabelEncoder()\n",
        "  X_lab = label_encoder.fit_transform(df)\n",
        "  OneHot_encoder = sklearn.preprocessing.OneHotEncoder()\n",
        "  X = OneHot_encoder.fit_transform(X_lab.reshape(-1,1)).toarray()\n",
        "  dfOneHot = pd.DataFrame(X, columns = [i for i in Tags])\n",
        "  df.reset_index(inplace=True,drop=True)\n",
        "  df = pd.concat([df,dfOneHot],axis=1)\n",
        "  return df\n",
        "\n",
        "def create_embedding_matrix(filepath, word_index, embedding_dim):\n",
        "  vocab_size = len(word_index)+1\n",
        "  embedding_matrix = np.zeros((vocab_size,embedding_dim))\n",
        "\n",
        "  with open(filepath, encoding='utf-8') as f:\n",
        "    for line in f:\n",
        "      word, *vector = line.split()\n",
        "      if word in word_index:\n",
        "        idx = word_index[word]\n",
        "        embedding_matrix[idx] = np.array(vector, dtype=np.float32)[:embedding_dim]\n",
        "  return embedding_matrix"
      ],
      "metadata": {
        "id": "Kx5qPakFMJFw"
      },
      "execution_count": 168,
      "outputs": []
    },
    {
      "cell_type": "markdown",
      "source": [
        "## 1. Corpus\n",
        "NOTA: MOLTE COSE NON HANNO SENSO STO SPERIMENTANDO FUNZIONI PER VEDERE DI CAPIRCI QUALCOSA.\n",
        "### 1.1 Pre-processing"
      ],
      "metadata": {
        "id": "pJVKURDWIGMY"
      }
    },
    {
      "cell_type": "code",
      "source": [
        "# Get the files' list\n",
        "fileids = nltk.corpus.treebank.fileids()\n",
        "\n",
        "# Get the Penn Treebank corpus and tokenize the text\n",
        "train_corpus = nltk.corpus.treebank.tagged_sents(fileids[:100])\n",
        "val_corpus = nltk.corpus.treebank.tagged_sents(fileids[100:150])\n",
        "test_corpus = nltk.corpus.treebank.tagged_sents(fileids[150:])\n",
        "\n",
        "# Flatten the lists\n",
        "train_corpus = [item for sublist in train_corpus for item in sublist if item[1] != '-NONE-']\n",
        "val_corpus = [item for sublist in val_corpus for item in sublist if item[1] != '-NONE-']\n",
        "test_corpus = [item for sublist in test_corpus for item in sublist if item[1] != '-NONE-']"
      ],
      "metadata": {
        "id": "4DjxkoiXIJ5g"
      },
      "execution_count": 195,
      "outputs": []
    },
    {
      "cell_type": "code",
      "source": [
        "train_df = pd.DataFrame(train_corpus, columns = ['word', 'tag'])\n",
        "\n",
        "train_df['word'] = pre_process(train_df,'word')\n",
        "train_df['tag'] = pre_process(train_df,'tag')\n",
        "\n",
        "train_df['word'].replace('', np.nan, inplace=True)\n",
        "train_df['word'].replace(':', np.nan, inplace=True)\n",
        "train_df['tag'].replace('', np.nan, inplace=True)\n",
        "train_df.dropna(inplace=True)\n",
        "\n",
        "train_df.describe()"
      ],
      "metadata": {
        "id": "LTx_uTCIjRbt",
        "colab": {
          "base_uri": "https://localhost:8080/",
          "height": 175
        },
        "outputId": "7458238a-e9e2-40cd-8d1b-20f65d28a72d"
      },
      "execution_count": 200,
      "outputs": [
        {
          "output_type": "execute_result",
          "data": {
            "text/plain": [
              "         word    tag\n",
              "count   41144  41144\n",
              "unique   7362     35\n",
              "top       the     nn\n",
              "freq     2329   6117"
            ],
            "text/html": [
              "\n",
              "  <div id=\"df-9ccd41bf-b2b8-4374-8905-3a9930614478\">\n",
              "    <div class=\"colab-df-container\">\n",
              "      <div>\n",
              "<style scoped>\n",
              "    .dataframe tbody tr th:only-of-type {\n",
              "        vertical-align: middle;\n",
              "    }\n",
              "\n",
              "    .dataframe tbody tr th {\n",
              "        vertical-align: top;\n",
              "    }\n",
              "\n",
              "    .dataframe thead th {\n",
              "        text-align: right;\n",
              "    }\n",
              "</style>\n",
              "<table border=\"1\" class=\"dataframe\">\n",
              "  <thead>\n",
              "    <tr style=\"text-align: right;\">\n",
              "      <th></th>\n",
              "      <th>word</th>\n",
              "      <th>tag</th>\n",
              "    </tr>\n",
              "  </thead>\n",
              "  <tbody>\n",
              "    <tr>\n",
              "      <th>count</th>\n",
              "      <td>41144</td>\n",
              "      <td>41144</td>\n",
              "    </tr>\n",
              "    <tr>\n",
              "      <th>unique</th>\n",
              "      <td>7362</td>\n",
              "      <td>35</td>\n",
              "    </tr>\n",
              "    <tr>\n",
              "      <th>top</th>\n",
              "      <td>the</td>\n",
              "      <td>nn</td>\n",
              "    </tr>\n",
              "    <tr>\n",
              "      <th>freq</th>\n",
              "      <td>2329</td>\n",
              "      <td>6117</td>\n",
              "    </tr>\n",
              "  </tbody>\n",
              "</table>\n",
              "</div>\n",
              "      <button class=\"colab-df-convert\" onclick=\"convertToInteractive('df-9ccd41bf-b2b8-4374-8905-3a9930614478')\"\n",
              "              title=\"Convert this dataframe to an interactive table.\"\n",
              "              style=\"display:none;\">\n",
              "        \n",
              "  <svg xmlns=\"http://www.w3.org/2000/svg\" height=\"24px\"viewBox=\"0 0 24 24\"\n",
              "       width=\"24px\">\n",
              "    <path d=\"M0 0h24v24H0V0z\" fill=\"none\"/>\n",
              "    <path d=\"M18.56 5.44l.94 2.06.94-2.06 2.06-.94-2.06-.94-.94-2.06-.94 2.06-2.06.94zm-11 1L8.5 8.5l.94-2.06 2.06-.94-2.06-.94L8.5 2.5l-.94 2.06-2.06.94zm10 10l.94 2.06.94-2.06 2.06-.94-2.06-.94-.94-2.06-.94 2.06-2.06.94z\"/><path d=\"M17.41 7.96l-1.37-1.37c-.4-.4-.92-.59-1.43-.59-.52 0-1.04.2-1.43.59L10.3 9.45l-7.72 7.72c-.78.78-.78 2.05 0 2.83L4 21.41c.39.39.9.59 1.41.59.51 0 1.02-.2 1.41-.59l7.78-7.78 2.81-2.81c.8-.78.8-2.07 0-2.86zM5.41 20L4 18.59l7.72-7.72 1.47 1.35L5.41 20z\"/>\n",
              "  </svg>\n",
              "      </button>\n",
              "      \n",
              "  <style>\n",
              "    .colab-df-container {\n",
              "      display:flex;\n",
              "      flex-wrap:wrap;\n",
              "      gap: 12px;\n",
              "    }\n",
              "\n",
              "    .colab-df-convert {\n",
              "      background-color: #E8F0FE;\n",
              "      border: none;\n",
              "      border-radius: 50%;\n",
              "      cursor: pointer;\n",
              "      display: none;\n",
              "      fill: #1967D2;\n",
              "      height: 32px;\n",
              "      padding: 0 0 0 0;\n",
              "      width: 32px;\n",
              "    }\n",
              "\n",
              "    .colab-df-convert:hover {\n",
              "      background-color: #E2EBFA;\n",
              "      box-shadow: 0px 1px 2px rgba(60, 64, 67, 0.3), 0px 1px 3px 1px rgba(60, 64, 67, 0.15);\n",
              "      fill: #174EA6;\n",
              "    }\n",
              "\n",
              "    [theme=dark] .colab-df-convert {\n",
              "      background-color: #3B4455;\n",
              "      fill: #D2E3FC;\n",
              "    }\n",
              "\n",
              "    [theme=dark] .colab-df-convert:hover {\n",
              "      background-color: #434B5C;\n",
              "      box-shadow: 0px 1px 3px 1px rgba(0, 0, 0, 0.15);\n",
              "      filter: drop-shadow(0px 1px 2px rgba(0, 0, 0, 0.3));\n",
              "      fill: #FFFFFF;\n",
              "    }\n",
              "  </style>\n",
              "\n",
              "      <script>\n",
              "        const buttonEl =\n",
              "          document.querySelector('#df-9ccd41bf-b2b8-4374-8905-3a9930614478 button.colab-df-convert');\n",
              "        buttonEl.style.display =\n",
              "          google.colab.kernel.accessAllowed ? 'block' : 'none';\n",
              "\n",
              "        async function convertToInteractive(key) {\n",
              "          const element = document.querySelector('#df-9ccd41bf-b2b8-4374-8905-3a9930614478');\n",
              "          const dataTable =\n",
              "            await google.colab.kernel.invokeFunction('convertToInteractive',\n",
              "                                                     [key], {});\n",
              "          if (!dataTable) return;\n",
              "\n",
              "          const docLinkHtml = 'Like what you see? Visit the ' +\n",
              "            '<a target=\"_blank\" href=https://colab.research.google.com/notebooks/data_table.ipynb>data table notebook</a>'\n",
              "            + ' to learn more about interactive tables.';\n",
              "          element.innerHTML = '';\n",
              "          dataTable['output_type'] = 'display_data';\n",
              "          await google.colab.output.renderOutput(dataTable, element);\n",
              "          const docLink = document.createElement('div');\n",
              "          docLink.innerHTML = docLinkHtml;\n",
              "          element.appendChild(docLink);\n",
              "        }\n",
              "      </script>\n",
              "    </div>\n",
              "  </div>\n",
              "  "
            ]
          },
          "metadata": {},
          "execution_count": 200
        }
      ]
    },
    {
      "cell_type": "code",
      "source": [
        "val_df = pd.DataFrame(val_corpus, columns = ['word', 'tag'])\n",
        "\n",
        "val_df['word'] = pre_process(val_df,'word')\n",
        "val_df['tag'] = pre_process(val_df,'tag')\n",
        "\n",
        "val_df['word'].replace('', np.nan, inplace=True)\n",
        "val_df['word'].replace(':', np.nan, inplace=True)\n",
        "val_df['tag'].replace('', np.nan, inplace=True)\n",
        "val_df.dropna(inplace=True)\n",
        "\n",
        "val_df.describe()"
      ],
      "metadata": {
        "colab": {
          "base_uri": "https://localhost:8080/",
          "height": 175
        },
        "id": "9fYRqQK7QYW8",
        "outputId": "5a23cc44-4f2e-430f-9382-fe0ccdae6446"
      },
      "execution_count": 201,
      "outputs": [
        {
          "output_type": "execute_result",
          "data": {
            "text/plain": [
              "         word    tag\n",
              "count   27262  27262\n",
              "unique   5388     35\n",
              "top       the     nn\n",
              "freq     1670   4299"
            ],
            "text/html": [
              "\n",
              "  <div id=\"df-3be9c4a6-984d-4495-ab96-3361d3b16a2d\">\n",
              "    <div class=\"colab-df-container\">\n",
              "      <div>\n",
              "<style scoped>\n",
              "    .dataframe tbody tr th:only-of-type {\n",
              "        vertical-align: middle;\n",
              "    }\n",
              "\n",
              "    .dataframe tbody tr th {\n",
              "        vertical-align: top;\n",
              "    }\n",
              "\n",
              "    .dataframe thead th {\n",
              "        text-align: right;\n",
              "    }\n",
              "</style>\n",
              "<table border=\"1\" class=\"dataframe\">\n",
              "  <thead>\n",
              "    <tr style=\"text-align: right;\">\n",
              "      <th></th>\n",
              "      <th>word</th>\n",
              "      <th>tag</th>\n",
              "    </tr>\n",
              "  </thead>\n",
              "  <tbody>\n",
              "    <tr>\n",
              "      <th>count</th>\n",
              "      <td>27262</td>\n",
              "      <td>27262</td>\n",
              "    </tr>\n",
              "    <tr>\n",
              "      <th>unique</th>\n",
              "      <td>5388</td>\n",
              "      <td>35</td>\n",
              "    </tr>\n",
              "    <tr>\n",
              "      <th>top</th>\n",
              "      <td>the</td>\n",
              "      <td>nn</td>\n",
              "    </tr>\n",
              "    <tr>\n",
              "      <th>freq</th>\n",
              "      <td>1670</td>\n",
              "      <td>4299</td>\n",
              "    </tr>\n",
              "  </tbody>\n",
              "</table>\n",
              "</div>\n",
              "      <button class=\"colab-df-convert\" onclick=\"convertToInteractive('df-3be9c4a6-984d-4495-ab96-3361d3b16a2d')\"\n",
              "              title=\"Convert this dataframe to an interactive table.\"\n",
              "              style=\"display:none;\">\n",
              "        \n",
              "  <svg xmlns=\"http://www.w3.org/2000/svg\" height=\"24px\"viewBox=\"0 0 24 24\"\n",
              "       width=\"24px\">\n",
              "    <path d=\"M0 0h24v24H0V0z\" fill=\"none\"/>\n",
              "    <path d=\"M18.56 5.44l.94 2.06.94-2.06 2.06-.94-2.06-.94-.94-2.06-.94 2.06-2.06.94zm-11 1L8.5 8.5l.94-2.06 2.06-.94-2.06-.94L8.5 2.5l-.94 2.06-2.06.94zm10 10l.94 2.06.94-2.06 2.06-.94-2.06-.94-.94-2.06-.94 2.06-2.06.94z\"/><path d=\"M17.41 7.96l-1.37-1.37c-.4-.4-.92-.59-1.43-.59-.52 0-1.04.2-1.43.59L10.3 9.45l-7.72 7.72c-.78.78-.78 2.05 0 2.83L4 21.41c.39.39.9.59 1.41.59.51 0 1.02-.2 1.41-.59l7.78-7.78 2.81-2.81c.8-.78.8-2.07 0-2.86zM5.41 20L4 18.59l7.72-7.72 1.47 1.35L5.41 20z\"/>\n",
              "  </svg>\n",
              "      </button>\n",
              "      \n",
              "  <style>\n",
              "    .colab-df-container {\n",
              "      display:flex;\n",
              "      flex-wrap:wrap;\n",
              "      gap: 12px;\n",
              "    }\n",
              "\n",
              "    .colab-df-convert {\n",
              "      background-color: #E8F0FE;\n",
              "      border: none;\n",
              "      border-radius: 50%;\n",
              "      cursor: pointer;\n",
              "      display: none;\n",
              "      fill: #1967D2;\n",
              "      height: 32px;\n",
              "      padding: 0 0 0 0;\n",
              "      width: 32px;\n",
              "    }\n",
              "\n",
              "    .colab-df-convert:hover {\n",
              "      background-color: #E2EBFA;\n",
              "      box-shadow: 0px 1px 2px rgba(60, 64, 67, 0.3), 0px 1px 3px 1px rgba(60, 64, 67, 0.15);\n",
              "      fill: #174EA6;\n",
              "    }\n",
              "\n",
              "    [theme=dark] .colab-df-convert {\n",
              "      background-color: #3B4455;\n",
              "      fill: #D2E3FC;\n",
              "    }\n",
              "\n",
              "    [theme=dark] .colab-df-convert:hover {\n",
              "      background-color: #434B5C;\n",
              "      box-shadow: 0px 1px 3px 1px rgba(0, 0, 0, 0.15);\n",
              "      filter: drop-shadow(0px 1px 2px rgba(0, 0, 0, 0.3));\n",
              "      fill: #FFFFFF;\n",
              "    }\n",
              "  </style>\n",
              "\n",
              "      <script>\n",
              "        const buttonEl =\n",
              "          document.querySelector('#df-3be9c4a6-984d-4495-ab96-3361d3b16a2d button.colab-df-convert');\n",
              "        buttonEl.style.display =\n",
              "          google.colab.kernel.accessAllowed ? 'block' : 'none';\n",
              "\n",
              "        async function convertToInteractive(key) {\n",
              "          const element = document.querySelector('#df-3be9c4a6-984d-4495-ab96-3361d3b16a2d');\n",
              "          const dataTable =\n",
              "            await google.colab.kernel.invokeFunction('convertToInteractive',\n",
              "                                                     [key], {});\n",
              "          if (!dataTable) return;\n",
              "\n",
              "          const docLinkHtml = 'Like what you see? Visit the ' +\n",
              "            '<a target=\"_blank\" href=https://colab.research.google.com/notebooks/data_table.ipynb>data table notebook</a>'\n",
              "            + ' to learn more about interactive tables.';\n",
              "          element.innerHTML = '';\n",
              "          dataTable['output_type'] = 'display_data';\n",
              "          await google.colab.output.renderOutput(dataTable, element);\n",
              "          const docLink = document.createElement('div');\n",
              "          docLink.innerHTML = docLinkHtml;\n",
              "          element.appendChild(docLink);\n",
              "        }\n",
              "      </script>\n",
              "    </div>\n",
              "  </div>\n",
              "  "
            ]
          },
          "metadata": {},
          "execution_count": 201
        }
      ]
    },
    {
      "cell_type": "code",
      "source": [
        "test_df = pd.DataFrame(test_corpus, columns = ['word', 'tag'])\n",
        "\n",
        "test_df['word'] = pre_process(test_df,'word')\n",
        "test_df['tag'] = pre_process(test_df,'tag')\n",
        "\n",
        "test_df['word'].replace('', np.nan, inplace=True)\n",
        "test_df['word'].replace(':', np.nan, inplace=True)\n",
        "test_df['tag'].replace('', np.nan, inplace=True)\n",
        "test_df.dropna(inplace=True)\n",
        "\n",
        "test_df.describe()"
      ],
      "metadata": {
        "colab": {
          "base_uri": "https://localhost:8080/",
          "height": 175
        },
        "id": "egACcyleOvPK",
        "outputId": "604c5939-22de-429d-9c4e-fcfd705f1171"
      },
      "execution_count": 202,
      "outputs": [
        {
          "output_type": "execute_result",
          "data": {
            "text/plain": [
              "         word    tag\n",
              "count   13613  13613\n",
              "unique   3386     32\n",
              "top       the     nn\n",
              "freq      765   2305"
            ],
            "text/html": [
              "\n",
              "  <div id=\"df-24998e14-3a01-4a80-855f-fd3d31d0d614\">\n",
              "    <div class=\"colab-df-container\">\n",
              "      <div>\n",
              "<style scoped>\n",
              "    .dataframe tbody tr th:only-of-type {\n",
              "        vertical-align: middle;\n",
              "    }\n",
              "\n",
              "    .dataframe tbody tr th {\n",
              "        vertical-align: top;\n",
              "    }\n",
              "\n",
              "    .dataframe thead th {\n",
              "        text-align: right;\n",
              "    }\n",
              "</style>\n",
              "<table border=\"1\" class=\"dataframe\">\n",
              "  <thead>\n",
              "    <tr style=\"text-align: right;\">\n",
              "      <th></th>\n",
              "      <th>word</th>\n",
              "      <th>tag</th>\n",
              "    </tr>\n",
              "  </thead>\n",
              "  <tbody>\n",
              "    <tr>\n",
              "      <th>count</th>\n",
              "      <td>13613</td>\n",
              "      <td>13613</td>\n",
              "    </tr>\n",
              "    <tr>\n",
              "      <th>unique</th>\n",
              "      <td>3386</td>\n",
              "      <td>32</td>\n",
              "    </tr>\n",
              "    <tr>\n",
              "      <th>top</th>\n",
              "      <td>the</td>\n",
              "      <td>nn</td>\n",
              "    </tr>\n",
              "    <tr>\n",
              "      <th>freq</th>\n",
              "      <td>765</td>\n",
              "      <td>2305</td>\n",
              "    </tr>\n",
              "  </tbody>\n",
              "</table>\n",
              "</div>\n",
              "      <button class=\"colab-df-convert\" onclick=\"convertToInteractive('df-24998e14-3a01-4a80-855f-fd3d31d0d614')\"\n",
              "              title=\"Convert this dataframe to an interactive table.\"\n",
              "              style=\"display:none;\">\n",
              "        \n",
              "  <svg xmlns=\"http://www.w3.org/2000/svg\" height=\"24px\"viewBox=\"0 0 24 24\"\n",
              "       width=\"24px\">\n",
              "    <path d=\"M0 0h24v24H0V0z\" fill=\"none\"/>\n",
              "    <path d=\"M18.56 5.44l.94 2.06.94-2.06 2.06-.94-2.06-.94-.94-2.06-.94 2.06-2.06.94zm-11 1L8.5 8.5l.94-2.06 2.06-.94-2.06-.94L8.5 2.5l-.94 2.06-2.06.94zm10 10l.94 2.06.94-2.06 2.06-.94-2.06-.94-.94-2.06-.94 2.06-2.06.94z\"/><path d=\"M17.41 7.96l-1.37-1.37c-.4-.4-.92-.59-1.43-.59-.52 0-1.04.2-1.43.59L10.3 9.45l-7.72 7.72c-.78.78-.78 2.05 0 2.83L4 21.41c.39.39.9.59 1.41.59.51 0 1.02-.2 1.41-.59l7.78-7.78 2.81-2.81c.8-.78.8-2.07 0-2.86zM5.41 20L4 18.59l7.72-7.72 1.47 1.35L5.41 20z\"/>\n",
              "  </svg>\n",
              "      </button>\n",
              "      \n",
              "  <style>\n",
              "    .colab-df-container {\n",
              "      display:flex;\n",
              "      flex-wrap:wrap;\n",
              "      gap: 12px;\n",
              "    }\n",
              "\n",
              "    .colab-df-convert {\n",
              "      background-color: #E8F0FE;\n",
              "      border: none;\n",
              "      border-radius: 50%;\n",
              "      cursor: pointer;\n",
              "      display: none;\n",
              "      fill: #1967D2;\n",
              "      height: 32px;\n",
              "      padding: 0 0 0 0;\n",
              "      width: 32px;\n",
              "    }\n",
              "\n",
              "    .colab-df-convert:hover {\n",
              "      background-color: #E2EBFA;\n",
              "      box-shadow: 0px 1px 2px rgba(60, 64, 67, 0.3), 0px 1px 3px 1px rgba(60, 64, 67, 0.15);\n",
              "      fill: #174EA6;\n",
              "    }\n",
              "\n",
              "    [theme=dark] .colab-df-convert {\n",
              "      background-color: #3B4455;\n",
              "      fill: #D2E3FC;\n",
              "    }\n",
              "\n",
              "    [theme=dark] .colab-df-convert:hover {\n",
              "      background-color: #434B5C;\n",
              "      box-shadow: 0px 1px 3px 1px rgba(0, 0, 0, 0.15);\n",
              "      filter: drop-shadow(0px 1px 2px rgba(0, 0, 0, 0.3));\n",
              "      fill: #FFFFFF;\n",
              "    }\n",
              "  </style>\n",
              "\n",
              "      <script>\n",
              "        const buttonEl =\n",
              "          document.querySelector('#df-24998e14-3a01-4a80-855f-fd3d31d0d614 button.colab-df-convert');\n",
              "        buttonEl.style.display =\n",
              "          google.colab.kernel.accessAllowed ? 'block' : 'none';\n",
              "\n",
              "        async function convertToInteractive(key) {\n",
              "          const element = document.querySelector('#df-24998e14-3a01-4a80-855f-fd3d31d0d614');\n",
              "          const dataTable =\n",
              "            await google.colab.kernel.invokeFunction('convertToInteractive',\n",
              "                                                     [key], {});\n",
              "          if (!dataTable) return;\n",
              "\n",
              "          const docLinkHtml = 'Like what you see? Visit the ' +\n",
              "            '<a target=\"_blank\" href=https://colab.research.google.com/notebooks/data_table.ipynb>data table notebook</a>'\n",
              "            + ' to learn more about interactive tables.';\n",
              "          element.innerHTML = '';\n",
              "          dataTable['output_type'] = 'display_data';\n",
              "          await google.colab.output.renderOutput(dataTable, element);\n",
              "          const docLink = document.createElement('div');\n",
              "          docLink.innerHTML = docLinkHtml;\n",
              "          element.appendChild(docLink);\n",
              "        }\n",
              "      </script>\n",
              "    </div>\n",
              "  </div>\n",
              "  "
            ]
          },
          "metadata": {},
          "execution_count": 202
        }
      ]
    },
    {
      "cell_type": "code",
      "source": [
        "# tags_train = sorted(list(set([x[1] for x in train_corpus])))\n",
        "# tags_train = zip(tags_train, list(range(len(tags_train))))\n",
        "# tags_train_dict = dict(tags_train)\n",
        "\n",
        "# tags_val = sorted(list(set([x[1] for x in val_corpus])))\n",
        "# tags_val = zip(tags_val, list(range(len(tags_val))))\n",
        "# tags_val_dict = dict(tags_val)\n",
        "\n",
        "# tags_test = sorted(list(set([x[1] for x in test_corpus])))\n",
        "# tags_test = zip(tags_test, list(range(len(tags_test))))\n",
        "# tags_test_dict = dict(tags_test)\n",
        "\n",
        "# print(len(tags_train_dict))\n",
        "# print(len(tags_test_dict))\n",
        "# print(len(tags_val_dict))\n",
        "\n",
        "tags = []\n",
        "for i in train_df.tag:\n",
        "  if i not in tags:\n",
        "    tags.append(i)\n",
        "\n",
        "tags_test = []\n",
        "for i in test_df.tag:\n",
        "  if i not in tags_test:\n",
        "    tags_test.append(i)\n",
        "\n",
        "tags_val = []\n",
        "for i in val_df.tag:\n",
        "  if i not in tags_val:\n",
        "    tags_val.append(i)\n",
        "\n",
        "print(tags_val)\n",
        "print(tags_test)\n",
        "print(tags)"
      ],
      "metadata": {
        "colab": {
          "base_uri": "https://localhost:8080/"
        },
        "id": "AgW-xj7fRI2u",
        "outputId": "bd9d6e20-77fd-4778-92f7-b4d3ce6ffb4a"
      },
      "execution_count": 203,
      "outputs": [
        {
          "output_type": "stream",
          "name": "stdout",
          "text": [
            "['dt', 'nnp', 'nn', 'vbd', 'jj', 'nns', 'in', 'jjr', 'cd', 'wdt', 'vbz', 'rb', 'cc', 'vbg', 'vbn', 'vbp', 'jjs', 'to', 'pos', 'rbr', 'md', 'vb', 'nnps', 'prp', ' lrb', ' rrb', 'wp', 'rbs', 'ex', 'wrb', 'rp', 'fw', 'uh', 'pdt', 'ls']\n",
            "['nnp', 'vbd', 'prp', 'cd', 'nns', 'cc', 'in', 'jj', 'nn', 'dt', 'vbz', 'pos', 'to', 'md', 'vb', 'vbg', 'rb', 'vbn', 'wp', 'vbp', 'wrb', 'wdt', 'jjr', 'jjs', 'rp', 'nnps', 'rbr', 'ex', 'rbs', ' lrb', ' rrb', 'pdt']\n",
            "['nnp', 'cd', 'nns', 'jj', 'md', 'vb', 'dt', 'nn', 'in', 'vbz', 'vbg', 'cc', 'vbd', 'vbn', 'rb', 'to', 'prp', 'rbr', 'wdt', 'vbp', 'rp', 'jjs', 'pos', 'ex', 'wp', 'jjr', 'wrb', 'nnps', ' lrb', ' rrb', 'pdt', 'rbs', 'fw', 'uh', 'ls']\n"
          ]
        }
      ]
    },
    {
      "cell_type": "code",
      "source": [
        "label_encoder = LabelEncoder()\n",
        "\n",
        "train_df['tag'] = label_encoder.fit_transform(train_df['tag'])\n",
        "test_df['tag']  = label_encoder.fit_transform(test_df['tag'])\n",
        "val_df['tag']   = label_encoder.fit_transform(val_df['tag'])\n",
        "\n",
        "print(train_df['tag'].unique())\n",
        "print(val_df['tag'].unique())\n",
        "print(test_df['tag'].unique())"
      ],
      "metadata": {
        "colab": {
          "base_uri": "https://localhost:8080/"
        },
        "id": "8NhdgM6UVi-T",
        "outputId": "219daf64-5019-4310-8ef8-79cf44b21f40"
      },
      "execution_count": 206,
      "outputs": [
        {
          "output_type": "stream",
          "name": "stdout",
          "text": [
            "[14  3 16  8 12 26  4 13  7 31 28  2 27 29 20 24 19 21 32 30 23 10 18  5\n",
            " 33  9 34 15  0  1 17 22  6 25 11]\n",
            "[ 4 14 13 27  8 16  7  9  3 32 31 20  2 28 29 30 10 24 18 21 12 26 15 19\n",
            "  0  1 33 22  5 34 23  6 25 17 11]\n",
            "[12 24 17  3 14  2  6  7 11  4 28 16 22 10 23 25 18 26 30 27 31 29  8  9\n",
            " 21 13 19  5 20  0  1 15]\n"
          ]
        }
      ]
    },
    {
      "cell_type": "code",
      "source": [
        "X_train = train_df.word\n",
        "y_train = train_df.tag\n",
        "y_train = Encoding(y_train, tags)\n",
        "\n",
        "print(y_train.shape)\n",
        "print(y_train.head())\n",
        "\n",
        "X_val = val_df.word\n",
        "y_val = val_df.tag\n",
        "y_val = Encoding(y_val, tags_val)\n",
        "print(y_val.shape)\n",
        "print(y_val.head())\n",
        "\n",
        "X_test = test_df.word\n",
        "y_test = test_df.tag\n",
        "y_test = Encoding(y_test, tags_test)\n",
        "print(y_test.shape)\n",
        "print(y_test.head())\n",
        "\n",
        "y_train.drop('tag',inplace=True,axis=1)\n",
        "y_test.drop('tag',inplace=True,axis=1)\n",
        "y_val.drop('tag',inplace=True,axis=1)"
      ],
      "metadata": {
        "colab": {
          "base_uri": "https://localhost:8080/"
        },
        "id": "iETje_H_RvIC",
        "outputId": "b2ab1c08-a9ef-43af-ec1d-f58e0ae776bc"
      },
      "execution_count": 209,
      "outputs": [
        {
          "output_type": "stream",
          "name": "stdout",
          "text": [
            "(41144, 36)\n",
            "   tag  nnp   cd  nns   jj   md   vb   dt   nn   in  ...  jjr  wrb  nnps  \\\n",
            "0   14  0.0  0.0  0.0  0.0  0.0  0.0  0.0  0.0  0.0  ...  0.0  0.0   0.0   \n",
            "1   14  0.0  0.0  0.0  0.0  0.0  0.0  0.0  0.0  0.0  ...  0.0  0.0   0.0   \n",
            "2    3  0.0  0.0  0.0  1.0  0.0  0.0  0.0  0.0  0.0  ...  0.0  0.0   0.0   \n",
            "3   16  0.0  0.0  0.0  0.0  0.0  0.0  0.0  0.0  0.0  ...  0.0  0.0   0.0   \n",
            "4    8  0.0  0.0  0.0  0.0  0.0  0.0  0.0  0.0  1.0  ...  0.0  0.0   0.0   \n",
            "\n",
            "    lrb   rrb  pdt  rbs   fw   uh   ls  \n",
            "0   0.0   0.0  0.0  0.0  0.0  0.0  0.0  \n",
            "1   0.0   0.0  0.0  0.0  0.0  0.0  0.0  \n",
            "2   0.0   0.0  0.0  0.0  0.0  0.0  0.0  \n",
            "3   0.0   0.0  0.0  0.0  0.0  0.0  0.0  \n",
            "4   0.0   0.0  0.0  0.0  0.0  0.0  0.0  \n",
            "\n",
            "[5 rows x 36 columns]\n",
            "(27262, 36)\n",
            "   tag   dt  nnp   nn  vbd   jj  nns   in  jjr   cd  ...   rrb   wp  rbs   ex  \\\n",
            "0    4  0.0  0.0  0.0  0.0  1.0  0.0  0.0  0.0  0.0  ...   0.0  0.0  0.0  0.0   \n",
            "1   14  0.0  0.0  0.0  0.0  0.0  0.0  0.0  0.0  0.0  ...   0.0  0.0  0.0  0.0   \n",
            "2   13  0.0  0.0  0.0  0.0  0.0  0.0  0.0  0.0  0.0  ...   0.0  0.0  0.0  0.0   \n",
            "3   27  0.0  0.0  0.0  0.0  0.0  0.0  0.0  0.0  0.0  ...   0.0  0.0  1.0  0.0   \n",
            "4    8  0.0  0.0  0.0  0.0  0.0  0.0  0.0  0.0  1.0  ...   0.0  0.0  0.0  0.0   \n",
            "\n",
            "   wrb   rp   fw   uh  pdt   ls  \n",
            "0  0.0  0.0  0.0  0.0  0.0  0.0  \n",
            "1  0.0  0.0  0.0  0.0  0.0  0.0  \n",
            "2  0.0  0.0  0.0  0.0  0.0  0.0  \n",
            "3  0.0  0.0  0.0  0.0  0.0  0.0  \n",
            "4  0.0  0.0  0.0  0.0  0.0  0.0  \n",
            "\n",
            "[5 rows x 36 columns]\n",
            "(13613, 33)\n",
            "   tag  nnp  vbd  prp   cd  nns   cc   in   jj   nn  ...  jjr  jjs   rp  nnps  \\\n",
            "0   12  0.0  0.0  0.0  0.0  0.0  0.0  0.0  0.0  0.0  ...  0.0  0.0  0.0   0.0   \n",
            "1   12  0.0  0.0  0.0  0.0  0.0  0.0  0.0  0.0  0.0  ...  0.0  0.0  0.0   0.0   \n",
            "2   12  0.0  0.0  0.0  0.0  0.0  0.0  0.0  0.0  0.0  ...  0.0  0.0  0.0   0.0   \n",
            "3   12  0.0  0.0  0.0  0.0  0.0  0.0  0.0  0.0  0.0  ...  0.0  0.0  0.0   0.0   \n",
            "4   12  0.0  0.0  0.0  0.0  0.0  0.0  0.0  0.0  0.0  ...  0.0  0.0  0.0   0.0   \n",
            "\n",
            "   rbr   ex  rbs   lrb   rrb  pdt  \n",
            "0  0.0  0.0  0.0   0.0   0.0  0.0  \n",
            "1  0.0  0.0  0.0   0.0   0.0  0.0  \n",
            "2  0.0  0.0  0.0   0.0   0.0  0.0  \n",
            "3  0.0  0.0  0.0   0.0   0.0  0.0  \n",
            "4  0.0  0.0  0.0   0.0   0.0  0.0  \n",
            "\n",
            "[5 rows x 33 columns]\n"
          ]
        }
      ]
    },
    {
      "cell_type": "code",
      "source": [
        "tokenizer = Tokenizer()\n",
        "tokenizer.fit_on_texts(X_train)\n",
        "\n",
        "num_words = 9000\n",
        "tokenizer.word_index = {e:i for e,i in tokenizer.word_index.items() if i <= num_words}\n",
        "tokenizer.word_index[tokenizer.oov_token] = num_words +1\n",
        "\n",
        "X_train = tokenizer.texts_to_sequences(X_train)\n",
        "X_val = tokenizer.texts_to_sequences(X_val)\n",
        "X_test = tokenizer.texts_to_sequences(X_test)\n",
        "vocab_size = len(tokenizer.word_index) + 1"
      ],
      "metadata": {
        "id": "DYlL3zP1aErC"
      },
      "execution_count": 213,
      "outputs": []
    },
    {
      "cell_type": "code",
      "source": [
        "max_len = 50\n",
        "X_train = pad_sequences(X_train,padding='post',maxlen=max_len)\n",
        "X_val = pad_sequences(X_val,padding='post',maxlen=max_len)\n",
        "X_test = pad_sequences(X_test,padding='post',maxlen=max_len)"
      ],
      "metadata": {
        "id": "wRuwom1nZhlp"
      },
      "execution_count": 214,
      "outputs": []
    },
    {
      "cell_type": "markdown",
      "source": [
        "###1.2 GloVe "
      ],
      "metadata": {
        "id": "WjIVKo-zH0AA"
      }
    },
    {
      "cell_type": "code",
      "source": [
        "import gensim\n",
        "import gensim.downloader as gloader\n",
        "\n",
        "emb_model = gloader.load('glove-wiki-gigaword-50')"
      ],
      "metadata": {
        "colab": {
          "base_uri": "https://localhost:8080/"
        },
        "id": "6NZ3b2n89qEa",
        "outputId": "59a87e6a-4328-44f8-ffc3-d6a5df17b873"
      },
      "execution_count": 84,
      "outputs": [
        {
          "output_type": "stream",
          "name": "stdout",
          "text": [
            "[==================================================] 100.0% 66.0/66.0MB downloaded\n"
          ]
        }
      ]
    },
    {
      "cell_type": "code",
      "source": [
        "emb_model.most_similar('iphone')"
      ],
      "metadata": {
        "colab": {
          "base_uri": "https://localhost:8080/"
        },
        "id": "OkBqX6A-HYpY",
        "outputId": "3baa98d9-e98d-427a-fa4f-f8d00435c801"
      },
      "execution_count": 100,
      "outputs": [
        {
          "output_type": "execute_result",
          "data": {
            "text/plain": [
              "[('ipad', 0.9405525326728821),\n",
              " ('smartphone', 0.9002013206481934),\n",
              " ('ipod', 0.8585914969444275),\n",
              " ('android', 0.8474240303039551),\n",
              " ('smartphones', 0.8404892683029175),\n",
              " ('macintosh', 0.8069723844528198),\n",
              " ('3gs', 0.7897009253501892),\n",
              " ('playstation', 0.7869682312011719),\n",
              " ('handsets', 0.7849521636962891),\n",
              " ('app', 0.7825644016265869)]"
            ]
          },
          "metadata": {},
          "execution_count": 100
        }
      ]
    },
    {
      "cell_type": "code",
      "source": [
        "input_dim = X_train.shape[1]\n",
        "embedding_dim = 300\n",
        "embedding_matrix = create_embedding_matrix(\"/content/Glove/glove.6B.300d.txt\", tokenizer.word_index, embedding_dim)"
      ],
      "metadata": {
        "colab": {
          "base_uri": "https://localhost:8080/",
          "height": 333
        },
        "id": "uSgIkyfvaaHi",
        "outputId": "0e59229a-a733-4ab0-c2e0-f35de606ab20"
      },
      "execution_count": 215,
      "outputs": [
        {
          "output_type": "error",
          "ename": "FileNotFoundError",
          "evalue": "ignored",
          "traceback": [
            "\u001b[0;31m---------------------------------------------------------------------------\u001b[0m",
            "\u001b[0;31mFileNotFoundError\u001b[0m                         Traceback (most recent call last)",
            "\u001b[0;32m<ipython-input-215-30eb11ff3643>\u001b[0m in \u001b[0;36m<module>\u001b[0;34m\u001b[0m\n\u001b[1;32m      1\u001b[0m \u001b[0minput_dim\u001b[0m \u001b[0;34m=\u001b[0m \u001b[0mX_train\u001b[0m\u001b[0;34m.\u001b[0m\u001b[0mshape\u001b[0m\u001b[0;34m[\u001b[0m\u001b[0;36m1\u001b[0m\u001b[0;34m]\u001b[0m\u001b[0;34m\u001b[0m\u001b[0;34m\u001b[0m\u001b[0m\n\u001b[1;32m      2\u001b[0m \u001b[0membedding_dim\u001b[0m \u001b[0;34m=\u001b[0m \u001b[0;36m300\u001b[0m\u001b[0;34m\u001b[0m\u001b[0;34m\u001b[0m\u001b[0m\n\u001b[0;32m----> 3\u001b[0;31m \u001b[0membedding_matrix\u001b[0m \u001b[0;34m=\u001b[0m \u001b[0mcreate_embedding_matrix\u001b[0m\u001b[0;34m(\u001b[0m\u001b[0;34m\"/content/Glove/glove.6B.300d.txt\"\u001b[0m\u001b[0;34m,\u001b[0m \u001b[0mtokenizer\u001b[0m\u001b[0;34m.\u001b[0m\u001b[0mword_index\u001b[0m\u001b[0;34m,\u001b[0m \u001b[0membedding_dim\u001b[0m\u001b[0;34m)\u001b[0m\u001b[0;34m\u001b[0m\u001b[0;34m\u001b[0m\u001b[0m\n\u001b[0m",
            "\u001b[0;32m<ipython-input-168-9c480d05a20a>\u001b[0m in \u001b[0;36mcreate_embedding_matrix\u001b[0;34m(filepath, word_index, embedding_dim)\u001b[0m\n\u001b[1;32m     20\u001b[0m   \u001b[0membedding_matrix\u001b[0m \u001b[0;34m=\u001b[0m \u001b[0mnp\u001b[0m\u001b[0;34m.\u001b[0m\u001b[0mzeros\u001b[0m\u001b[0;34m(\u001b[0m\u001b[0;34m(\u001b[0m\u001b[0mvocab_size\u001b[0m\u001b[0;34m,\u001b[0m\u001b[0membedding_dim\u001b[0m\u001b[0;34m)\u001b[0m\u001b[0;34m)\u001b[0m\u001b[0;34m\u001b[0m\u001b[0;34m\u001b[0m\u001b[0m\n\u001b[1;32m     21\u001b[0m \u001b[0;34m\u001b[0m\u001b[0m\n\u001b[0;32m---> 22\u001b[0;31m   \u001b[0;32mwith\u001b[0m \u001b[0mopen\u001b[0m\u001b[0;34m(\u001b[0m\u001b[0mfilepath\u001b[0m\u001b[0;34m,\u001b[0m \u001b[0mencoding\u001b[0m\u001b[0;34m=\u001b[0m\u001b[0;34m'utf-8'\u001b[0m\u001b[0;34m)\u001b[0m \u001b[0;32mas\u001b[0m \u001b[0mf\u001b[0m\u001b[0;34m:\u001b[0m\u001b[0;34m\u001b[0m\u001b[0;34m\u001b[0m\u001b[0m\n\u001b[0m\u001b[1;32m     23\u001b[0m     \u001b[0;32mfor\u001b[0m \u001b[0mline\u001b[0m \u001b[0;32min\u001b[0m \u001b[0mf\u001b[0m\u001b[0;34m:\u001b[0m\u001b[0;34m\u001b[0m\u001b[0;34m\u001b[0m\u001b[0m\n\u001b[1;32m     24\u001b[0m       \u001b[0mword\u001b[0m\u001b[0;34m,\u001b[0m \u001b[0;34m*\u001b[0m\u001b[0mvector\u001b[0m \u001b[0;34m=\u001b[0m \u001b[0mline\u001b[0m\u001b[0;34m.\u001b[0m\u001b[0msplit\u001b[0m\u001b[0;34m(\u001b[0m\u001b[0;34m)\u001b[0m\u001b[0;34m\u001b[0m\u001b[0;34m\u001b[0m\u001b[0m\n",
            "\u001b[0;31mFileNotFoundError\u001b[0m: [Errno 2] No such file or directory: '/content/Glove/glove.6B.300d.txt'"
          ]
        }
      ]
    },
    {
      "cell_type": "markdown",
      "source": [
        "### 1.3 Model"
      ],
      "metadata": {
        "id": "hcBHOgcP3OW7"
      }
    },
    {
      "cell_type": "code",
      "source": [
        "import tensorflow as tf\n",
        "from tensorflow.keras.layers import Embedding, Bidirectional, LSTM, Dense\n",
        "\n",
        "# Define the model\n",
        "model = tf.keras.Sequential()\n",
        "\n",
        "# Add the Embedding layer\n",
        "model.add(Embedding(input_dim=vocab_size, output_dim=embedding_dim))\n",
        "\n",
        "# Add the Bidirectional LSTM layer\n",
        "model.add(Bidirectional(LSTM(units=lstm_units)))\n",
        "\n",
        "# Add the Dense/Fully-Connected layer\n",
        "model.add(Dense(units=num_classes, activation='softmax'))\n",
        "\n",
        "# Compile the model\n",
        "model.compile(optimizer='adam', loss='categorical_crossentropy', metrics=['accuracy'])"
      ],
      "metadata": {
        "id": "RTDDziCuKz0a"
      },
      "execution_count": null,
      "outputs": []
    }
  ]
}