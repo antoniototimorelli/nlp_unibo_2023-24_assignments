{
  "nbformat": 4,
  "nbformat_minor": 0,
  "metadata": {
    "colab": {
      "provenance": []
    },
    "kernelspec": {
      "name": "python3",
      "display_name": "Python 3"
    },
    "language_info": {
      "name": "python"
    }
  },
  "cells": [
    {
      "cell_type": "markdown",
      "source": [
        "https://github.com/pranavphoenix/BiLSTM-POS-Tagging/blob/main/BiLSTM_POS_Tagging.ipynb\n",
        "\n",
        "https://linguistics.stackexchange.com/questions/16897/unable-to-understand-meaning-of-tag-none-1-in-penn-treebank-example\n",
        "\n",
        "TODO:\n",
        "- Cacasburo\n",
        "- Guardare creazione dizionario, bisogna rispettare i punti dell'assignment;\n",
        "- Non togliere punctuation e symbols ma evitare di utilizzarli nel calcolo delle metriche, magari utilizzando l'array di pesi 'sample_weight' che si trova nell'altro notebook;\n",
        "- Provare se i risultati migliorano con preprocessing (e.g. lowerando le parole);\n",
        "- Aggiustare il notebook perché fa cagare;"
      ],
      "metadata": {
        "id": "013gFxfmSmXR"
      }
    },
    {
      "cell_type": "markdown",
      "source": [
        "# Assignment 1\n",
        "\n",
        "**Due to**: 11/01/2022 (dd/mm/yyyy)\n",
        "\n",
        "If you deliver it by 11/12/2021 your assignment will be graded by 11/01/2022.\n",
        "\n",
        "\n",
        "**Credits**: Andrea Galassi, Federico Ruggeri, Paolo Torroni\n",
        "\n",
        "**Summary**: Part-of Speech (POS) tagging as Sequence Labelling using Recurrent Neural Architectures\n",
        "\n",
        "# Execution\n",
        "## 0. Utils"
      ],
      "metadata": {
        "id": "Y0BInycOeQL6"
      }
    },
    {
      "cell_type": "code",
      "execution_count": 138,
      "metadata": {
        "id": "sxL2umB0D19Y"
      },
      "outputs": [],
      "source": [
        "import nltk\n",
        "import numpy as np\n",
        "import os\n",
        "import re\n",
        "import pandas as pd\n",
        "import seaborn as sns\n",
        "import tensorflow as tf\n",
        "from collections import defaultdict\n",
        "\n",
        "\n",
        "from keras import backend as K\n",
        "from keras.layers import Dense, LSTM, InputLayer, Bidirectional, TimeDistributed, GRU\n",
        "from keras.layers import Embedding, Activation\n",
        "from keras.models import Sequential\n",
        "from keras.optimizers import Adam\n",
        "from keras_preprocessing.sequence import pad_sequences\n",
        "from keras.utils.np_utils import to_categorical\n",
        "\n",
        "import urllib.request\n",
        "import zipfile\n",
        "import progressbar\n",
        "from IPython.display import display_html\n",
        "from itertools import chain,cycle\n",
        "import plotly.graphic_objects as go\n",
        "\n",
        "# Preprocessing of words\n",
        "def pre_process(df,string):\n",
        "    def text_pre_process(text):\n",
        "        ret = re.sub('RT @(.)+?:\\s|(&#[0-9]+;)|@([\\w\\-]+)|(#)\\S+|(http)s?\\S+|&gt;|^\\s+|\\b\\s+|\\n', '', text)\n",
        "        ret = re.sub('\\s\\s+|[^a-zA-Z\\d\\s:]' , ' ', ret).rstrip().lower()\n",
        "        return ret\n",
        "    return df[string].apply(text_pre_process)\n",
        "\n",
        "# Downloading Glove Word Embeddings\n",
        "pbar = None\n",
        "def show_progress(block_num, block_size, total_size):\n",
        "    global pbar\n",
        "    if pbar is None:\n",
        "        pbar = progressbar.ProgressBar(maxval=total_size)\n",
        "        pbar.start()\n",
        "\n",
        "    downloaded = block_num * block_size\n",
        "    if downloaded < total_size:\n",
        "        pbar.update(downloaded)\n",
        "    else:\n",
        "        pbar.finish()\n",
        "        pbar = None\n",
        "\n",
        "# Display dataframes\n",
        "def display(*args,titles=cycle([''])):\n",
        "    html_str=''\n",
        "    for df,title in zip(args, chain(titles,cycle(['</br>'])) ):\n",
        "        html_str+='<th style=\"text-align:left\"><td style=\"vertical-align:top\">'\n",
        "        html_str+=f'<h4 style=\"text-align: left;\">{title}</h2>'\n",
        "        html_str+=df.to_html().replace('table','table style=\"display:inline\"')\n",
        "        html_str+='</td></th>'\n",
        "    display_html(html_str,raw=True)"
      ]
    },
    {
      "cell_type": "code",
      "source": [
        "# Downloading the dataset\n",
        "nltk.download('treebank')\n",
        "\n",
        "# Download the GloVe embeddings file\n",
        "url = 'http://nlp.stanford.edu/data/glove.6B.zip'\n",
        "urllib.request.urlretrieve(url, 'glove.6B.zip', show_progress)\n",
        "\n",
        "# Extract the zip file\n",
        "zip_ref = zipfile.ZipFile('glove.6B.zip', 'r')\n",
        "zip_ref.extractall()\n",
        "zip_ref.close()"
      ],
      "metadata": {
        "colab": {
          "base_uri": "https://localhost:8080/"
        },
        "id": "SUWmRON8D80m",
        "outputId": "090d050e-cb02-461c-ac54-10d769938b71"
      },
      "execution_count": 2,
      "outputs": [
        {
          "output_type": "stream",
          "name": "stderr",
          "text": [
            "[nltk_data] Downloading package treebank to /root/nltk_data...\n",
            "[nltk_data]   Unzipping corpora/treebank.zip.\n",
            "100% (862182613 of 862182613) |##########| Elapsed Time: 0:02:38 Time:  0:02:38\n"
          ]
        }
      ]
    },
    {
      "cell_type": "markdown",
      "source": [
        "## 1. Corpus\n",
        "### 1.1 Pre-processing\n",
        "\n",
        "From the original tags list we removed all the symbols and english punctuation plus:\n",
        "- FW, Foreign Word, because there are no examples in the test set;\n",
        "- UH, Interjection, because there are no examples in the test set;\n",
        "- LS, List Item Marker, because there are no examples in the test set (and because it denotes symbols as well);"
      ],
      "metadata": {
        "id": "5filE0ydeiga"
      }
    },
    {
      "cell_type": "code",
      "source": [
        "# Get the files' list\n",
        "fileids = nltk.corpus.treebank.fileids()\n",
        "\n",
        "# Get the Penn Treebank tagged sentences\n",
        "train_corpus = nltk.corpus.treebank.tagged_sents(fileids[:100])\n",
        "val_corpus = nltk.corpus.treebank.tagged_sents(fileids[100:150])\n",
        "test_corpus = nltk.corpus.treebank.tagged_sents(fileids[150:])\n",
        "\n",
        "# Flatten the lists\n",
        "\n",
        "train_corpus = [tuple(list(item)+[str(idx)]) for idx,sublist in enumerate(train_corpus) for item in sublist if item[1] != '-NONE-']\n",
        "val_corpus = [tuple(list(item)+[str(idx)]) for idx,sublist in enumerate(val_corpus) for item in sublist if item[1] != '-NONE-']\n",
        "test_corpus = [tuple(list(item)+[str(idx)]) for idx,sublist in enumerate(test_corpus) for item in sublist if item[1] != '-NONE-']\n",
        "\n",
        "# train_corpus = [tuple(list(item)+[str(idx)]) for idx,sublist in enumerate(train_corpus) for item in sublist if item[1] not in ignore]\n",
        "# val_corpus = [tuple(list(item)+[str(idx)]) for idx,sublist in enumerate(val_corpus) for item in sublist if item[1] not in ignore]\n",
        "# test_corpus = [tuple(list(item)+[str(idx)]) for idx,sublist in enumerate(test_corpus) for item in sublist if item[1] not in ignore]\n",
        "\n",
        "#train_corpus = [tuple(list(item)+[str(idx)]) for idx,sublist in enumerate(train_corpus) for item in sublist]\n",
        "#val_corpus = [tuple(list(item)+[str(idx)]) for idx,sublist in enumerate(val_corpus) for item in sublist]\n",
        "#test_corpus = [tuple(list(item)+[str(idx)]) for idx,sublist in enumerate(test_corpus) for item in sublist]\n",
        "\n",
        "train_df = pd.DataFrame(train_corpus, columns = ['word', 'tag', 'sentence'])\n",
        "#train_df['word'] = train_df['word'].str.lower()\n",
        "# train_df['word'] = pre_process(train_df,'word')\n",
        "\n",
        "val_df = pd.DataFrame(val_corpus, columns = ['word', 'tag', 'sentence'])\n",
        "#val_df['word'] = val_df['word'].str.lower()\n",
        "# val_df['word'] = pre_process(val_df,'word')\n",
        "\n",
        "test_df = pd.DataFrame(test_corpus, columns = ['word', 'tag', 'sentence'])\n",
        "#test_df['word'] = test_df['word'].str.lower()\n",
        "# test_df['word'] = pre_process(test_df,'word')\n",
        "\n",
        "display(train_df.describe(), val_df.describe(), test_df.describe(), titles = [f'Training set {train_df.shape}', f'Validation set {val_df.shape}', f'Test set {test_df.shape}'])"
      ],
      "metadata": {
        "id": "-ulx6UMBHint",
        "colab": {
          "base_uri": "https://localhost:8080/",
          "height": 610
        },
        "outputId": "fff62ade-aa61-4854-8a84-26eaa4e82787"
      },
      "execution_count": 231,
      "outputs": [
        {
          "output_type": "display_data",
          "data": {
            "text/html": [
              "<th style=\"text-align:left\"><td style=\"vertical-align:top\"><h4 style=\"text-align: left;\">Training set (47356, 3)</h2><table style=\"display:inline\" border=\"1\" class=\"dataframe\">\n",
              "  <thead>\n",
              "    <tr style=\"text-align: right;\">\n",
              "      <th></th>\n",
              "      <th>word</th>\n",
              "      <th>tag</th>\n",
              "      <th>sentence</th>\n",
              "    </tr>\n",
              "  </thead>\n",
              "  <tbody>\n",
              "    <tr>\n",
              "      <th>count</th>\n",
              "      <td>47356</td>\n",
              "      <td>47356</td>\n",
              "      <td>47356</td>\n",
              "    </tr>\n",
              "    <tr>\n",
              "      <th>unique</th>\n",
              "      <td>8009</td>\n",
              "      <td>45</td>\n",
              "      <td>1963</td>\n",
              "    </tr>\n",
              "    <tr>\n",
              "      <th>top</th>\n",
              "      <td>,</td>\n",
              "      <td>NN</td>\n",
              "      <td>1854</td>\n",
              "    </tr>\n",
              "    <tr>\n",
              "      <th>freq</th>\n",
              "      <td>2570</td>\n",
              "      <td>6270</td>\n",
              "      <td>249</td>\n",
              "    </tr>\n",
              "  </tbody>\n",
              "</table style=\"display:inline\"></td></th><th style=\"text-align:left\"><td style=\"vertical-align:top\"><h4 style=\"text-align: left;\">Validation set (31183, 3)</h2><table style=\"display:inline\" border=\"1\" class=\"dataframe\">\n",
              "  <thead>\n",
              "    <tr style=\"text-align: right;\">\n",
              "      <th></th>\n",
              "      <th>word</th>\n",
              "      <th>tag</th>\n",
              "      <th>sentence</th>\n",
              "    </tr>\n",
              "  </thead>\n",
              "  <tbody>\n",
              "    <tr>\n",
              "      <th>count</th>\n",
              "      <td>31183</td>\n",
              "      <td>31183</td>\n",
              "      <td>31183</td>\n",
              "    </tr>\n",
              "    <tr>\n",
              "      <th>unique</th>\n",
              "      <td>5892</td>\n",
              "      <td>44</td>\n",
              "      <td>1299</td>\n",
              "    </tr>\n",
              "    <tr>\n",
              "      <th>top</th>\n",
              "      <td>,</td>\n",
              "      <td>NN</td>\n",
              "      <td>339</td>\n",
              "    </tr>\n",
              "    <tr>\n",
              "      <th>freq</th>\n",
              "      <td>1528</td>\n",
              "      <td>4513</td>\n",
              "      <td>81</td>\n",
              "    </tr>\n",
              "  </tbody>\n",
              "</table style=\"display:inline\"></td></th><th style=\"text-align:left\"><td style=\"vertical-align:top\"><h4 style=\"text-align: left;\">Test set (15545, 3)</h2><table style=\"display:inline\" border=\"1\" class=\"dataframe\">\n",
              "  <thead>\n",
              "    <tr style=\"text-align: right;\">\n",
              "      <th></th>\n",
              "      <th>word</th>\n",
              "      <th>tag</th>\n",
              "      <th>sentence</th>\n",
              "    </tr>\n",
              "  </thead>\n",
              "  <tbody>\n",
              "    <tr>\n",
              "      <th>count</th>\n",
              "      <td>15545</td>\n",
              "      <td>15545</td>\n",
              "      <td>15545</td>\n",
              "    </tr>\n",
              "    <tr>\n",
              "      <th>unique</th>\n",
              "      <td>3623</td>\n",
              "      <td>40</td>\n",
              "      <td>652</td>\n",
              "    </tr>\n",
              "    <tr>\n",
              "      <th>top</th>\n",
              "      <td>,</td>\n",
              "      <td>NN</td>\n",
              "      <td>232</td>\n",
              "    </tr>\n",
              "    <tr>\n",
              "      <th>freq</th>\n",
              "      <td>787</td>\n",
              "      <td>2383</td>\n",
              "      <td>58</td>\n",
              "    </tr>\n",
              "  </tbody>\n",
              "</table style=\"display:inline\"></td></th>"
            ]
          },
          "metadata": {}
        }
      ]
    },
    {
      "cell_type": "code",
      "source": [
        "#lowercase to all classes but NNS and NNPS\n",
        "\n",
        "for index, row in train_df.iterrows():\n",
        "  if row['tag'] != 'NNP' or 'NNPS':\n",
        "    row['word'] = row['word'].lower()\n",
        "\n",
        "for index, row in val_df.iterrows():\n",
        "  if row['tag'] != 'NNP' or 'NNPS':\n",
        "    row['word'] = row['word'].lower()\n",
        "\n",
        "for index, row in test_df.iterrows():\n",
        "  if row['tag'] != 'NNP' or 'NNPS':\n",
        "    row['word'] = row['word'].lower()"
      ],
      "metadata": {
        "id": "eKteoO2I-Le7"
      },
      "execution_count": 232,
      "outputs": []
    },
    {
      "cell_type": "code",
      "source": [
        "tags_train = sorted(list(set([x for x in train_df.tag])))\n",
        "tags_val = sorted(list(set([x for x in val_df.tag])))\n",
        "tags_test = sorted(list(set([x for x in test_df.tag])))\n",
        "\n",
        "max_tags_list = max([len(tags_train),len(tags_val),len(tags_test)])\n",
        "\n",
        "# Training set tags list\n",
        "print(f'Train tags number: {len(tags_train)}')\n",
        "print(f'Train tags list: {tags_train}')\n",
        "\n",
        "exceeding_validation = [el for el in tags_train if el not in tags_val]\n",
        "if exceeding_validation != []:\n",
        "  print(f'\\tClasses in training set for which there are no samples in validation set: {exceeding_validation}')\n",
        "\n",
        "exceeding_test = [el for el in tags_train if el not in tags_test]\n",
        "\n",
        "if exceeding_test != []:\n",
        "  print(f'\\tClasses in training set for which there are no samples in test set: {exceeding_test}')\n",
        "\n",
        "\n",
        "# Validation set tags list\n",
        "print(f'\\nValidation tags number: {len(tags_val)}')\n",
        "print(f'Validation tags list: {tags_val}')\n",
        "\n",
        "exceeding_training = [el for el in tags_val if el not in tags_train]\n",
        "if exceeding_training != []:\n",
        "  print(f'\\tClasses in validation set for which there are no samples in training set: {exceeding_training}')\n",
        "\n",
        "exceeding_test = [el for el in tags_val if el not in tags_test]\n",
        "if exceeding_test != []:\n",
        "  print(f'\\tClasses in validation set for which there are no samples in test set: {exceeding_test}')\n",
        "\n",
        "# Validation set tags list\n",
        "print(f'\\nTest tags number: {len(tags_test)}')\n",
        "print(f'Test tags list: {tags_test}')\n",
        "\n",
        "exceeding_training = [el for el in tags_test if el not in tags_train]\n",
        "if exceeding_training != []:\n",
        "  print(f'\\tClasses in test set for which there are no samples in training set: {exceeding_training}')\n",
        "\n",
        "exceeding_val = [el for el in tags_test if el not in tags_val]\n",
        "if exceeding_val != []:\n",
        "  print(f'\\tClasses in test set set for which there are no samples in validation set: {exceeding_val}')\n",
        "\n",
        "conf_mat_df = pd.DataFrame(columns=tags_train, index=tags_train)\n",
        "conf_mat_df = conf_mat_df.fillna(0)"
      ],
      "metadata": {
        "colab": {
          "base_uri": "https://localhost:8080/"
        },
        "id": "w6MOWORPI8Va",
        "outputId": "57c26618-1e69-4581-c029-da8f189fb5df"
      },
      "execution_count": 233,
      "outputs": [
        {
          "output_type": "stream",
          "name": "stdout",
          "text": [
            "Train tags number: 45\n",
            "Train tags list: ['#', '$', \"''\", ',', '-LRB-', '-RRB-', '.', ':', 'CC', 'CD', 'DT', 'EX', 'FW', 'IN', 'JJ', 'JJR', 'JJS', 'LS', 'MD', 'NN', 'NNP', 'NNPS', 'NNS', 'PDT', 'POS', 'PRP', 'PRP$', 'RB', 'RBR', 'RBS', 'RP', 'SYM', 'TO', 'UH', 'VB', 'VBD', 'VBG', 'VBN', 'VBP', 'VBZ', 'WDT', 'WP', 'WP$', 'WRB', '``']\n",
            "\tClasses in training set for which there are no samples in validation set: ['SYM']\n",
            "\tClasses in training set for which there are no samples in test set: ['#', 'FW', 'LS', 'SYM', 'UH']\n",
            "\n",
            "Validation tags number: 44\n",
            "Validation tags list: ['#', '$', \"''\", ',', '-LRB-', '-RRB-', '.', ':', 'CC', 'CD', 'DT', 'EX', 'FW', 'IN', 'JJ', 'JJR', 'JJS', 'LS', 'MD', 'NN', 'NNP', 'NNPS', 'NNS', 'PDT', 'POS', 'PRP', 'PRP$', 'RB', 'RBR', 'RBS', 'RP', 'TO', 'UH', 'VB', 'VBD', 'VBG', 'VBN', 'VBP', 'VBZ', 'WDT', 'WP', 'WP$', 'WRB', '``']\n",
            "\tClasses in validation set for which there are no samples in test set: ['#', 'FW', 'LS', 'UH']\n",
            "\n",
            "Test tags number: 40\n",
            "Test tags list: ['$', \"''\", ',', '-LRB-', '-RRB-', '.', ':', 'CC', 'CD', 'DT', 'EX', 'IN', 'JJ', 'JJR', 'JJS', 'MD', 'NN', 'NNP', 'NNPS', 'NNS', 'PDT', 'POS', 'PRP', 'PRP$', 'RB', 'RBR', 'RBS', 'RP', 'TO', 'VB', 'VBD', 'VBG', 'VBN', 'VBP', 'VBZ', 'WDT', 'WP', 'WP$', 'WRB', '``']\n"
          ]
        }
      ]
    },
    {
      "cell_type": "code",
      "source": [
        "print(train_df['tag'].value_counts())"
      ],
      "metadata": {
        "colab": {
          "base_uri": "https://localhost:8080/"
        },
        "id": "X5nfdsia2tDY",
        "outputId": "e553456f-9363-401b-bcd6-0a165db86b37"
      },
      "execution_count": 234,
      "outputs": [
        {
          "output_type": "stream",
          "name": "stdout",
          "text": [
            "NN       6270\n",
            "NNP      5202\n",
            "IN       4952\n",
            "DT       4076\n",
            "NNS      3004\n",
            "JJ       2992\n",
            ",        2571\n",
            ".        1959\n",
            "VBD      1548\n",
            "RB       1490\n",
            "CD       1439\n",
            "VB       1195\n",
            "CC       1141\n",
            "VBZ      1133\n",
            "VBN      1031\n",
            "TO       1028\n",
            "PRP       954\n",
            "VBG       763\n",
            "VBP       727\n",
            "MD        413\n",
            "PRP$      409\n",
            "``        409\n",
            "POS       403\n",
            "''        399\n",
            "$         342\n",
            ":         293\n",
            "WDT       204\n",
            "JJR       157\n",
            "WP        141\n",
            "RP        140\n",
            "NNPS       95\n",
            "JJS        93\n",
            "WRB        92\n",
            "RBR        86\n",
            "-RRB-      55\n",
            "-LRB-      52\n",
            "EX         49\n",
            "RBS        19\n",
            "LS         10\n",
            "PDT         9\n",
            "WP$         6\n",
            "FW          2\n",
            "UH          1\n",
            "SYM         1\n",
            "#           1\n",
            "Name: tag, dtype: int64\n"
          ]
        }
      ]
    },
    {
      "cell_type": "code",
      "source": [
        "# Retriving prepocessed data\n",
        "X_train_raw = train_df.groupby('sentence').word.apply(list).reset_index()['word']\n",
        "X_val_raw = val_df.groupby('sentence').word.apply(list).reset_index()['word']\n",
        "X_test_raw = test_df.groupby('sentence').word.apply(list).reset_index()['word']\n",
        "\n",
        "y_train_raw = train_df.groupby('sentence').tag.apply(list).reset_index()['tag']\n",
        "y_val_raw = val_df.groupby('sentence').tag.apply(list).reset_index()['tag']\n",
        "y_test_raw = test_df.groupby('sentence').tag.apply(list).reset_index()['tag']"
      ],
      "metadata": {
        "id": "jlBmUbmIlG0o"
      },
      "execution_count": 235,
      "outputs": []
    },
    {
      "cell_type": "markdown",
      "source": [
        "##-Vocabulary part-"
      ],
      "metadata": {
        "id": "U5kuIrRML6i2"
      }
    },
    {
      "cell_type": "markdown",
      "source": [
        "GloVe Vocabulary (V1)"
      ],
      "metadata": {
        "id": "7W8oM6e9LIMt"
      }
    },
    {
      "cell_type": "code",
      "source": [
        "#Use the 300 dimensional GLove Word Embeddings\n",
        "glove_dir = './'\n",
        "embedding_dim = 300\n",
        "embedding_dict = {} #initialize dictionary\n",
        "f = open(os.path.join(glove_dir, f'glove.6B.{embedding_dim}d.txt'))\n",
        "for line in f:\n",
        "    values = line.split()\n",
        "    word = values[0]\n",
        "    coefs = np.asarray(values[1:], dtype='float32')\n",
        "    embedding_dict[word] = coefs\n",
        "f.close()\n",
        "\n",
        "print('Found %s word vectors.' % len(embedding_dict))"
      ],
      "metadata": {
        "colab": {
          "base_uri": "https://localhost:8080/"
        },
        "id": "675MhAFGFQNj",
        "outputId": "e1f1b493-c1fb-421d-ea0a-10e5f70c8138"
      },
      "execution_count": 236,
      "outputs": [
        {
          "output_type": "stream",
          "name": "stdout",
          "text": [
            "Found 400000 word vectors.\n"
          ]
        }
      ]
    },
    {
      "cell_type": "markdown",
      "source": [
        "V1 + Training set OOV (V2)"
      ],
      "metadata": {
        "id": "i896YzW_LSxU"
      }
    },
    {
      "cell_type": "code",
      "source": [
        "def update_vocab(df,embeddings_index,embedding_dim):\n",
        "  oov_c = 0\n",
        "  for word in df.word:\n",
        "    if word not in embeddings_index:\n",
        "      oov_c += 1\n",
        "      random_embed = np.random.rand(embedding_dim)\n",
        "      embeddings_index[word] = random_embed\n",
        "  print(\"Added\",oov_c,\"OOV words + respective embeddings to the vocabulary.\")\n",
        "  return embeddings_index\n",
        "\n",
        "embedding_dict = update_vocab(train_df,embedding_dict,embedding_dim)"
      ],
      "metadata": {
        "colab": {
          "base_uri": "https://localhost:8080/"
        },
        "id": "XGUNPlD0LYzI",
        "outputId": "1c47f91b-5b52-42c1-9c3d-237a7bbb4666"
      },
      "execution_count": 237,
      "outputs": [
        {
          "output_type": "stream",
          "name": "stdout",
          "text": [
            "Added 359 OOV words + respective embeddings to the vocabulary.\n"
          ]
        }
      ]
    },
    {
      "cell_type": "markdown",
      "source": [
        "V2 + Validation set OOV (V3)"
      ],
      "metadata": {
        "id": "2Y0leABCLdUN"
      }
    },
    {
      "cell_type": "code",
      "source": [
        "embedding_dict = update_vocab(val_df,embedding_dict,embedding_dim)"
      ],
      "metadata": {
        "colab": {
          "base_uri": "https://localhost:8080/"
        },
        "id": "8t-ArNTCLeKY",
        "outputId": "332276e3-e152-4c88-c222-64aa4a345371"
      },
      "execution_count": 238,
      "outputs": [
        {
          "output_type": "stream",
          "name": "stdout",
          "text": [
            "Added 189 OOV words + respective embeddings to the vocabulary.\n"
          ]
        }
      ]
    },
    {
      "cell_type": "markdown",
      "source": [
        "V3 + Test set OOV (V4)"
      ],
      "metadata": {
        "id": "iOF5z9auLf7z"
      }
    },
    {
      "cell_type": "code",
      "source": [
        "embedding_dict = update_vocab(test_df,embedding_dict,embedding_dim)"
      ],
      "metadata": {
        "colab": {
          "base_uri": "https://localhost:8080/"
        },
        "id": "I_JWqKoDLjBD",
        "outputId": "98bc70eb-742c-4136-c66a-052bbd932bea"
      },
      "execution_count": 239,
      "outputs": [
        {
          "output_type": "stream",
          "name": "stdout",
          "text": [
            "Added 128 OOV words + respective embeddings to the vocabulary.\n"
          ]
        }
      ]
    },
    {
      "cell_type": "code",
      "source": [
        "#Building the actual word vocabulary\n",
        "\n",
        "from collections import OrderedDict\n",
        "\n",
        "index2word = OrderedDict()\n",
        "word2index = OrderedDict()\n",
        "\n",
        "curr_idx = 0\n",
        "for key in embedding_dict.keys():\n",
        "  word2index[key] = curr_idx\n",
        "  index2word[curr_idx] = key\n",
        "  curr_idx += 1\n",
        "\n",
        "vocab_length = len(word2index) \n",
        "print(f'[Debug] Index -> Word vocabulary size: {len(index2word)}')\n",
        "print(f'[Debug] Word -> Index vocabulary size: {len(word2index)}')"
      ],
      "metadata": {
        "colab": {
          "base_uri": "https://localhost:8080/"
        },
        "id": "FKuxUTPNLkhz",
        "outputId": "b5427370-2486-4887-b861-7dd3192fbef8"
      },
      "execution_count": 240,
      "outputs": [
        {
          "output_type": "stream",
          "name": "stdout",
          "text": [
            "[Debug] Index -> Word vocabulary size: 400676\n",
            "[Debug] Word -> Index vocabulary size: 400676\n"
          ]
        }
      ]
    },
    {
      "cell_type": "code",
      "source": [
        "#Tag vocabulary\n",
        "\n",
        "tag2index = OrderedDict()\n",
        "index2tag = OrderedDict()\n",
        "\n",
        "curr_id = 0\n",
        "for tag in tags_train:\n",
        "  tag2index[tag] = curr_id\n",
        "  index2tag[curr_id] = tag\n",
        "  curr_id += 1\n",
        "\n",
        "print(f'[Debug] Index -> Tag vocabulary size: {len(index2tag)}')\n",
        "print(f'[Debug] Tag -> Index vocabulary size: {len(tag2index)}')\n"
      ],
      "metadata": {
        "colab": {
          "base_uri": "https://localhost:8080/"
        },
        "id": "-aKNy1vALyWm",
        "outputId": "7746c0bb-8089-4cd8-e59e-f55d03671967"
      },
      "execution_count": 241,
      "outputs": [
        {
          "output_type": "stream",
          "name": "stdout",
          "text": [
            "[Debug] Index -> Tag vocabulary size: 45\n",
            "[Debug] Tag -> Index vocabulary size: 45\n"
          ]
        }
      ]
    },
    {
      "cell_type": "markdown",
      "source": [
        "###da qua continua il preprocessing"
      ],
      "metadata": {
        "id": "iKZGDveoMIUI"
      }
    },
    {
      "cell_type": "code",
      "source": [
        "# Tokenising words and tags by their indexes in vocabulary\n",
        "X_train_np, X_val_np, X_test_np, y_train_np, y_val_np, y_test_np = [], [], [], [], [], []\n",
        "\n",
        "# Encode X\n",
        "for sentence in X_train_raw:\n",
        "    sent_int = []\n",
        "    for word in sentence:\n",
        "            sent_int.append(word2index[word])\n",
        "    X_train_np.append(sent_int)\n",
        "\n",
        "for sentence in X_val_raw:\n",
        "    sent_int = []\n",
        "    for word in sentence:\n",
        "            sent_int.append(word2index[word])\n",
        "    X_val_np.append(sent_int)\n",
        "\n",
        "for sentence in X_test_raw:\n",
        "    sent_int = []\n",
        "    for word in sentence:\n",
        "            sent_int.append(word2index[word])\n",
        "    X_test_np.append(sent_int)\n",
        "\n",
        "# Encode Y\n",
        "for sent_tags in y_train_raw:\n",
        "    y_train_np.append([tag2index[tag] for tag in sent_tags])\n",
        "\n",
        "for sent_tags in y_val_raw:\n",
        "    y_val_np.append([tag2index[tag] for tag in sent_tags])\n",
        "\n",
        "for sent_tags in y_test_raw:\n",
        "    y_test_np.append([tag2index[tag] for tag in sent_tags])\n",
        "\n",
        "print('-Not encoded')\n",
        "print('\\t',X_train_raw[0]) \n",
        "print('\\t',y_train_raw[0])\n",
        "print('-Encoded')\n",
        "print('\\t',X_train_np[0])\n",
        "print('\\t',y_train_np[0])"
      ],
      "metadata": {
        "colab": {
          "base_uri": "https://localhost:8080/"
        },
        "id": "PlvH2AwynXAk",
        "outputId": "d692525e-ca06-46af-8a81-cb0897b7a24c"
      },
      "execution_count": 242,
      "outputs": [
        {
          "output_type": "stream",
          "name": "stdout",
          "text": [
            "-Not encoded\n",
            "\t ['pierre', 'vinken', ',', '61', 'years', 'old', ',', 'will', 'join', 'the', 'board', 'as', 'a', 'nonexecutive', 'director', 'nov.', '29', '.']\n",
            "\t ['NNP', 'NNP', ',', 'CD', 'NNS', 'JJ', ',', 'MD', 'VB', 'DT', 'NN', 'IN', 'DT', 'JJ', 'NN', 'NNP', 'CD', '.']\n",
            "-Encoded\n",
            "\t [5029, 400000, 1, 4978, 82, 167, 1, 43, 1429, 0, 534, 19, 7, 128564, 369, 2343, 1263, 2]\n",
            "\t [20, 20, 3, 9, 22, 14, 3, 18, 34, 10, 19, 13, 10, 14, 19, 20, 9, 6]\n"
          ]
        }
      ]
    },
    {
      "cell_type": "code",
      "source": [
        "lengths = [len(sentence) for sentence in X_train_raw]\n",
        "lengths.sort()\n",
        "\n",
        "sns.boxplot(lengths)"
      ],
      "metadata": {
        "colab": {
          "base_uri": "https://localhost:8080/",
          "height": 340
        },
        "id": "TWdnd4hWmKee",
        "outputId": "220f8cb1-f92b-4ce5-9291-95d1df594798"
      },
      "execution_count": 243,
      "outputs": [
        {
          "output_type": "stream",
          "name": "stderr",
          "text": [
            "/usr/local/lib/python3.8/dist-packages/seaborn/_decorators.py:36: FutureWarning: Pass the following variable as a keyword arg: x. From version 0.12, the only valid positional argument will be `data`, and passing other arguments without an explicit keyword will result in an error or misinterpretation.\n",
            "  warnings.warn(\n"
          ]
        },
        {
          "output_type": "execute_result",
          "data": {
            "text/plain": [
              "<matplotlib.axes._subplots.AxesSubplot at 0x7ff6d4a7f2e0>"
            ]
          },
          "metadata": {},
          "execution_count": 243
        },
        {
          "output_type": "display_data",
          "data": {
            "text/plain": [
              "<Figure size 432x288 with 1 Axes>"
            ],
            "image/png": "[encoded data removed]"
          },
          "metadata": {
            "needs_background": "light"
          }
        }
      ]
    },
    {
      "cell_type": "code",
      "source": [
        "MAX_LENGTH = lengths[-1] # maximum words in a sentence\n",
        "\n",
        "PAD_LENGTH = lengths[-2]\n",
        "\n",
        "\n",
        "print(f'Length of longest sentence: {MAX_LENGTH}')\n",
        "print(f'Second longest sentence length: {PAD_LENGTH}')\n",
        "\n",
        "# Add padding to sentences\n",
        "# X_train = pad_sequences(X_train, maxlen=MAX_LENGTH, padding='post')\n",
        "# X_val = pad_sequences(X_val, maxlen=MAX_LENGTH, padding='post')\n",
        "# X_test = pad_sequences(X_test, maxlen=MAX_LENGTH, padding='post')\n",
        "\n",
        "# y_train = pad_sequences(y_train, maxlen=MAX_LENGTH, padding='post')\n",
        "# y_val = pad_sequences(y_val, maxlen=MAX_LENGTH, padding='post')\n",
        "# y_test = pad_sequences(y_test, maxlen=MAX_LENGTH, padding='post')\n",
        "\n",
        "X_train = pad_sequences(X_train_np, maxlen=PAD_LENGTH, padding='post')\n",
        "X_val = pad_sequences(X_val_np, maxlen=PAD_LENGTH, padding='post')\n",
        "X_test = pad_sequences(X_test_np, maxlen=PAD_LENGTH, padding='post')\n",
        "\n",
        "y_train = pad_sequences(y_train_np, maxlen=PAD_LENGTH, padding='post')\n",
        "y_val = pad_sequences(y_val_np, maxlen=PAD_LENGTH, padding='post')\n",
        "y_test = pad_sequences(y_test_np, maxlen=PAD_LENGTH, padding='post')\n",
        "print('-Padded')\n",
        "print('\\tX:',X_train[0])\n",
        "print('\\n\\ty:',y_train[0])\n",
        "\n",
        "# Create a sample weight vector where the weights for padded samples, punctuation and symbols \n",
        "# are set to 0 and the weights for the other samples are set to 1\n",
        "ignore = [':', '#', '$', '-LRB-', '-RRB-', ',', '.', \"''\", '``', 'SYM']\n",
        "# sample_weight = np.ones(X_train.shape)\n",
        "# for i in range(X_train.shape[0]):\n",
        "#     for j in range(X_train.shape[1]):\n",
        "#         if X_train[i][j] == 0 or y_train_raw[i][j] in ignore:\n",
        "#             sample_weight[i][j] = 0"
      ],
      "metadata": {
        "colab": {
          "base_uri": "https://localhost:8080/"
        },
        "id": "mRSBSBqosWyK",
        "outputId": "7308377f-631c-46a8-f9be-ad4058f005d7"
      },
      "execution_count": 249,
      "outputs": [
        {
          "output_type": "stream",
          "name": "stdout",
          "text": [
            "Length of longest sentence: 249\n",
            "Second longest sentence length: 114\n",
            "-Padded\n",
            "\tX: [  5029 400000      1   4978     82    167      1     43   1429      0\n",
            "    534     19      7 128564    369   2343   1263      2      0      0\n",
            "      0      0      0      0      0      0      0      0      0      0\n",
            "      0      0      0      0      0      0      0      0      0      0\n",
            "      0      0      0      0      0      0      0      0      0      0\n",
            "      0      0      0      0      0      0      0      0      0      0\n",
            "      0      0      0      0      0      0      0      0      0      0\n",
            "      0      0      0      0      0      0      0      0      0      0\n",
            "      0      0      0      0      0      0      0      0      0      0\n",
            "      0      0      0      0      0      0      0      0      0      0\n",
            "      0      0      0      0      0      0      0      0      0      0\n",
            "      0      0      0      0]\n",
            "\n",
            "\ty: [20 20  3  9 22 14  3 18 34 10 19 13 10 14 19 20  9  6  0  0  0  0  0  0\n",
            "  0  0  0  0  0  0  0  0  0  0  0  0  0  0  0  0  0  0  0  0  0  0  0  0\n",
            "  0  0  0  0  0  0  0  0  0  0  0  0  0  0  0  0  0  0  0  0  0  0  0  0\n",
            "  0  0  0  0  0  0  0  0  0  0  0  0  0  0  0  0  0  0  0  0  0  0  0  0\n",
            "  0  0  0  0  0  0  0  0  0  0  0  0  0  0  0  0  0  0]\n"
          ]
        }
      ]
    },
    {
      "cell_type": "code",
      "source": [
        "y_train_one_hot = to_categorical(y_train, len(tag2index))\n",
        "y_val_one_hot = to_categorical(y_val, len(tag2index))\n",
        "y_test_one_hot = to_categorical(y_test, len(tag2index))"
      ],
      "metadata": {
        "id": "Tt3IPOjD1AER"
      },
      "execution_count": 245,
      "outputs": []
    },
    {
      "cell_type": "markdown",
      "source": [
        "## 2. GloVe \n",
        "GloVe (Global Vectors for Word Representation) is a method for learning vector representations of words, called \"word embeddings,\" from a large corpus of text. Word embeddings are numerical representations of words that capture the semantic relationships between words in a continuous, low-dimensional space. They are commonly used as input to natural language processing models, such as language translation and language modeling.\n",
        "\n",
        "GloVe works by learning the co-occurrence statistics of words in a corpus, and using this information to learn word embeddings that capture the semantic relationships between words. The GloVe method produces word embeddings that are trained on a global corpus, as opposed to embeddings that are trained on a specific task or dataset.\n",
        "\n",
        "There are different versions of the GloVe word embeddings, including 50-dimensional, 100-dimensional, and 200-dimensional embeddings. The 50-dimensional version of GloVe embeddings may be better in some applications because they have a lower dimensionality, which can make them easier to work with and more computationally efficient.\n",
        "\n",
        "By using GloVe embeddings as the initial weights for a model, we can take advantage of these pre-trained word representations and fine-tune them for a specific task."
      ],
      "metadata": {
        "id": "1SqOgc6v1DfB"
      }
    },
    {
      "cell_type": "code",
      "source": [
        "#Building the Embedding Layer \n",
        "embedding_matrix = np.zeros((len(word2index), embedding_dim))\n",
        "# embedding_matrix = np.standard(0,1,(len(word2index), embedding_dim))\n",
        "for word, i in word2index.items():\n",
        "    embedding_vector = embedding_dict.get(word)\n",
        "    if i < len(word2index):\n",
        "      embedding_matrix[i] = embedding_vector"
      ],
      "metadata": {
        "id": "YcvBdLXW1QTY"
      },
      "execution_count": 246,
      "outputs": []
    },
    {
      "cell_type": "markdown",
      "source": [
        "## 3. Model\n",
        "### 3.1 Baseline \n",
        "Bidirectional LSTM layers are able to process sequential data in both the forward and backward directions, which can allow the model to capture contextual information from both the past and the future. This can be particularly useful for natural language processing tasks, where the meaning of a word can depend on the context in which it is used.\n",
        "\n",
        "In the context of POS tagging, TimeDistributed can be used to apply a tag prediction layer to each word in a sentence. For example, you might have an RNN that processes a sequence of words in a sentence, and at each time step, the RNN outputs a hidden state. You could then apply a TimeDistributed dense layer to the hidden states, which would allow you to predict the POS tag for each word in the sentence.\n",
        "\n",
        "One advantage of using TimeDistributed for POS tagging is that it allows you to predict the POS tag for each word in the sentence simultaneously, rather than having to process the sentence one word at a time. This can be particularly useful when dealing with long sentences, as it can make the tagging process more efficient.\n",
        "\n",
        "Overall, using TimeDistributed for POS tagging can help you build more accurate and efficient models for natural language processing tasks that involve sequential data."
      ],
      "metadata": {
        "id": "AvF_XXvV3Qxe"
      }
    },
    {
      "cell_type": "code",
      "source": [
        "def ignore_class_accuracy(classes=[0]):\n",
        "    def ignore_accuracy(y_true, y_pred):\n",
        "        y_true_class = K.argmax(y_true, axis=-1)\n",
        "        y_pred_class = K.argmax(y_pred, axis=-1)\n",
        "        \n",
        "        matches = K.cast(K.equal(y_true_class, y_pred_class), 'int32')\n",
        "        for to_ignore in classes:\n",
        "          ignore_mask = K.cast(K.not_equal(y_pred_class, to_ignore), 'int32')\n",
        "          matches = matches * ignore_mask\n",
        "        accuracy = K.sum(matches) / K.maximum(K.sum(ignore_mask), 1)\n",
        "        return accuracy\n",
        "    return ignore_accuracy\n"
      ],
      "metadata": {
        "id": "I05HLHkMWWxA"
      },
      "execution_count": 247,
      "outputs": []
    },
    {
      "cell_type": "code",
      "source": [
        "# Define the model\n",
        "baseline_model = Sequential(name='Baseline')\n",
        "\n",
        "# Add the Embedding layer\n",
        "baseline_model.add(Embedding(input_dim=vocab_length, output_dim=embedding_dim, \\\n",
        "                    weights=[embedding_matrix], input_length=PAD_LENGTH, trainable=False,mask_zero=True))\n",
        "\n",
        "# Add the Bidirectional LSTM layer\n",
        "baseline_model.add(Bidirectional(LSTM(units=256, return_sequences=True)))\n",
        "\n",
        "# Add the Dense/Fully-Connected layer\n",
        "baseline_model.add(TimeDistributed(Dense(units=len(tag2index), activation='softmax')))\n",
        "\n",
        "# Compile the model\n",
        "baseline_model.compile(optimizer=Adam(0.001), loss='categorical_crossentropy', metrics=['accuracy',\\\n",
        "                      ignore_class_accuracy([tag2index[tag] for tag in ignore])])\n",
        "\n",
        "# Summary\n",
        "baseline_model.summary()"
      ],
      "metadata": {
        "colab": {
          "base_uri": "https://localhost:8080/"
        },
        "id": "WuLsYIaYIBgn",
        "outputId": "646d9331-578d-4566-90b8-908badc90e92"
      },
      "execution_count": 250,
      "outputs": [
        {
          "output_type": "stream",
          "name": "stdout",
          "text": [
            "Model: \"Baseline\"\n",
            "_________________________________________________________________\n",
            " Layer (type)                Output Shape              Param #   \n",
            "=================================================================\n",
            " embedding_20 (Embedding)    (None, 114, 300)          120202800 \n",
            "                                                                 \n",
            " bidirectional_17 (Bidirecti  (None, 114, 512)         1140736   \n",
            " onal)                                                           \n",
            "                                                                 \n",
            " time_distributed_22 (TimeDi  (None, 114, 45)          23085     \n",
            " stributed)                                                      \n",
            "                                                                 \n",
            "=================================================================\n",
            "Total params: 121,366,621\n",
            "Trainable params: 1,163,821\n",
            "Non-trainable params: 120,202,800\n",
            "_________________________________________________________________\n"
          ]
        }
      ]
    },
    {
      "cell_type": "code",
      "source": [
        "results_baseline = baseline_model.fit(X_train, y_train_one_hot, validation_data=(X_val, y_val_one_hot),\\\n",
        "                                      batch_size=128, epochs=15)"
      ],
      "metadata": {
        "colab": {
          "base_uri": "https://localhost:8080/"
        },
        "id": "PA776HlcMC_h",
        "outputId": "5e178eb3-9d26-4336-ce7e-8984c05be1da"
      },
      "execution_count": 251,
      "outputs": [
        {
          "output_type": "stream",
          "name": "stdout",
          "text": [
            "Epoch 1/15\n",
            "16/16 [==============================] - 42s 2s/step - loss: 0.5745 - accuracy: 0.2762 - ignore_accuracy: 0.0478 - val_loss: 0.4478 - val_accuracy: 0.4318 - val_ignore_accuracy: 0.0688\n",
            "Epoch 2/15\n",
            "16/16 [==============================] - 33s 2s/step - loss: 0.3652 - accuracy: 0.5358 - ignore_accuracy: 0.0856 - val_loss: 0.2822 - val_accuracy: 0.6368 - val_ignore_accuracy: 0.1041\n",
            "Epoch 3/15\n",
            "16/16 [==============================] - 33s 2s/step - loss: 0.2264 - accuracy: 0.7110 - ignore_accuracy: 0.1173 - val_loss: 0.1934 - val_accuracy: 0.7386 - val_ignore_accuracy: 0.1237\n",
            "Epoch 4/15\n",
            "16/16 [==============================] - 33s 2s/step - loss: 0.1621 - accuracy: 0.7858 - ignore_accuracy: 0.1316 - val_loss: 0.1540 - val_accuracy: 0.7900 - val_ignore_accuracy: 0.1328\n",
            "Epoch 5/15\n",
            "16/16 [==============================] - 32s 2s/step - loss: 0.1298 - accuracy: 0.8245 - ignore_accuracy: 0.1391 - val_loss: 0.1314 - val_accuracy: 0.8180 - val_ignore_accuracy: 0.1383\n",
            "Epoch 6/15\n",
            "16/16 [==============================] - 33s 2s/step - loss: 0.1096 - accuracy: 0.8517 - ignore_accuracy: 0.1444 - val_loss: 0.1190 - val_accuracy: 0.8356 - val_ignore_accuracy: 0.1418\n",
            "Epoch 7/15\n",
            "16/16 [==============================] - 33s 2s/step - loss: 0.0964 - accuracy: 0.8683 - ignore_accuracy: 0.1477 - val_loss: 0.1102 - val_accuracy: 0.8463 - val_ignore_accuracy: 0.1439\n",
            "Epoch 8/15\n",
            "16/16 [==============================] - 33s 2s/step - loss: 0.0872 - accuracy: 0.8804 - ignore_accuracy: 0.1502 - val_loss: 0.1025 - val_accuracy: 0.8529 - val_ignore_accuracy: 0.1452\n",
            "Epoch 9/15\n",
            "16/16 [==============================] - 33s 2s/step - loss: 0.0780 - accuracy: 0.8935 - ignore_accuracy: 0.1530 - val_loss: 0.0972 - val_accuracy: 0.8619 - val_ignore_accuracy: 0.1469\n",
            "Epoch 10/15\n",
            "16/16 [==============================] - 33s 2s/step - loss: 0.0709 - accuracy: 0.9038 - ignore_accuracy: 0.1548 - val_loss: 0.0932 - val_accuracy: 0.8655 - val_ignore_accuracy: 0.1476\n",
            "Epoch 11/15\n",
            "16/16 [==============================] - 32s 2s/step - loss: 0.0650 - accuracy: 0.9119 - ignore_accuracy: 0.1563 - val_loss: 0.0919 - val_accuracy: 0.8660 - val_ignore_accuracy: 0.1477\n",
            "Epoch 12/15\n",
            "16/16 [==============================] - 34s 2s/step - loss: 0.0597 - accuracy: 0.9190 - ignore_accuracy: 0.1578 - val_loss: 0.0884 - val_accuracy: 0.8732 - val_ignore_accuracy: 0.1492\n",
            "Epoch 13/15\n",
            "16/16 [==============================] - 33s 2s/step - loss: 0.0546 - accuracy: 0.9276 - ignore_accuracy: 0.1595 - val_loss: 0.0860 - val_accuracy: 0.8753 - val_ignore_accuracy: 0.1496\n",
            "Epoch 14/15\n",
            "16/16 [==============================] - 32s 2s/step - loss: 0.0501 - accuracy: 0.9342 - ignore_accuracy: 0.1607 - val_loss: 0.0846 - val_accuracy: 0.8751 - val_ignore_accuracy: 0.1495\n",
            "Epoch 15/15\n",
            "16/16 [==============================] - 32s 2s/step - loss: 0.0459 - accuracy: 0.9405 - ignore_accuracy: 0.1622 - val_loss: 0.0829 - val_accuracy: 0.8786 - val_ignore_accuracy: 0.1502\n"
          ]
        }
      ]
    },
    {
      "cell_type": "code",
      "source": [
        "scores_bl = baseline_model.evaluate(X_val, y_val_one_hot, return_dict = True)\n",
        "\n",
        "# Obtain the predictions made by the model on the test set\n",
        "predictions_bl = baseline_model.predict(X_val)"
      ],
      "metadata": {
        "colab": {
          "base_uri": "https://localhost:8080/"
        },
        "id": "_Q4shasqRWUk",
        "outputId": "ea45f997-1e56-4384-ac1c-e5f8679e5b44"
      },
      "execution_count": 252,
      "outputs": [
        {
          "output_type": "stream",
          "name": "stdout",
          "text": [
            "41/41 [==============================] - 10s 238ms/step - loss: 0.0829 - accuracy: 0.8786 - ignore_accuracy: 0.1519\n",
            "41/41 [==============================] - 12s 239ms/step\n"
          ]
        }
      ]
    },
    {
      "cell_type": "code",
      "source": [
        "# Convert the class probabilities into class labels\n",
        "predicted_labels_bl = np.argmax(predictions_bl, axis=-1)\n",
        "\n",
        "true_pos = defaultdict(int)\n",
        "false_pos = defaultdict(int)\n",
        "false_neg = defaultdict(int)\n",
        "precision = defaultdict(float)\n",
        "recall = defaultdict(float)\n",
        "f1score = defaultdict(float)\n",
        "\n",
        "#index2tag = {v: k for k, v in tag2index.items()}\n",
        "for tag in tags_test:\n",
        "  if tag not in ignore:\n",
        "    for idx_sentence in range(len(y_val)):\n",
        "      for idx_word in range(PAD_LENGTH):\n",
        "        if index2tag[y_val[idx_sentence][idx_word]] == tag:\n",
        "          # If the predicted tag matches ground truth we increase true positive count for that tag\n",
        "          if predicted_labels_bl[idx_sentence][idx_word] == y_val[idx_sentence][idx_word]:\n",
        "            true_pos[index2tag[y_val[idx_sentence][idx_word]]] += 1\n",
        "          else:\n",
        "          # If the predicted tag does not match ground truth we increase false negative count for that tag\n",
        "          # and false positive count for the wrongly predicted tag\n",
        "            false_neg[index2tag[y_val[idx_sentence][idx_word]]] += 1\n",
        "            false_pos[index2tag[predicted_labels_bl[idx_sentence][idx_word]]] += 1\n",
        "    # We then compute precision, recall and F1 scores\n",
        "    if true_pos[tag] != 0:\n",
        "      precision[tag] = true_pos[tag] / (true_pos[tag] + false_pos[tag])\n",
        "      recall[tag] = true_pos[tag] / (true_pos[tag] + false_neg[tag])\n",
        "      f1score[tag] = 2 * ((precision[tag] * recall[tag]) / (precision[tag] + recall[tag])) \n",
        "    else:\n",
        "      print(tag)\n",
        "      print(true_pos[tag])\n",
        "      print(false_pos[tag])\n",
        "      print(false_neg[tag])\n",
        "      print()"
      ],
      "metadata": {
        "colab": {
          "base_uri": "https://localhost:8080/"
        },
        "id": "iP2TlmEVynlM",
        "outputId": "39a3af0f-1818-43f8-9977-a9425a68e9b3"
      },
      "execution_count": 253,
      "outputs": [
        {
          "output_type": "stream",
          "name": "stdout",
          "text": [
            "PDT\n",
            "0\n",
            "0\n",
            "14\n",
            "\n",
            "WP$\n",
            "0\n",
            "0\n",
            "4\n",
            "\n"
          ]
        }
      ]
    },
    {
      "cell_type": "code",
      "source": [
        "# FORSE DOBBIAMO CONSIDERARE TUTTE LE CLASSI; ANCHE QUELLE PRESENTI SOLO NEL TRAINING TEST, DANDO COME f1 SCORE 0\n",
        "for tag in tags_val:\n",
        "  if tag not in ignore:\n",
        "    print(f'Tag: {tag}')\n",
        "    print(f'\\tPrecision: {precision[tag]}')\n",
        "    print(f'\\tRecall: {recall[tag]}')\n",
        "    print(f'\\tF1-score: {f1score[tag]}')"
      ],
      "metadata": {
        "colab": {
          "base_uri": "https://localhost:8080/"
        },
        "id": "J1AkaNs61oC6",
        "outputId": "f4a7c4bf-e909-4cfc-876a-2ec025706858"
      },
      "execution_count": 254,
      "outputs": [
        {
          "output_type": "stream",
          "name": "stdout",
          "text": [
            "Tag: CC\n",
            "\tPrecision: 1.0\n",
            "\tRecall: 0.9762532981530343\n",
            "\tF1-score: 0.9879839786381842\n",
            "Tag: CD\n",
            "\tPrecision: 0.998286203941731\n",
            "\tRecall: 0.932746196957566\n",
            "\tF1-score: 0.9644039735099338\n",
            "Tag: DT\n",
            "\tPrecision: 0.9980601357904947\n",
            "\tRecall: 0.37363834422657954\n",
            "\tF1-score: 0.5437252311756936\n",
            "Tag: EX\n",
            "\tPrecision: 1.0\n",
            "\tRecall: 1.0\n",
            "\tF1-score: 1.0\n",
            "Tag: FW\n",
            "\tPrecision: 0.0\n",
            "\tRecall: 0.0\n",
            "\tF1-score: 0.0\n",
            "Tag: IN\n",
            "\tPrecision: 0.9958279845956355\n",
            "\tRecall: 0.9474809160305343\n",
            "\tF1-score: 0.9710530433422\n",
            "Tag: JJ\n",
            "\tPrecision: 0.9775429326287979\n",
            "\tRecall: 0.7692307692307693\n",
            "\tF1-score: 0.8609656777196045\n",
            "Tag: JJR\n",
            "\tPrecision: 1.0\n",
            "\tRecall: 0.6303030303030303\n",
            "\tF1-score: 0.7732342007434944\n",
            "Tag: JJS\n",
            "\tPrecision: 1.0\n",
            "\tRecall: 0.6206896551724138\n",
            "\tF1-score: 0.7659574468085107\n",
            "Tag: LS\n",
            "\tPrecision: 0.0\n",
            "\tRecall: 0.0\n",
            "\tF1-score: 0.0\n",
            "Tag: MD\n",
            "\tPrecision: 1.0\n",
            "\tRecall: 0.9481268011527377\n",
            "\tF1-score: 0.9733727810650887\n",
            "Tag: NN\n",
            "\tPrecision: 0.9441382765531062\n",
            "\tRecall: 0.8351429204520274\n",
            "\tF1-score: 0.886302175191064\n",
            "Tag: NNP\n",
            "\tPrecision: 0.8738461538461538\n",
            "\tRecall: 0.8402366863905325\n",
            "\tF1-score: 0.8567119155354449\n",
            "Tag: NNPS\n",
            "\tPrecision: 0.6666666666666666\n",
            "\tRecall: 0.0380952380952381\n",
            "\tF1-score: 0.07207207207207207\n",
            "Tag: NNS\n",
            "\tPrecision: 0.8938407611417125\n",
            "\tRecall: 0.8491912464319695\n",
            "\tF1-score: 0.8709441327152964\n",
            "Tag: PDT\n",
            "\tPrecision: 0.0\n",
            "\tRecall: 0.0\n",
            "\tF1-score: 0.0\n",
            "Tag: POS\n",
            "\tPrecision: 1.0\n",
            "\tRecall: 1.0\n",
            "\tF1-score: 1.0\n",
            "Tag: PRP\n",
            "\tPrecision: 0.989247311827957\n",
            "\tRecall: 0.968421052631579\n",
            "\tF1-score: 0.9787234042553192\n",
            "Tag: PRP$\n",
            "\tPrecision: 0.9772727272727273\n",
            "\tRecall: 1.0\n",
            "\tF1-score: 0.9885057471264368\n",
            "Tag: RB\n",
            "\tPrecision: 0.8002296211251435\n",
            "\tRecall: 0.732912723449001\n",
            "\tF1-score: 0.7650933040614708\n",
            "Tag: RBR\n",
            "\tPrecision: 0.4528301886792453\n",
            "\tRecall: 0.6857142857142857\n",
            "\tF1-score: 0.5454545454545454\n",
            "Tag: RBS\n",
            "\tPrecision: 0.8888888888888888\n",
            "\tRecall: 0.6153846153846154\n",
            "\tF1-score: 0.7272727272727274\n",
            "Tag: RP\n",
            "\tPrecision: 0.42857142857142855\n",
            "\tRecall: 0.627906976744186\n",
            "\tF1-score: 0.5094339622641509\n",
            "Tag: TO\n",
            "\tPrecision: 1.0\n",
            "\tRecall: 1.0\n",
            "\tF1-score: 1.0\n",
            "Tag: UH\n",
            "\tPrecision: 0.0\n",
            "\tRecall: 0.0\n",
            "\tF1-score: 0.0\n",
            "Tag: VB\n",
            "\tPrecision: 0.9210526315789473\n",
            "\tRecall: 0.8420502092050209\n",
            "\tF1-score: 0.8797814207650274\n",
            "Tag: VBD\n",
            "\tPrecision: 0.9107806691449815\n",
            "\tRecall: 0.8536585365853658\n",
            "\tF1-score: 0.8812949640287769\n",
            "Tag: VBG\n",
            "\tPrecision: 0.7651162790697674\n",
            "\tRecall: 0.6911764705882353\n",
            "\tF1-score: 0.7262693156732891\n",
            "Tag: VBN\n",
            "\tPrecision: 0.7717546362339515\n",
            "\tRecall: 0.7340569877883311\n",
            "\tF1-score: 0.7524339360222531\n",
            "Tag: VBP\n",
            "\tPrecision: 0.8204081632653061\n",
            "\tRecall: 0.8739130434782608\n",
            "\tF1-score: 0.8463157894736842\n",
            "Tag: VBZ\n",
            "\tPrecision: 0.9410071942446043\n",
            "\tRecall: 0.9185393258426966\n",
            "\tF1-score: 0.929637526652452\n",
            "Tag: WDT\n",
            "\tPrecision: 0.813953488372093\n",
            "\tRecall: 0.89171974522293\n",
            "\tF1-score: 0.851063829787234\n",
            "Tag: WP\n",
            "\tPrecision: 0.9523809523809523\n",
            "\tRecall: 1.0\n",
            "\tF1-score: 0.975609756097561\n",
            "Tag: WP$\n",
            "\tPrecision: 0.0\n",
            "\tRecall: 0.0\n",
            "\tF1-score: 0.0\n",
            "Tag: WRB\n",
            "\tPrecision: 0.9811320754716981\n",
            "\tRecall: 0.8387096774193549\n",
            "\tF1-score: 0.9043478260869565\n"
          ]
        }
      ]
    },
    {
      "cell_type": "code",
      "source": [
        "f1_list = [el[1] for el in f1score.items()]\n",
        "\n",
        "sum = 0\n",
        "\n",
        "for p in f1_list:\n",
        "  sum += p\n",
        "macro_f1_bl = sum / len(f1score.items())\n",
        "print(f'MACRO F1-score:',macro_f1_bl)"
      ],
      "metadata": {
        "colab": {
          "base_uri": "https://localhost:8080/"
        },
        "id": "r14KwxMp6pxZ",
        "outputId": "b35eccea-09bd-4698-eb9c-ddd4ca614059"
      },
      "execution_count": 255,
      "outputs": [
        {
          "output_type": "stream",
          "name": "stdout",
          "text": [
            "MACRO F1-score: 0.7082275623868134\n"
          ]
        }
      ]
    },
    {
      "cell_type": "markdown",
      "source": [
        "### 3.2 GRU (MACRO f1 )\n",
        "Gated Recurrent Units (GRUs) are a type of recurrent neural network (RNN) that are often used in natural language processing tasks such as part-of-speech (POS) tagging. GRUs are similar to long short-term memory (LSTM) networks, but they have a simpler structure and fewer parameters, making them easier to train and faster to run. In POS tagging, GRUs can be used to process a sequence of words and predict the POS tags for each word in the sequence. GRUs are able to take into account contextual information from the previous words in the sequence, allowing them to make more accurate predictions about the POS tags for the current word. \n",
        "\n",
        "Both BiLSTMs (Bidirectional LSTMs) and Gated Recurrent Units (GRUs) have been shown to perform well on a variety of NLP tasks, including POS tagging, but here we obtained slightly better results than with the baseline; the reason may be that LSTMs are are particularly well-suited for tasks that require the model to remember and make use of long-term dependencies in the data, while the longest sentence in the Penn Treebank dataset has only 171 words and the average of words per sentence is around 20.  "
      ],
      "metadata": {
        "id": "_piJrG2VEe1Z"
      }
    },
    {
      "cell_type": "code",
      "source": [
        "# Define the model\n",
        "gru_model = tf.keras.Sequential(name='GRU')\n",
        "\n",
        "# Add the Embedding layer\n",
        "gru_model.add(Embedding(input_dim=vocab_length, output_dim=embedding_dim, \\\n",
        "                    weights = [embedding_matrix], input_length = PAD_LENGTH, trainable=False,mask_zero=True ))\n",
        "\n",
        "# Add the GRU layer\n",
        "gru_model.add(GRU(units=256, return_sequences=True))\n",
        "\n",
        "# Add the Dense/Fully-Connected layer\n",
        "gru_model.add(TimeDistributed(Dense(len(tags_train), activation='softmax')))\n",
        "\n",
        "# Compile the model\n",
        "gru_model.compile(optimizer='adam', loss='categorical_crossentropy', metrics=['accuracy',ignore_class_accuracy([tag2index[tag] for tag in ignore])])\n",
        "\n",
        "# Summary\n",
        "gru_model.summary()"
      ],
      "metadata": {
        "colab": {
          "base_uri": "https://localhost:8080/"
        },
        "id": "LHd70QrVEhOv",
        "outputId": "2019d7df-4fc0-4700-f34d-6d6a496aa7cd"
      },
      "execution_count": 188,
      "outputs": [
        {
          "output_type": "stream",
          "name": "stdout",
          "text": [
            "Model: \"GRU\"\n",
            "_________________________________________________________________\n",
            " Layer (type)                Output Shape              Param #   \n",
            "=================================================================\n",
            " embedding_16 (Embedding)    (None, 128, 300)          120334200 \n",
            "                                                                 \n",
            " gru_3 (GRU)                 (None, 128, 256)          428544    \n",
            "                                                                 \n",
            " time_distributed_17 (TimeDi  (None, 128, 46)          11822     \n",
            " stributed)                                                      \n",
            "                                                                 \n",
            "=================================================================\n",
            "Total params: 120,774,566\n",
            "Trainable params: 440,366\n",
            "Non-trainable params: 120,334,200\n",
            "_________________________________________________________________\n"
          ]
        }
      ]
    },
    {
      "cell_type": "code",
      "source": [
        "results_gru = gru_model.fit(X_train, y_train_one_hot, epochs=15, verbose = True, validation_data=(X_val, y_val_one_hot), batch_size=128)"
      ],
      "metadata": {
        "colab": {
          "base_uri": "https://localhost:8080/"
        },
        "id": "qBWwuzcuEk_e",
        "outputId": "7ec29f2e-fda1-4b47-ef95-af22065aedf1"
      },
      "execution_count": 189,
      "outputs": [
        {
          "output_type": "stream",
          "name": "stdout",
          "text": [
            "Epoch 1/15\n",
            "16/16 [==============================] - 18s 924ms/step - loss: 0.5554 - accuracy: 0.2897 - ignore_accuracy: 0.0438 - val_loss: 0.4181 - val_accuracy: 0.5099 - val_ignore_accuracy: 0.0693\n",
            "Epoch 2/15\n",
            "16/16 [==============================] - 14s 863ms/step - loss: 0.3363 - accuracy: 0.5781 - ignore_accuracy: 0.0796 - val_loss: 0.2633 - val_accuracy: 0.6512 - val_ignore_accuracy: 0.0929\n",
            "Epoch 3/15\n",
            "16/16 [==============================] - 14s 866ms/step - loss: 0.2195 - accuracy: 0.7143 - ignore_accuracy: 0.1031 - val_loss: 0.1936 - val_accuracy: 0.7344 - val_ignore_accuracy: 0.1079\n",
            "Epoch 4/15\n",
            "16/16 [==============================] - 14s 872ms/step - loss: 0.1662 - accuracy: 0.7739 - ignore_accuracy: 0.1143 - val_loss: 0.1586 - val_accuracy: 0.7701 - val_ignore_accuracy: 0.1143\n",
            "Epoch 5/15\n",
            "16/16 [==============================] - 13s 841ms/step - loss: 0.1378 - accuracy: 0.8062 - ignore_accuracy: 0.1204 - val_loss: 0.1377 - val_accuracy: 0.7979 - val_ignore_accuracy: 0.1194\n",
            "Epoch 6/15\n",
            "16/16 [==============================] - 13s 847ms/step - loss: 0.1197 - accuracy: 0.8311 - ignore_accuracy: 0.1250 - val_loss: 0.1247 - val_accuracy: 0.8150 - val_ignore_accuracy: 0.1223\n",
            "Epoch 7/15\n",
            "16/16 [==============================] - 14s 880ms/step - loss: 0.1070 - accuracy: 0.8484 - ignore_accuracy: 0.1281 - val_loss: 0.1147 - val_accuracy: 0.8291 - val_ignore_accuracy: 0.1248\n",
            "Epoch 8/15\n",
            "16/16 [==============================] - 13s 840ms/step - loss: 0.0971 - accuracy: 0.8602 - ignore_accuracy: 0.1303 - val_loss: 0.1074 - val_accuracy: 0.8365 - val_ignore_accuracy: 0.1262\n",
            "Epoch 9/15\n",
            "16/16 [==============================] - 14s 886ms/step - loss: 0.0893 - accuracy: 0.8705 - ignore_accuracy: 0.1322 - val_loss: 0.1019 - val_accuracy: 0.8435 - val_ignore_accuracy: 0.1275\n",
            "Epoch 10/15\n",
            "16/16 [==============================] - 14s 872ms/step - loss: 0.0830 - accuracy: 0.8789 - ignore_accuracy: 0.1338 - val_loss: 0.0968 - val_accuracy: 0.8518 - val_ignore_accuracy: 0.1291\n",
            "Epoch 11/15\n",
            "16/16 [==============================] - 13s 835ms/step - loss: 0.0770 - accuracy: 0.8885 - ignore_accuracy: 0.1358 - val_loss: 0.0927 - val_accuracy: 0.8569 - val_ignore_accuracy: 0.1301\n",
            "Epoch 12/15\n",
            "16/16 [==============================] - 13s 839ms/step - loss: 0.0718 - accuracy: 0.8960 - ignore_accuracy: 0.1372 - val_loss: 0.0894 - val_accuracy: 0.8615 - val_ignore_accuracy: 0.1310\n",
            "Epoch 13/15\n",
            "16/16 [==============================] - 14s 874ms/step - loss: 0.0675 - accuracy: 0.9022 - ignore_accuracy: 0.1384 - val_loss: 0.0872 - val_accuracy: 0.8648 - val_ignore_accuracy: 0.1316\n",
            "Epoch 14/15\n",
            "16/16 [==============================] - 14s 883ms/step - loss: 0.0634 - accuracy: 0.9080 - ignore_accuracy: 0.1393 - val_loss: 0.0841 - val_accuracy: 0.8694 - val_ignore_accuracy: 0.1325\n",
            "Epoch 15/15\n",
            "16/16 [==============================] - 13s 844ms/step - loss: 0.0596 - accuracy: 0.9138 - ignore_accuracy: 0.1405 - val_loss: 0.0822 - val_accuracy: 0.8726 - val_ignore_accuracy: 0.1330\n"
          ]
        }
      ]
    },
    {
      "cell_type": "code",
      "source": [
        "scores_gru = gru_model.evaluate(X_val, y_val_one_hot, return_dict = True)\n",
        "predictions_gru = gru_model.predict(X_val)"
      ],
      "metadata": {
        "colab": {
          "base_uri": "https://localhost:8080/"
        },
        "id": "HSpKe6LEEoHy",
        "outputId": "11b9bfa3-8910-4839-c135-158428d86cb3"
      },
      "execution_count": 210,
      "outputs": [
        {
          "output_type": "stream",
          "name": "stdout",
          "text": [
            "41/41 [==============================] - 4s 104ms/step - loss: 0.0822 - accuracy: 0.8726 - ignore_accuracy: 0.1347\n",
            "41/41 [==============================] - 4s 104ms/step\n"
          ]
        }
      ]
    },
    {
      "cell_type": "code",
      "source": [
        "# Convert the class probabilities into class labels\n",
        "predicted_labels_gru = np.argmax(predictions_gru, axis=-1)\n",
        "\n",
        "true_pos = defaultdict(int)\n",
        "false_pos = defaultdict(int)\n",
        "false_neg = defaultdict(int)\n",
        "precision = defaultdict(float)\n",
        "recall = defaultdict(float)\n",
        "f1score = defaultdict(float)\n",
        "\n",
        "#index2tag = {v: k for k, v in tag2index.items()}\n",
        "for tag in tags_test:\n",
        "  if tag not in ignore:\n",
        "    for idx_sentence in range(len(y_val)):\n",
        "      for idx_word in range(PAD_LENGTH):\n",
        "        if index2tag[y_val[idx_sentence][idx_word]] == tag:\n",
        "          # If the predicted tag matches ground truth we increase true positive count for that tag\n",
        "          if predicted_labels_gru[idx_sentence][idx_word] == y_val[idx_sentence][idx_word]:\n",
        "            true_pos[index2tag[y_val[idx_sentence][idx_word]]] += 1\n",
        "          else:\n",
        "          # If the predicted tag does not match ground truth we increase false negative count for that tag\n",
        "          # and false positive count for the wrongly predicted tag\n",
        "            false_neg[index2tag[y_val[idx_sentence][idx_word]]] += 1\n",
        "            false_pos[index2tag[predicted_labels_gru[idx_sentence][idx_word]]] += 1\n",
        "    # We then compute precision, recall and F1 scores\n",
        "    if true_pos[tag] != 0:\n",
        "      precision[tag] = true_pos[tag] / (true_pos[tag] + false_pos[tag])\n",
        "      recall[tag] = true_pos[tag] / (true_pos[tag] + false_neg[tag])\n",
        "      f1score[tag] = 2 * ((precision[tag] * recall[tag]) / (precision[tag] + recall[tag])) \n",
        "    else:\n",
        "      print(tag)\n",
        "      print(true_pos[tag])\n",
        "      print(false_pos[tag])\n",
        "      print(false_neg[tag])\n",
        "      print()"
      ],
      "metadata": {
        "colab": {
          "base_uri": "https://localhost:8080/"
        },
        "id": "9dKH1rmoJPeA",
        "outputId": "05134646-df6e-40d0-9c0b-22439e3f682a"
      },
      "execution_count": 211,
      "outputs": [
        {
          "output_type": "stream",
          "name": "stdout",
          "text": [
            "PDT\n",
            "0\n",
            "0\n",
            "14\n",
            "\n",
            "WP$\n",
            "0\n",
            "0\n",
            "4\n",
            "\n"
          ]
        }
      ]
    },
    {
      "cell_type": "code",
      "source": [
        "f1_list = [el[1] for el in f1score.items()]\n",
        "\n",
        "sum = 0\n",
        "\n",
        "for p in f1_list:\n",
        "  sum += p\n",
        "macro_f1_gru = sum / len(f1score.items())\n",
        "print(f'MACRO F1-score:',macro_f1_gru)"
      ],
      "metadata": {
        "colab": {
          "base_uri": "https://localhost:8080/"
        },
        "id": "fOVmR63mJdN9",
        "outputId": "db3cd15c-4609-4bb1-965d-6b99dd6a45ea"
      },
      "execution_count": 212,
      "outputs": [
        {
          "output_type": "stream",
          "name": "stdout",
          "text": [
            "MACRO F1-score: 0.7954518389429615\n"
          ]
        }
      ]
    },
    {
      "cell_type": "markdown",
      "source": [
        "### 3.3 Additional LSTM layer (MACRO f1: ) \n",
        "Using two BiLSTMs layers can allow the model to learn more complex patterns in the data and make more accurate predictions. \n",
        "However, they can increase the computational complexity of our model, which may require more computational resources to train.\n",
        "\n",
        "With the same number of epochs the results were similar to the baseline and the training process was slower; it is possible that the model with two BiLSTMs is more prone to overfitting, meaning that it is able to fit the training data very well but is less able to generalize to new data. Another possibility is that the model with two BiLSTMs simply takes longer to train. That is why we raised the training epochs to 20, obtaining better results."
      ],
      "metadata": {
        "id": "Q4NZ4nhpEr1K"
      }
    },
    {
      "cell_type": "code",
      "source": [
        "# Define the model\n",
        "add_lstm_model = tf.keras.Sequential(name='Additional_LSTM')\n",
        "\n",
        "# Add the Embedding layer\n",
        "add_lstm_model.add(Embedding(input_dim=vocab_length, output_dim=embedding_dim, \\\n",
        "                    weights = [embedding_matrix], input_length = PAD_LENGTH, trainable=False, mask_zero=True))\n",
        "\n",
        "# Add the Bidirectional LSTM layer\n",
        "add_lstm_model.add(Bidirectional(LSTM(units=256, return_sequences=True)))\n",
        "\n",
        "# Add another LSTM layer\n",
        "add_lstm_model.add(Bidirectional(LSTM(units=256, return_sequences=True)))\n",
        "\n",
        "# Add the Dense/Fully-Connected layer\n",
        "add_lstm_model.add(TimeDistributed(Dense(units=len(tags_train), activation='softmax')))\n",
        "\n",
        "# Compile the model\n",
        "add_lstm_model.compile(optimizer='adam', loss='categorical_crossentropy', metrics=['accuracy',ignore_class_accuracy([tag2index[tag] for tag in ignore])])\n",
        "\n",
        "# Summary\n",
        "add_lstm_model.summary()"
      ],
      "metadata": {
        "colab": {
          "base_uri": "https://localhost:8080/"
        },
        "id": "yVntK3UwEuGS",
        "outputId": "3fe15527-8017-4a34-998b-0632ad7b00e9"
      },
      "execution_count": 193,
      "outputs": [
        {
          "output_type": "stream",
          "name": "stdout",
          "text": [
            "Model: \"Additional_LSTM\"\n",
            "_________________________________________________________________\n",
            " Layer (type)                Output Shape              Param #   \n",
            "=================================================================\n",
            " embedding_17 (Embedding)    (None, 128, 300)          120334200 \n",
            "                                                                 \n",
            " bidirectional_13 (Bidirecti  (None, 128, 512)         1140736   \n",
            " onal)                                                           \n",
            "                                                                 \n",
            " bidirectional_14 (Bidirecti  (None, 128, 512)         1574912   \n",
            " onal)                                                           \n",
            "                                                                 \n",
            " time_distributed_18 (TimeDi  (None, 128, 46)          23598     \n",
            " stributed)                                                      \n",
            "                                                                 \n",
            "=================================================================\n",
            "Total params: 123,073,446\n",
            "Trainable params: 2,739,246\n",
            "Non-trainable params: 120,334,200\n",
            "_________________________________________________________________\n"
          ]
        }
      ]
    },
    {
      "cell_type": "code",
      "source": [
        "results_add_lstm = add_lstm_model.fit(X_train, y_train_one_hot, epochs=20, verbose = True, validation_data=(X_val, y_val_one_hot), batch_size=128)"
      ],
      "metadata": {
        "colab": {
          "base_uri": "https://localhost:8080/"
        },
        "id": "J3omzfumEv48",
        "outputId": "27d3aa09-c6b9-4bc8-8347-102a7727bf1c"
      },
      "execution_count": 194,
      "outputs": [
        {
          "output_type": "stream",
          "name": "stdout",
          "text": [
            "Epoch 1/20\n",
            "16/16 [==============================] - 114s 6s/step - loss: 0.5619 - accuracy: 0.2056 - ignore_accuracy: 0.0285 - val_loss: 0.4706 - val_accuracy: 0.3038 - val_ignore_accuracy: 0.0408\n",
            "Epoch 2/20\n",
            "16/16 [==============================] - 94s 6s/step - loss: 0.3968 - accuracy: 0.4197 - ignore_accuracy: 0.0555 - val_loss: 0.3084 - val_accuracy: 0.5568 - val_ignore_accuracy: 0.0763\n",
            "Epoch 3/20\n",
            "16/16 [==============================] - 96s 6s/step - loss: 0.2369 - accuracy: 0.6684 - ignore_accuracy: 0.0954 - val_loss: 0.1884 - val_accuracy: 0.7295 - val_ignore_accuracy: 0.1073\n",
            "Epoch 4/20\n",
            "16/16 [==============================] - 91s 6s/step - loss: 0.1524 - accuracy: 0.7860 - ignore_accuracy: 0.1166 - val_loss: 0.1404 - val_accuracy: 0.7966 - val_ignore_accuracy: 0.1194\n",
            "Epoch 5/20\n",
            "16/16 [==============================] - 106s 7s/step - loss: 0.1150 - accuracy: 0.8353 - ignore_accuracy: 0.1259 - val_loss: 0.1183 - val_accuracy: 0.8217 - val_ignore_accuracy: 0.1240\n",
            "Epoch 6/20\n",
            "16/16 [==============================] - 110s 7s/step - loss: 0.0947 - accuracy: 0.8634 - ignore_accuracy: 0.1311 - val_loss: 0.1001 - val_accuracy: 0.8496 - val_ignore_accuracy: 0.1291\n",
            "Epoch 7/20\n",
            "16/16 [==============================] - 106s 7s/step - loss: 0.0798 - accuracy: 0.8838 - ignore_accuracy: 0.1351 - val_loss: 0.0921 - val_accuracy: 0.8591 - val_ignore_accuracy: 0.1306\n",
            "Epoch 8/20\n",
            "16/16 [==============================] - 109s 7s/step - loss: 0.0702 - accuracy: 0.8987 - ignore_accuracy: 0.1377 - val_loss: 0.0851 - val_accuracy: 0.8705 - val_ignore_accuracy: 0.1328\n",
            "Epoch 9/20\n",
            "16/16 [==============================] - 128s 8s/step - loss: 0.0609 - accuracy: 0.9125 - ignore_accuracy: 0.1402 - val_loss: 0.0794 - val_accuracy: 0.8813 - val_ignore_accuracy: 0.1347\n",
            "Epoch 10/20\n",
            "16/16 [==============================] - 135s 8s/step - loss: 0.0536 - accuracy: 0.9232 - ignore_accuracy: 0.1422 - val_loss: 0.0770 - val_accuracy: 0.8835 - val_ignore_accuracy: 0.1352\n",
            "Epoch 11/20\n",
            "16/16 [==============================] - 101s 6s/step - loss: 0.0476 - accuracy: 0.9324 - ignore_accuracy: 0.1441 - val_loss: 0.0735 - val_accuracy: 0.8877 - val_ignore_accuracy: 0.1359\n",
            "Epoch 12/20\n",
            "16/16 [==============================] - 124s 8s/step - loss: 0.0423 - accuracy: 0.9400 - ignore_accuracy: 0.1455 - val_loss: 0.0704 - val_accuracy: 0.8916 - val_ignore_accuracy: 0.1366\n",
            "Epoch 13/20\n",
            "16/16 [==============================] - 121s 8s/step - loss: 0.0375 - accuracy: 0.9483 - ignore_accuracy: 0.1472 - val_loss: 0.0703 - val_accuracy: 0.8915 - val_ignore_accuracy: 0.1366\n",
            "Epoch 14/20\n",
            "16/16 [==============================] - 95s 6s/step - loss: 0.0331 - accuracy: 0.9554 - ignore_accuracy: 0.1487 - val_loss: 0.0676 - val_accuracy: 0.8972 - val_ignore_accuracy: 0.1377\n",
            "Epoch 15/20\n",
            "16/16 [==============================] - 95s 6s/step - loss: 0.0296 - accuracy: 0.9605 - ignore_accuracy: 0.1495 - val_loss: 0.0678 - val_accuracy: 0.8951 - val_ignore_accuracy: 0.1373\n",
            "Epoch 16/20\n",
            "16/16 [==============================] - 96s 6s/step - loss: 0.0259 - accuracy: 0.9667 - ignore_accuracy: 0.1506 - val_loss: 0.0657 - val_accuracy: 0.8987 - val_ignore_accuracy: 0.1380\n",
            "Epoch 17/20\n",
            "16/16 [==============================] - 94s 6s/step - loss: 0.0218 - accuracy: 0.9749 - ignore_accuracy: 0.1522 - val_loss: 0.0659 - val_accuracy: 0.8995 - val_ignore_accuracy: 0.1381\n",
            "Epoch 18/20\n",
            "16/16 [==============================] - 94s 6s/step - loss: 0.0187 - accuracy: 0.9797 - ignore_accuracy: 0.1531 - val_loss: 0.0652 - val_accuracy: 0.9002 - val_ignore_accuracy: 0.1382\n",
            "Epoch 19/20\n",
            "16/16 [==============================] - 103s 7s/step - loss: 0.0156 - accuracy: 0.9847 - ignore_accuracy: 0.1543 - val_loss: 0.0654 - val_accuracy: 0.9002 - val_ignore_accuracy: 0.1382\n",
            "Epoch 20/20\n",
            "16/16 [==============================] - 98s 6s/step - loss: 0.0130 - accuracy: 0.9895 - ignore_accuracy: 0.1551 - val_loss: 0.0651 - val_accuracy: 0.9014 - val_ignore_accuracy: 0.1385\n"
          ]
        }
      ]
    },
    {
      "cell_type": "code",
      "source": [
        "scores_add_lstm = add_lstm_model.evaluate(X_val, y_val_one_hot, return_dict = True)\n",
        "predictions_add_lstm = add_lstm_model.predict(X_val)"
      ],
      "metadata": {
        "colab": {
          "base_uri": "https://localhost:8080/"
        },
        "id": "ZRvFuiHCExgc",
        "outputId": "df4e6ba3-cda9-4e0f-8773-403050b61888"
      },
      "execution_count": 213,
      "outputs": [
        {
          "output_type": "stream",
          "name": "stdout",
          "text": [
            "41/41 [==============================] - 31s 753ms/step - loss: 0.0651 - accuracy: 0.9014 - ignore_accuracy: 0.1402\n",
            "41/41 [==============================] - 23s 549ms/step\n"
          ]
        }
      ]
    },
    {
      "cell_type": "code",
      "source": [
        "# Convert the class probabilities into class labels\n",
        "predicted_labels_add_lstm = np.argmax(predictions_add_lstm, axis=-1)\n",
        "\n",
        "true_pos = defaultdict(int)\n",
        "false_pos = defaultdict(int)\n",
        "false_neg = defaultdict(int)\n",
        "precision = defaultdict(float)\n",
        "recall = defaultdict(float)\n",
        "f1score = defaultdict(float)\n",
        "\n",
        "#index2tag = {v: k for k, v in tag2index.items()}\n",
        "for tag in tags_test:\n",
        "  if tag not in ignore:\n",
        "    for idx_sentence in range(len(y_val)):\n",
        "      for idx_word in range(PAD_LENGTH):\n",
        "        if index2tag[y_val[idx_sentence][idx_word]] == tag:\n",
        "          # If the predicted tag matches ground truth we increase true positive count for that tag\n",
        "          if predicted_labels_add_lstm[idx_sentence][idx_word] == y_val[idx_sentence][idx_word]:\n",
        "            true_pos[index2tag[y_val[idx_sentence][idx_word]]] += 1\n",
        "          else:\n",
        "          # If the predicted tag does not match ground truth we increase false negative count for that tag\n",
        "          # and false positive count for the wrongly predicted tag\n",
        "            false_neg[index2tag[y_val[idx_sentence][idx_word]]] += 1\n",
        "            false_pos[index2tag[predicted_labels_add_lstm[idx_sentence][idx_word]]] += 1\n",
        "    # We then compute precision, recall and F1 scores\n",
        "    if true_pos[tag] != 0:\n",
        "      precision[tag] = true_pos[tag] / (true_pos[tag] + false_pos[tag])\n",
        "      recall[tag] = true_pos[tag] / (true_pos[tag] + false_neg[tag])\n",
        "      f1score[tag] = 2 * ((precision[tag] * recall[tag]) / (precision[tag] + recall[tag])) \n",
        "    else:\n",
        "      print(tag)\n",
        "      print(true_pos[tag])\n",
        "      print(false_pos[tag])\n",
        "      print(false_neg[tag])\n",
        "      print()"
      ],
      "metadata": {
        "colab": {
          "base_uri": "https://localhost:8080/"
        },
        "id": "e4FEmEZDOnwa",
        "outputId": "b1c4022e-c04c-4fde-8648-6798f3a5efef"
      },
      "execution_count": 214,
      "outputs": [
        {
          "output_type": "stream",
          "name": "stdout",
          "text": [
            "PDT\n",
            "0\n",
            "0\n",
            "14\n",
            "\n"
          ]
        }
      ]
    },
    {
      "cell_type": "code",
      "source": [
        "f1_list = [el[1] for el in f1score.items()]\n",
        "\n",
        "sum = 0\n",
        "\n",
        "for p in f1_list:\n",
        "  sum += p\n",
        "macro_f1_add_lstm = sum / len(f1score.items())\n",
        "print(f'MACRO F1-score:',macro_f1_add_lstm)"
      ],
      "metadata": {
        "colab": {
          "base_uri": "https://localhost:8080/"
        },
        "id": "oKrrPd7ROqfs",
        "outputId": "9c7b22fd-c8be-4789-c4eb-3bfbb1a18619"
      },
      "execution_count": 215,
      "outputs": [
        {
          "output_type": "stream",
          "name": "stdout",
          "text": [
            "MACRO F1-score: 0.8417160603577196\n"
          ]
        }
      ]
    },
    {
      "cell_type": "markdown",
      "source": [
        "### 3.4 Additional dense layer (MACRO f1 0.969)\n",
        "\n",
        "Using two dense layers, one with a non-linear activation function and one with a softmax activation function, is a common pattern in neural network architectures for classification tasks.\n",
        "\n",
        "The purpose of the non-linear dense layer is to introduce non-linearity into the model, which can allow the model to learn more complex patterns in the data. Common choices for the activation function in this layer include ReLU (Rectified Linear Unit), sigmoid, and tanh.\n",
        "\n",
        "The purpose of the softmax dense layer is to produce a probability distribution over the possible classes. The softmax activation function transforms the output of the preceding layer into a probability distribution, where the sum of the probabilities is equal to 1. This is useful for classification tasks, where you want to predict the probability that an input belongs to each of the possible classes. Using two dense layers in this way can allow the model to learn more complex patterns in the data and make more accurate predictions.\n",
        "\n",
        "We have increased the number of training epochs to 15 for the same reasons as before."
      ],
      "metadata": {
        "id": "5AtIybGnEzsP"
      }
    },
    {
      "cell_type": "code",
      "source": [
        "# Define the model\n",
        "add_fc_model = tf.keras.Sequential(name='Additional_FC')\n",
        "\n",
        "# Add the Embedding layer\n",
        "add_fc_model.add(Embedding(input_dim=vocab_length, output_dim=embedding_dim, \\\n",
        "                    weights = [embedding_matrix], input_length = PAD_LENGTH, trainable=False, mask_zero=True))\n",
        "\n",
        "# Add the Bidirectional LSTM layer\n",
        "add_fc_model.add(Bidirectional(LSTM(units=256, return_sequences=True)))\n",
        "\n",
        "# Add another Dense layer\n",
        "add_fc_model.add(TimeDistributed(Dense(units=PAD_LENGTH, activation='relu')))\n",
        "\n",
        "# Add the Dense/Fully-Connected layer\n",
        "add_fc_model.add(TimeDistributed(Dense(units=len(tags_train), activation='softmax')))\n",
        "\n",
        "# Compile the model\n",
        "add_fc_model.compile(optimizer='adam', loss='categorical_crossentropy', metrics=['accuracy',ignore_class_accuracy([tag2index[tag] for tag in ignore])])\n",
        "\n",
        "# Summary\n",
        "add_fc_model.summary()"
      ],
      "metadata": {
        "colab": {
          "base_uri": "https://localhost:8080/"
        },
        "id": "CQj_m12zE3So",
        "outputId": "a7e46a85-fd99-422f-a41d-6008befc52b0"
      },
      "execution_count": 198,
      "outputs": [
        {
          "output_type": "stream",
          "name": "stdout",
          "text": [
            "Model: \"Additional_FC\"\n",
            "_________________________________________________________________\n",
            " Layer (type)                Output Shape              Param #   \n",
            "=================================================================\n",
            " embedding_18 (Embedding)    (None, 128, 300)          120334200 \n",
            "                                                                 \n",
            " bidirectional_15 (Bidirecti  (None, 128, 512)         1140736   \n",
            " onal)                                                           \n",
            "                                                                 \n",
            " time_distributed_19 (TimeDi  (None, 128, 128)         65664     \n",
            " stributed)                                                      \n",
            "                                                                 \n",
            " time_distributed_20 (TimeDi  (None, 128, 46)          5934      \n",
            " stributed)                                                      \n",
            "                                                                 \n",
            "=================================================================\n",
            "Total params: 121,546,534\n",
            "Trainable params: 1,212,334\n",
            "Non-trainable params: 120,334,200\n",
            "_________________________________________________________________\n"
          ]
        }
      ]
    },
    {
      "cell_type": "code",
      "source": [
        "results_add_fc = add_fc_model.fit(X_train, y_train_one_hot, epochs=20, verbose = True, validation_data=(X_val, y_val_one_hot), batch_size=128)"
      ],
      "metadata": {
        "colab": {
          "base_uri": "https://localhost:8080/"
        },
        "id": "49cnWYeiE5Jt",
        "outputId": "cf7d1bb4-864c-47ab-99e1-85f830baa5be"
      },
      "execution_count": 199,
      "outputs": [
        {
          "output_type": "stream",
          "name": "stdout",
          "text": [
            "Epoch 1/20\n",
            "16/16 [==============================] - 55s 3s/step - loss: 0.5574 - accuracy: 0.2748 - ignore_accuracy: 0.0391 - val_loss: 0.4302 - val_accuracy: 0.4259 - val_ignore_accuracy: 0.0557\n",
            "Epoch 2/20\n",
            "16/16 [==============================] - 37s 2s/step - loss: 0.3373 - accuracy: 0.5445 - ignore_accuracy: 0.0743 - val_loss: 0.2518 - val_accuracy: 0.6577 - val_ignore_accuracy: 0.0942\n",
            "Epoch 3/20\n",
            "16/16 [==============================] - 38s 2s/step - loss: 0.1995 - accuracy: 0.7253 - ignore_accuracy: 0.1055 - val_loss: 0.1698 - val_accuracy: 0.7621 - val_ignore_accuracy: 0.1130\n",
            "Epoch 4/20\n",
            "16/16 [==============================] - 38s 2s/step - loss: 0.1402 - accuracy: 0.8050 - ignore_accuracy: 0.1202 - val_loss: 0.1328 - val_accuracy: 0.8083 - val_ignore_accuracy: 0.1214\n",
            "Epoch 5/20\n",
            "16/16 [==============================] - 41s 3s/step - loss: 0.1104 - accuracy: 0.8445 - ignore_accuracy: 0.1276 - val_loss: 0.1119 - val_accuracy: 0.8350 - val_ignore_accuracy: 0.1263\n",
            "Epoch 6/20\n",
            "16/16 [==============================] - 37s 2s/step - loss: 0.0922 - accuracy: 0.8673 - ignore_accuracy: 0.1318 - val_loss: 0.1003 - val_accuracy: 0.8504 - val_ignore_accuracy: 0.1291\n",
            "Epoch 7/20\n",
            "16/16 [==============================] - 36s 2s/step - loss: 0.0796 - accuracy: 0.8863 - ignore_accuracy: 0.1354 - val_loss: 0.0911 - val_accuracy: 0.8632 - val_ignore_accuracy: 0.1314\n",
            "Epoch 8/20\n",
            "16/16 [==============================] - 42s 3s/step - loss: 0.0697 - accuracy: 0.9005 - ignore_accuracy: 0.1380 - val_loss: 0.0859 - val_accuracy: 0.8710 - val_ignore_accuracy: 0.1327\n",
            "Epoch 9/20\n",
            "16/16 [==============================] - 42s 3s/step - loss: 0.0623 - accuracy: 0.9098 - ignore_accuracy: 0.1398 - val_loss: 0.0825 - val_accuracy: 0.8740 - val_ignore_accuracy: 0.1333\n",
            "Epoch 10/20\n",
            "16/16 [==============================] - 39s 2s/step - loss: 0.0559 - accuracy: 0.9195 - ignore_accuracy: 0.1414 - val_loss: 0.0766 - val_accuracy: 0.8845 - val_ignore_accuracy: 0.1352\n",
            "Epoch 11/20\n",
            "16/16 [==============================] - 44s 3s/step - loss: 0.0496 - accuracy: 0.9300 - ignore_accuracy: 0.1437 - val_loss: 0.0735 - val_accuracy: 0.8889 - val_ignore_accuracy: 0.1361\n",
            "Epoch 12/20\n",
            "16/16 [==============================] - 42s 3s/step - loss: 0.0450 - accuracy: 0.9368 - ignore_accuracy: 0.1448 - val_loss: 0.0713 - val_accuracy: 0.8907 - val_ignore_accuracy: 0.1364\n",
            "Epoch 13/20\n",
            "16/16 [==============================] - 40s 3s/step - loss: 0.0410 - accuracy: 0.9423 - ignore_accuracy: 0.1459 - val_loss: 0.0718 - val_accuracy: 0.8895 - val_ignore_accuracy: 0.1362\n",
            "Epoch 14/20\n",
            "16/16 [==============================] - 37s 2s/step - loss: 0.0371 - accuracy: 0.9486 - ignore_accuracy: 0.1472 - val_loss: 0.0688 - val_accuracy: 0.8952 - val_ignore_accuracy: 0.1373\n",
            "Epoch 15/20\n",
            "16/16 [==============================] - 40s 3s/step - loss: 0.0327 - accuracy: 0.9560 - ignore_accuracy: 0.1486 - val_loss: 0.0671 - val_accuracy: 0.8968 - val_ignore_accuracy: 0.1376\n",
            "Epoch 16/20\n",
            "16/16 [==============================] - 39s 2s/step - loss: 0.0286 - accuracy: 0.9628 - ignore_accuracy: 0.1498 - val_loss: 0.0669 - val_accuracy: 0.8967 - val_ignore_accuracy: 0.1376\n",
            "Epoch 17/20\n",
            "16/16 [==============================] - 38s 2s/step - loss: 0.0252 - accuracy: 0.9683 - ignore_accuracy: 0.1509 - val_loss: 0.0667 - val_accuracy: 0.8974 - val_ignore_accuracy: 0.1377\n",
            "Epoch 18/20\n",
            "16/16 [==============================] - 40s 3s/step - loss: 0.0220 - accuracy: 0.9741 - ignore_accuracy: 0.1520 - val_loss: 0.0664 - val_accuracy: 0.8990 - val_ignore_accuracy: 0.1380\n",
            "Epoch 19/20\n",
            "16/16 [==============================] - 48s 3s/step - loss: 0.0191 - accuracy: 0.9790 - ignore_accuracy: 0.1530 - val_loss: 0.0671 - val_accuracy: 0.9000 - val_ignore_accuracy: 0.1381\n",
            "Epoch 20/20\n",
            "16/16 [==============================] - 38s 2s/step - loss: 0.0165 - accuracy: 0.9832 - ignore_accuracy: 0.1537 - val_loss: 0.0679 - val_accuracy: 0.8978 - val_ignore_accuracy: 0.1378\n"
          ]
        }
      ]
    },
    {
      "cell_type": "code",
      "source": [
        "scores_add_fc = add_fc_model.evaluate(X_val, y_val_one_hot, return_dict = True)\n",
        "predictions_add_fc = add_fc_model.predict(X_val)"
      ],
      "metadata": {
        "colab": {
          "base_uri": "https://localhost:8080/"
        },
        "id": "dsOyrHcWE62j",
        "outputId": "936a0e99-6d6a-4135-feba-85af19699a47"
      },
      "execution_count": 216,
      "outputs": [
        {
          "output_type": "stream",
          "name": "stdout",
          "text": [
            "41/41 [==============================] - 10s 242ms/step - loss: 0.0679 - accuracy: 0.8978 - ignore_accuracy: 0.1395\n",
            "41/41 [==============================] - 10s 243ms/step\n"
          ]
        }
      ]
    },
    {
      "cell_type": "code",
      "source": [
        "# Convert the class probabilities into class labels\n",
        "predicted_labels_add_fc = np.argmax(predictions_add_fc, axis=-1)\n",
        "\n",
        "true_pos = defaultdict(int)\n",
        "false_pos = defaultdict(int)\n",
        "false_neg = defaultdict(int)\n",
        "precision = defaultdict(float)\n",
        "recall = defaultdict(float)\n",
        "f1score = defaultdict(float)\n",
        "\n",
        "#index2tag = {v: k for k, v in tag2index.items()}\n",
        "for tag in tags_test:\n",
        "  if tag not in ignore:\n",
        "    for idx_sentence in range(len(y_val)):\n",
        "      for idx_word in range(PAD_LENGTH):\n",
        "        if index2tag[y_val[idx_sentence][idx_word]] == tag:\n",
        "          # If the predicted tag matches ground truth we increase true positive count for that tag\n",
        "          if predicted_labels_add_fc[idx_sentence][idx_word] == y_val[idx_sentence][idx_word]:\n",
        "            true_pos[index2tag[y_val[idx_sentence][idx_word]]] += 1\n",
        "          else:\n",
        "          # If the predicted tag does not match ground truth we increase false negative count for that tag\n",
        "          # and false positive count for the wrongly predicted tag\n",
        "            false_neg[index2tag[y_val[idx_sentence][idx_word]]] += 1\n",
        "            false_pos[index2tag[predicted_labels_add_fc[idx_sentence][idx_word]]] += 1\n",
        "    # We then compute precision, recall and F1 scores\n",
        "    if true_pos[tag] != 0:\n",
        "      precision[tag] = true_pos[tag] / (true_pos[tag] + false_pos[tag])\n",
        "      recall[tag] = true_pos[tag] / (true_pos[tag] + false_neg[tag])\n",
        "      f1score[tag] = 2 * ((precision[tag] * recall[tag]) / (precision[tag] + recall[tag])) \n",
        "    else:\n",
        "      print(tag)\n",
        "      print(true_pos[tag])\n",
        "      print(false_pos[tag])\n",
        "      print(false_neg[tag])\n",
        "      print()"
      ],
      "metadata": {
        "colab": {
          "base_uri": "https://localhost:8080/"
        },
        "id": "7nKMHckAP4bZ",
        "outputId": "75ee8b7b-5f4f-407d-c845-c41a8c096d4f"
      },
      "execution_count": 217,
      "outputs": [
        {
          "output_type": "stream",
          "name": "stdout",
          "text": [
            "PDT\n",
            "0\n",
            "0\n",
            "14\n",
            "\n"
          ]
        }
      ]
    },
    {
      "cell_type": "code",
      "source": [
        "f1_list = [el[1] for el in f1score.items()]\n",
        "\n",
        "sum = 0\n",
        "\n",
        "for p in f1_list:\n",
        "  sum += p\n",
        "macro_f1_add_fc = sum / len(f1score.items())\n",
        "print(f'MACRO F1-score: {macro_f1_add_fc}')"
      ],
      "metadata": {
        "colab": {
          "base_uri": "https://localhost:8080/"
        },
        "id": "4U2eLG-dQPZ4",
        "outputId": "a83e2540-2431-4c65-8ba3-bcba6a302136"
      },
      "execution_count": 218,
      "outputs": [
        {
          "output_type": "stream",
          "name": "stdout",
          "text": [
            "MACRO F1-score: 0.8290172846512015\n"
          ]
        }
      ]
    },
    {
      "cell_type": "markdown",
      "source": [
        "## 4. Comparisons\n"
      ],
      "metadata": {
        "id": "d9ZTfE8sE81P"
      }
    },
    {
      "cell_type": "code",
      "source": [
        "print(index2tag)"
      ],
      "metadata": {
        "colab": {
          "base_uri": "https://localhost:8080/"
        },
        "id": "60fNmjrgpCE3",
        "outputId": "402d67c6-af69-4289-c6b9-1abe1ba0a7b9"
      },
      "execution_count": 221,
      "outputs": [
        {
          "output_type": "stream",
          "name": "stdout",
          "text": [
            "OrderedDict([(0, '#'), (1, '$'), (2, \"''\"), (3, ','), (4, '-LRB-'), (5, '-NONE-'), (6, '-RRB-'), (7, '.'), (8, ':'), (9, 'CC'), (10, 'CD'), (11, 'DT'), (12, 'EX'), (13, 'FW'), (14, 'IN'), (15, 'JJ'), (16, 'JJR'), (17, 'JJS'), (18, 'LS'), (19, 'MD'), (20, 'NN'), (21, 'NNP'), (22, 'NNPS'), (23, 'NNS'), (24, 'PDT'), (25, 'POS'), (26, 'PRP'), (27, 'PRP$'), (28, 'RB'), (29, 'RBR'), (30, 'RBS'), (31, 'RP'), (32, 'SYM'), (33, 'TO'), (34, 'UH'), (35, 'VB'), (36, 'VBD'), (37, 'VBG'), (38, 'VBN'), (39, 'VBP'), (40, 'VBZ'), (41, 'WDT'), (42, 'WP'), (43, 'WP$'), (44, 'WRB'), (45, '``')])\n"
          ]
        }
      ]
    },
    {
      "cell_type": "code",
      "source": [
        "#Test phrase\n",
        "np.random.seed(41)\n",
        "idx = np.random.randint(0, len(X_val_np))\n",
        "\n",
        "print(f'Test sentence: {[index2word[word] for word in X_val_np[idx]]}') \n",
        "\n",
        "#ground truth\n",
        "print(f'Ground truth tags: {[index2tag[tag] for tag in y_val_np[idx]]}')\n",
        "\n",
        "#test bl\n",
        "print(f'Baseline predictions: {[index2tag[tag] for tag in predicted_labels_bl[idx]]}')\n",
        "#test gru\n",
        "print(f'GRU predictions: {[index2tag[tag] for tag in predicted_labels_gru[idx]]}')\n",
        "#test add lstm\n",
        "print(f'Additional LSTM layer predictions: {[index2tag[tag] for tag in predicted_labels_add_lstm[idx]]}')\n",
        "#test add fc\n",
        "print(f'Additional FC layer predictions: {[index2tag[tag] for tag in predicted_labels_add_fc[idx]]}')\n",
        "\n"
      ],
      "metadata": {
        "colab": {
          "base_uri": "https://localhost:8080/"
        },
        "id": "QKhtcyT-cf6C",
        "outputId": "93edec41-d745-4dad-c301-bb765a02b713"
      },
      "execution_count": 230,
      "outputs": [
        {
          "output_type": "stream",
          "name": "stdout",
          "text": [
            "Test sentence: ['the', 'sad', 'reality', 'is', 'that', 'the', 'retail', 'investor', 'continues', '*-1', 'to', 'pursue', 'stellar', 'performers', 'first', ',', 'while', '*-2', 'leaving', 'institutions', 'to', 'grapple', 'with', 'basis', 'points', 'of', 'performance', 'on', 'large', 'sums', 'of', 'money', 'quarter', 'by', 'quarter', '*ppa*-3', '.']\n",
            "Ground truth tags: ['DT', 'JJ', 'NN', 'VBZ', 'IN', 'DT', 'JJ', 'NN', 'VBZ', '-NONE-', 'TO', 'VB', 'JJ', 'NNS', 'RB', ',', 'IN', '-NONE-', 'VBG', 'NNS', 'TO', 'VB', 'IN', 'NN', 'NNS', 'IN', 'NN', 'IN', 'JJ', 'NNS', 'IN', 'NN', 'NN', 'IN', 'NN', '-NONE-', '.']\n",
            "Baseline predictions: ['.', 'DT', 'NN', 'VBZ', 'IN', '.', 'JJ', 'NN', 'VBZ', '-NONE-', 'TO', 'VB', 'JJ', 'JJ', 'JJ', ',', 'IN', '-NONE-', 'VBG', 'NNS', 'TO', 'VB', 'IN', 'JJ', 'NNS', 'IN', 'NN', 'IN', 'JJ', 'NNS', 'IN', 'NN', 'NN', 'IN', 'NN', 'NNS', '.', '.', '.', '.', '.', '.', '.', '.', '.', '.', '.', '.', '.', '.', '.', '.', '.', '.', '.', '.', '.', '.', '.', '.', '.', '.', '.', '.', '.', '.', '.', '.', '.', '.', '.', '.', '.', '.', '.', '.', '.', '.', '.', '.', '.', '.', '.', '.', '.', '.', '.', '.', '.', '.', '.', '.', '.', '.', '.', '.', '.', '.', '.', '.', '.', '.', '.', '.', '.', '.', '.', '.', '.', '.', '.', '.', '.', '.', '.', '.', '.', '.', '.', '.', '.', '.', '.', '.', '.', '.', '.', '.']\n",
            "GRU predictions: ['NNP', 'DT', 'NN', 'VBZ', 'IN', 'IN', 'NN', 'NN', 'VBZ', '-NONE-', 'TO', 'VB', 'JJ', 'NNS', 'JJ', ',', 'IN', '-NONE-', 'VBG', 'NNS', 'TO', 'VB', 'IN', 'JJ', 'NNS', 'IN', 'NN', 'IN', 'JJ', 'NNS', 'IN', 'NN', 'VBD', 'IN', 'NN', 'CD', '.', '.', '.', '.', '.', '.', '.', '.', '.', '.', '.', '.', '.', '.', '.', '.', '.', '.', '.', '.', '.', '.', '.', '.', '.', '.', '.', '.', '.', '.', '.', '.', '.', '.', '.', '.', '.', '.', '.', '.', '.', '.', '.', '.', '.', '.', '.', '.', '.', '.', '.', '.', '.', '.', '.', '.', '.', '.', '.', '.', '.', '.', '.', '.', '.', '.', '.', '.', '.', '.', '.', '.', '.', '.', '.', '.', '.', '.', '.', '.', '.', '.', '.', '.', '.', '.', '.', '.', '.', '.', '.', '.']\n",
            "Additional LSTM layer predictions: ['.', 'JJ', 'NN', 'VBZ', 'IN', '.', 'JJ', 'NN', 'VBZ', '-NONE-', 'TO', 'VB', 'JJ', 'NNS', 'JJ', ',', 'IN', '-NONE-', 'VBG', 'NNS', 'TO', 'VB', 'IN', 'JJ', 'NNS', 'IN', 'NN', 'IN', 'JJ', 'NNS', 'IN', 'NN', 'VBD', 'IN', 'NN', 'NNS', '.', '.', '.', '.', '.', '.', '.', '.', '.', '.', '.', '.', '.', '.', '.', '.', '.', '.', '.', '.', '.', '.', '.', '.', '.', '.', '.', '.', '.', '.', '.', '.', '.', '.', '.', '.', '.', '.', '.', '.', '.', '.', '.', '.', '.', '.', '.', '.', '.', '.', '.', '.', '.', '.', '.', '.', '.', '.', '.', '.', '.', '.', '.', '.', '.', '.', '.', '.', '.', '.', '.', '.', '.', '.', '.', '.', '.', '.', '.', '.', '.', '.', '.', '.', '.', '.', '.', '.', '.', '.', '.', '.']\n",
            "Additional FC layer predictions: ['NNP', 'DT', 'NN', 'VBZ', 'IN', 'NNP', 'JJ', 'NN', 'VBZ', '-NONE-', 'TO', 'VB', 'JJ', 'NNS', 'NN', ',', 'IN', '-NONE-', 'VBG', 'NNS', 'TO', 'VB', 'IN', 'JJ', 'NNS', 'IN', 'NN', 'IN', 'JJ', 'NNS', 'IN', 'NN', 'NN', 'IN', 'NN', 'NNS', '.', 'NNP', 'NNP', 'NNP', 'NNP', 'NNP', 'NNP', 'NNP', 'NNP', 'NNP', 'NNP', 'NNP', 'NNP', 'NNP', 'NNP', 'NNP', 'NNP', 'NNP', 'NNP', 'NNP', 'NNP', 'NNP', 'NNP', 'NNP', 'NNP', 'NNP', 'NNP', 'NNP', 'NNP', 'NNP', 'NNP', 'NNP', 'NNP', 'NNP', 'NNP', 'NNP', 'NNP', 'NNP', 'NNP', 'NNP', 'NNP', 'NNP', 'NNP', 'NNP', 'NNP', 'NNP', 'NNP', 'NNP', 'NNP', 'NNP', 'NNP', 'NNP', 'NNP', 'NNP', 'NNP', 'NNP', 'NNP', 'NNP', 'NNP', 'NNP', 'NNP', 'NNP', 'NNP', 'NNP', 'NNP', 'NNP', 'NNP', 'NNP', 'NNP', 'NNP', 'NNP', 'NNP', 'NNP', 'NNP', 'NNP', 'NNP', 'NNP', 'NNP', 'NNP', 'NNP', 'NNP', 'NNP', 'NNP', 'NNP', 'NNP', 'NNP', 'NNP', 'NNP', 'NNP', 'NNP', 'NNP', 'NNP']\n"
          ]
        }
      ]
    },
    {
      "cell_type": "code",
      "source": [
        "#f1 on 2 best models\n",
        "#f1 model 1 on test set\n",
        "#f1 model 2 on test set\n"
      ],
      "metadata": {
        "id": "PmH-ZgHak9ae"
      },
      "execution_count": null,
      "outputs": []
    },
    {
      "cell_type": "code",
      "source": [
        "# # Create a list of epochs (i.e., the x-axis data)\n",
        "epochs = list(range(1, len(results_baseline.history['val_accuracy'])+1))\n",
        "\n",
        "# # Create a Plotly line plot using the epochs and validation accuracy data\n",
        "fig = go.Figure()\n",
        "fig.add_trace(go.Scatter(x=epochs, y=results_baseline.history['val_accuracy'], name='Baseline - BiLSTM Model', mode='lines+markers'))\n",
        "fig.add_trace(go.Scatter(x=epochs, y=results_gru.history['val_accuracy'], name='GRU Model', mode='lines+markers'))\n",
        "fig.show()\n",
        "\n",
        "# Create a list of epochs (i.e., the x-axis data)\n",
        "epochs = list(range(1, len(results_add_lstm.history['val_accuracy'])+1))\n",
        "\n",
        "fig2 = go.Figure()\n",
        "fig2.add_trace(go.Scatter(x=epochs, y=results_add_lstm.history['val_accuracy'], name='2 BiLSTMs Model', mode='lines+markers'))\n",
        "fig2.add_trace(go.Scatter(x=epochs, y=results_add_fc.history['val_accuracy'], name='2 FCs Model', mode='lines+markers'))\n",
        "fig2.show()"
      ],
      "metadata": {
        "id": "HxBqGcszE-Ui"
      },
      "execution_count": null,
      "outputs": []
    }
  ]
}