{
  "nbformat": 4,
  "nbformat_minor": 0,
  "metadata": {
    "colab": {
      "provenance": []
    },
    "kernelspec": {
      "name": "python3",
      "display_name": "Python 3"
    },
    "language_info": {
      "name": "python"
    }
  },
  "cells": [
    {
      "cell_type": "code",
      "execution_count": null,
      "metadata": {
        "id": "q1j7apC3STQR"
      },
      "outputs": [],
      "source": [
        "import numpy as np\n",
        "import matplotlib.pyplot as plt\n",
        "import pandas as pd\n",
        "import tensorflow as tf\n",
        "import nltk.corpus\n",
        "import os, urllib.request\n",
        "import zipfile\n",
        "from nltk.tokenize import WhitespaceTokenizer\n",
        "import sklearn\n",
        "from tqdm import tqdm\n",
        "from collections import OrderedDict\n",
        "from sklearn.externals._packaging.version import List\n",
        "from keras.preprocessing.text import Tokenizer\n",
        "from keras import layers\n",
        "from keras.layers import Dropout, Flatten\n",
        "from sklearn.preprocessing import LabelEncoder, OneHotEncoder\n",
        "from keras_preprocessing.sequence import pad_sequences\n",
        "from keras.models import Sequential"
      ]
    },
    {
      "cell_type": "code",
      "source": [
        "nltk.download('treebank')\n",
        "nltk.download('punkt')"
      ],
      "metadata": {
        "colab": {
          "base_uri": "https://localhost:8080/"
        },
        "id": "92f2MvGPSWH6",
        "outputId": "f11e6263-ccd7-4d63-f30d-5feca1c7e577"
      },
      "execution_count": null,
      "outputs": [
        {
          "output_type": "stream",
          "name": "stderr",
          "text": [
            "[nltk_data] Downloading package treebank to /root/nltk_data...\n",
            "[nltk_data]   Package treebank is already up-to-date!\n",
            "[nltk_data] Downloading package punkt to /root/nltk_data...\n",
            "[nltk_data]   Package punkt is already up-to-date!\n"
          ]
        },
        {
          "output_type": "execute_result",
          "data": {
            "text/plain": [
              "True"
            ]
          },
          "metadata": {},
          "execution_count": 3
        }
      ]
    },
    {
      "cell_type": "code",
      "source": [
        "class AvgSentenceEmbedding(tf.keras.layers.Layer):\n",
        "\n",
        "    def call(self, inputs, mask=None, training=False, **kwargs):\n",
        "        float_mask = tf.cast(mask, inputs.dtype)\n",
        "        masked_inputs = inputs * float_mask[:, :, None]\n",
        "        return tf.reduce_sum(masked_inputs, axis=1) / tf.reduce_sum(float_mask, axis=1)[:, None]"
      ],
      "metadata": {
        "id": "Mhv9euQLSXnL"
      },
      "execution_count": null,
      "outputs": []
    },
    {
      "cell_type": "code",
      "source": [
        "def Encoding(df,Tags):\n",
        "  label_encoder = sklearn.preprocessing.LabelEncoder()\n",
        "  X_lab = label_encoder.fit_transform(df)\n",
        "  OneHot_encoder = sklearn.preprocessing.OneHotEncoder()\n",
        "  X = OneHot_encoder.fit_transform(X_lab.reshape(-1,1)).toarray()\n",
        "  dfOneHot = pd.DataFrame(X, columns = [i for i in Tags])\n",
        "  df.reset_index(inplace=True,drop=True)\n",
        "  df = pd.concat([df,dfOneHot],axis=1)\n",
        "  return df"
      ],
      "metadata": {
        "id": "MSuZ7RvKIStE"
      },
      "execution_count": null,
      "outputs": []
    },
    {
      "cell_type": "code",
      "source": [
        "def create_embedding_matrix(filepath, word_index, embedding_dim):\n",
        "  vocab_size = len(word_index)+1\n",
        "  embedding_matrix = np.zeros((vocab_size,embedding_dim))\n",
        "\n",
        "  with open(filepath, encoding='utf-8') as f:\n",
        "    for line in f:\n",
        "      word, *vector = line.split()\n",
        "      if word in word_index:\n",
        "        idx = word_index[word]\n",
        "        embedding_matrix[idx] = np.array(vector, dtype=np.float32)[:embedding_dim]\n",
        "  return embedding_matrix"
      ],
      "metadata": {
        "id": "asu2VpJ3XaVC"
      },
      "execution_count": null,
      "outputs": []
    },
    {
      "cell_type": "code",
      "source": [
        "nltk.corpus.treebank.tagged_words()"
      ],
      "metadata": {
        "colab": {
          "base_uri": "https://localhost:8080/"
        },
        "id": "IKBvzhwwSicp",
        "outputId": "8ed03907-9deb-42d6-dc79-61d26b132775"
      },
      "execution_count": null,
      "outputs": [
        {
          "output_type": "execute_result",
          "data": {
            "text/plain": [
              "[('Pierre', 'NNP'), ('Vinken', 'NNP'), (',', ','), ...]"
            ]
          },
          "metadata": {},
          "execution_count": 7
        }
      ]
    },
    {
      "cell_type": "code",
      "source": [
        "nltk.corpus.treebank.words()"
      ],
      "metadata": {
        "colab": {
          "base_uri": "https://localhost:8080/"
        },
        "id": "Sl7nbEVYSjBj",
        "outputId": "ebd38d1b-2f4c-4528-b2dc-c0c7b983d544"
      },
      "execution_count": null,
      "outputs": [
        {
          "output_type": "execute_result",
          "data": {
            "text/plain": [
              "['Pierre', 'Vinken', ',', '61', 'years', 'old', ',', ...]"
            ]
          },
          "metadata": {},
          "execution_count": 8
        }
      ]
    },
    {
      "cell_type": "code",
      "source": [
        "nltk.corpus.treebank.fileids()\n",
        "train_files = nltk.corpus.treebank.fileids()[:100]\n",
        "val_files = nltk.corpus.treebank.fileids()[100:150]\n",
        "test_files = nltk.corpus.treebank.fileids()[150:]\n",
        "print(train_files)\n",
        "print(val_files)\n",
        "print(test_files)\n"
      ],
      "metadata": {
        "colab": {
          "base_uri": "https://localhost:8080/"
        },
        "id": "qL3LG1MvSku_",
        "outputId": "f39362b6-86fa-45c5-cb76-2d40925b5f50"
      },
      "execution_count": null,
      "outputs": [
        {
          "output_type": "stream",
          "name": "stdout",
          "text": [
            "['wsj_0001.mrg', 'wsj_0002.mrg', 'wsj_0003.mrg', 'wsj_0004.mrg', 'wsj_0005.mrg', 'wsj_0006.mrg', 'wsj_0007.mrg', 'wsj_0008.mrg', 'wsj_0009.mrg', 'wsj_0010.mrg', 'wsj_0011.mrg', 'wsj_0012.mrg', 'wsj_0013.mrg', 'wsj_0014.mrg', 'wsj_0015.mrg', 'wsj_0016.mrg', 'wsj_0017.mrg', 'wsj_0018.mrg', 'wsj_0019.mrg', 'wsj_0020.mrg', 'wsj_0021.mrg', 'wsj_0022.mrg', 'wsj_0023.mrg', 'wsj_0024.mrg', 'wsj_0025.mrg', 'wsj_0026.mrg', 'wsj_0027.mrg', 'wsj_0028.mrg', 'wsj_0029.mrg', 'wsj_0030.mrg', 'wsj_0031.mrg', 'wsj_0032.mrg', 'wsj_0033.mrg', 'wsj_0034.mrg', 'wsj_0035.mrg', 'wsj_0036.mrg', 'wsj_0037.mrg', 'wsj_0038.mrg', 'wsj_0039.mrg', 'wsj_0040.mrg', 'wsj_0041.mrg', 'wsj_0042.mrg', 'wsj_0043.mrg', 'wsj_0044.mrg', 'wsj_0045.mrg', 'wsj_0046.mrg', 'wsj_0047.mrg', 'wsj_0048.mrg', 'wsj_0049.mrg', 'wsj_0050.mrg', 'wsj_0051.mrg', 'wsj_0052.mrg', 'wsj_0053.mrg', 'wsj_0054.mrg', 'wsj_0055.mrg', 'wsj_0056.mrg', 'wsj_0057.mrg', 'wsj_0058.mrg', 'wsj_0059.mrg', 'wsj_0060.mrg', 'wsj_0061.mrg', 'wsj_0062.mrg', 'wsj_0063.mrg', 'wsj_0064.mrg', 'wsj_0065.mrg', 'wsj_0066.mrg', 'wsj_0067.mrg', 'wsj_0068.mrg', 'wsj_0069.mrg', 'wsj_0070.mrg', 'wsj_0071.mrg', 'wsj_0072.mrg', 'wsj_0073.mrg', 'wsj_0074.mrg', 'wsj_0075.mrg', 'wsj_0076.mrg', 'wsj_0077.mrg', 'wsj_0078.mrg', 'wsj_0079.mrg', 'wsj_0080.mrg', 'wsj_0081.mrg', 'wsj_0082.mrg', 'wsj_0083.mrg', 'wsj_0084.mrg', 'wsj_0085.mrg', 'wsj_0086.mrg', 'wsj_0087.mrg', 'wsj_0088.mrg', 'wsj_0089.mrg', 'wsj_0090.mrg', 'wsj_0091.mrg', 'wsj_0092.mrg', 'wsj_0093.mrg', 'wsj_0094.mrg', 'wsj_0095.mrg', 'wsj_0096.mrg', 'wsj_0097.mrg', 'wsj_0098.mrg', 'wsj_0099.mrg', 'wsj_0100.mrg']\n",
            "['wsj_0101.mrg', 'wsj_0102.mrg', 'wsj_0103.mrg', 'wsj_0104.mrg', 'wsj_0105.mrg', 'wsj_0106.mrg', 'wsj_0107.mrg', 'wsj_0108.mrg', 'wsj_0109.mrg', 'wsj_0110.mrg', 'wsj_0111.mrg', 'wsj_0112.mrg', 'wsj_0113.mrg', 'wsj_0114.mrg', 'wsj_0115.mrg', 'wsj_0116.mrg', 'wsj_0117.mrg', 'wsj_0118.mrg', 'wsj_0119.mrg', 'wsj_0120.mrg', 'wsj_0121.mrg', 'wsj_0122.mrg', 'wsj_0123.mrg', 'wsj_0124.mrg', 'wsj_0125.mrg', 'wsj_0126.mrg', 'wsj_0127.mrg', 'wsj_0128.mrg', 'wsj_0129.mrg', 'wsj_0130.mrg', 'wsj_0131.mrg', 'wsj_0132.mrg', 'wsj_0133.mrg', 'wsj_0134.mrg', 'wsj_0135.mrg', 'wsj_0136.mrg', 'wsj_0137.mrg', 'wsj_0138.mrg', 'wsj_0139.mrg', 'wsj_0140.mrg', 'wsj_0141.mrg', 'wsj_0142.mrg', 'wsj_0143.mrg', 'wsj_0144.mrg', 'wsj_0145.mrg', 'wsj_0146.mrg', 'wsj_0147.mrg', 'wsj_0148.mrg', 'wsj_0149.mrg', 'wsj_0150.mrg']\n",
            "['wsj_0151.mrg', 'wsj_0152.mrg', 'wsj_0153.mrg', 'wsj_0154.mrg', 'wsj_0155.mrg', 'wsj_0156.mrg', 'wsj_0157.mrg', 'wsj_0158.mrg', 'wsj_0159.mrg', 'wsj_0160.mrg', 'wsj_0161.mrg', 'wsj_0162.mrg', 'wsj_0163.mrg', 'wsj_0164.mrg', 'wsj_0165.mrg', 'wsj_0166.mrg', 'wsj_0167.mrg', 'wsj_0168.mrg', 'wsj_0169.mrg', 'wsj_0170.mrg', 'wsj_0171.mrg', 'wsj_0172.mrg', 'wsj_0173.mrg', 'wsj_0174.mrg', 'wsj_0175.mrg', 'wsj_0176.mrg', 'wsj_0177.mrg', 'wsj_0178.mrg', 'wsj_0179.mrg', 'wsj_0180.mrg', 'wsj_0181.mrg', 'wsj_0182.mrg', 'wsj_0183.mrg', 'wsj_0184.mrg', 'wsj_0185.mrg', 'wsj_0186.mrg', 'wsj_0187.mrg', 'wsj_0188.mrg', 'wsj_0189.mrg', 'wsj_0190.mrg', 'wsj_0191.mrg', 'wsj_0192.mrg', 'wsj_0193.mrg', 'wsj_0194.mrg', 'wsj_0195.mrg', 'wsj_0196.mrg', 'wsj_0197.mrg', 'wsj_0198.mrg', 'wsj_0199.mrg']\n"
          ]
        }
      ]
    },
    {
      "cell_type": "code",
      "source": [
        "import re\n",
        "def pre_process(df,string):\n",
        "    def text_pre_process(text):\n",
        "        ret = re.sub(\"RT @(.)+?:\\s|(&#[0-9]+;)|@([\\w\\-]+)|(#)\\S+|(http)s?\\S+|&gt;|^\\s+|\\b\\s+|\\n\", \"\", text)\n",
        "        ret = re.sub(\"\\s\\s+|[^a-zA-Z\\d\\s:]\" , \" \", ret).rstrip().lower()\n",
        "        return ret\n",
        "    return df[string].apply(text_pre_process)"
      ],
      "metadata": {
        "id": "zUtMImBVSpt4"
      },
      "execution_count": null,
      "outputs": []
    },
    {
      "cell_type": "code",
      "source": [
        "frames = []\n",
        "for i in train_files:\n",
        "  data = nltk.corpus.treebank.tagged_words(i)\n",
        "  df = pd.DataFrame().from_records(data,columns=['Words','Tags'])\n",
        "  frames.append(df)\n",
        "train_df = pd.concat(frames)\n",
        "train_df[\"Words\"] = pre_process(train_df,\"Words\")\n",
        "train_df[\"Tags\"] = pre_process(train_df,\"Tags\")\n",
        "train_df['Words'].replace('', np.nan, inplace=True)\n",
        "train_df['Tags'].replace('', np.nan, inplace=True)\n",
        "train_df.dropna(inplace=True)\n",
        "train_df = train_df[train_df.Tags != \"fw\"]\n",
        "train_df = train_df[train_df.Tags != \"uh\"]\n",
        "train_df = train_df[train_df.Tags != \"ls\"]\n",
        "train_df.head()"
      ],
      "metadata": {
        "colab": {
          "base_uri": "https://localhost:8080/",
          "height": 206
        },
        "id": "HrqanjXYStxO",
        "outputId": "9572c0a4-c04d-459c-8b36-b44481213b92"
      },
      "execution_count": null,
      "outputs": [
        {
          "output_type": "execute_result",
          "data": {
            "text/plain": [
              "    Words Tags\n",
              "0  pierre  nnp\n",
              "1  vinken  nnp\n",
              "3      61   cd\n",
              "4   years  nns\n",
              "5     old   jj"
            ],
            "text/html": [
              "\n",
              "  <div id=\"df-5e9ff795-428d-4f62-96d6-32a205f6c97f\">\n",
              "    <div class=\"colab-df-container\">\n",
              "      <div>\n",
              "<style scoped>\n",
              "    .dataframe tbody tr th:only-of-type {\n",
              "        vertical-align: middle;\n",
              "    }\n",
              "\n",
              "    .dataframe tbody tr th {\n",
              "        vertical-align: top;\n",
              "    }\n",
              "\n",
              "    .dataframe thead th {\n",
              "        text-align: right;\n",
              "    }\n",
              "</style>\n",
              "<table border=\"1\" class=\"dataframe\">\n",
              "  <thead>\n",
              "    <tr style=\"text-align: right;\">\n",
              "      <th></th>\n",
              "      <th>Words</th>\n",
              "      <th>Tags</th>\n",
              "    </tr>\n",
              "  </thead>\n",
              "  <tbody>\n",
              "    <tr>\n",
              "      <th>0</th>\n",
              "      <td>pierre</td>\n",
              "      <td>nnp</td>\n",
              "    </tr>\n",
              "    <tr>\n",
              "      <th>1</th>\n",
              "      <td>vinken</td>\n",
              "      <td>nnp</td>\n",
              "    </tr>\n",
              "    <tr>\n",
              "      <th>3</th>\n",
              "      <td>61</td>\n",
              "      <td>cd</td>\n",
              "    </tr>\n",
              "    <tr>\n",
              "      <th>4</th>\n",
              "      <td>years</td>\n",
              "      <td>nns</td>\n",
              "    </tr>\n",
              "    <tr>\n",
              "      <th>5</th>\n",
              "      <td>old</td>\n",
              "      <td>jj</td>\n",
              "    </tr>\n",
              "  </tbody>\n",
              "</table>\n",
              "</div>\n",
              "      <button class=\"colab-df-convert\" onclick=\"convertToInteractive('df-5e9ff795-428d-4f62-96d6-32a205f6c97f')\"\n",
              "              title=\"Convert this dataframe to an interactive table.\"\n",
              "              style=\"display:none;\">\n",
              "        \n",
              "  <svg xmlns=\"http://www.w3.org/2000/svg\" height=\"24px\"viewBox=\"0 0 24 24\"\n",
              "       width=\"24px\">\n",
              "    <path d=\"M0 0h24v24H0V0z\" fill=\"none\"/>\n",
              "    <path d=\"M18.56 5.44l.94 2.06.94-2.06 2.06-.94-2.06-.94-.94-2.06-.94 2.06-2.06.94zm-11 1L8.5 8.5l.94-2.06 2.06-.94-2.06-.94L8.5 2.5l-.94 2.06-2.06.94zm10 10l.94 2.06.94-2.06 2.06-.94-2.06-.94-.94-2.06-.94 2.06-2.06.94z\"/><path d=\"M17.41 7.96l-1.37-1.37c-.4-.4-.92-.59-1.43-.59-.52 0-1.04.2-1.43.59L10.3 9.45l-7.72 7.72c-.78.78-.78 2.05 0 2.83L4 21.41c.39.39.9.59 1.41.59.51 0 1.02-.2 1.41-.59l7.78-7.78 2.81-2.81c.8-.78.8-2.07 0-2.86zM5.41 20L4 18.59l7.72-7.72 1.47 1.35L5.41 20z\"/>\n",
              "  </svg>\n",
              "      </button>\n",
              "      \n",
              "  <style>\n",
              "    .colab-df-container {\n",
              "      display:flex;\n",
              "      flex-wrap:wrap;\n",
              "      gap: 12px;\n",
              "    }\n",
              "\n",
              "    .colab-df-convert {\n",
              "      background-color: #E8F0FE;\n",
              "      border: none;\n",
              "      border-radius: 50%;\n",
              "      cursor: pointer;\n",
              "      display: none;\n",
              "      fill: #1967D2;\n",
              "      height: 32px;\n",
              "      padding: 0 0 0 0;\n",
              "      width: 32px;\n",
              "    }\n",
              "\n",
              "    .colab-df-convert:hover {\n",
              "      background-color: #E2EBFA;\n",
              "      box-shadow: 0px 1px 2px rgba(60, 64, 67, 0.3), 0px 1px 3px 1px rgba(60, 64, 67, 0.15);\n",
              "      fill: #174EA6;\n",
              "    }\n",
              "\n",
              "    [theme=dark] .colab-df-convert {\n",
              "      background-color: #3B4455;\n",
              "      fill: #D2E3FC;\n",
              "    }\n",
              "\n",
              "    [theme=dark] .colab-df-convert:hover {\n",
              "      background-color: #434B5C;\n",
              "      box-shadow: 0px 1px 3px 1px rgba(0, 0, 0, 0.15);\n",
              "      filter: drop-shadow(0px 1px 2px rgba(0, 0, 0, 0.3));\n",
              "      fill: #FFFFFF;\n",
              "    }\n",
              "  </style>\n",
              "\n",
              "      <script>\n",
              "        const buttonEl =\n",
              "          document.querySelector('#df-5e9ff795-428d-4f62-96d6-32a205f6c97f button.colab-df-convert');\n",
              "        buttonEl.style.display =\n",
              "          google.colab.kernel.accessAllowed ? 'block' : 'none';\n",
              "\n",
              "        async function convertToInteractive(key) {\n",
              "          const element = document.querySelector('#df-5e9ff795-428d-4f62-96d6-32a205f6c97f');\n",
              "          const dataTable =\n",
              "            await google.colab.kernel.invokeFunction('convertToInteractive',\n",
              "                                                     [key], {});\n",
              "          if (!dataTable) return;\n",
              "\n",
              "          const docLinkHtml = 'Like what you see? Visit the ' +\n",
              "            '<a target=\"_blank\" href=https://colab.research.google.com/notebooks/data_table.ipynb>data table notebook</a>'\n",
              "            + ' to learn more about interactive tables.';\n",
              "          element.innerHTML = '';\n",
              "          dataTable['output_type'] = 'display_data';\n",
              "          await google.colab.output.renderOutput(dataTable, element);\n",
              "          const docLink = document.createElement('div');\n",
              "          docLink.innerHTML = docLinkHtml;\n",
              "          element.appendChild(docLink);\n",
              "        }\n",
              "      </script>\n",
              "    </div>\n",
              "  </div>\n",
              "  "
            ]
          },
          "metadata": {},
          "execution_count": 11
        }
      ]
    },
    {
      "cell_type": "code",
      "source": [
        "frames = []\n",
        "for i in val_files:\n",
        "  data = nltk.corpus.treebank.tagged_words(i)\n",
        "  df = pd.DataFrame().from_records(data,columns=['Words','Tags'])\n",
        "  frames.append(df)\n",
        "val_df = pd.concat(frames)\n",
        "val_df[\"Words\"] = pre_process(val_df,\"Words\")\n",
        "val_df[\"Tags\"] = pre_process(val_df,\"Tags\")\n",
        "val_df['Words'].replace('', np.nan, inplace=True)\n",
        "val_df['Tags'].replace('', np.nan, inplace=True)\n",
        "val_df.dropna(inplace=True)\n",
        "val_df = val_df[val_df.Tags != \"fw\"]\n",
        "val_df = val_df[val_df.Tags != \"uh\"]\n",
        "val_df = val_df[val_df.Tags != \"ls\"]\n",
        "val_df.head()"
      ],
      "metadata": {
        "colab": {
          "base_uri": "https://localhost:8080/",
          "height": 206
        },
        "id": "iO7i2YZvSwyt",
        "outputId": "f65b1af4-a898-4566-8ad6-e3dc1fd411f9"
      },
      "execution_count": null,
      "outputs": [
        {
          "output_type": "execute_result",
          "data": {
            "text/plain": [
              "          Words Tags\n",
              "0             a   dt\n",
              "1  house senate  nnp\n",
              "2    conference   nn\n",
              "3      approved  vbd\n",
              "4         major   jj"
            ],
            "text/html": [
              "\n",
              "  <div id=\"df-98e8630b-894d-451a-b612-ccaa6aa9b627\">\n",
              "    <div class=\"colab-df-container\">\n",
              "      <div>\n",
              "<style scoped>\n",
              "    .dataframe tbody tr th:only-of-type {\n",
              "        vertical-align: middle;\n",
              "    }\n",
              "\n",
              "    .dataframe tbody tr th {\n",
              "        vertical-align: top;\n",
              "    }\n",
              "\n",
              "    .dataframe thead th {\n",
              "        text-align: right;\n",
              "    }\n",
              "</style>\n",
              "<table border=\"1\" class=\"dataframe\">\n",
              "  <thead>\n",
              "    <tr style=\"text-align: right;\">\n",
              "      <th></th>\n",
              "      <th>Words</th>\n",
              "      <th>Tags</th>\n",
              "    </tr>\n",
              "  </thead>\n",
              "  <tbody>\n",
              "    <tr>\n",
              "      <th>0</th>\n",
              "      <td>a</td>\n",
              "      <td>dt</td>\n",
              "    </tr>\n",
              "    <tr>\n",
              "      <th>1</th>\n",
              "      <td>house senate</td>\n",
              "      <td>nnp</td>\n",
              "    </tr>\n",
              "    <tr>\n",
              "      <th>2</th>\n",
              "      <td>conference</td>\n",
              "      <td>nn</td>\n",
              "    </tr>\n",
              "    <tr>\n",
              "      <th>3</th>\n",
              "      <td>approved</td>\n",
              "      <td>vbd</td>\n",
              "    </tr>\n",
              "    <tr>\n",
              "      <th>4</th>\n",
              "      <td>major</td>\n",
              "      <td>jj</td>\n",
              "    </tr>\n",
              "  </tbody>\n",
              "</table>\n",
              "</div>\n",
              "      <button class=\"colab-df-convert\" onclick=\"convertToInteractive('df-98e8630b-894d-451a-b612-ccaa6aa9b627')\"\n",
              "              title=\"Convert this dataframe to an interactive table.\"\n",
              "              style=\"display:none;\">\n",
              "        \n",
              "  <svg xmlns=\"http://www.w3.org/2000/svg\" height=\"24px\"viewBox=\"0 0 24 24\"\n",
              "       width=\"24px\">\n",
              "    <path d=\"M0 0h24v24H0V0z\" fill=\"none\"/>\n",
              "    <path d=\"M18.56 5.44l.94 2.06.94-2.06 2.06-.94-2.06-.94-.94-2.06-.94 2.06-2.06.94zm-11 1L8.5 8.5l.94-2.06 2.06-.94-2.06-.94L8.5 2.5l-.94 2.06-2.06.94zm10 10l.94 2.06.94-2.06 2.06-.94-2.06-.94-.94-2.06-.94 2.06-2.06.94z\"/><path d=\"M17.41 7.96l-1.37-1.37c-.4-.4-.92-.59-1.43-.59-.52 0-1.04.2-1.43.59L10.3 9.45l-7.72 7.72c-.78.78-.78 2.05 0 2.83L4 21.41c.39.39.9.59 1.41.59.51 0 1.02-.2 1.41-.59l7.78-7.78 2.81-2.81c.8-.78.8-2.07 0-2.86zM5.41 20L4 18.59l7.72-7.72 1.47 1.35L5.41 20z\"/>\n",
              "  </svg>\n",
              "      </button>\n",
              "      \n",
              "  <style>\n",
              "    .colab-df-container {\n",
              "      display:flex;\n",
              "      flex-wrap:wrap;\n",
              "      gap: 12px;\n",
              "    }\n",
              "\n",
              "    .colab-df-convert {\n",
              "      background-color: #E8F0FE;\n",
              "      border: none;\n",
              "      border-radius: 50%;\n",
              "      cursor: pointer;\n",
              "      display: none;\n",
              "      fill: #1967D2;\n",
              "      height: 32px;\n",
              "      padding: 0 0 0 0;\n",
              "      width: 32px;\n",
              "    }\n",
              "\n",
              "    .colab-df-convert:hover {\n",
              "      background-color: #E2EBFA;\n",
              "      box-shadow: 0px 1px 2px rgba(60, 64, 67, 0.3), 0px 1px 3px 1px rgba(60, 64, 67, 0.15);\n",
              "      fill: #174EA6;\n",
              "    }\n",
              "\n",
              "    [theme=dark] .colab-df-convert {\n",
              "      background-color: #3B4455;\n",
              "      fill: #D2E3FC;\n",
              "    }\n",
              "\n",
              "    [theme=dark] .colab-df-convert:hover {\n",
              "      background-color: #434B5C;\n",
              "      box-shadow: 0px 1px 3px 1px rgba(0, 0, 0, 0.15);\n",
              "      filter: drop-shadow(0px 1px 2px rgba(0, 0, 0, 0.3));\n",
              "      fill: #FFFFFF;\n",
              "    }\n",
              "  </style>\n",
              "\n",
              "      <script>\n",
              "        const buttonEl =\n",
              "          document.querySelector('#df-98e8630b-894d-451a-b612-ccaa6aa9b627 button.colab-df-convert');\n",
              "        buttonEl.style.display =\n",
              "          google.colab.kernel.accessAllowed ? 'block' : 'none';\n",
              "\n",
              "        async function convertToInteractive(key) {\n",
              "          const element = document.querySelector('#df-98e8630b-894d-451a-b612-ccaa6aa9b627');\n",
              "          const dataTable =\n",
              "            await google.colab.kernel.invokeFunction('convertToInteractive',\n",
              "                                                     [key], {});\n",
              "          if (!dataTable) return;\n",
              "\n",
              "          const docLinkHtml = 'Like what you see? Visit the ' +\n",
              "            '<a target=\"_blank\" href=https://colab.research.google.com/notebooks/data_table.ipynb>data table notebook</a>'\n",
              "            + ' to learn more about interactive tables.';\n",
              "          element.innerHTML = '';\n",
              "          dataTable['output_type'] = 'display_data';\n",
              "          await google.colab.output.renderOutput(dataTable, element);\n",
              "          const docLink = document.createElement('div');\n",
              "          docLink.innerHTML = docLinkHtml;\n",
              "          element.appendChild(docLink);\n",
              "        }\n",
              "      </script>\n",
              "    </div>\n",
              "  </div>\n",
              "  "
            ]
          },
          "metadata": {},
          "execution_count": 13
        }
      ]
    },
    {
      "cell_type": "code",
      "source": [
        "frames = []\n",
        "for i in test_files:\n",
        "  data = nltk.corpus.treebank.tagged_words(i)\n",
        "  df = pd.DataFrame().from_records(data,columns=['Words','Tags'])\n",
        "  frames.append(df)\n",
        "test_df = pd.concat(frames)\n",
        "test_df[\"Words\"] = pre_process(test_df,\"Words\")\n",
        "test_df[\"Tags\"] = pre_process(test_df,\"Tags\")\n",
        "test_df['Words'].replace('', np.nan, inplace=True)\n",
        "test_df['Tags'].replace('', np.nan, inplace=True)\n",
        "test_df.dropna(inplace=True)\n",
        "test_df = test_df[test_df.Tags != \"fw\"]\n",
        "test_df = test_df[test_df.Tags != \"uh\"]\n",
        "test_df = test_df[test_df.Tags != \"ls\"]\n",
        "test_df.head()"
      ],
      "metadata": {
        "colab": {
          "base_uri": "https://localhost:8080/",
          "height": 206
        },
        "id": "My_Rr6ZLTEMv",
        "outputId": "e54333f8-c4a4-4394-c09e-722df5fae267"
      },
      "execution_count": null,
      "outputs": [
        {
          "output_type": "execute_result",
          "data": {
            "text/plain": [
              "       Words Tags\n",
              "0  intelogic  nnp\n",
              "1      trace  nnp\n",
              "2        inc  nnp\n",
              "4        san  nnp\n",
              "5    antonio  nnp"
            ],
            "text/html": [
              "\n",
              "  <div id=\"df-35c3edc1-1882-4dff-926e-1432c25a6300\">\n",
              "    <div class=\"colab-df-container\">\n",
              "      <div>\n",
              "<style scoped>\n",
              "    .dataframe tbody tr th:only-of-type {\n",
              "        vertical-align: middle;\n",
              "    }\n",
              "\n",
              "    .dataframe tbody tr th {\n",
              "        vertical-align: top;\n",
              "    }\n",
              "\n",
              "    .dataframe thead th {\n",
              "        text-align: right;\n",
              "    }\n",
              "</style>\n",
              "<table border=\"1\" class=\"dataframe\">\n",
              "  <thead>\n",
              "    <tr style=\"text-align: right;\">\n",
              "      <th></th>\n",
              "      <th>Words</th>\n",
              "      <th>Tags</th>\n",
              "    </tr>\n",
              "  </thead>\n",
              "  <tbody>\n",
              "    <tr>\n",
              "      <th>0</th>\n",
              "      <td>intelogic</td>\n",
              "      <td>nnp</td>\n",
              "    </tr>\n",
              "    <tr>\n",
              "      <th>1</th>\n",
              "      <td>trace</td>\n",
              "      <td>nnp</td>\n",
              "    </tr>\n",
              "    <tr>\n",
              "      <th>2</th>\n",
              "      <td>inc</td>\n",
              "      <td>nnp</td>\n",
              "    </tr>\n",
              "    <tr>\n",
              "      <th>4</th>\n",
              "      <td>san</td>\n",
              "      <td>nnp</td>\n",
              "    </tr>\n",
              "    <tr>\n",
              "      <th>5</th>\n",
              "      <td>antonio</td>\n",
              "      <td>nnp</td>\n",
              "    </tr>\n",
              "  </tbody>\n",
              "</table>\n",
              "</div>\n",
              "      <button class=\"colab-df-convert\" onclick=\"convertToInteractive('df-35c3edc1-1882-4dff-926e-1432c25a6300')\"\n",
              "              title=\"Convert this dataframe to an interactive table.\"\n",
              "              style=\"display:none;\">\n",
              "        \n",
              "  <svg xmlns=\"http://www.w3.org/2000/svg\" height=\"24px\"viewBox=\"0 0 24 24\"\n",
              "       width=\"24px\">\n",
              "    <path d=\"M0 0h24v24H0V0z\" fill=\"none\"/>\n",
              "    <path d=\"M18.56 5.44l.94 2.06.94-2.06 2.06-.94-2.06-.94-.94-2.06-.94 2.06-2.06.94zm-11 1L8.5 8.5l.94-2.06 2.06-.94-2.06-.94L8.5 2.5l-.94 2.06-2.06.94zm10 10l.94 2.06.94-2.06 2.06-.94-2.06-.94-.94-2.06-.94 2.06-2.06.94z\"/><path d=\"M17.41 7.96l-1.37-1.37c-.4-.4-.92-.59-1.43-.59-.52 0-1.04.2-1.43.59L10.3 9.45l-7.72 7.72c-.78.78-.78 2.05 0 2.83L4 21.41c.39.39.9.59 1.41.59.51 0 1.02-.2 1.41-.59l7.78-7.78 2.81-2.81c.8-.78.8-2.07 0-2.86zM5.41 20L4 18.59l7.72-7.72 1.47 1.35L5.41 20z\"/>\n",
              "  </svg>\n",
              "      </button>\n",
              "      \n",
              "  <style>\n",
              "    .colab-df-container {\n",
              "      display:flex;\n",
              "      flex-wrap:wrap;\n",
              "      gap: 12px;\n",
              "    }\n",
              "\n",
              "    .colab-df-convert {\n",
              "      background-color: #E8F0FE;\n",
              "      border: none;\n",
              "      border-radius: 50%;\n",
              "      cursor: pointer;\n",
              "      display: none;\n",
              "      fill: #1967D2;\n",
              "      height: 32px;\n",
              "      padding: 0 0 0 0;\n",
              "      width: 32px;\n",
              "    }\n",
              "\n",
              "    .colab-df-convert:hover {\n",
              "      background-color: #E2EBFA;\n",
              "      box-shadow: 0px 1px 2px rgba(60, 64, 67, 0.3), 0px 1px 3px 1px rgba(60, 64, 67, 0.15);\n",
              "      fill: #174EA6;\n",
              "    }\n",
              "\n",
              "    [theme=dark] .colab-df-convert {\n",
              "      background-color: #3B4455;\n",
              "      fill: #D2E3FC;\n",
              "    }\n",
              "\n",
              "    [theme=dark] .colab-df-convert:hover {\n",
              "      background-color: #434B5C;\n",
              "      box-shadow: 0px 1px 3px 1px rgba(0, 0, 0, 0.15);\n",
              "      filter: drop-shadow(0px 1px 2px rgba(0, 0, 0, 0.3));\n",
              "      fill: #FFFFFF;\n",
              "    }\n",
              "  </style>\n",
              "\n",
              "      <script>\n",
              "        const buttonEl =\n",
              "          document.querySelector('#df-35c3edc1-1882-4dff-926e-1432c25a6300 button.colab-df-convert');\n",
              "        buttonEl.style.display =\n",
              "          google.colab.kernel.accessAllowed ? 'block' : 'none';\n",
              "\n",
              "        async function convertToInteractive(key) {\n",
              "          const element = document.querySelector('#df-35c3edc1-1882-4dff-926e-1432c25a6300');\n",
              "          const dataTable =\n",
              "            await google.colab.kernel.invokeFunction('convertToInteractive',\n",
              "                                                     [key], {});\n",
              "          if (!dataTable) return;\n",
              "\n",
              "          const docLinkHtml = 'Like what you see? Visit the ' +\n",
              "            '<a target=\"_blank\" href=https://colab.research.google.com/notebooks/data_table.ipynb>data table notebook</a>'\n",
              "            + ' to learn more about interactive tables.';\n",
              "          element.innerHTML = '';\n",
              "          dataTable['output_type'] = 'display_data';\n",
              "          await google.colab.output.renderOutput(dataTable, element);\n",
              "          const docLink = document.createElement('div');\n",
              "          docLink.innerHTML = docLinkHtml;\n",
              "          element.appendChild(docLink);\n",
              "        }\n",
              "      </script>\n",
              "    </div>\n",
              "  </div>\n",
              "  "
            ]
          },
          "metadata": {},
          "execution_count": 14
        }
      ]
    },
    {
      "cell_type": "code",
      "source": [
        "train_df.describe()"
      ],
      "metadata": {
        "colab": {
          "base_uri": "https://localhost:8080/",
          "height": 175
        },
        "id": "bZhfKcd3TKy7",
        "outputId": "261e32d5-1b16-43de-db71-371f288f07c1"
      },
      "execution_count": null,
      "outputs": [
        {
          "output_type": "execute_result",
          "data": {
            "text/plain": [
              "        Words   Tags\n",
              "count   44108  44108\n",
              "unique   7792     34\n",
              "top       the     nn\n",
              "freq     2329   6117"
            ],
            "text/html": [
              "\n",
              "  <div id=\"df-37f23c6e-688d-4ec1-bf98-71167e988ef0\">\n",
              "    <div class=\"colab-df-container\">\n",
              "      <div>\n",
              "<style scoped>\n",
              "    .dataframe tbody tr th:only-of-type {\n",
              "        vertical-align: middle;\n",
              "    }\n",
              "\n",
              "    .dataframe tbody tr th {\n",
              "        vertical-align: top;\n",
              "    }\n",
              "\n",
              "    .dataframe thead th {\n",
              "        text-align: right;\n",
              "    }\n",
              "</style>\n",
              "<table border=\"1\" class=\"dataframe\">\n",
              "  <thead>\n",
              "    <tr style=\"text-align: right;\">\n",
              "      <th></th>\n",
              "      <th>Words</th>\n",
              "      <th>Tags</th>\n",
              "    </tr>\n",
              "  </thead>\n",
              "  <tbody>\n",
              "    <tr>\n",
              "      <th>count</th>\n",
              "      <td>44108</td>\n",
              "      <td>44108</td>\n",
              "    </tr>\n",
              "    <tr>\n",
              "      <th>unique</th>\n",
              "      <td>7792</td>\n",
              "      <td>34</td>\n",
              "    </tr>\n",
              "    <tr>\n",
              "      <th>top</th>\n",
              "      <td>the</td>\n",
              "      <td>nn</td>\n",
              "    </tr>\n",
              "    <tr>\n",
              "      <th>freq</th>\n",
              "      <td>2329</td>\n",
              "      <td>6117</td>\n",
              "    </tr>\n",
              "  </tbody>\n",
              "</table>\n",
              "</div>\n",
              "      <button class=\"colab-df-convert\" onclick=\"convertToInteractive('df-37f23c6e-688d-4ec1-bf98-71167e988ef0')\"\n",
              "              title=\"Convert this dataframe to an interactive table.\"\n",
              "              style=\"display:none;\">\n",
              "        \n",
              "  <svg xmlns=\"http://www.w3.org/2000/svg\" height=\"24px\"viewBox=\"0 0 24 24\"\n",
              "       width=\"24px\">\n",
              "    <path d=\"M0 0h24v24H0V0z\" fill=\"none\"/>\n",
              "    <path d=\"M18.56 5.44l.94 2.06.94-2.06 2.06-.94-2.06-.94-.94-2.06-.94 2.06-2.06.94zm-11 1L8.5 8.5l.94-2.06 2.06-.94-2.06-.94L8.5 2.5l-.94 2.06-2.06.94zm10 10l.94 2.06.94-2.06 2.06-.94-2.06-.94-.94-2.06-.94 2.06-2.06.94z\"/><path d=\"M17.41 7.96l-1.37-1.37c-.4-.4-.92-.59-1.43-.59-.52 0-1.04.2-1.43.59L10.3 9.45l-7.72 7.72c-.78.78-.78 2.05 0 2.83L4 21.41c.39.39.9.59 1.41.59.51 0 1.02-.2 1.41-.59l7.78-7.78 2.81-2.81c.8-.78.8-2.07 0-2.86zM5.41 20L4 18.59l7.72-7.72 1.47 1.35L5.41 20z\"/>\n",
              "  </svg>\n",
              "      </button>\n",
              "      \n",
              "  <style>\n",
              "    .colab-df-container {\n",
              "      display:flex;\n",
              "      flex-wrap:wrap;\n",
              "      gap: 12px;\n",
              "    }\n",
              "\n",
              "    .colab-df-convert {\n",
              "      background-color: #E8F0FE;\n",
              "      border: none;\n",
              "      border-radius: 50%;\n",
              "      cursor: pointer;\n",
              "      display: none;\n",
              "      fill: #1967D2;\n",
              "      height: 32px;\n",
              "      padding: 0 0 0 0;\n",
              "      width: 32px;\n",
              "    }\n",
              "\n",
              "    .colab-df-convert:hover {\n",
              "      background-color: #E2EBFA;\n",
              "      box-shadow: 0px 1px 2px rgba(60, 64, 67, 0.3), 0px 1px 3px 1px rgba(60, 64, 67, 0.15);\n",
              "      fill: #174EA6;\n",
              "    }\n",
              "\n",
              "    [theme=dark] .colab-df-convert {\n",
              "      background-color: #3B4455;\n",
              "      fill: #D2E3FC;\n",
              "    }\n",
              "\n",
              "    [theme=dark] .colab-df-convert:hover {\n",
              "      background-color: #434B5C;\n",
              "      box-shadow: 0px 1px 3px 1px rgba(0, 0, 0, 0.15);\n",
              "      filter: drop-shadow(0px 1px 2px rgba(0, 0, 0, 0.3));\n",
              "      fill: #FFFFFF;\n",
              "    }\n",
              "  </style>\n",
              "\n",
              "      <script>\n",
              "        const buttonEl =\n",
              "          document.querySelector('#df-37f23c6e-688d-4ec1-bf98-71167e988ef0 button.colab-df-convert');\n",
              "        buttonEl.style.display =\n",
              "          google.colab.kernel.accessAllowed ? 'block' : 'none';\n",
              "\n",
              "        async function convertToInteractive(key) {\n",
              "          const element = document.querySelector('#df-37f23c6e-688d-4ec1-bf98-71167e988ef0');\n",
              "          const dataTable =\n",
              "            await google.colab.kernel.invokeFunction('convertToInteractive',\n",
              "                                                     [key], {});\n",
              "          if (!dataTable) return;\n",
              "\n",
              "          const docLinkHtml = 'Like what you see? Visit the ' +\n",
              "            '<a target=\"_blank\" href=https://colab.research.google.com/notebooks/data_table.ipynb>data table notebook</a>'\n",
              "            + ' to learn more about interactive tables.';\n",
              "          element.innerHTML = '';\n",
              "          dataTable['output_type'] = 'display_data';\n",
              "          await google.colab.output.renderOutput(dataTable, element);\n",
              "          const docLink = document.createElement('div');\n",
              "          docLink.innerHTML = docLinkHtml;\n",
              "          element.appendChild(docLink);\n",
              "        }\n",
              "      </script>\n",
              "    </div>\n",
              "  </div>\n",
              "  "
            ]
          },
          "metadata": {},
          "execution_count": 15
        }
      ]
    },
    {
      "cell_type": "code",
      "source": [
        "Tags = []\n",
        "for i in train_df.Tags:\n",
        "  if i not in Tags:\n",
        "    Tags.append(i)\n",
        "\n",
        "Tags_test = []\n",
        "for i in test_df.Tags:\n",
        "  if i not in Tags_test:\n",
        "    Tags_test.append(i)\n",
        "Tags_val = []\n",
        "for i in val_df.Tags:\n",
        "  if i not in Tags_val:\n",
        "    Tags_val.append(i)\n",
        "for i in Tags:\n",
        "  if i not in Tags_test:\n",
        "    print(i)\n",
        "print(Tags_val)\n",
        "print(Tags_test)\n",
        "print(Tags)"
      ],
      "metadata": {
        "colab": {
          "base_uri": "https://localhost:8080/"
        },
        "id": "0SjrytX5Ir7e",
        "outputId": "ce0fbe91-6724-40b0-f049-6f5397c1d158"
      },
      "execution_count": null,
      "outputs": [
        {
          "output_type": "stream",
          "name": "stdout",
          "text": [
            "['dt', 'nnp', 'nn', 'vbd', 'jj', 'nns', 'in', 'jjr', 'cd', ' none', 'wdt', 'vbz', 'rb', 'cc', 'vbg', 'vbn', 'vbp', 'jjs', 'to', 'pos', 'rbr', 'md', 'vb', 'nnps', 'prp', ' lrb', ' rrb', 'wp', 'rbs', 'ex', 'wrb', ':', 'rp', 'pdt']\n",
            "['nnp', 'vbd', ' none', 'prp', 'cd', 'nns', 'cc', 'in', 'jj', 'nn', 'dt', 'vbz', 'pos', 'to', 'md', 'vb', 'vbg', 'rb', 'vbn', 'wp', 'vbp', 'wrb', 'wdt', 'jjr', 'jjs', 'rp', 'nnps', 'rbr', 'ex', 'rbs', ':', ' lrb', ' rrb', 'pdt']\n",
            "['nnp', 'cd', 'nns', 'jj', 'md', 'vb', 'dt', 'nn', 'in', 'vbz', 'vbg', 'cc', 'vbd', 'vbn', ' none', 'rb', 'to', 'prp', 'rbr', 'wdt', 'vbp', 'rp', 'jjs', 'pos', 'ex', 'wp', 'jjr', 'wrb', ':', 'nnps', ' lrb', ' rrb', 'pdt', 'rbs']\n"
          ]
        }
      ]
    },
    {
      "cell_type": "code",
      "source": [
        "label_encoder = LabelEncoder()\n",
        "\n",
        "train_df[\"Tags\"]=label_encoder.fit_transform(train_df[\"Tags\"])\n",
        "test_df[\"Tags\"]=label_encoder.fit_transform(test_df[\"Tags\"])\n",
        "val_df[\"Tags\"]=label_encoder.fit_transform(val_df[\"Tags\"])\n",
        "\n",
        "print(train_df[\"Tags\"].unique())\n",
        "print(test_df[\"Tags\"].unique())\n",
        "print(val_df[\"Tags\"].unique())\n"
      ],
      "metadata": {
        "colab": {
          "base_uri": "https://localhost:8080/"
        },
        "id": "sjYywwxNTNdV",
        "outputId": "c614842c-ee59-47ab-db7a-571b6946b345"
      },
      "execution_count": null,
      "outputs": [
        {
          "output_type": "stream",
          "name": "stdout",
          "text": [
            "[14  5 16  9 12 25  6 13  8 30 27  4 26 28  1 20 24 19 21 31 29 23 11 18\n",
            "  7 32 10 33  3 15  0  2 17 22]\n",
            "[14 26  1 19  5 16  4  8  9 13  6 30 18 24 12 25 27 20 28 32 29 33 31 10\n",
            " 11 23 15 21  7 22  3  0  2 17]\n",
            "[ 6 14 13 26  9 16  8 10  5  1 31 30 20  4 27 28 29 11 24 18 21 12 25 15\n",
            " 19  0  2 32 22  7 33  3 23 17]\n"
          ]
        }
      ]
    },
    {
      "cell_type": "code",
      "source": [
        "X_train=train_df.Words\n",
        "y_train = train_df.Tags\n",
        "print(y_train.shape)\n",
        "y_train = Encoding(y_train,Tags)\n",
        "print(y_train.head())\n",
        "X_val =val_df.Words\n",
        "y_val = val_df.Tags\n",
        "y_val = Encoding(y_val,Tags_val)\n",
        "print(y_val.head())\n",
        "X_test=test_df.Words\n",
        "y_test = test_df.Tags\n",
        "y_test = Encoding(y_test,Tags_test)\n",
        "print(y_test.head())\n",
        "y_train.drop(\"Tags\",inplace=True,axis=1)\n",
        "y_test.drop(\"Tags\",inplace=True,axis=1)\n",
        "y_val.drop(\"Tags\",inplace=True,axis=1)"
      ],
      "metadata": {
        "id": "4zYLI8oeTRHA",
        "colab": {
          "base_uri": "https://localhost:8080/"
        },
        "outputId": "d416383e-17a7-43db-e9c1-597f3d0499ef"
      },
      "execution_count": null,
      "outputs": [
        {
          "output_type": "stream",
          "name": "stdout",
          "text": [
            "(44108,)\n",
            "   Tags  nnp   cd  nns   jj   md   vb   dt   nn   in  ...   ex   wp  jjr  wrb  \\\n",
            "0    14  0.0  0.0  0.0  0.0  0.0  0.0  0.0  0.0  0.0  ...  0.0  0.0  0.0  0.0   \n",
            "1    14  0.0  0.0  0.0  0.0  0.0  0.0  0.0  0.0  0.0  ...  0.0  0.0  0.0  0.0   \n",
            "2     5  0.0  0.0  0.0  0.0  0.0  1.0  0.0  0.0  0.0  ...  0.0  0.0  0.0  0.0   \n",
            "3    16  0.0  0.0  0.0  0.0  0.0  0.0  0.0  0.0  0.0  ...  0.0  0.0  0.0  0.0   \n",
            "4     9  0.0  0.0  0.0  0.0  0.0  0.0  0.0  0.0  0.0  ...  0.0  0.0  0.0  0.0   \n",
            "\n",
            "     :  nnps   lrb   rrb  pdt  rbs  \n",
            "0  0.0   0.0   0.0   0.0  0.0  0.0  \n",
            "1  0.0   0.0   0.0   0.0  0.0  0.0  \n",
            "2  0.0   0.0   0.0   0.0  0.0  0.0  \n",
            "3  0.0   0.0   0.0   0.0  0.0  0.0  \n",
            "4  0.0   0.0   0.0   0.0  0.0  0.0  \n",
            "\n",
            "[5 rows x 35 columns]\n",
            "   Tags   dt  nnp   nn  vbd   jj  nns   in  jjr   cd  ...  prp   lrb   rrb  \\\n",
            "0     6  0.0  0.0  0.0  0.0  0.0  0.0  1.0  0.0  0.0  ...  0.0   0.0   0.0   \n",
            "1    14  0.0  0.0  0.0  0.0  0.0  0.0  0.0  0.0  0.0  ...  0.0   0.0   0.0   \n",
            "2    13  0.0  0.0  0.0  0.0  0.0  0.0  0.0  0.0  0.0  ...  0.0   0.0   0.0   \n",
            "3    26  0.0  0.0  0.0  0.0  0.0  0.0  0.0  0.0  0.0  ...  0.0   0.0   1.0   \n",
            "4     9  0.0  0.0  0.0  0.0  0.0  0.0  0.0  0.0  0.0  ...  0.0   0.0   0.0   \n",
            "\n",
            "    wp  rbs   ex  wrb    :   rp  pdt  \n",
            "0  0.0  0.0  0.0  0.0  0.0  0.0  0.0  \n",
            "1  0.0  0.0  0.0  0.0  0.0  0.0  0.0  \n",
            "2  0.0  0.0  0.0  0.0  0.0  0.0  0.0  \n",
            "3  0.0  0.0  0.0  0.0  0.0  0.0  0.0  \n",
            "4  0.0  0.0  0.0  0.0  0.0  0.0  0.0  \n",
            "\n",
            "[5 rows x 35 columns]\n",
            "   Tags  nnp  vbd   none  prp   cd  nns   cc   in   jj  ...  jjs   rp  nnps  \\\n",
            "0    14  0.0  0.0    0.0  0.0  0.0  0.0  0.0  0.0  0.0  ...  0.0  0.0   0.0   \n",
            "1    14  0.0  0.0    0.0  0.0  0.0  0.0  0.0  0.0  0.0  ...  0.0  0.0   0.0   \n",
            "2    14  0.0  0.0    0.0  0.0  0.0  0.0  0.0  0.0  0.0  ...  0.0  0.0   0.0   \n",
            "3    14  0.0  0.0    0.0  0.0  0.0  0.0  0.0  0.0  0.0  ...  0.0  0.0   0.0   \n",
            "4    14  0.0  0.0    0.0  0.0  0.0  0.0  0.0  0.0  0.0  ...  0.0  0.0   0.0   \n",
            "\n",
            "   rbr   ex  rbs    :   lrb   rrb  pdt  \n",
            "0  0.0  0.0  0.0  0.0   0.0   0.0  0.0  \n",
            "1  0.0  0.0  0.0  0.0   0.0   0.0  0.0  \n",
            "2  0.0  0.0  0.0  0.0   0.0   0.0  0.0  \n",
            "3  0.0  0.0  0.0  0.0   0.0   0.0  0.0  \n",
            "4  0.0  0.0  0.0  0.0   0.0   0.0  0.0  \n",
            "\n",
            "[5 rows x 35 columns]\n"
          ]
        }
      ]
    },
    {
      "cell_type": "code",
      "source": [
        "tokenizer = Tokenizer()\n",
        "tokenizer.fit_on_texts(X_train)"
      ],
      "metadata": {
        "id": "ZuuIGTMFUHdw"
      },
      "execution_count": null,
      "outputs": []
    },
    {
      "cell_type": "code",
      "source": [
        "print(X_train.head())\n",
        "print(y_train.head())\n",
        "print(X_train.shape)\n",
        "print(y_train.shape)"
      ],
      "metadata": {
        "colab": {
          "base_uri": "https://localhost:8080/"
        },
        "id": "do7cs5TWUM92",
        "outputId": "ac4e94f2-0446-4917-92f8-510bab48b611"
      },
      "execution_count": null,
      "outputs": [
        {
          "output_type": "stream",
          "name": "stdout",
          "text": [
            "0    pierre\n",
            "1    vinken\n",
            "3        61\n",
            "4     years\n",
            "5       old\n",
            "Name: Words, dtype: object\n",
            "   nnp   cd  nns   jj   md   vb   dt   nn   in  vbz  ...   ex   wp  jjr  wrb  \\\n",
            "0  0.0  0.0  0.0  0.0  0.0  0.0  0.0  0.0  0.0  0.0  ...  0.0  0.0  0.0  0.0   \n",
            "1  0.0  0.0  0.0  0.0  0.0  0.0  0.0  0.0  0.0  0.0  ...  0.0  0.0  0.0  0.0   \n",
            "2  0.0  0.0  0.0  0.0  0.0  1.0  0.0  0.0  0.0  0.0  ...  0.0  0.0  0.0  0.0   \n",
            "3  0.0  0.0  0.0  0.0  0.0  0.0  0.0  0.0  0.0  0.0  ...  0.0  0.0  0.0  0.0   \n",
            "4  0.0  0.0  0.0  0.0  0.0  0.0  0.0  0.0  0.0  1.0  ...  0.0  0.0  0.0  0.0   \n",
            "\n",
            "     :  nnps   lrb   rrb  pdt  rbs  \n",
            "0  0.0   0.0   0.0   0.0  0.0  0.0  \n",
            "1  0.0   0.0   0.0   0.0  0.0  0.0  \n",
            "2  0.0   0.0   0.0   0.0  0.0  0.0  \n",
            "3  0.0   0.0   0.0   0.0  0.0  0.0  \n",
            "4  0.0   0.0   0.0   0.0  0.0  0.0  \n",
            "\n",
            "[5 rows x 34 columns]\n",
            "(44108,)\n",
            "(44108, 34)\n"
          ]
        }
      ]
    },
    {
      "cell_type": "code",
      "source": [
        "num_words = 9000\n",
        "tokenizer.word_index = {e:i for e,i in tokenizer.word_index.items() if i <= num_words}\n",
        "tokenizer.word_index[tokenizer.oov_token] = num_words +1"
      ],
      "metadata": {
        "id": "MmRGqQ1WUc9s"
      },
      "execution_count": null,
      "outputs": []
    },
    {
      "cell_type": "code",
      "source": [
        "X_train = tokenizer.texts_to_sequences(X_train)\n",
        "X_val = tokenizer.texts_to_sequences(X_val)\n",
        "X_test = tokenizer.texts_to_sequences(X_test)\n",
        "vocab_size = len(tokenizer.word_index) + 1"
      ],
      "metadata": {
        "id": "HFcPPDKeUjih"
      },
      "execution_count": null,
      "outputs": []
    },
    {
      "cell_type": "code",
      "source": [
        "#GLOVE    \n",
        "url = \"https://nlp.stanford.edu/data/glove.6B.zip\"\n",
        "\n",
        "glove_path = os.path.join(os.getcwd(),\"Glove\")\n",
        "glove_zip = os.path.join(os.getcwd(),\"Glove\", \"glove.6B.zip\")\n",
        "\n",
        "if not os.path.exists(glove_path):\n",
        "    os.makedirs(glove_path)\n",
        "\n",
        "if not os.path.exists(glove_zip):\n",
        "    urllib.request.urlretrieve(url, glove_zip)\n",
        "    print(\"Successful download\")\n",
        "\n",
        "with zipfile.ZipFile(glove_zip, 'r') as zip_ref:\n",
        "    zip_ref.extractall(path=glove_path)\n",
        "    print(\"Successful extraction\")"
      ],
      "metadata": {
        "colab": {
          "base_uri": "https://localhost:8080/"
        },
        "id": "fg3IaYkXUwdb",
        "outputId": "62982099-3e60-4899-ede1-911c152c449b"
      },
      "execution_count": null,
      "outputs": [
        {
          "output_type": "stream",
          "name": "stdout",
          "text": [
            "Successful extraction\n"
          ]
        }
      ]
    },
    {
      "cell_type": "code",
      "source": [
        "glove_file = os.path.join(os.getcwd(),\"Glove\", \"glove.6B.50d.txt\")\n",
        "\n",
        "print (\"Loading Glove Model\")\n",
        "with open(glove_file, encoding=\"utf8\" ) as f:\n",
        "    lines = f.readlines()\n",
        "vocabulary = {}\n",
        "for line in lines:\n",
        "    splits = line.split()\n",
        "    vocabulary[splits[0]] = np.array([float(val) for val in splits[1:]])\n",
        "print (\"Done.\",len(vocabulary.keys()),\" words loaded!\")"
      ],
      "metadata": {
        "colab": {
          "base_uri": "https://localhost:8080/"
        },
        "id": "_vLH7tc9U0nM",
        "outputId": "93639251-1bd1-400c-9938-318cf99d49b6"
      },
      "execution_count": null,
      "outputs": [
        {
          "output_type": "stream",
          "name": "stdout",
          "text": [
            "Loading Glove Model\n",
            "Done. 400000  words loaded!\n"
          ]
        }
      ]
    },
    {
      "cell_type": "code",
      "source": [
        "import gensim\n",
        "import gensim.downloader as gloader\n",
        "\n",
        "def load_embedding_model(model_type:str,embedding_dimension: int=50)->gensim.models.keyedvectors.KeyedVectors:\n",
        "  download_path = \"\"\n",
        "  if model_type.strip().lower() == 'glove':\n",
        "    download_path = \"glove-wiki-gigaword-{}\".format(embedding_dimension)\n",
        "\n",
        "  try:\n",
        "    emb_model = gloader.load(download_path)\n",
        "  except ValueError as e:\n",
        "    print(\"Invalid embedding model name! Check embedding dimension:\")\n",
        "    print(\"Glove: 50,100, 200,300\")\n",
        "    raise e\n",
        "\n",
        "  return emb_model\n",
        "embedding_model = load_embedding_model(\"glove\",50)"
      ],
      "metadata": {
        "id": "EcRkOZR9U8uc"
      },
      "execution_count": null,
      "outputs": []
    },
    {
      "cell_type": "code",
      "source": [
        "max_len = 50\n",
        "X_train = pad_sequences(X_train,padding='post',maxlen=max_len)\n",
        "X_val = pad_sequences(X_val,padding='post',maxlen=max_len)\n",
        "X_test = pad_sequences(X_test,padding='post',maxlen=max_len)"
      ],
      "metadata": {
        "id": "MAlsP5r8U-1S"
      },
      "execution_count": null,
      "outputs": []
    },
    {
      "cell_type": "code",
      "source": [
        "input_dim = X_train.shape[1]"
      ],
      "metadata": {
        "id": "EzFP2R6oXJny"
      },
      "execution_count": null,
      "outputs": []
    },
    {
      "cell_type": "code",
      "source": [
        "embedding_dim = 300\n",
        "embedding_matrix = create_embedding_matrix(\"/content/Glove/glove.6B.300d.txt\", tokenizer.word_index, embedding_dim)"
      ],
      "metadata": {
        "id": "uul4b9MCXRH-"
      },
      "execution_count": null,
      "outputs": []
    },
    {
      "cell_type": "code",
      "source": [
        "nonzero_elements = np.count_nonzero(np.count_nonzero(embedding_matrix,axis=1))\n",
        "embedding_accuracy = nonzero_elements/vocab_size\n",
        "print('embedding accuracy: ' + str(embedding_accuracy))"
      ],
      "metadata": {
        "colab": {
          "base_uri": "https://localhost:8080/"
        },
        "id": "ezgm6OpBXWap",
        "outputId": "95621a65-2db7-458c-906d-b36e8b8e4426"
      },
      "execution_count": null,
      "outputs": [
        {
          "output_type": "stream",
          "name": "stdout",
          "text": [
            "embedding accuracy: 0.985885372112917\n"
          ]
        }
      ]
    },
    {
      "cell_type": "code",
      "source": [
        "model = Sequential()\n",
        "model.add(layers.Embedding(vocab_size, embedding_dim, weights = [embedding_matrix], input_length = max_len, trainable=True))\n",
        "model.add(layers.Bidirectional(layers.LSTM(128)))\n",
        "model.add(layers.Dense(34,activation='softmax'))\n",
        "optimizer = tf.keras.optimizers.Adam(lr=0.1)\n",
        "model.compile(optimizer=optimizer, loss='categorical_crossentropy')\n",
        "model.summary()"
      ],
      "metadata": {
        "colab": {
          "base_uri": "https://localhost:8080/"
        },
        "id": "sMuKKf3oX7wW",
        "outputId": "636b24e6-7bb6-4603-eb84-c73207ebad67"
      },
      "execution_count": null,
      "outputs": [
        {
          "output_type": "stream",
          "name": "stderr",
          "text": [
            "/usr/local/lib/python3.8/dist-packages/keras/optimizers/optimizer_v2/adam.py:110: UserWarning: The `lr` argument is deprecated, use `learning_rate` instead.\n",
            "  super(Adam, self).__init__(name, **kwargs)\n"
          ]
        },
        {
          "output_type": "stream",
          "name": "stdout",
          "text": [
            "Model: \"sequential\"\n",
            "_________________________________________________________________\n",
            " Layer (type)                Output Shape              Param #   \n",
            "=================================================================\n",
            " embedding (Embedding)       (None, 50, 300)           2104200   \n",
            "                                                                 \n",
            " bidirectional (Bidirectiona  (None, 256)              439296    \n",
            " l)                                                              \n",
            "                                                                 \n",
            " dense (Dense)               (None, 34)                8738      \n",
            "                                                                 \n",
            "=================================================================\n",
            "Total params: 2,552,234\n",
            "Trainable params: 2,552,234\n",
            "Non-trainable params: 0\n",
            "_________________________________________________________________\n"
          ]
        }
      ]
    },
    {
      "cell_type": "code",
      "source": [
        "result = model.fit(X_train, y_train, epochs=10, verbose = True, validation_data=(X_val,y_val), batch_size=32)"
      ],
      "metadata": {
        "colab": {
          "base_uri": "https://localhost:8080/"
        },
        "id": "TVNiGaasYCeZ",
        "outputId": "0977f518-0f1b-46e6-9593-6da5357a494d"
      },
      "execution_count": null,
      "outputs": [
        {
          "output_type": "stream",
          "name": "stdout",
          "text": [
            "Epoch 1/10\n",
            "1379/1379 [==============================] - 437s 314ms/step - loss: 2.9944 - val_loss: 4.1248\n",
            "Epoch 2/10\n",
            "1379/1379 [==============================] - 443s 322ms/step - loss: 3.0602 - val_loss: 4.1077\n",
            "Epoch 3/10\n",
            "1379/1379 [==============================] - 444s 322ms/step - loss: 3.2857 - val_loss: 3.8113\n",
            "Epoch 4/10\n",
            "1379/1379 [==============================] - 443s 321ms/step - loss: 3.1925 - val_loss: 5.2264\n",
            "Epoch 5/10\n",
            "1379/1379 [==============================] - 441s 320ms/step - loss: 3.1549 - val_loss: 4.0566\n",
            "Epoch 6/10\n",
            "1379/1379 [==============================] - 444s 322ms/step - loss: 3.7788 - val_loss: 5.9996\n",
            "Epoch 7/10\n",
            "1379/1379 [==============================] - 450s 326ms/step - loss: 3.2012 - val_loss: 6.6161\n",
            "Epoch 8/10\n",
            "1379/1379 [==============================] - 452s 328ms/step - loss: 3.1303 - val_loss: 7.3215\n",
            "Epoch 9/10\n",
            "1379/1379 [==============================] - 472s 342ms/step - loss: 3.2872 - val_loss: 13.6904\n",
            "Epoch 10/10\n",
            "1379/1379 [==============================] - 463s 336ms/step - loss: 3.4878 - val_loss: 7.5848\n"
          ]
        }
      ]
    },
    {
      "cell_type": "code",
      "source": [
        "y_pred = model.predict(X_test)"
      ],
      "metadata": {
        "id": "YCMW4-vbYUky",
        "colab": {
          "base_uri": "https://localhost:8080/"
        },
        "outputId": "7a8840ad-f08a-4708-c4e8-cbafddbc4083"
      },
      "execution_count": null,
      "outputs": [
        {
          "output_type": "stream",
          "name": "stdout",
          "text": [
            "458/458 [==============================] - 35s 74ms/step\n"
          ]
        }
      ]
    },
    {
      "cell_type": "code",
      "source": [
        "print(y_pred)"
      ],
      "metadata": {
        "id": "kscz2lp5HCV7"
      },
      "execution_count": null,
      "outputs": []
    },
    {
      "cell_type": "code",
      "source": [
        "print(y_pred.shape)\n",
        "print(y_test.shape)"
      ],
      "metadata": {
        "id": "rANvDjtro_Ij",
        "colab": {
          "base_uri": "https://localhost:8080/"
        },
        "outputId": "e80a6ac0-72f3-4935-8d66-ea7ef452ad72"
      },
      "execution_count": null,
      "outputs": [
        {
          "output_type": "stream",
          "name": "stdout",
          "text": [
            "(14636, 34)\n",
            "(14636, 34)\n"
          ]
        }
      ]
    },
    {
      "cell_type": "code",
      "source": [
        "from sklearn.metrics import precision_score, recall_score, f1_score\n",
        "thresholds=[0.1,0.2,0.25,0.3,0.4,0.5,0.6,0.7,0.8,0.9]\n",
        "for val in thresholds:\n",
        "    predicted=y_pred.copy()\n",
        "  \n",
        "    predicted[predicted>=val]=1\n",
        "    predicted[predicted<val]=0\n",
        "    precision = precision_score(y_test, predicted, average='macro',zero_division=True)\n",
        "    recall = recall_score(y_test, predicted, average='macro')\n",
        "    f1 = f1_score(y_test, predicted, average='macro')\n",
        "   \n",
        "    print(\"Threshold: {:.4f}, Precision: {:.4f}, Recall: {:.4f}, F1-measure: {:.4f}\".format(val, precision, recall, f1))"
      ],
      "metadata": {
        "id": "sYyWjcYPnX1U",
        "colab": {
          "base_uri": "https://localhost:8080/"
        },
        "outputId": "d17166fc-09ca-4629-d319-1fc2cb512869"
      },
      "execution_count": null,
      "outputs": [
        {
          "output_type": "stream",
          "name": "stdout",
          "text": [
            "Threshold: 0.1000, Precision: 0.6210, Recall: 0.5519, F1-measure: 0.4719\n",
            "Threshold: 0.2000, Precision: 0.6210, Recall: 0.5519, F1-measure: 0.4719\n",
            "Threshold: 0.2500, Precision: 0.6210, Recall: 0.5519, F1-measure: 0.4719\n",
            "Threshold: 0.3000, Precision: 0.6210, Recall: 0.5519, F1-measure: 0.4719\n",
            "Threshold: 0.4000, Precision: 0.6210, Recall: 0.5519, F1-measure: 0.4719\n",
            "Threshold: 0.5000, Precision: 0.6210, Recall: 0.5519, F1-measure: 0.4719\n",
            "Threshold: 0.6000, Precision: 0.6210, Recall: 0.5519, F1-measure: 0.4719\n",
            "Threshold: 0.7000, Precision: 0.6210, Recall: 0.5519, F1-measure: 0.4719\n",
            "Threshold: 0.8000, Precision: 0.6210, Recall: 0.5519, F1-measure: 0.4719\n",
            "Threshold: 0.9000, Precision: 0.6210, Recall: 0.5519, F1-measure: 0.4719\n"
          ]
        }
      ]
    },
    {
      "cell_type": "code",
      "source": [
        "Threshold = 0.1\n",
        "y_pred[y_pred>=Threshold]=1\n",
        "y_pred[y_pred<Threshold]=0"
      ],
      "metadata": {
        "id": "p7d2ahEZyPCe"
      },
      "execution_count": null,
      "outputs": []
    },
    {
      "cell_type": "code",
      "source": [
        "from sklearn.metrics import classification_report\n",
        "print(classification_report(y_test,y_pred, target_names=Tags,zero_division=True))"
      ],
      "metadata": {
        "id": "Prm-ZOYTngIY",
        "colab": {
          "base_uri": "https://localhost:8080/"
        },
        "outputId": "5cace960-5920-4ea1-b5ca-77f8676c28e0"
      },
      "execution_count": null,
      "outputs": [
        {
          "output_type": "stream",
          "name": "stdout",
          "text": [
            "              precision    recall  f1-score   support\n",
            "\n",
            "         nnp       1.00      0.00      0.00        18\n",
            "          cd       0.81      0.98      0.89       996\n",
            "         nns       1.00      1.00      1.00        18\n",
            "          jj       0.02      1.00      0.03        27\n",
            "          md       0.98      1.00      0.99       353\n",
            "          vb       0.58      0.42      0.49       858\n",
            "          dt       0.98      0.96      0.97      1335\n",
            "          nn       0.83      1.00      0.91         5\n",
            "          in       0.95      0.61      0.74      1630\n",
            "         vbz       0.12      0.62      0.20       918\n",
            "         vbg       0.73      0.46      0.56        59\n",
            "          cc       1.00      0.00      0.00        31\n",
            "         vbd       0.93      0.95      0.94       167\n",
            "         vbn       0.46      0.25      0.32      2305\n",
            "        none       0.29      0.27      0.28      1504\n",
            "          rb       0.00      0.00      0.00        44\n",
            "          to       0.30      0.38      0.34       941\n",
            "         prp       1.00      0.00      0.00         4\n",
            "         rbr       0.94      1.00      0.97       144\n",
            "         wdt       0.82      0.97      0.89       291\n",
            "         vbp       0.30      0.41      0.35       381\n",
            "          rp       0.67      0.13      0.22        15\n",
            "         jjs       0.16      1.00      0.27         3\n",
            "         pos       1.00      0.00      0.00        33\n",
            "          ex       1.00      1.00      1.00       386\n",
            "          wp       0.13      0.35      0.19       403\n",
            "         jjr       0.52      0.58      0.55       634\n",
            "         wrb       0.04      0.01      0.02       221\n",
            "           :       0.58      0.08      0.14       366\n",
            "        nnps       0.32      0.59      0.42       134\n",
            "         lrb       0.37      0.71      0.49       280\n",
            "         rrb       0.45      1.00      0.62        84\n",
            "         pdt       0.81      0.71      0.76        24\n",
            "         rbs       1.00      0.33      0.50        24\n",
            "\n",
            "   micro avg       0.42      0.55      0.47     14636\n",
            "   macro avg       0.62      0.55      0.47     14636\n",
            "weighted avg       0.58      0.55      0.53     14636\n",
            " samples avg       0.47      0.55      0.49     14636\n",
            "\n"
          ]
        }
      ]
    },
    {
      "cell_type": "code",
      "source": [],
      "metadata": {
        "id": "_V28h9GKx_b2"
      },
      "execution_count": null,
      "outputs": []
    }
  ]
}