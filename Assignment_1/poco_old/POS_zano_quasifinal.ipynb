{
  "cells": [
    {
      "cell_type": "markdown",
      "metadata": {
        "id": "013gFxfmSmXR"
      },
      "source": [
        "https://github.com/pranavphoenix/BiLSTM-POS-Tagging/blob/main/BiLSTM_POS_Tagging.ipynb\n",
        "\n",
        "https://linguistics.stackexchange.com/questions/16897/unable-to-understand-meaning-of-tag-none-1-in-penn-treebank-example\n",
        "\n",
        "TODO:\n",
        "- Cacasburo\n",
        "- Guardare creazione dizionario, bisogna rispettare i punti dell'assignment;\n",
        "- Non togliere punctuation e symbols ma evitare di utilizzarli nel calcolo delle metriche, magari utilizzando l'array di pesi 'sample_weight' che si trova nell'altro notebook;\n",
        "- Provare se i risultati migliorano con preprocessing (e.g. lowerando le parole);\n",
        "- Aggiustare il notebook perché fa cagare;"
      ]
    },
    {
      "cell_type": "markdown",
      "metadata": {
        "id": "Y0BInycOeQL6"
      },
      "source": [
        "# Assignment 1\n",
        "\n",
        "**Due to**: 11/01/2022 (dd/mm/yyyy)\n",
        "\n",
        "If you deliver it by 11/12/2021 your assignment will be graded by 11/01/2022.\n",
        "\n",
        "\n",
        "**Credits**: Andrea Galassi, Federico Ruggeri, Paolo Torroni\n",
        "\n",
        "**Summary**: Part-of Speech (POS) tagging as Sequence Labelling using Recurrent Neural Architectures\n",
        "\n",
        "# Execution\n",
        "## 0.1 Imports"
      ]
    },
    {
      "cell_type": "code",
      "execution_count": null,
      "metadata": {
        "id": "iZyCAH8nVzwS"
      },
      "outputs": [],
      "source": [
        "import nltk\n",
        "import numpy as np\n",
        "import os\n",
        "import re\n",
        "import pandas as pd\n",
        "import seaborn as sns\n",
        "import tensorflow as tf\n",
        "from collections import defaultdict, OrderedDict\n",
        "\n",
        "\n",
        "from keras import backend as K\n",
        "from keras.layers import Dense, LSTM, InputLayer, Bidirectional, TimeDistributed, GRU\n",
        "from keras.layers import Embedding, Activation\n",
        "from keras.models import Sequential\n",
        "from keras.optimizers import Adam\n",
        "from keras_preprocessing.sequence import pad_sequences\n",
        "from keras.utils.np_utils import to_categorical\n",
        "\n",
        "import urllib.request\n",
        "import zipfile\n",
        "import progressbar\n",
        "from IPython.display import display_html\n",
        "from itertools import chain,cycle\n",
        "import plotly.graph_objs as go"
      ]
    },
    {
      "cell_type": "markdown",
      "metadata": {
        "id": "6adQpSgiV3A3"
      },
      "source": [
        "## 0.2 Functions"
      ]
    },
    {
      "cell_type": "code",
      "execution_count": 189,
      "metadata": {
        "id": "sxL2umB0D19Y"
      },
      "outputs": [],
      "source": [
        "# Preprocessing of words\n",
        "def pre_process(df,string):\n",
        "    def text_pre_process(text):\n",
        "        ret = re.sub('RT @(.)+?:\\s|(&#[0-9]+;)|@([\\w\\-]+)|(#)\\S+|(http)s?\\S+|&gt;|^\\s+|\\b\\s+|\\n', '', text)\n",
        "        ret = re.sub('\\s\\s+|[^a-zA-Z\\d\\s:]' , ' ', ret).rstrip().lower()\n",
        "        return ret\n",
        "    return df[string].apply(text_pre_process)\n",
        "\n",
        "# Downloading Glove Word Embeddings\n",
        "pbar = None\n",
        "def show_progress(block_num, block_size, total_size):\n",
        "    global pbar\n",
        "    if pbar is None:\n",
        "        pbar = progressbar.ProgressBar(maxval=total_size)\n",
        "        pbar.start()\n",
        "\n",
        "    downloaded = block_num * block_size\n",
        "    if downloaded < total_size:\n",
        "        pbar.update(downloaded)\n",
        "    else:\n",
        "        pbar.finish()\n",
        "        pbar = None\n",
        "\n",
        "# Display dataframes\n",
        "def display(*args,titles=cycle([''])):\n",
        "    html_str=''\n",
        "    for df,title in zip(args, chain(titles,cycle(['</br>'])) ):\n",
        "        html_str+='<th style=\"text-align:left\"><td style=\"vertical-align:top\">'\n",
        "        html_str+=f'<h4 style=\"text-align: left;\">{title}</h2>'\n",
        "        html_str+=df.to_html().replace('table','table style=\"display:inline\"')\n",
        "        html_str+='</td></th>'\n",
        "    display_html(html_str,raw=True)\n",
        "    \n",
        "#Update vocabulary\n",
        "def update_vocab(df,embeddings_index,embedding_dim):\n",
        "  oov_c = 0\n",
        "  for word in df.word:\n",
        "    if word not in embeddings_index:\n",
        "      oov_c += 1\n",
        "      if word.lower() not in embeddings_index:\n",
        "        random_embed = np.random.rand(embedding_dim)\n",
        "        embeddings_index[word] = random_embed\n",
        "      else:\n",
        "        embeddings_index[word] = embeddings_index[word.lower()] \n",
        "  print(\"Added\",oov_c,\"OOV words + respective embeddings to the vocabulary.\")\n",
        "  return embeddings_index\n",
        "\n",
        "# Custom accuracy metric\n",
        "def ignore_class_accuracy(classes=[0]):\n",
        "    def ignore_accuracy(y_true, y_pred):\n",
        "        y_true_class = K.argmax(y_true, axis=-1)\n",
        "        y_pred_class = K.argmax(y_pred, axis=-1)\n",
        "        \n",
        "        matches = K.cast(K.equal(y_true_class, y_pred_class), 'int32')\n",
        "        for to_ignore in classes:\n",
        "          ignore_mask = K.cast(K.not_equal(y_pred_class, to_ignore), 'int32')\n",
        "          matches = matches * ignore_mask\n",
        "        accuracy = K.sum(matches) / K.maximum(K.sum(ignore_mask), 1)\n",
        "        return accuracy\n",
        "    return ignore_accuracy\n",
        "\n",
        "# Metrics computation\n",
        "def compute_metrics(predicted_labels, tags_test, ignore, y_ref, index2tag):\n",
        "  true_pos = defaultdict(int)\n",
        "  false_pos = defaultdict(int)\n",
        "  false_neg = defaultdict(int)\n",
        "  precision = defaultdict(float)\n",
        "  recall = defaultdict(float)\n",
        "  f1score = defaultdict(float)\n",
        "\n",
        "  for tag in tags_test:\n",
        "    if tag not in ignore:\n",
        "      for idx_sentence in range(len(y_ref)):\n",
        "        for idx_word in range(PAD_LENGTH):\n",
        "          if index2tag[y_ref[idx_sentence][idx_word]] == tag:\n",
        "            # If the predicted tag matches ground truth we increase true positive count for that tag\n",
        "            if predicted_labels[idx_sentence][idx_word] == y_ref[idx_sentence][idx_word]:\n",
        "              true_pos[index2tag[y_ref[idx_sentence][idx_word]]] += 1\n",
        "            else:\n",
        "            # If the predicted tag does not match ground truth we increase false negative count for that tag\n",
        "            # and false positive count for the wrongly predicted tag\n",
        "              false_neg[index2tag[y_ref[idx_sentence][idx_word]]] += 1\n",
        "              false_pos[index2tag[predicted_labels[idx_sentence][idx_word]]] += 1\n",
        "      # Then we compute precision, recall and F1 scores\n",
        "      if true_pos[tag] != 0:\n",
        "        precision[tag] = true_pos[tag] / (true_pos[tag] + false_pos[tag])\n",
        "        recall[tag] = true_pos[tag] / (true_pos[tag] + false_neg[tag])\n",
        "        f1score[tag] = 2 * ((precision[tag] * recall[tag]) / (precision[tag] + recall[tag])) \n",
        "      else:\n",
        "        print(f'No true positive for tag: {tag}')\n",
        "        print(true_pos[tag])\n",
        "        print(false_pos[tag])\n",
        "        print(false_neg[tag])\n",
        "        print()\n",
        "  return true_pos, false_pos, false_neg, precision, recall, f1score\n",
        "\n",
        "# Macro f1 score\n",
        "def macro_f1_score(f1score):\n",
        "  f1_list = [el[1] for el in f1score.items()]\n",
        "\n",
        "  sum = 0\n",
        "\n",
        "  for p in f1_list:\n",
        "    sum += p\n",
        "  macro_f1 = sum / len(f1score.items())\n",
        "  print(f'MACRO F1-score:',macro_f1)\n",
        "\n",
        "  return macro_f1\n",
        "\n"
      ]
    },
    {
      "cell_type": "code",
      "execution_count": null,
      "metadata": {
        "colab": {
          "base_uri": "https://localhost:8080/"
        },
        "id": "SUWmRON8D80m",
        "outputId": "feb9354c-35a7-4162-bf48-0e99abeb2b60"
      },
      "outputs": [
        {
          "name": "stderr",
          "output_type": "stream",
          "text": [
            "[nltk_data] Downloading package treebank to /root/nltk_data...\n",
            "[nltk_data]   Unzipping corpora/treebank.zip.\n",
            "100% (862182613 of 862182613) |##########| Elapsed Time: 0:02:38 Time:  0:02:38\n"
          ]
        }
      ],
      "source": [
        "# Downloading the dataset\n",
        "nltk.download('treebank')\n",
        "\n",
        "# Download the GloVe embeddings file\n",
        "url = 'http://nlp.stanford.edu/data/glove.6B.zip'\n",
        "urllib.request.urlretrieve(url, 'glove.6B.zip', show_progress)\n",
        "\n",
        "# Extract the zip file\n",
        "zip_ref = zipfile.ZipFile('glove.6B.zip', 'r')\n",
        "zip_ref.extractall()\n",
        "zip_ref.close()"
      ]
    },
    {
      "cell_type": "markdown",
      "metadata": {
        "id": "5filE0ydeiga"
      },
      "source": [
        "## 1. Corpus\n",
        "### 1.1 Pre-processing\n",
        "\n",
        "From the original tags list we removed all the symbols and english punctuation plus:\n",
        "- FW, Foreign Word, because there are no examples in the test set;\n",
        "- UH, Interjection, because there are no examples in the test set;\n",
        "- LS, List Item Marker, because there are no examples in the test set (and because it denotes symbols as well);"
      ]
    },
    {
      "cell_type": "code",
      "execution_count": null,
      "metadata": {
        "colab": {
          "base_uri": "https://localhost:8080/",
          "height": 610
        },
        "id": "-ulx6UMBHint",
        "outputId": "6a217b03-38af-4353-da38-5ab31d2a001b"
      },
      "outputs": [
        {
          "data": {
            "text/html": [
              "<th style=\"text-align:left\"><td style=\"vertical-align:top\"><h4 style=\"text-align: left;\">Training set (47356, 3)</h2><table style=\"display:inline\" border=\"1\" class=\"dataframe\">\n",
              "  <thead>\n",
              "    <tr style=\"text-align: right;\">\n",
              "      <th></th>\n",
              "      <th>word</th>\n",
              "      <th>tag</th>\n",
              "      <th>sentence</th>\n",
              "    </tr>\n",
              "  </thead>\n",
              "  <tbody>\n",
              "    <tr>\n",
              "      <th>count</th>\n",
              "      <td>47356</td>\n",
              "      <td>47356</td>\n",
              "      <td>47356</td>\n",
              "    </tr>\n",
              "    <tr>\n",
              "      <th>unique</th>\n",
              "      <td>8009</td>\n",
              "      <td>45</td>\n",
              "      <td>1963</td>\n",
              "    </tr>\n",
              "    <tr>\n",
              "      <th>top</th>\n",
              "      <td>,</td>\n",
              "      <td>NN</td>\n",
              "      <td>1854</td>\n",
              "    </tr>\n",
              "    <tr>\n",
              "      <th>freq</th>\n",
              "      <td>2570</td>\n",
              "      <td>6270</td>\n",
              "      <td>249</td>\n",
              "    </tr>\n",
              "  </tbody>\n",
              "</table style=\"display:inline\"></td></th><th style=\"text-align:left\"><td style=\"vertical-align:top\"><h4 style=\"text-align: left;\">Validation set (31183, 3)</h2><table style=\"display:inline\" border=\"1\" class=\"dataframe\">\n",
              "  <thead>\n",
              "    <tr style=\"text-align: right;\">\n",
              "      <th></th>\n",
              "      <th>word</th>\n",
              "      <th>tag</th>\n",
              "      <th>sentence</th>\n",
              "    </tr>\n",
              "  </thead>\n",
              "  <tbody>\n",
              "    <tr>\n",
              "      <th>count</th>\n",
              "      <td>31183</td>\n",
              "      <td>31183</td>\n",
              "      <td>31183</td>\n",
              "    </tr>\n",
              "    <tr>\n",
              "      <th>unique</th>\n",
              "      <td>5892</td>\n",
              "      <td>44</td>\n",
              "      <td>1299</td>\n",
              "    </tr>\n",
              "    <tr>\n",
              "      <th>top</th>\n",
              "      <td>,</td>\n",
              "      <td>NN</td>\n",
              "      <td>339</td>\n",
              "    </tr>\n",
              "    <tr>\n",
              "      <th>freq</th>\n",
              "      <td>1528</td>\n",
              "      <td>4513</td>\n",
              "      <td>81</td>\n",
              "    </tr>\n",
              "  </tbody>\n",
              "</table style=\"display:inline\"></td></th><th style=\"text-align:left\"><td style=\"vertical-align:top\"><h4 style=\"text-align: left;\">Test set (15545, 3)</h2><table style=\"display:inline\" border=\"1\" class=\"dataframe\">\n",
              "  <thead>\n",
              "    <tr style=\"text-align: right;\">\n",
              "      <th></th>\n",
              "      <th>word</th>\n",
              "      <th>tag</th>\n",
              "      <th>sentence</th>\n",
              "    </tr>\n",
              "  </thead>\n",
              "  <tbody>\n",
              "    <tr>\n",
              "      <th>count</th>\n",
              "      <td>15545</td>\n",
              "      <td>15545</td>\n",
              "      <td>15545</td>\n",
              "    </tr>\n",
              "    <tr>\n",
              "      <th>unique</th>\n",
              "      <td>3623</td>\n",
              "      <td>40</td>\n",
              "      <td>652</td>\n",
              "    </tr>\n",
              "    <tr>\n",
              "      <th>top</th>\n",
              "      <td>,</td>\n",
              "      <td>NN</td>\n",
              "      <td>232</td>\n",
              "    </tr>\n",
              "    <tr>\n",
              "      <th>freq</th>\n",
              "      <td>787</td>\n",
              "      <td>2383</td>\n",
              "      <td>58</td>\n",
              "    </tr>\n",
              "  </tbody>\n",
              "</table style=\"display:inline\"></td></th>"
            ]
          },
          "metadata": {},
          "output_type": "display_data"
        }
      ],
      "source": [
        "# Get the files' list\n",
        "fileids = nltk.corpus.treebank.fileids()\n",
        "\n",
        "# Get the Penn Treebank tagged sentences\n",
        "train_corpus = nltk.corpus.treebank.tagged_sents(fileids[:100])\n",
        "val_corpus = nltk.corpus.treebank.tagged_sents(fileids[100:150])\n",
        "test_corpus = nltk.corpus.treebank.tagged_sents(fileids[150:])\n",
        "\n",
        "# Flatten the lists\n",
        "\n",
        "train_corpus = [tuple(list(item)+[str(idx)]) for idx,sublist in enumerate(train_corpus) for item in sublist if item[1] != '-NONE-']\n",
        "val_corpus = [tuple(list(item)+[str(idx)]) for idx,sublist in enumerate(val_corpus) for item in sublist if item[1] != '-NONE-']\n",
        "test_corpus = [tuple(list(item)+[str(idx)]) for idx,sublist in enumerate(test_corpus) for item in sublist if item[1] != '-NONE-']\n",
        "\n",
        "# train_corpus = [tuple(list(item)+[str(idx)]) for idx,sublist in enumerate(train_corpus) for item in sublist if item[1] not in ignore]\n",
        "# val_corpus = [tuple(list(item)+[str(idx)]) for idx,sublist in enumerate(val_corpus) for item in sublist if item[1] not in ignore]\n",
        "# test_corpus = [tuple(list(item)+[str(idx)]) for idx,sublist in enumerate(test_corpus) for item in sublist if item[1] not in ignore]\n",
        "\n",
        "#train_corpus = [tuple(list(item)+[str(idx)]) for idx,sublist in enumerate(train_corpus) for item in sublist]\n",
        "#val_corpus = [tuple(list(item)+[str(idx)]) for idx,sublist in enumerate(val_corpus) for item in sublist]\n",
        "#test_corpus = [tuple(list(item)+[str(idx)]) for idx,sublist in enumerate(test_corpus) for item in sublist]\n",
        "\n",
        "train_df = pd.DataFrame(train_corpus, columns = ['word', 'tag', 'sentence'])\n",
        "#train_df['word'] = train_df['word'].str.lower()\n",
        "# train_df['word'] = pre_process(train_df,'word')\n",
        "\n",
        "val_df = pd.DataFrame(val_corpus, columns = ['word', 'tag', 'sentence'])\n",
        "#val_df['word'] = val_df['word'].str.lower()\n",
        "# val_df['word'] = pre_process(val_df,'word')\n",
        "\n",
        "test_df = pd.DataFrame(test_corpus, columns = ['word', 'tag', 'sentence'])\n",
        "#test_df['word'] = test_df['word'].str.lower()\n",
        "# test_df['word'] = pre_process(test_df,'word')\n",
        "\n",
        "display(train_df.describe(), val_df.describe(), test_df.describe(), titles = [f'Training set {train_df.shape}', f'Validation set {val_df.shape}', f'Test set {test_df.shape}'])"
      ]
    },
    {
      "cell_type": "code",
      "execution_count": null,
      "metadata": {
        "id": "eKteoO2I-Le7"
      },
      "outputs": [],
      "source": [
        "#lowercase to all classes but NNS and NNPS\n",
        "\n",
        "#for index, row in train_df.iterrows():\n",
        "#  if row['tag'] != 'NNP' or 'NNPS':\n",
        "#    row['word'] = row['word'].lower()\n",
        "#\n",
        "#for index, row in val_df.iterrows():\n",
        "#  if row['tag'] != 'NNP' or 'NNPS':\n",
        "#     row['word'] = row['word'].lower()\n",
        "\n",
        "# for index, row in test_df.iterrows():\n",
        "#   if row['tag'] != 'NNP' or 'NNPS':\n",
        "#     row['word'] = row['word'].lower()"
      ]
    },
    {
      "cell_type": "code",
      "execution_count": null,
      "metadata": {
        "colab": {
          "base_uri": "https://localhost:8080/"
        },
        "id": "w6MOWORPI8Va",
        "outputId": "364458fb-4b46-4e43-92da-a71af07c1423"
      },
      "outputs": [
        {
          "name": "stdout",
          "output_type": "stream",
          "text": [
            "Train tags number: 45\n",
            "Train tags list: ['#', '$', \"''\", ',', '-LRB-', '-RRB-', '.', ':', 'CC', 'CD', 'DT', 'EX', 'FW', 'IN', 'JJ', 'JJR', 'JJS', 'LS', 'MD', 'NN', 'NNP', 'NNPS', 'NNS', 'PDT', 'POS', 'PRP', 'PRP$', 'RB', 'RBR', 'RBS', 'RP', 'SYM', 'TO', 'UH', 'VB', 'VBD', 'VBG', 'VBN', 'VBP', 'VBZ', 'WDT', 'WP', 'WP$', 'WRB', '``']\n",
            "\tClasses in training set for which there are no samples in validation set: ['SYM']\n",
            "\tClasses in training set for which there are no samples in test set: ['#', 'FW', 'LS', 'SYM', 'UH']\n",
            "\n",
            "Validation tags number: 44\n",
            "Validation tags list: ['#', '$', \"''\", ',', '-LRB-', '-RRB-', '.', ':', 'CC', 'CD', 'DT', 'EX', 'FW', 'IN', 'JJ', 'JJR', 'JJS', 'LS', 'MD', 'NN', 'NNP', 'NNPS', 'NNS', 'PDT', 'POS', 'PRP', 'PRP$', 'RB', 'RBR', 'RBS', 'RP', 'TO', 'UH', 'VB', 'VBD', 'VBG', 'VBN', 'VBP', 'VBZ', 'WDT', 'WP', 'WP$', 'WRB', '``']\n",
            "\tClasses in validation set for which there are no samples in test set: ['#', 'FW', 'LS', 'UH']\n",
            "\n",
            "Test tags number: 40\n",
            "Test tags list: ['$', \"''\", ',', '-LRB-', '-RRB-', '.', ':', 'CC', 'CD', 'DT', 'EX', 'IN', 'JJ', 'JJR', 'JJS', 'MD', 'NN', 'NNP', 'NNPS', 'NNS', 'PDT', 'POS', 'PRP', 'PRP$', 'RB', 'RBR', 'RBS', 'RP', 'TO', 'VB', 'VBD', 'VBG', 'VBN', 'VBP', 'VBZ', 'WDT', 'WP', 'WP$', 'WRB', '``']\n"
          ]
        }
      ],
      "source": [
        "tags_train = sorted(list(set([x for x in train_df.tag])))\n",
        "tags_val = sorted(list(set([x for x in val_df.tag])))\n",
        "tags_test = sorted(list(set([x for x in test_df.tag])))\n",
        "\n",
        "max_tags_list = max([len(tags_train),len(tags_val),len(tags_test)])\n",
        "\n",
        "# Training set tags list\n",
        "print(f'Train tags number: {len(tags_train)}')\n",
        "print(f'Train tags list: {tags_train}')\n",
        "\n",
        "exceeding_validation = [el for el in tags_train if el not in tags_val]\n",
        "if exceeding_validation != []:\n",
        "  print(f'\\tClasses in training set for which there are no samples in validation set: {exceeding_validation}')\n",
        "\n",
        "exceeding_test = [el for el in tags_train if el not in tags_test]\n",
        "\n",
        "if exceeding_test != []:\n",
        "  print(f'\\tClasses in training set for which there are no samples in test set: {exceeding_test}')\n",
        "\n",
        "\n",
        "# Validation set tags list\n",
        "print(f'\\nValidation tags number: {len(tags_val)}')\n",
        "print(f'Validation tags list: {tags_val}')\n",
        "\n",
        "exceeding_training = [el for el in tags_val if el not in tags_train]\n",
        "if exceeding_training != []:\n",
        "  print(f'\\tClasses in validation set for which there are no samples in training set: {exceeding_training}')\n",
        "\n",
        "exceeding_test = [el for el in tags_val if el not in tags_test]\n",
        "if exceeding_test != []:\n",
        "  print(f'\\tClasses in validation set for which there are no samples in test set: {exceeding_test}')\n",
        "\n",
        "# Validation set tags list\n",
        "print(f'\\nTest tags number: {len(tags_test)}')\n",
        "print(f'Test tags list: {tags_test}')\n",
        "\n",
        "exceeding_training = [el for el in tags_test if el not in tags_train]\n",
        "if exceeding_training != []:\n",
        "  print(f'\\tClasses in test set for which there are no samples in training set: {exceeding_training}')\n",
        "\n",
        "exceeding_val = [el for el in tags_test if el not in tags_val]\n",
        "if exceeding_val != []:\n",
        "  print(f'\\tClasses in test set set for which there are no samples in validation set: {exceeding_val}')\n",
        "\n",
        "conf_mat_df = pd.DataFrame(columns=tags_train, index=tags_train)\n",
        "conf_mat_df = conf_mat_df.fillna(0)"
      ]
    },
    {
      "cell_type": "code",
      "execution_count": null,
      "metadata": {
        "colab": {
          "base_uri": "https://localhost:8080/"
        },
        "id": "X5nfdsia2tDY",
        "outputId": "e553456f-9363-401b-bcd6-0a165db86b37"
      },
      "outputs": [
        {
          "name": "stdout",
          "output_type": "stream",
          "text": [
            "NN       6270\n",
            "NNP      5202\n",
            "IN       4952\n",
            "DT       4076\n",
            "NNS      3004\n",
            "JJ       2992\n",
            ",        2571\n",
            ".        1959\n",
            "VBD      1548\n",
            "RB       1490\n",
            "CD       1439\n",
            "VB       1195\n",
            "CC       1141\n",
            "VBZ      1133\n",
            "VBN      1031\n",
            "TO       1028\n",
            "PRP       954\n",
            "VBG       763\n",
            "VBP       727\n",
            "MD        413\n",
            "PRP$      409\n",
            "``        409\n",
            "POS       403\n",
            "''        399\n",
            "$         342\n",
            ":         293\n",
            "WDT       204\n",
            "JJR       157\n",
            "WP        141\n",
            "RP        140\n",
            "NNPS       95\n",
            "JJS        93\n",
            "WRB        92\n",
            "RBR        86\n",
            "-RRB-      55\n",
            "-LRB-      52\n",
            "EX         49\n",
            "RBS        19\n",
            "LS         10\n",
            "PDT         9\n",
            "WP$         6\n",
            "FW          2\n",
            "UH          1\n",
            "SYM         1\n",
            "#           1\n",
            "Name: tag, dtype: int64\n"
          ]
        }
      ],
      "source": [
        "print(train_df['tag'].value_counts())"
      ]
    },
    {
      "cell_type": "code",
      "execution_count": null,
      "metadata": {
        "id": "jlBmUbmIlG0o"
      },
      "outputs": [],
      "source": [
        "# Retriving prepocessed data\n",
        "X_train_raw = train_df.groupby('sentence').word.apply(list).reset_index()['word']\n",
        "X_val_raw = val_df.groupby('sentence').word.apply(list).reset_index()['word']\n",
        "X_test_raw = test_df.groupby('sentence').word.apply(list).reset_index()['word']\n",
        "\n",
        "y_train_raw = train_df.groupby('sentence').tag.apply(list).reset_index()['tag']\n",
        "y_val_raw = val_df.groupby('sentence').tag.apply(list).reset_index()['tag']\n",
        "y_test_raw = test_df.groupby('sentence').tag.apply(list).reset_index()['tag']"
      ]
    },
    {
      "cell_type": "markdown",
      "metadata": {
        "id": "U5kuIrRML6i2"
      },
      "source": [
        "##-Vocabulary part-"
      ]
    },
    {
      "cell_type": "markdown",
      "metadata": {
        "id": "7W8oM6e9LIMt"
      },
      "source": [
        "GloVe Vocabulary (V1)"
      ]
    },
    {
      "cell_type": "code",
      "execution_count": 190,
      "metadata": {
        "colab": {
          "base_uri": "https://localhost:8080/"
        },
        "id": "675MhAFGFQNj",
        "outputId": "8f9849e9-d8cd-4872-a878-e6a15f26e5d7"
      },
      "outputs": [
        {
          "output_type": "stream",
          "name": "stdout",
          "text": [
            "Found 400000 word vectors.\n"
          ]
        }
      ],
      "source": [
        "#Use the 300 dimensional GLove Word Embeddings\n",
        "glove_dir = './'\n",
        "embedding_dim = 300\n",
        "embedding_dict = {} #initialize dictionary\n",
        "f = open(os.path.join(glove_dir, f'glove.6B.{embedding_dim}d.txt'))\n",
        "for line in f:\n",
        "    values = line.split()\n",
        "    word = values[0]\n",
        "    coefs = np.asarray(values[1:], dtype='float32')\n",
        "    embedding_dict[word] = coefs\n",
        "f.close()\n",
        "\n",
        "print('Found %s word vectors.' % len(embedding_dict))"
      ]
    },
    {
      "cell_type": "markdown",
      "metadata": {
        "id": "i896YzW_LSxU"
      },
      "source": [
        "V1 + Training set OOV (V2)"
      ]
    },
    {
      "cell_type": "code",
      "execution_count": 191,
      "metadata": {
        "colab": {
          "base_uri": "https://localhost:8080/"
        },
        "id": "XGUNPlD0LYzI",
        "outputId": "8dad2bc6-3553-4cc8-a446-4ae155294de2"
      },
      "outputs": [
        {
          "output_type": "stream",
          "name": "stdout",
          "text": [
            "Added 2346 OOV words + respective embeddings to the vocabulary.\n"
          ]
        }
      ],
      "source": [
        "embedding_dict = update_vocab(train_df,embedding_dict,embedding_dim)"
      ]
    },
    {
      "cell_type": "markdown",
      "metadata": {
        "id": "2Y0leABCLdUN"
      },
      "source": [
        "V2 + Validation set OOV (V3)"
      ]
    },
    {
      "cell_type": "code",
      "execution_count": 192,
      "metadata": {
        "colab": {
          "base_uri": "https://localhost:8080/"
        },
        "id": "8t-ArNTCLeKY",
        "outputId": "d615b858-4713-4912-ee91-7d57b34a2233"
      },
      "outputs": [
        {
          "output_type": "stream",
          "name": "stdout",
          "text": [
            "Added 944 OOV words + respective embeddings to the vocabulary.\n"
          ]
        }
      ],
      "source": [
        "embedding_dict = update_vocab(val_df,embedding_dict,embedding_dim)"
      ]
    },
    {
      "cell_type": "markdown",
      "metadata": {
        "id": "iOF5z9auLf7z"
      },
      "source": [
        "V3 + Test set OOV (V4)"
      ]
    },
    {
      "cell_type": "code",
      "execution_count": 193,
      "metadata": {
        "colab": {
          "base_uri": "https://localhost:8080/"
        },
        "id": "I_JWqKoDLjBD",
        "outputId": "f3d29eec-a047-4602-c2b2-5efc89f6df11"
      },
      "outputs": [
        {
          "output_type": "stream",
          "name": "stdout",
          "text": [
            "Added 455 OOV words + respective embeddings to the vocabulary.\n"
          ]
        }
      ],
      "source": [
        "embedding_dict = update_vocab(test_df,embedding_dict,embedding_dim)"
      ]
    },
    {
      "cell_type": "code",
      "execution_count": 194,
      "metadata": {
        "colab": {
          "base_uri": "https://localhost:8080/"
        },
        "id": "FKuxUTPNLkhz",
        "outputId": "1dd7cf24-21ab-4c1b-8425-c3901572ff17"
      },
      "outputs": [
        {
          "output_type": "stream",
          "name": "stdout",
          "text": [
            "[Debug] Index -> Word vocabulary size: 403745\n",
            "[Debug] Word -> Index vocabulary size: 403745\n"
          ]
        }
      ],
      "source": [
        "#Building the actual word vocabulary\n",
        "\n",
        "index2word = OrderedDict()\n",
        "word2index = OrderedDict()\n",
        "\n",
        "curr_idx = 0\n",
        "for key in embedding_dict.keys():\n",
        "  word2index[key] = curr_idx\n",
        "  index2word[curr_idx] = key\n",
        "  curr_idx += 1\n",
        "\n",
        "vocab_length = len(word2index) \n",
        "print(f'[Debug] Index -> Word vocabulary size: {len(index2word)}')\n",
        "print(f'[Debug] Word -> Index vocabulary size: {len(word2index)}')"
      ]
    },
    {
      "cell_type": "code",
      "execution_count": 195,
      "metadata": {
        "colab": {
          "base_uri": "https://localhost:8080/"
        },
        "id": "-aKNy1vALyWm",
        "outputId": "fe63ae49-33b5-4324-c2b7-b0a93f4b8a8e"
      },
      "outputs": [
        {
          "output_type": "stream",
          "name": "stdout",
          "text": [
            "[Debug] Index -> Tag vocabulary size: 45\n",
            "[Debug] Tag -> Index vocabulary size: 45\n"
          ]
        }
      ],
      "source": [
        "#Tag vocabulary\n",
        "\n",
        "tag2index = OrderedDict()\n",
        "index2tag = OrderedDict()\n",
        "\n",
        "curr_id = 0\n",
        "for tag in tags_train:\n",
        "  tag2index[tag] = curr_id\n",
        "  index2tag[curr_id] = tag\n",
        "  curr_id += 1\n",
        "\n",
        "print(f'[Debug] Index -> Tag vocabulary size: {len(index2tag)}')\n",
        "print(f'[Debug] Tag -> Index vocabulary size: {len(tag2index)}')\n"
      ]
    },
    {
      "cell_type": "markdown",
      "metadata": {
        "id": "iKZGDveoMIUI"
      },
      "source": [
        "###da qua continua il preprocessing"
      ]
    },
    {
      "cell_type": "code",
      "execution_count": 196,
      "metadata": {
        "colab": {
          "base_uri": "https://localhost:8080/"
        },
        "id": "PlvH2AwynXAk",
        "outputId": "a5558475-407f-4914-c0cf-d7f31c1f691c"
      },
      "outputs": [
        {
          "output_type": "stream",
          "name": "stdout",
          "text": [
            "-Not encoded\n",
            "\t ['Pierre', 'Vinken', ',', '61', 'years', 'old', ',', 'will', 'join', 'the', 'board', 'as', 'a', 'nonexecutive', 'director', 'Nov.', '29', '.']\n",
            "\t ['NNP', 'NNP', ',', 'CD', 'NNS', 'JJ', ',', 'MD', 'VB', 'DT', 'NN', 'IN', 'DT', 'JJ', 'NN', 'NNP', 'CD', '.']\n",
            "-Encoded\n",
            "\t [400000, 400001, 1, 4978, 82, 167, 1, 43, 1429, 0, 534, 19, 7, 128564, 369, 400002, 1263, 2]\n",
            "\t [20, 20, 3, 9, 22, 14, 3, 18, 34, 10, 19, 13, 10, 14, 19, 20, 9, 6]\n"
          ]
        }
      ],
      "source": [
        "# Tokenising words and tags by their indexes in vocabulary\n",
        "X_train_np, X_val_np, X_test_np, y_train_np, y_val_np, y_test_np = [], [], [], [], [], []\n",
        "\n",
        "# Encode X\n",
        "for sentence in X_train_raw:\n",
        "    sent_int = []\n",
        "    for word in sentence:\n",
        "            sent_int.append(word2index[word])\n",
        "    X_train_np.append(sent_int)\n",
        "\n",
        "for sentence in X_val_raw:\n",
        "    sent_int = []\n",
        "    for word in sentence:\n",
        "            sent_int.append(word2index[word])\n",
        "    X_val_np.append(sent_int)\n",
        "\n",
        "for sentence in X_test_raw:\n",
        "    sent_int = []\n",
        "    for word in sentence:\n",
        "            sent_int.append(word2index[word])\n",
        "    X_test_np.append(sent_int)\n",
        "\n",
        "# Encode Y\n",
        "for sent_tags in y_train_raw:\n",
        "    y_train_np.append([tag2index[tag] for tag in sent_tags])\n",
        "\n",
        "for sent_tags in y_val_raw:\n",
        "    y_val_np.append([tag2index[tag] for tag in sent_tags])\n",
        "\n",
        "for sent_tags in y_test_raw:\n",
        "    y_test_np.append([tag2index[tag] for tag in sent_tags])\n",
        "\n",
        "print('-Not encoded')\n",
        "print('\\t',X_train_raw[0]) \n",
        "print('\\t',y_train_raw[0])\n",
        "print('-Encoded')\n",
        "print('\\t',X_train_np[0])\n",
        "print('\\t',y_train_np[0])"
      ]
    },
    {
      "cell_type": "code",
      "execution_count": 197,
      "metadata": {
        "colab": {
          "base_uri": "https://localhost:8080/",
          "height": 376
        },
        "id": "TWdnd4hWmKee",
        "outputId": "ece1cc5e-2cb6-44ad-c937-bfe5e3560d66"
      },
      "outputs": [
        {
          "output_type": "stream",
          "name": "stderr",
          "text": [
            "/usr/local/lib/python3.8/dist-packages/seaborn/_decorators.py:36: FutureWarning:\n",
            "\n",
            "Pass the following variable as a keyword arg: x. From version 0.12, the only valid positional argument will be `data`, and passing other arguments without an explicit keyword will result in an error or misinterpretation.\n",
            "\n"
          ]
        },
        {
          "output_type": "execute_result",
          "data": {
            "text/plain": [
              "<matplotlib.axes._subplots.AxesSubplot at 0x7fef3a639dc0>"
            ]
          },
          "metadata": {},
          "execution_count": 197
        },
        {
          "output_type": "display_data",
          "data": {
            "text/plain": [
              "<Figure size 432x288 with 1 Axes>"
            ],
            "image/png": "[encoded data removed]"
          },
          "metadata": {
            "needs_background": "light"
          }
        }
      ],
      "source": [
        "lengths = [len(sentence) for sentence in X_train_raw]\n",
        "lengths.sort()\n",
        "\n",
        "sns.boxplot(lengths)"
      ]
    },
    {
      "cell_type": "code",
      "execution_count": 198,
      "metadata": {
        "colab": {
          "base_uri": "https://localhost:8080/"
        },
        "id": "mRSBSBqosWyK",
        "outputId": "2876f89b-a06d-4df7-cd6f-632624a9f986"
      },
      "outputs": [
        {
          "output_type": "stream",
          "name": "stdout",
          "text": [
            "Length of longest sentence: 249\n",
            "Second longest sentence length: 114\n",
            "-Padded\n",
            "\tX: [400000 400001      1   4978     82    167      1     43   1429      0\n",
            "    534     19      7 128564    369 400002   1263      2      0      0\n",
            "      0      0      0      0      0      0      0      0      0      0\n",
            "      0      0      0      0      0      0      0      0      0      0\n",
            "      0      0      0      0      0      0      0      0      0      0\n",
            "      0      0      0      0      0      0      0      0      0      0\n",
            "      0      0      0      0      0      0      0      0      0      0\n",
            "      0      0      0      0      0      0      0      0      0      0\n",
            "      0      0      0      0      0      0      0      0      0      0\n",
            "      0      0      0      0      0      0      0      0      0      0\n",
            "      0      0      0      0      0      0      0      0      0      0\n",
            "      0      0      0      0]\n",
            "\n",
            "\ty: [20 20  3  9 22 14  3 18 34 10 19 13 10 14 19 20  9  6  0  0  0  0  0  0\n",
            "  0  0  0  0  0  0  0  0  0  0  0  0  0  0  0  0  0  0  0  0  0  0  0  0\n",
            "  0  0  0  0  0  0  0  0  0  0  0  0  0  0  0  0  0  0  0  0  0  0  0  0\n",
            "  0  0  0  0  0  0  0  0  0  0  0  0  0  0  0  0  0  0  0  0  0  0  0  0\n",
            "  0  0  0  0  0  0  0  0  0  0  0  0  0  0  0  0  0  0]\n"
          ]
        }
      ],
      "source": [
        "MAX_LENGTH = lengths[-1] # maximum words in a sentence\n",
        "\n",
        "PAD_LENGTH = lengths[-2]\n",
        "\n",
        "\n",
        "print(f'Length of longest sentence: {MAX_LENGTH}')\n",
        "print(f'Second longest sentence length: {PAD_LENGTH}')\n",
        "\n",
        "\n",
        "X_train = pad_sequences(X_train_np, maxlen=PAD_LENGTH, padding='post')\n",
        "X_val = pad_sequences(X_val_np, maxlen=PAD_LENGTH, padding='post')\n",
        "X_test = pad_sequences(X_test_np, maxlen=PAD_LENGTH, padding='post')\n",
        "\n",
        "y_train = pad_sequences(y_train_np, maxlen=PAD_LENGTH, padding='post')\n",
        "y_val = pad_sequences(y_val_np, maxlen=PAD_LENGTH, padding='post')\n",
        "y_test = pad_sequences(y_test_np, maxlen=PAD_LENGTH, padding='post')\n",
        "print('-Padded')\n",
        "print('\\tX:',X_train[0])\n",
        "print('\\n\\ty:',y_train[0])\n",
        "\n",
        "# List of tags to ignore\n",
        "ignore = [':', '#', '$', '-LRB-', '-RRB-', ',', '.', \"''\", '``', 'SYM']\n"
      ]
    },
    {
      "cell_type": "code",
      "execution_count": 199,
      "metadata": {
        "id": "Tt3IPOjD1AER"
      },
      "outputs": [],
      "source": [
        "y_train_one_hot = to_categorical(y_train, len(tag2index))\n",
        "y_val_one_hot = to_categorical(y_val, len(tag2index))\n",
        "y_test_one_hot = to_categorical(y_test, len(tag2index))"
      ]
    },
    {
      "cell_type": "markdown",
      "metadata": {
        "id": "1SqOgc6v1DfB"
      },
      "source": [
        "## 2. GloVe \n",
        "GloVe (Global Vectors for Word Representation) is a method for learning vector representations of words, called \"word embeddings,\" from a large corpus of text. Word embeddings are numerical representations of words that capture the semantic relationships between words in a continuous, low-dimensional space. They are commonly used as input to natural language processing models, such as language translation and language modeling.\n",
        "\n",
        "GloVe works by learning the co-occurrence statistics of words in a corpus, and using this information to learn word embeddings that capture the semantic relationships between words. The GloVe method produces word embeddings that are trained on a global corpus, as opposed to embeddings that are trained on a specific task or dataset.\n",
        "\n",
        "There are different versions of the GloVe word embeddings, including 50-dimensional, 100-dimensional, and 200-dimensional embeddings. The 50-dimensional version of GloVe embeddings may be better in some applications because they have a lower dimensionality, which can make them easier to work with and more computationally efficient.\n",
        "\n",
        "By using GloVe embeddings as the initial weights for a model, we can take advantage of these pre-trained word representations and fine-tune them for a specific task."
      ]
    },
    {
      "cell_type": "code",
      "execution_count": 200,
      "metadata": {
        "id": "YcvBdLXW1QTY"
      },
      "outputs": [],
      "source": [
        "#Building the Embedding Layer \n",
        "embedding_matrix = np.zeros((len(word2index), embedding_dim))\n",
        "# embedding_matrix = np.standard(0,1,(len(word2index), embedding_dim))\n",
        "for word, i in word2index.items():\n",
        "    embedding_vector = embedding_dict.get(word)\n",
        "    if i < len(word2index):\n",
        "      embedding_matrix[i] = embedding_vector"
      ]
    },
    {
      "cell_type": "markdown",
      "metadata": {
        "id": "AvF_XXvV3Qxe"
      },
      "source": [
        "## 3. Model\n",
        "### 3.1 Baseline \n",
        "Bidirectional LSTM layers are able to process sequential data in both the forward and backward directions, which can allow the model to capture contextual information from both the past and the future. This can be particularly useful for natural language processing tasks, where the meaning of a word can depend on the context in which it is used.\n",
        "\n",
        "In the context of POS tagging, TimeDistributed can be used to apply a tag prediction layer to each word in a sentence. For example, you might have an RNN that processes a sequence of words in a sentence, and at each time step, the RNN outputs a hidden state. You could then apply a TimeDistributed dense layer to the hidden states, which would allow you to predict the POS tag for each word in the sentence.\n",
        "\n",
        "One advantage of using TimeDistributed for POS tagging is that it allows you to predict the POS tag for each word in the sentence simultaneously, rather than having to process the sentence one word at a time. This can be particularly useful when dealing with long sentences, as it can make the tagging process more efficient.\n",
        "\n",
        "Overall, using TimeDistributed for POS tagging can help you build more accurate and efficient models for natural language processing tasks that involve sequential data."
      ]
    },
    {
      "cell_type": "code",
      "source": [
        "LR = 0.01\n",
        "\n",
        "# Callbacks\n",
        "callbacks = [\n",
        "    tf.keras.callbacks.EarlyStopping(monitor='val_ignore_accuracy', patience=3, restore_best_weights=True,verbose=True),\n",
        "    tf.keras.callbacks.ReduceLROnPlateau(monitor='val_ignore_accuracy', factor=0.5, patience=1, verbose=True, min_lr=0.001)\n",
        "]"
      ],
      "metadata": {
        "id": "ApCdkSw6jSY3"
      },
      "execution_count": 201,
      "outputs": []
    },
    {
      "cell_type": "code",
      "execution_count": 202,
      "metadata": {
        "colab": {
          "base_uri": "https://localhost:8080/"
        },
        "id": "WuLsYIaYIBgn",
        "outputId": "55ab0c48-f4a5-4412-c007-1436a256cc76"
      },
      "outputs": [
        {
          "output_type": "stream",
          "name": "stdout",
          "text": [
            "Model: \"Baseline\"\n",
            "_________________________________________________________________\n",
            " Layer (type)                Output Shape              Param #   \n",
            "=================================================================\n",
            " embedding_18 (Embedding)    (None, 114, 300)          121123500 \n",
            "                                                                 \n",
            " bidirectional_17 (Bidirecti  (None, 114, 512)         1140736   \n",
            " onal)                                                           \n",
            "                                                                 \n",
            " time_distributed_19 (TimeDi  (None, 114, 45)          23085     \n",
            " stributed)                                                      \n",
            "                                                                 \n",
            "=================================================================\n",
            "Total params: 122,287,321\n",
            "Trainable params: 1,163,821\n",
            "Non-trainable params: 121,123,500\n",
            "_________________________________________________________________\n"
          ]
        }
      ],
      "source": [
        "# Define the model\n",
        "baseline_model = Sequential(name='Baseline')\n",
        "\n",
        "# Add the Embedding layer\n",
        "baseline_model.add(Embedding(input_dim=vocab_length, output_dim=embedding_dim, \\\n",
        "                    weights=[embedding_matrix], input_length=PAD_LENGTH, trainable=False,mask_zero=True))\n",
        "\n",
        "# Add the Bidirectional LSTM layer\n",
        "baseline_model.add(Bidirectional(LSTM(units=256, return_sequences=True)))\n",
        "\n",
        "# Add the Dense/Fully-Connected layer\n",
        "baseline_model.add(TimeDistributed(Dense(units=len(tag2index), activation='softmax')))\n",
        "\n",
        "# Compile the model\n",
        "baseline_model.compile(optimizer=Adam(LR), loss='categorical_crossentropy', metrics=['accuracy',\\\n",
        "                      ignore_class_accuracy([tag2index[tag] for tag in ignore])])\n",
        "\n",
        "# Summary\n",
        "baseline_model.summary()"
      ]
    },
    {
      "cell_type": "code",
      "execution_count": 203,
      "metadata": {
        "colab": {
          "base_uri": "https://localhost:8080/"
        },
        "id": "PA776HlcMC_h",
        "outputId": "ba5604d9-6b64-4b8c-f227-0294fb48b80e"
      },
      "outputs": [
        {
          "output_type": "stream",
          "name": "stdout",
          "text": [
            "Epoch 1/15\n",
            "16/16 [==============================] - 53s 3s/step - loss: 0.3810 - accuracy: 0.5046 - ignore_accuracy: 0.0831 - val_loss: 0.1593 - val_accuracy: 0.7750 - val_ignore_accuracy: 0.1310 - lr: 0.0100\n",
            "Epoch 2/15\n",
            "16/16 [==============================] - 38s 2s/step - loss: 0.1111 - accuracy: 0.8410 - ignore_accuracy: 0.1438 - val_loss: 0.0961 - val_accuracy: 0.8601 - val_ignore_accuracy: 0.1480 - lr: 0.0100\n",
            "Epoch 3/15\n",
            "16/16 [==============================] - 38s 2s/step - loss: 0.0652 - accuracy: 0.9062 - ignore_accuracy: 0.1567 - val_loss: 0.0744 - val_accuracy: 0.8897 - val_ignore_accuracy: 0.1539 - lr: 0.0100\n",
            "Epoch 4/15\n",
            "16/16 [==============================] - 38s 2s/step - loss: 0.0415 - accuracy: 0.9420 - ignore_accuracy: 0.1637 - val_loss: 0.0671 - val_accuracy: 0.9006 - val_ignore_accuracy: 0.1561 - lr: 0.0100\n",
            "Epoch 5/15\n",
            "16/16 [==============================] - 38s 2s/step - loss: 0.0260 - accuracy: 0.9662 - ignore_accuracy: 0.1687 - val_loss: 0.0636 - val_accuracy: 0.9056 - val_ignore_accuracy: 0.1570 - lr: 0.0100\n",
            "Epoch 6/15\n",
            "16/16 [==============================] - ETA: 0s - loss: 0.0159 - accuracy: 0.9823 - ignore_accuracy: 0.1718\n",
            "Epoch 6: ReduceLROnPlateau reducing learning rate to 0.004999999888241291.\n",
            "16/16 [==============================] - 39s 2s/step - loss: 0.0159 - accuracy: 0.9823 - ignore_accuracy: 0.1718 - val_loss: 0.0653 - val_accuracy: 0.9058 - val_ignore_accuracy: 0.1571 - lr: 0.0100\n",
            "Epoch 7/15\n",
            "16/16 [==============================] - 39s 2s/step - loss: 0.0091 - accuracy: 0.9929 - ignore_accuracy: 0.1739 - val_loss: 0.0628 - val_accuracy: 0.9089 - val_ignore_accuracy: 0.1577 - lr: 0.0050\n",
            "Epoch 8/15\n",
            "16/16 [==============================] - ETA: 0s - loss: 0.0060 - accuracy: 0.9968 - ignore_accuracy: 0.1747\n",
            "Epoch 8: ReduceLROnPlateau reducing learning rate to 0.0024999999441206455.\n",
            "16/16 [==============================] - 38s 2s/step - loss: 0.0060 - accuracy: 0.9968 - ignore_accuracy: 0.1747 - val_loss: 0.0641 - val_accuracy: 0.9080 - val_ignore_accuracy: 0.1575 - lr: 0.0050\n",
            "Epoch 9/15\n",
            "16/16 [==============================] - ETA: 0s - loss: 0.0042 - accuracy: 0.9989 - ignore_accuracy: 0.1752\n",
            "Epoch 9: ReduceLROnPlateau reducing learning rate to 0.0012499999720603228.\n",
            "16/16 [==============================] - 38s 2s/step - loss: 0.0042 - accuracy: 0.9989 - ignore_accuracy: 0.1752 - val_loss: 0.0645 - val_accuracy: 0.9089 - val_ignore_accuracy: 0.1577 - lr: 0.0025\n",
            "Epoch 10/15\n",
            "16/16 [==============================] - ETA: 0s - loss: 0.0036 - accuracy: 0.9992 - ignore_accuracy: 0.1753\n",
            "Epoch 10: ReduceLROnPlateau reducing learning rate to 0.001.\n",
            "16/16 [==============================] - 38s 2s/step - loss: 0.0036 - accuracy: 0.9992 - ignore_accuracy: 0.1753 - val_loss: 0.0649 - val_accuracy: 0.9084 - val_ignore_accuracy: 0.1576 - lr: 0.0012\n",
            "Epoch 11/15\n",
            "16/16 [==============================] - 40s 3s/step - loss: 0.0033 - accuracy: 0.9993 - ignore_accuracy: 0.1753 - val_loss: 0.0650 - val_accuracy: 0.9083 - val_ignore_accuracy: 0.1576 - lr: 0.0010\n",
            "Epoch 12/15\n",
            "16/16 [==============================] - ETA: 0s - loss: 0.0031 - accuracy: 0.9994 - ignore_accuracy: 0.1753Restoring model weights from the end of the best epoch: 9.\n",
            "16/16 [==============================] - 38s 2s/step - loss: 0.0031 - accuracy: 0.9994 - ignore_accuracy: 0.1753 - val_loss: 0.0656 - val_accuracy: 0.9085 - val_ignore_accuracy: 0.1576 - lr: 0.0010\n",
            "Epoch 12: early stopping\n"
          ]
        }
      ],
      "source": [
        "results_baseline = baseline_model.fit(X_train, y_train_one_hot, validation_data=(X_val, y_val_one_hot),\\\n",
        "                                      batch_size=128, epochs=15, callbacks = callbacks)"
      ]
    },
    {
      "cell_type": "code",
      "execution_count": 204,
      "metadata": {
        "colab": {
          "base_uri": "https://localhost:8080/"
        },
        "id": "_Q4shasqRWUk",
        "outputId": "df677a62-2cac-4e66-928a-efcbbe899e49"
      },
      "outputs": [
        {
          "output_type": "stream",
          "name": "stdout",
          "text": [
            "41/41 [==============================] - 11s 268ms/step - loss: 0.0645 - accuracy: 0.9089 - ignore_accuracy: 0.1595\n",
            "41/41 [==============================] - 14s 271ms/step\n"
          ]
        }
      ],
      "source": [
        "scores_bl = baseline_model.evaluate(X_val, y_val_one_hot, return_dict = True)\n",
        "\n",
        "# Obtain the predictions made by the model on the validation set\n",
        "predictions_bl = baseline_model.predict(X_val)"
      ]
    },
    {
      "cell_type": "code",
      "execution_count": 205,
      "metadata": {
        "id": "iP2TlmEVynlM"
      },
      "outputs": [],
      "source": [
        "# Convert the class probabilities into class labels\n",
        "predicted_labels_bl = np.argmax(predictions_bl, axis=-1)\n",
        "\n",
        "true_pos_bl, false_pos_bl, false_neg_bl, precision_bl, recall_bl, f1score_bl = compute_metrics(predicted_labels_bl, tags_test, ignore, y_val, index2tag)"
      ]
    },
    {
      "cell_type": "code",
      "execution_count": 206,
      "metadata": {
        "colab": {
          "base_uri": "https://localhost:8080/"
        },
        "id": "J1AkaNs61oC6",
        "outputId": "220f254d-d327-4f1e-cd0d-2e1b8f8fadb7"
      },
      "outputs": [
        {
          "output_type": "stream",
          "name": "stdout",
          "text": [
            "Tag: CC\n",
            "\tPrecision: 1.0\n",
            "\tRecall: 0.9815303430079155\n",
            "\tF1-score: 0.9906790945406124\n",
            "Tag: CD\n",
            "\tPrecision: 0.9991589571068125\n",
            "\tRecall: 0.9511609287429944\n",
            "\tF1-score: 0.9745693191140279\n",
            "Tag: DT\n",
            "\tPrecision: 1.0\n",
            "\tRecall: 0.4713144517066086\n",
            "\tF1-score: 0.6406712734452122\n",
            "Tag: EX\n",
            "\tPrecision: 1.0\n",
            "\tRecall: 1.0\n",
            "\tF1-score: 1.0\n",
            "Tag: FW\n",
            "\tPrecision: 0.0\n",
            "\tRecall: 0.0\n",
            "\tF1-score: 0.0\n",
            "Tag: IN\n",
            "\tPrecision: 0.9974619289340102\n",
            "\tRecall: 0.96\n",
            "\tF1-score: 0.9783724910533688\n",
            "Tag: JJ\n",
            "\tPrecision: 0.98786717752235\n",
            "\tRecall: 0.8040540540540541\n",
            "\tF1-score: 0.8865329512893984\n",
            "Tag: JJR\n",
            "\tPrecision: 0.9763779527559056\n",
            "\tRecall: 0.7515151515151515\n",
            "\tF1-score: 0.8493150684931506\n",
            "Tag: JJS\n",
            "\tPrecision: 1.0\n",
            "\tRecall: 0.7758620689655172\n",
            "\tF1-score: 0.8737864077669902\n",
            "Tag: LS\n",
            "\tPrecision: 0.0\n",
            "\tRecall: 0.0\n",
            "\tF1-score: 0.0\n",
            "Tag: MD\n",
            "\tPrecision: 1.0\n",
            "\tRecall: 0.9855907780979827\n",
            "\tF1-score: 0.9927431059506531\n",
            "Tag: NN\n",
            "\tPrecision: 0.9455445544554455\n",
            "\tRecall: 0.8887657877243519\n",
            "\tF1-score: 0.9162764134780127\n",
            "Tag: NNP\n",
            "\tPrecision: 0.9162011173184358\n",
            "\tRecall: 0.849112426035503\n",
            "\tF1-score: 0.8813819577735126\n",
            "Tag: NNPS\n",
            "\tPrecision: 0.8333333333333334\n",
            "\tRecall: 0.047619047619047616\n",
            "\tF1-score: 0.09009009009009009\n",
            "Tag: NNS\n",
            "\tPrecision: 0.9243027888446215\n",
            "\tRecall: 0.8829686013320647\n",
            "\tF1-score: 0.9031630170316302\n",
            "Tag: PDT\n",
            "\tPrecision: 1.0\n",
            "\tRecall: 0.14285714285714285\n",
            "\tF1-score: 0.25\n",
            "Tag: POS\n",
            "\tPrecision: 1.0\n",
            "\tRecall: 1.0\n",
            "\tF1-score: 1.0\n",
            "Tag: PRP\n",
            "\tPrecision: 0.99644128113879\n",
            "\tRecall: 0.9824561403508771\n",
            "\tF1-score: 0.9893992932862191\n",
            "Tag: PRP$\n",
            "\tPrecision: 0.9923076923076923\n",
            "\tRecall: 1.0\n",
            "\tF1-score: 0.9961389961389961\n",
            "Tag: RB\n",
            "\tPrecision: 0.8375634517766497\n",
            "\tRecall: 0.8675078864353313\n",
            "\tF1-score: 0.8522727272727273\n",
            "Tag: RBR\n",
            "\tPrecision: 0.4716981132075472\n",
            "\tRecall: 0.7142857142857143\n",
            "\tF1-score: 0.5681818181818181\n",
            "Tag: RBS\n",
            "\tPrecision: 0.5789473684210527\n",
            "\tRecall: 0.8461538461538461\n",
            "\tF1-score: 0.6875\n",
            "Tag: RP\n",
            "\tPrecision: 0.5076923076923077\n",
            "\tRecall: 0.7674418604651163\n",
            "\tF1-score: 0.611111111111111\n",
            "Tag: TO\n",
            "\tPrecision: 1.0\n",
            "\tRecall: 1.0\n",
            "\tF1-score: 1.0\n",
            "Tag: UH\n",
            "\tPrecision: 0.0\n",
            "\tRecall: 0.0\n",
            "\tF1-score: 0.0\n",
            "Tag: VB\n",
            "\tPrecision: 0.9440089585666294\n",
            "\tRecall: 0.8817991631799164\n",
            "\tF1-score: 0.9118442401298\n",
            "Tag: VBD\n",
            "\tPrecision: 0.9480840543881335\n",
            "\tRecall: 0.8908246225319396\n",
            "\tF1-score: 0.918562874251497\n",
            "Tag: VBG\n",
            "\tPrecision: 0.8071278825995807\n",
            "\tRecall: 0.8088235294117647\n",
            "\tF1-score: 0.8079748163693599\n",
            "Tag: VBN\n",
            "\tPrecision: 0.8715596330275229\n",
            "\tRecall: 0.7734056987788331\n",
            "\tF1-score: 0.8195542774982026\n",
            "Tag: VBP\n",
            "\tPrecision: 0.8544698544698545\n",
            "\tRecall: 0.8934782608695652\n",
            "\tF1-score: 0.873538788522848\n",
            "Tag: VBZ\n",
            "\tPrecision: 0.9582132564841499\n",
            "\tRecall: 0.9339887640449438\n",
            "\tF1-score: 0.9459459459459459\n",
            "Tag: WDT\n",
            "\tPrecision: 0.8874172185430463\n",
            "\tRecall: 0.8535031847133758\n",
            "\tF1-score: 0.8701298701298702\n",
            "Tag: WP\n",
            "\tPrecision: 0.9411764705882353\n",
            "\tRecall: 1.0\n",
            "\tF1-score: 0.9696969696969697\n",
            "Tag: WP$\n",
            "\tPrecision: 1.0\n",
            "\tRecall: 0.75\n",
            "\tF1-score: 0.8571428571428571\n",
            "Tag: WRB\n",
            "\tPrecision: 0.9836065573770492\n",
            "\tRecall: 0.967741935483871\n",
            "\tF1-score: 0.975609756097561\n"
          ]
        }
      ],
      "source": [
        "for tag in tags_val:\n",
        "  if tag not in ignore:\n",
        "    print(f'Tag: {tag}')\n",
        "    print(f'\\tPrecision: {precision_bl[tag]}')\n",
        "    print(f'\\tRecall: {recall_bl[tag]}')\n",
        "    print(f'\\tF1-score: {f1score_bl[tag]}')"
      ]
    },
    {
      "cell_type": "code",
      "execution_count": 207,
      "metadata": {
        "colab": {
          "base_uri": "https://localhost:8080/"
        },
        "id": "r14KwxMp6pxZ",
        "outputId": "008491a3-05b7-40c6-aa0e-bce2f144e14a"
      },
      "outputs": [
        {
          "output_type": "stream",
          "name": "stdout",
          "text": [
            "MACRO F1-score: 0.7680624437657839\n"
          ]
        }
      ],
      "source": [
        "macro_f1_bl = macro_f1_score(f1score_bl)"
      ]
    },
    {
      "cell_type": "markdown",
      "metadata": {
        "id": "_piJrG2VEe1Z"
      },
      "source": [
        "### 3.2 GRU \n",
        "Gated Recurrent Units (GRUs) are a type of recurrent neural network (RNN) that are often used in natural language processing tasks such as part-of-speech (POS) tagging. GRUs are similar to long short-term memory (LSTM) networks, but they have a simpler structure and fewer parameters, making them easier to train and faster to run. In POS tagging, GRUs can be used to process a sequence of words and predict the POS tags for each word in the sequence. GRUs are able to take into account contextual information from the previous words in the sequence, allowing them to make more accurate predictions about the POS tags for the current word. \n",
        "\n",
        "Both BiLSTMs (Bidirectional LSTMs) and Gated Recurrent Units (GRUs) have been shown to perform well on a variety of NLP tasks, including POS tagging, but here we obtained slightly better results than with the baseline; the reason may be that LSTMs are are particularly well-suited for tasks that require the model to remember and make use of long-term dependencies in the data, while the longest sentence in the Penn Treebank dataset has only 171 words and the average of words per sentence is around 20.  "
      ]
    },
    {
      "cell_type": "code",
      "execution_count": 208,
      "metadata": {
        "colab": {
          "base_uri": "https://localhost:8080/"
        },
        "id": "LHd70QrVEhOv",
        "outputId": "f6582db4-6410-49b7-c110-c1cdc85e8d53"
      },
      "outputs": [
        {
          "output_type": "stream",
          "name": "stdout",
          "text": [
            "Model: \"GRU\"\n",
            "_________________________________________________________________\n",
            " Layer (type)                Output Shape              Param #   \n",
            "=================================================================\n",
            " embedding_19 (Embedding)    (None, 114, 300)          121123500 \n",
            "                                                                 \n",
            " gru_4 (GRU)                 (None, 114, 256)          428544    \n",
            "                                                                 \n",
            " time_distributed_20 (TimeDi  (None, 114, 45)          11565     \n",
            " stributed)                                                      \n",
            "                                                                 \n",
            "=================================================================\n",
            "Total params: 121,563,609\n",
            "Trainable params: 440,109\n",
            "Non-trainable params: 121,123,500\n",
            "_________________________________________________________________\n"
          ]
        }
      ],
      "source": [
        "# Define the model\n",
        "gru_model = tf.keras.Sequential(name='GRU')\n",
        "\n",
        "# Add the Embedding layer\n",
        "gru_model.add(Embedding(input_dim=vocab_length, output_dim=embedding_dim, \\\n",
        "                    weights = [embedding_matrix], input_length = PAD_LENGTH, trainable=False,mask_zero=True ))\n",
        "\n",
        "# Add the GRU layer\n",
        "gru_model.add(GRU(units=256, return_sequences=True))\n",
        "\n",
        "# Add the Dense/Fully-Connected layer\n",
        "gru_model.add(TimeDistributed(Dense(len(tags_train), activation='softmax')))\n",
        "\n",
        "# Compile the model\n",
        "gru_model.compile(optimizer=Adam(LR), loss='categorical_crossentropy', metrics=['accuracy',ignore_class_accuracy([tag2index[tag] for tag in ignore])])\n",
        "\n",
        "# Summary\n",
        "gru_model.summary()"
      ]
    },
    {
      "cell_type": "code",
      "execution_count": 209,
      "metadata": {
        "colab": {
          "base_uri": "https://localhost:8080/"
        },
        "id": "qBWwuzcuEk_e",
        "outputId": "58d3a82a-696b-4d0c-b5a7-2cf721983d94"
      },
      "outputs": [
        {
          "output_type": "stream",
          "name": "stdout",
          "text": [
            "Epoch 1/15\n",
            "16/16 [==============================] - 22s 1s/step - loss: 0.3111 - accuracy: 0.5888 - ignore_accuracy: 0.0972 - val_loss: 0.1479 - val_accuracy: 0.7835 - val_ignore_accuracy: 0.1328 - lr: 0.0100\n",
            "Epoch 2/15\n",
            "16/16 [==============================] - 16s 986ms/step - loss: 0.1100 - accuracy: 0.8429 - ignore_accuracy: 0.1441 - val_loss: 0.1040 - val_accuracy: 0.8444 - val_ignore_accuracy: 0.1449 - lr: 0.0100\n",
            "Epoch 3/15\n",
            "16/16 [==============================] - 16s 985ms/step - loss: 0.0743 - accuracy: 0.8908 - ignore_accuracy: 0.1534 - val_loss: 0.0885 - val_accuracy: 0.8687 - val_ignore_accuracy: 0.1497 - lr: 0.0100\n",
            "Epoch 4/15\n",
            "16/16 [==============================] - 16s 989ms/step - loss: 0.0542 - accuracy: 0.9227 - ignore_accuracy: 0.1600 - val_loss: 0.0812 - val_accuracy: 0.8790 - val_ignore_accuracy: 0.1517 - lr: 0.0100\n",
            "Epoch 5/15\n",
            "16/16 [==============================] - 16s 992ms/step - loss: 0.0402 - accuracy: 0.9429 - ignore_accuracy: 0.1639 - val_loss: 0.0755 - val_accuracy: 0.8860 - val_ignore_accuracy: 0.1531 - lr: 0.0100\n",
            "Epoch 6/15\n",
            "16/16 [==============================] - 16s 988ms/step - loss: 0.0290 - accuracy: 0.9617 - ignore_accuracy: 0.1677 - val_loss: 0.0743 - val_accuracy: 0.8905 - val_ignore_accuracy: 0.1541 - lr: 0.0100\n",
            "Epoch 7/15\n",
            "16/16 [==============================] - 16s 993ms/step - loss: 0.0202 - accuracy: 0.9759 - ignore_accuracy: 0.1705 - val_loss: 0.0762 - val_accuracy: 0.8912 - val_ignore_accuracy: 0.1542 - lr: 0.0100\n",
            "Epoch 8/15\n",
            "16/16 [==============================] - 16s 990ms/step - loss: 0.0136 - accuracy: 0.9852 - ignore_accuracy: 0.1725 - val_loss: 0.0777 - val_accuracy: 0.8925 - val_ignore_accuracy: 0.1544 - lr: 0.0100\n",
            "Epoch 9/15\n",
            "16/16 [==============================] - ETA: 0s - loss: 0.0091 - accuracy: 0.9919 - ignore_accuracy: 0.1738\n",
            "Epoch 9: ReduceLROnPlateau reducing learning rate to 0.004999999888241291.\n",
            "16/16 [==============================] - 16s 983ms/step - loss: 0.0091 - accuracy: 0.9919 - ignore_accuracy: 0.1738 - val_loss: 0.0797 - val_accuracy: 0.8919 - val_ignore_accuracy: 0.1543 - lr: 0.0100\n",
            "Epoch 10/15\n",
            "16/16 [==============================] - ETA: 0s - loss: 0.0059 - accuracy: 0.9960 - ignore_accuracy: 0.1746\n",
            "Epoch 10: ReduceLROnPlateau reducing learning rate to 0.0024999999441206455.\n",
            "16/16 [==============================] - 16s 988ms/step - loss: 0.0059 - accuracy: 0.9960 - ignore_accuracy: 0.1746 - val_loss: 0.0802 - val_accuracy: 0.8929 - val_ignore_accuracy: 0.1545 - lr: 0.0050\n",
            "Epoch 11/15\n",
            "16/16 [==============================] - 16s 992ms/step - loss: 0.0045 - accuracy: 0.9973 - ignore_accuracy: 0.1749 - val_loss: 0.0798 - val_accuracy: 0.8945 - val_ignore_accuracy: 0.1548 - lr: 0.0025\n",
            "Epoch 12/15\n",
            "16/16 [==============================] - 16s 998ms/step - loss: 0.0040 - accuracy: 0.9980 - ignore_accuracy: 0.1751 - val_loss: 0.0804 - val_accuracy: 0.8951 - val_ignore_accuracy: 0.1550 - lr: 0.0025\n",
            "Epoch 13/15\n",
            "16/16 [==============================] - ETA: 0s - loss: 0.0037 - accuracy: 0.9981 - ignore_accuracy: 0.1750\n",
            "Epoch 13: ReduceLROnPlateau reducing learning rate to 0.0012499999720603228.\n",
            "16/16 [==============================] - 16s 992ms/step - loss: 0.0037 - accuracy: 0.9981 - ignore_accuracy: 0.1750 - val_loss: 0.0808 - val_accuracy: 0.8952 - val_ignore_accuracy: 0.1550 - lr: 0.0025\n",
            "Epoch 14/15\n",
            "16/16 [==============================] - ETA: 0s - loss: 0.0034 - accuracy: 0.9983 - ignore_accuracy: 0.1751\n",
            "Epoch 14: ReduceLROnPlateau reducing learning rate to 0.001.\n",
            "16/16 [==============================] - 15s 972ms/step - loss: 0.0034 - accuracy: 0.9983 - ignore_accuracy: 0.1751 - val_loss: 0.0811 - val_accuracy: 0.8945 - val_ignore_accuracy: 0.1548 - lr: 0.0012\n",
            "Epoch 15/15\n",
            "16/16 [==============================] - 15s 973ms/step - loss: 0.0032 - accuracy: 0.9985 - ignore_accuracy: 0.1752 - val_loss: 0.0812 - val_accuracy: 0.8948 - val_ignore_accuracy: 0.1549 - lr: 0.0010\n"
          ]
        }
      ],
      "source": [
        "results_gru = gru_model.fit(X_train, y_train_one_hot, epochs=15, verbose = True, validation_data=(X_val, y_val_one_hot), batch_size=128, callbacks = callbacks)"
      ]
    },
    {
      "cell_type": "code",
      "execution_count": 210,
      "metadata": {
        "colab": {
          "base_uri": "https://localhost:8080/"
        },
        "id": "HSpKe6LEEoHy",
        "outputId": "6420376c-eaf7-45f2-b076-bd7947fbce3e"
      },
      "outputs": [
        {
          "output_type": "stream",
          "name": "stdout",
          "text": [
            "41/41 [==============================] - 5s 119ms/step - loss: 0.0812 - accuracy: 0.8948 - ignore_accuracy: 0.1567\n",
            "41/41 [==============================] - 6s 113ms/step\n"
          ]
        }
      ],
      "source": [
        "scores_gru = gru_model.evaluate(X_val, y_val_one_hot, return_dict = True)\n",
        "predictions_gru = gru_model.predict(X_val)"
      ]
    },
    {
      "cell_type": "code",
      "execution_count": 211,
      "metadata": {
        "colab": {
          "base_uri": "https://localhost:8080/"
        },
        "id": "9dKH1rmoJPeA",
        "outputId": "dc27e6fb-bc02-4f82-be19-5fec6ec8106b"
      },
      "outputs": [
        {
          "output_type": "stream",
          "name": "stdout",
          "text": [
            "No true positive for tag: PDT\n",
            "0\n",
            "0\n",
            "14\n",
            "\n"
          ]
        }
      ],
      "source": [
        "# Convert the class probabilities into class labels\n",
        "predicted_labels_gru = np.argmax(predictions_gru, axis=-1)\n",
        "\n",
        "true_pos_gru, false_pos_gru, false_neg_gru, precision_gru, recall_gru, f1score_gru = compute_metrics(predicted_labels_gru, tags_test, ignore, y_val, index2tag)\n"
      ]
    },
    {
      "cell_type": "code",
      "execution_count": 212,
      "metadata": {
        "colab": {
          "base_uri": "https://localhost:8080/"
        },
        "id": "fOVmR63mJdN9",
        "outputId": "7d753c97-2ce4-4cb2-9b09-434dc4b626bc"
      },
      "outputs": [
        {
          "output_type": "stream",
          "name": "stdout",
          "text": [
            "MACRO F1-score: 0.83530029602573\n"
          ]
        }
      ],
      "source": [
        "macro_f1_gru = macro_f1_score(f1score_gru)"
      ]
    },
    {
      "cell_type": "markdown",
      "metadata": {
        "id": "Q4NZ4nhpEr1K"
      },
      "source": [
        "### 3.3 Additional LSTM layer \n",
        "Using two BiLSTMs layers can allow the model to learn more complex patterns in the data and make more accurate predictions. \n",
        "However, they can increase the computational complexity of our model, which may require more computational resources to train.\n",
        "\n",
        "With the same number of epochs the results were similar to the baseline and the training process was slower; it is possible that the model with two BiLSTMs is more prone to overfitting, meaning that it is able to fit the training data very well but is less able to generalize to new data. Another possibility is that the model with two BiLSTMs simply takes longer to train. That is why we raised the training epochs to 20, obtaining better results."
      ]
    },
    {
      "cell_type": "code",
      "execution_count": 213,
      "metadata": {
        "colab": {
          "base_uri": "https://localhost:8080/"
        },
        "id": "yVntK3UwEuGS",
        "outputId": "7fd01b04-3087-4a76-d5fc-247d81376836"
      },
      "outputs": [
        {
          "output_type": "stream",
          "name": "stdout",
          "text": [
            "Model: \"Additional_LSTM\"\n",
            "_________________________________________________________________\n",
            " Layer (type)                Output Shape              Param #   \n",
            "=================================================================\n",
            " embedding_20 (Embedding)    (None, 114, 300)          121123500 \n",
            "                                                                 \n",
            " bidirectional_18 (Bidirecti  (None, 114, 512)         1140736   \n",
            " onal)                                                           \n",
            "                                                                 \n",
            " bidirectional_19 (Bidirecti  (None, 114, 512)         1574912   \n",
            " onal)                                                           \n",
            "                                                                 \n",
            " time_distributed_21 (TimeDi  (None, 114, 45)          23085     \n",
            " stributed)                                                      \n",
            "                                                                 \n",
            "=================================================================\n",
            "Total params: 123,862,233\n",
            "Trainable params: 2,738,733\n",
            "Non-trainable params: 121,123,500\n",
            "_________________________________________________________________\n"
          ]
        }
      ],
      "source": [
        "# Define the model\n",
        "add_lstm_model = tf.keras.Sequential(name='Additional_LSTM')\n",
        "\n",
        "# Add the Embedding layer\n",
        "add_lstm_model.add(Embedding(input_dim=vocab_length, output_dim=embedding_dim, \\\n",
        "                    weights = [embedding_matrix], input_length = PAD_LENGTH, trainable=False, mask_zero=True))\n",
        "\n",
        "# Add the Bidirectional LSTM layer\n",
        "add_lstm_model.add(Bidirectional(LSTM(units=256, return_sequences=True)))\n",
        "\n",
        "# Add another LSTM layer\n",
        "add_lstm_model.add(Bidirectional(LSTM(units=256, return_sequences=True)))\n",
        "\n",
        "# Add the Dense/Fully-Connected layer\n",
        "add_lstm_model.add(TimeDistributed(Dense(units=len(tags_train), activation='softmax')))\n",
        "\n",
        "# Compile the model\n",
        "add_lstm_model.compile(optimizer=Adam(LR), loss='categorical_crossentropy', metrics=['accuracy',ignore_class_accuracy([tag2index[tag] for tag in ignore])])\n",
        "\n",
        "# Summary\n",
        "add_lstm_model.summary()"
      ]
    },
    {
      "cell_type": "code",
      "execution_count": 214,
      "metadata": {
        "colab": {
          "base_uri": "https://localhost:8080/"
        },
        "id": "J3omzfumEv48",
        "outputId": "15ba143b-ecaa-4bc6-8b86-d945e85675c6"
      },
      "outputs": [
        {
          "output_type": "stream",
          "name": "stdout",
          "text": [
            "Epoch 1/20\n",
            "16/16 [==============================] - 150s 8s/step - loss: 0.6362 - accuracy: 0.1900 - ignore_accuracy: 0.0333 - val_loss: 0.4527 - val_accuracy: 0.3652 - val_ignore_accuracy: 0.0569 - lr: 0.0100\n",
            "Epoch 2/20\n",
            "16/16 [==============================] - 100s 6s/step - loss: 0.3217 - accuracy: 0.5565 - ignore_accuracy: 0.0905 - val_loss: 0.2255 - val_accuracy: 0.6917 - val_ignore_accuracy: 0.1164 - lr: 0.0100\n",
            "Epoch 3/20\n",
            "16/16 [==============================] - 100s 6s/step - loss: 0.1599 - accuracy: 0.7789 - ignore_accuracy: 0.1317 - val_loss: 0.1288 - val_accuracy: 0.8193 - val_ignore_accuracy: 0.1403 - lr: 0.0100\n",
            "Epoch 4/20\n",
            "16/16 [==============================] - 101s 6s/step - loss: 0.0942 - accuracy: 0.8690 - ignore_accuracy: 0.1495 - val_loss: 0.0914 - val_accuracy: 0.8691 - val_ignore_accuracy: 0.1499 - lr: 0.0100\n",
            "Epoch 5/20\n",
            "16/16 [==============================] - 101s 6s/step - loss: 0.0588 - accuracy: 0.9184 - ignore_accuracy: 0.1591 - val_loss: 0.0730 - val_accuracy: 0.8951 - val_ignore_accuracy: 0.1550 - lr: 0.0100\n",
            "Epoch 6/20\n",
            "16/16 [==============================] - 100s 6s/step - loss: 0.0381 - accuracy: 0.9486 - ignore_accuracy: 0.1651 - val_loss: 0.0693 - val_accuracy: 0.8991 - val_ignore_accuracy: 0.1560 - lr: 0.0100\n",
            "Epoch 7/20\n",
            "16/16 [==============================] - 100s 6s/step - loss: 0.0253 - accuracy: 0.9674 - ignore_accuracy: 0.1689 - val_loss: 0.0654 - val_accuracy: 0.9079 - val_ignore_accuracy: 0.1576 - lr: 0.0100\n",
            "Epoch 8/20\n",
            "16/16 [==============================] - 100s 6s/step - loss: 0.0165 - accuracy: 0.9803 - ignore_accuracy: 0.1715 - val_loss: 0.0619 - val_accuracy: 0.9135 - val_ignore_accuracy: 0.1587 - lr: 0.0100\n",
            "Epoch 9/20\n",
            "16/16 [==============================] - 101s 6s/step - loss: 0.0103 - accuracy: 0.9885 - ignore_accuracy: 0.1731 - val_loss: 0.0652 - val_accuracy: 0.9145 - val_ignore_accuracy: 0.1589 - lr: 0.0100\n",
            "Epoch 10/20\n",
            "16/16 [==============================] - ETA: 0s - loss: 0.0069 - accuracy: 0.9933 - ignore_accuracy: 0.1741\n",
            "Epoch 10: ReduceLROnPlateau reducing learning rate to 0.004999999888241291.\n",
            "16/16 [==============================] - 100s 6s/step - loss: 0.0069 - accuracy: 0.9933 - ignore_accuracy: 0.1741 - val_loss: 0.0652 - val_accuracy: 0.9138 - val_ignore_accuracy: 0.1587 - lr: 0.0100\n",
            "Epoch 11/20\n",
            "16/16 [==============================] - 101s 6s/step - loss: 0.0039 - accuracy: 0.9975 - ignore_accuracy: 0.1750 - val_loss: 0.0642 - val_accuracy: 0.9184 - val_ignore_accuracy: 0.1597 - lr: 0.0050\n",
            "Epoch 12/20\n",
            "16/16 [==============================] - 100s 6s/step - loss: 0.0026 - accuracy: 0.9990 - ignore_accuracy: 0.1752 - val_loss: 0.0635 - val_accuracy: 0.9204 - val_ignore_accuracy: 0.1601 - lr: 0.0050\n",
            "Epoch 13/20\n",
            "16/16 [==============================] - ETA: 0s - loss: 0.0019 - accuracy: 0.9993 - ignore_accuracy: 0.1754\n",
            "Epoch 13: ReduceLROnPlateau reducing learning rate to 0.0024999999441206455.\n",
            "16/16 [==============================] - 100s 6s/step - loss: 0.0019 - accuracy: 0.9993 - ignore_accuracy: 0.1754 - val_loss: 0.0642 - val_accuracy: 0.9201 - val_ignore_accuracy: 0.1600 - lr: 0.0050\n",
            "Epoch 14/20\n",
            "16/16 [==============================] - ETA: 0s - loss: 0.0015 - accuracy: 0.9995 - ignore_accuracy: 0.1754\n",
            "Epoch 14: ReduceLROnPlateau reducing learning rate to 0.0012499999720603228.\n",
            "16/16 [==============================] - 100s 6s/step - loss: 0.0015 - accuracy: 0.9995 - ignore_accuracy: 0.1754 - val_loss: 0.0646 - val_accuracy: 0.9200 - val_ignore_accuracy: 0.1600 - lr: 0.0025\n",
            "Epoch 15/20\n",
            "16/16 [==============================] - ETA: 0s - loss: 0.0013 - accuracy: 0.9997 - ignore_accuracy: 0.1756Restoring model weights from the end of the best epoch: 12.\n",
            "\n",
            "Epoch 15: ReduceLROnPlateau reducing learning rate to 0.001.\n",
            "16/16 [==============================] - 101s 6s/step - loss: 0.0013 - accuracy: 0.9997 - ignore_accuracy: 0.1756 - val_loss: 0.0648 - val_accuracy: 0.9204 - val_ignore_accuracy: 0.1601 - lr: 0.0012\n",
            "Epoch 15: early stopping\n"
          ]
        }
      ],
      "source": [
        "results_add_lstm = add_lstm_model.fit(X_train, y_train_one_hot, epochs=20, verbose = True, validation_data=(X_val, y_val_one_hot), batch_size=128, callbacks = callbacks)"
      ]
    },
    {
      "cell_type": "code",
      "execution_count": 215,
      "metadata": {
        "id": "ZRvFuiHCExgc",
        "colab": {
          "base_uri": "https://localhost:8080/"
        },
        "outputId": "81d84cf9-c1ea-4f8e-88d8-916d5dc302d9"
      },
      "outputs": [
        {
          "output_type": "stream",
          "name": "stdout",
          "text": [
            "41/41 [==============================] - 24s 595ms/step - loss: 0.0635 - accuracy: 0.9204 - ignore_accuracy: 0.1620\n",
            "41/41 [==============================] - 30s 589ms/step\n"
          ]
        }
      ],
      "source": [
        "scores_add_lstm = add_lstm_model.evaluate(X_val, y_val_one_hot, return_dict = True)\n",
        "predictions_add_lstm = add_lstm_model.predict(X_val)"
      ]
    },
    {
      "cell_type": "code",
      "execution_count": 216,
      "metadata": {
        "colab": {
          "base_uri": "https://localhost:8080/"
        },
        "id": "e4FEmEZDOnwa",
        "outputId": "7a4c4c08-047a-4815-a948-bcff5c009b64"
      },
      "outputs": [
        {
          "output_type": "stream",
          "name": "stdout",
          "text": [
            "No true positive for tag: PDT\n",
            "0\n",
            "0\n",
            "14\n",
            "\n"
          ]
        }
      ],
      "source": [
        "# Convert the class probabilities into class labels\n",
        "predicted_labels_add_lstm = np.argmax(predictions_add_lstm, axis=-1)\n",
        "\n",
        "true_pos_add_lstm, false_pos_add_lstm, false_neg_add_lstm, precision_add_lstm, recall_add_lstm, f1score_add_lstm = compute_metrics(predicted_labels_add_lstm, tags_test, ignore, y_val, index2tag)\n"
      ]
    },
    {
      "cell_type": "code",
      "execution_count": 217,
      "metadata": {
        "colab": {
          "base_uri": "https://localhost:8080/"
        },
        "id": "oKrrPd7ROqfs",
        "outputId": "4ebae00f-66d3-4afc-d289-940ab32aa154"
      },
      "outputs": [
        {
          "output_type": "stream",
          "name": "stdout",
          "text": [
            "MACRO F1-score: 0.8729366209907499\n"
          ]
        }
      ],
      "source": [
        "macro_f1_add_lstm = macro_f1_score(f1score_add_lstm)"
      ]
    },
    {
      "cell_type": "markdown",
      "metadata": {
        "id": "5AtIybGnEzsP"
      },
      "source": [
        "### 3.4 Additional dense layer\n",
        "\n",
        "Using two dense layers, one with a non-linear activation function and one with a softmax activation function, is a common pattern in neural network architectures for classification tasks.\n",
        "\n",
        "The purpose of the non-linear dense layer is to introduce non-linearity into the model, which can allow the model to learn more complex patterns in the data. Common choices for the activation function in this layer include ReLU (Rectified Linear Unit), sigmoid, and tanh.\n",
        "\n",
        "The purpose of the softmax dense layer is to produce a probability distribution over the possible classes. The softmax activation function transforms the output of the preceding layer into a probability distribution, where the sum of the probabilities is equal to 1. This is useful for classification tasks, where you want to predict the probability that an input belongs to each of the possible classes. Using two dense layers in this way can allow the model to learn more complex patterns in the data and make more accurate predictions.\n",
        "\n",
        "We have increased the number of training epochs to 15 for the same reasons as before."
      ]
    },
    {
      "cell_type": "code",
      "execution_count": 218,
      "metadata": {
        "colab": {
          "base_uri": "https://localhost:8080/"
        },
        "id": "CQj_m12zE3So",
        "outputId": "b3b8fb36-1367-4b3e-d8f3-841870f3b20a"
      },
      "outputs": [
        {
          "output_type": "stream",
          "name": "stdout",
          "text": [
            "Model: \"Additional_FC\"\n",
            "_________________________________________________________________\n",
            " Layer (type)                Output Shape              Param #   \n",
            "=================================================================\n",
            " embedding_21 (Embedding)    (None, 114, 300)          121123500 \n",
            "                                                                 \n",
            " bidirectional_20 (Bidirecti  (None, 114, 512)         1140736   \n",
            " onal)                                                           \n",
            "                                                                 \n",
            " time_distributed_22 (TimeDi  (None, 114, 114)         58482     \n",
            " stributed)                                                      \n",
            "                                                                 \n",
            " time_distributed_23 (TimeDi  (None, 114, 45)          5175      \n",
            " stributed)                                                      \n",
            "                                                                 \n",
            "=================================================================\n",
            "Total params: 122,327,893\n",
            "Trainable params: 1,204,393\n",
            "Non-trainable params: 121,123,500\n",
            "_________________________________________________________________\n"
          ]
        }
      ],
      "source": [
        "# Define the model\n",
        "add_fc_model = tf.keras.Sequential(name='Additional_FC')\n",
        "\n",
        "# Add the Embedding layer\n",
        "add_fc_model.add(Embedding(input_dim=vocab_length, output_dim=embedding_dim, \\\n",
        "                    weights = [embedding_matrix], input_length = PAD_LENGTH, trainable=False, mask_zero=True))\n",
        "\n",
        "# Add the Bidirectional LSTM layer\n",
        "add_fc_model.add(Bidirectional(LSTM(units=256, return_sequences=True)))\n",
        "\n",
        "# Add another Dense layer\n",
        "add_fc_model.add(TimeDistributed(Dense(units=PAD_LENGTH, activation='relu')))\n",
        "\n",
        "# Add the Dense/Fully-Connected layer\n",
        "add_fc_model.add(TimeDistributed(Dense(units=len(tags_train), activation='softmax')))\n",
        "\n",
        "# Compile the model\n",
        "add_fc_model.compile(optimizer=Adam(LR), loss='categorical_crossentropy', metrics=['accuracy',ignore_class_accuracy([tag2index[tag] for tag in ignore])])\n",
        "\n",
        "# Summary\n",
        "add_fc_model.summary()"
      ]
    },
    {
      "cell_type": "code",
      "execution_count": 219,
      "metadata": {
        "id": "49cnWYeiE5Jt",
        "colab": {
          "base_uri": "https://localhost:8080/"
        },
        "outputId": "0291d951-8b19-4c9c-dbb7-4061127aaf15"
      },
      "outputs": [
        {
          "output_type": "stream",
          "name": "stdout",
          "text": [
            "Epoch 1/20\n",
            "16/16 [==============================] - 55s 3s/step - loss: 0.4681 - accuracy: 0.3828 - ignore_accuracy: 0.0635 - val_loss: 0.2047 - val_accuracy: 0.7206 - val_ignore_accuracy: 0.1215 - lr: 0.0100\n",
            "Epoch 2/20\n",
            "16/16 [==============================] - 40s 3s/step - loss: 0.1364 - accuracy: 0.8158 - ignore_accuracy: 0.1388 - val_loss: 0.1075 - val_accuracy: 0.8470 - val_ignore_accuracy: 0.1454 - lr: 0.0100\n",
            "Epoch 3/20\n",
            "16/16 [==============================] - 40s 3s/step - loss: 0.0706 - accuracy: 0.8998 - ignore_accuracy: 0.1554 - val_loss: 0.0768 - val_accuracy: 0.8874 - val_ignore_accuracy: 0.1534 - lr: 0.0100\n",
            "Epoch 4/20\n",
            "16/16 [==============================] - 40s 3s/step - loss: 0.0418 - accuracy: 0.9398 - ignore_accuracy: 0.1633 - val_loss: 0.0661 - val_accuracy: 0.9042 - val_ignore_accuracy: 0.1568 - lr: 0.0100\n",
            "Epoch 5/20\n",
            "16/16 [==============================] - 40s 3s/step - loss: 0.0240 - accuracy: 0.9662 - ignore_accuracy: 0.1687 - val_loss: 0.0627 - val_accuracy: 0.9123 - val_ignore_accuracy: 0.1584 - lr: 0.0100\n",
            "Epoch 6/20\n",
            "16/16 [==============================] - 40s 3s/step - loss: 0.0141 - accuracy: 0.9811 - ignore_accuracy: 0.1716 - val_loss: 0.0630 - val_accuracy: 0.9154 - val_ignore_accuracy: 0.1590 - lr: 0.0100\n",
            "Epoch 7/20\n",
            "16/16 [==============================] - ETA: 0s - loss: 0.0078 - accuracy: 0.9908 - ignore_accuracy: 0.1738\n",
            "Epoch 7: ReduceLROnPlateau reducing learning rate to 0.004999999888241291.\n",
            "16/16 [==============================] - 40s 2s/step - loss: 0.0078 - accuracy: 0.9908 - ignore_accuracy: 0.1738 - val_loss: 0.0675 - val_accuracy: 0.9138 - val_ignore_accuracy: 0.1587 - lr: 0.0100\n",
            "Epoch 8/20\n",
            "16/16 [==============================] - 40s 3s/step - loss: 0.0039 - accuracy: 0.9966 - ignore_accuracy: 0.1747 - val_loss: 0.0673 - val_accuracy: 0.9181 - val_ignore_accuracy: 0.1596 - lr: 0.0050\n",
            "Epoch 9/20\n",
            "16/16 [==============================] - ETA: 0s - loss: 0.0023 - accuracy: 0.9987 - ignore_accuracy: 0.1752\n",
            "Epoch 9: ReduceLROnPlateau reducing learning rate to 0.0024999999441206455.\n",
            "16/16 [==============================] - 39s 2s/step - loss: 0.0023 - accuracy: 0.9987 - ignore_accuracy: 0.1752 - val_loss: 0.0696 - val_accuracy: 0.9181 - val_ignore_accuracy: 0.1595 - lr: 0.0050\n",
            "Epoch 10/20\n",
            "16/16 [==============================] - 40s 3s/step - loss: 0.0017 - accuracy: 0.9994 - ignore_accuracy: 0.1753 - val_loss: 0.0700 - val_accuracy: 0.9201 - val_ignore_accuracy: 0.1600 - lr: 0.0025\n",
            "Epoch 11/20\n",
            "16/16 [==============================] - ETA: 0s - loss: 0.0014 - accuracy: 0.9995 - ignore_accuracy: 0.1753\n",
            "Epoch 11: ReduceLROnPlateau reducing learning rate to 0.0012499999720603228.\n",
            "16/16 [==============================] - 40s 3s/step - loss: 0.0014 - accuracy: 0.9995 - ignore_accuracy: 0.1753 - val_loss: 0.0714 - val_accuracy: 0.9193 - val_ignore_accuracy: 0.1598 - lr: 0.0025\n",
            "Epoch 12/20\n",
            "16/16 [==============================] - ETA: 0s - loss: 0.0013 - accuracy: 0.9997 - ignore_accuracy: 0.1755\n",
            "Epoch 12: ReduceLROnPlateau reducing learning rate to 0.001.\n",
            "16/16 [==============================] - 40s 3s/step - loss: 0.0013 - accuracy: 0.9997 - ignore_accuracy: 0.1755 - val_loss: 0.0718 - val_accuracy: 0.9191 - val_ignore_accuracy: 0.1598 - lr: 0.0012\n",
            "Epoch 13/20\n",
            "16/16 [==============================] - ETA: 0s - loss: 0.0012 - accuracy: 0.9997 - ignore_accuracy: 0.1754Restoring model weights from the end of the best epoch: 10.\n",
            "16/16 [==============================] - 40s 3s/step - loss: 0.0012 - accuracy: 0.9997 - ignore_accuracy: 0.1754 - val_loss: 0.0721 - val_accuracy: 0.9194 - val_ignore_accuracy: 0.1598 - lr: 0.0010\n",
            "Epoch 13: early stopping\n"
          ]
        }
      ],
      "source": [
        "results_add_fc = add_fc_model.fit(X_train, y_train_one_hot, epochs=20, verbose = True, validation_data=(X_val, y_val_one_hot), batch_size=128, callbacks = callbacks)"
      ]
    },
    {
      "cell_type": "code",
      "execution_count": 220,
      "metadata": {
        "id": "dsOyrHcWE62j",
        "colab": {
          "base_uri": "https://localhost:8080/"
        },
        "outputId": "1eaaaccd-87e6-4d3e-a8ed-6190bae63b0c"
      },
      "outputs": [
        {
          "output_type": "stream",
          "name": "stdout",
          "text": [
            "41/41 [==============================] - 11s 280ms/step - loss: 0.0700 - accuracy: 0.9201 - ignore_accuracy: 0.1619\n",
            "41/41 [==============================] - 14s 272ms/step\n"
          ]
        }
      ],
      "source": [
        "scores_add_fc = add_fc_model.evaluate(X_val, y_val_one_hot, return_dict = True)\n",
        "predictions_add_fc = add_fc_model.predict(X_val)"
      ]
    },
    {
      "cell_type": "code",
      "execution_count": 221,
      "metadata": {
        "id": "7nKMHckAP4bZ"
      },
      "outputs": [],
      "source": [
        "# Convert the class probabilities into class labels\n",
        "predicted_labels_add_fc = np.argmax(predictions_add_fc, axis=-1)\n",
        "\n",
        "true_pos_add_fc, false_pos_add_fc, false_neg_add_fc, precision_add_fc, recall_add_fc, f1score_add_fc = compute_metrics(predicted_labels_add_fc, tags_test, ignore, y_val, index2tag)\n"
      ]
    },
    {
      "cell_type": "code",
      "execution_count": 222,
      "metadata": {
        "id": "4U2eLG-dQPZ4",
        "colab": {
          "base_uri": "https://localhost:8080/"
        },
        "outputId": "4676e895-c210-4808-d599-10240fb00237"
      },
      "outputs": [
        {
          "output_type": "stream",
          "name": "stdout",
          "text": [
            "MACRO F1-score: 0.846299970539172\n"
          ]
        }
      ],
      "source": [
        "macro_f1_add_fc = macro_f1_score(f1score_add_fc)"
      ]
    },
    {
      "cell_type": "markdown",
      "metadata": {
        "id": "d9ZTfE8sE81P"
      },
      "source": [
        "## 4. Comparisons\n"
      ]
    },
    {
      "cell_type": "code",
      "source": [
        "# Sample data\n",
        "data = [macro_f1_bl,macro_f1_gru,macro_f1_add_lstm,macro_f1_add_fc]\n",
        "\n",
        "# Create figure\n",
        "fig = go.Figure(data=[go.Bar(x=['Baseline','GRU', 'Add. LSTM', 'Add. FC'], y=data)])\n",
        "\n",
        "# Set titles for axes\n",
        "fig.update_layout(xaxis_title='Models', yaxis_title='Macro F1')\n",
        "\n",
        "# Show plot\n",
        "fig.show()\n"
      ],
      "metadata": {
        "colab": {
          "base_uri": "https://localhost:8080/",
          "height": 542
        },
        "id": "ShQ9GoTGzTK-",
        "outputId": "a8199be7-5371-4f99-a3de-cbff8d1d2eb2"
      },
      "execution_count": 223,
      "outputs": [
        {
          "output_type": "display_data",
          "data": {
            "text/html": [
              "<html>\n",
              "<head><meta charset=\"utf-8\" /></head>\n",
              "<body>\n",
              "    <div>            <script src=\"https://cdnjs.cloudflare.com/ajax/libs/mathjax/2.7.5/MathJax.js?config=TeX-AMS-MML_SVG\"></script><script type=\"text/javascript\">if (window.MathJax) {MathJax.Hub.Config({SVG: {font: \"STIX-Web\"}});}</script>                <script type=\"text/javascript\">window.PlotlyConfig = {MathJaxConfig: 'local'};</script>\n",
              "        <script src=\"https://cdn.plot.ly/plotly-2.8.3.min.js\"></script>                <div id=\"01022b26-78eb-4fe2-ba6f-f0da3db6a786\" class=\"plotly-graph-div\" style=\"height:525px; width:100%;\"></div>            <script type=\"text/javascript\">                                    window.PLOTLYENV=window.PLOTLYENV || {};                                    if (document.getElementById(\"01022b26-78eb-4fe2-ba6f-f0da3db6a786\")) {                    Plotly.newPlot(                        \"01022b26-78eb-4fe2-ba6f-f0da3db6a786\",                        [{\"x\":[\"Baseline\",\"GRU\",\"Add. LSTM\",\"Add. FC\"],\"y\":[0.7680624437657839,0.83530029602573,0.8729366209907499,0.846299970539172],\"type\":\"bar\"}],                        {\"template\":{\"data\":{\"bar\":[{\"error_x\":{\"color\":\"#2a3f5f\"},\"error_y\":{\"color\":\"#2a3f5f\"},\"marker\":{\"line\":{\"color\":\"#E5ECF6\",\"width\":0.5},\"pattern\":{\"fillmode\":\"overlay\",\"size\":10,\"solidity\":0.2}},\"type\":\"bar\"}],\"barpolar\":[{\"marker\":{\"line\":{\"color\":\"#E5ECF6\",\"width\":0.5},\"pattern\":{\"fillmode\":\"overlay\",\"size\":10,\"solidity\":0.2}},\"type\":\"barpolar\"}],\"carpet\":[{\"aaxis\":{\"endlinecolor\":\"#2a3f5f\",\"gridcolor\":\"white\",\"linecolor\":\"white\",\"minorgridcolor\":\"white\",\"startlinecolor\":\"#2a3f5f\"},\"baxis\":{\"endlinecolor\":\"#2a3f5f\",\"gridcolor\":\"white\",\"linecolor\":\"white\",\"minorgridcolor\":\"white\",\"startlinecolor\":\"#2a3f5f\"},\"type\":\"carpet\"}],\"choropleth\":[{\"colorbar\":{\"outlinewidth\":0,\"ticks\":\"\"},\"type\":\"choropleth\"}],\"contour\":[{\"colorbar\":{\"outlinewidth\":0,\"ticks\":\"\"},\"colorscale\":[[0.0,\"#0d0887\"],[0.1111111111111111,\"#46039f\"],[0.2222222222222222,\"#7201a8\"],[0.3333333333333333,\"#9c179e\"],[0.4444444444444444,\"#bd3786\"],[0.5555555555555556,\"#d8576b\"],[0.6666666666666666,\"#ed7953\"],[0.7777777777777778,\"#fb9f3a\"],[0.8888888888888888,\"#fdca26\"],[1.0,\"#f0f921\"]],\"type\":\"contour\"}],\"contourcarpet\":[{\"colorbar\":{\"outlinewidth\":0,\"ticks\":\"\"},\"type\":\"contourcarpet\"}],\"heatmap\":[{\"colorbar\":{\"outlinewidth\":0,\"ticks\":\"\"},\"colorscale\":[[0.0,\"#0d0887\"],[0.1111111111111111,\"#46039f\"],[0.2222222222222222,\"#7201a8\"],[0.3333333333333333,\"#9c179e\"],[0.4444444444444444,\"#bd3786\"],[0.5555555555555556,\"#d8576b\"],[0.6666666666666666,\"#ed7953\"],[0.7777777777777778,\"#fb9f3a\"],[0.8888888888888888,\"#fdca26\"],[1.0,\"#f0f921\"]],\"type\":\"heatmap\"}],\"heatmapgl\":[{\"colorbar\":{\"outlinewidth\":0,\"ticks\":\"\"},\"colorscale\":[[0.0,\"#0d0887\"],[0.1111111111111111,\"#46039f\"],[0.2222222222222222,\"#7201a8\"],[0.3333333333333333,\"#9c179e\"],[0.4444444444444444,\"#bd3786\"],[0.5555555555555556,\"#d8576b\"],[0.6666666666666666,\"#ed7953\"],[0.7777777777777778,\"#fb9f3a\"],[0.8888888888888888,\"#fdca26\"],[1.0,\"#f0f921\"]],\"type\":\"heatmapgl\"}],\"histogram\":[{\"marker\":{\"pattern\":{\"fillmode\":\"overlay\",\"size\":10,\"solidity\":0.2}},\"type\":\"histogram\"}],\"histogram2d\":[{\"colorbar\":{\"outlinewidth\":0,\"ticks\":\"\"},\"colorscale\":[[0.0,\"#0d0887\"],[0.1111111111111111,\"#46039f\"],[0.2222222222222222,\"#7201a8\"],[0.3333333333333333,\"#9c179e\"],[0.4444444444444444,\"#bd3786\"],[0.5555555555555556,\"#d8576b\"],[0.6666666666666666,\"#ed7953\"],[0.7777777777777778,\"#fb9f3a\"],[0.8888888888888888,\"#fdca26\"],[1.0,\"#f0f921\"]],\"type\":\"histogram2d\"}],\"histogram2dcontour\":[{\"colorbar\":{\"outlinewidth\":0,\"ticks\":\"\"},\"colorscale\":[[0.0,\"#0d0887\"],[0.1111111111111111,\"#46039f\"],[0.2222222222222222,\"#7201a8\"],[0.3333333333333333,\"#9c179e\"],[0.4444444444444444,\"#bd3786\"],[0.5555555555555556,\"#d8576b\"],[0.6666666666666666,\"#ed7953\"],[0.7777777777777778,\"#fb9f3a\"],[0.8888888888888888,\"#fdca26\"],[1.0,\"#f0f921\"]],\"type\":\"histogram2dcontour\"}],\"mesh3d\":[{\"colorbar\":{\"outlinewidth\":0,\"ticks\":\"\"},\"type\":\"mesh3d\"}],\"parcoords\":[{\"line\":{\"colorbar\":{\"outlinewidth\":0,\"ticks\":\"\"}},\"type\":\"parcoords\"}],\"pie\":[{\"automargin\":true,\"type\":\"pie\"}],\"scatter\":[{\"marker\":{\"colorbar\":{\"outlinewidth\":0,\"ticks\":\"\"}},\"type\":\"scatter\"}],\"scatter3d\":[{\"line\":{\"colorbar\":{\"outlinewidth\":0,\"ticks\":\"\"}},\"marker\":{\"colorbar\":{\"outlinewidth\":0,\"ticks\":\"\"}},\"type\":\"scatter3d\"}],\"scattercarpet\":[{\"marker\":{\"colorbar\":{\"outlinewidth\":0,\"ticks\":\"\"}},\"type\":\"scattercarpet\"}],\"scattergeo\":[{\"marker\":{\"colorbar\":{\"outlinewidth\":0,\"ticks\":\"\"}},\"type\":\"scattergeo\"}],\"scattergl\":[{\"marker\":{\"colorbar\":{\"outlinewidth\":0,\"ticks\":\"\"}},\"type\":\"scattergl\"}],\"scattermapbox\":[{\"marker\":{\"colorbar\":{\"outlinewidth\":0,\"ticks\":\"\"}},\"type\":\"scattermapbox\"}],\"scatterpolar\":[{\"marker\":{\"colorbar\":{\"outlinewidth\":0,\"ticks\":\"\"}},\"type\":\"scatterpolar\"}],\"scatterpolargl\":[{\"marker\":{\"colorbar\":{\"outlinewidth\":0,\"ticks\":\"\"}},\"type\":\"scatterpolargl\"}],\"scatterternary\":[{\"marker\":{\"colorbar\":{\"outlinewidth\":0,\"ticks\":\"\"}},\"type\":\"scatterternary\"}],\"surface\":[{\"colorbar\":{\"outlinewidth\":0,\"ticks\":\"\"},\"colorscale\":[[0.0,\"#0d0887\"],[0.1111111111111111,\"#46039f\"],[0.2222222222222222,\"#7201a8\"],[0.3333333333333333,\"#9c179e\"],[0.4444444444444444,\"#bd3786\"],[0.5555555555555556,\"#d8576b\"],[0.6666666666666666,\"#ed7953\"],[0.7777777777777778,\"#fb9f3a\"],[0.8888888888888888,\"#fdca26\"],[1.0,\"#f0f921\"]],\"type\":\"surface\"}],\"table\":[{\"cells\":{\"fill\":{\"color\":\"#EBF0F8\"},\"line\":{\"color\":\"white\"}},\"header\":{\"fill\":{\"color\":\"#C8D4E3\"},\"line\":{\"color\":\"white\"}},\"type\":\"table\"}]},\"layout\":{\"annotationdefaults\":{\"arrowcolor\":\"#2a3f5f\",\"arrowhead\":0,\"arrowwidth\":1},\"autotypenumbers\":\"strict\",\"coloraxis\":{\"colorbar\":{\"outlinewidth\":0,\"ticks\":\"\"}},\"colorscale\":{\"diverging\":[[0,\"#8e0152\"],[0.1,\"#c51b7d\"],[0.2,\"#de77ae\"],[0.3,\"#f1b6da\"],[0.4,\"#fde0ef\"],[0.5,\"#f7f7f7\"],[0.6,\"#e6f5d0\"],[0.7,\"#b8e186\"],[0.8,\"#7fbc41\"],[0.9,\"#4d9221\"],[1,\"#276419\"]],\"sequential\":[[0.0,\"#0d0887\"],[0.1111111111111111,\"#46039f\"],[0.2222222222222222,\"#7201a8\"],[0.3333333333333333,\"#9c179e\"],[0.4444444444444444,\"#bd3786\"],[0.5555555555555556,\"#d8576b\"],[0.6666666666666666,\"#ed7953\"],[0.7777777777777778,\"#fb9f3a\"],[0.8888888888888888,\"#fdca26\"],[1.0,\"#f0f921\"]],\"sequentialminus\":[[0.0,\"#0d0887\"],[0.1111111111111111,\"#46039f\"],[0.2222222222222222,\"#7201a8\"],[0.3333333333333333,\"#9c179e\"],[0.4444444444444444,\"#bd3786\"],[0.5555555555555556,\"#d8576b\"],[0.6666666666666666,\"#ed7953\"],[0.7777777777777778,\"#fb9f3a\"],[0.8888888888888888,\"#fdca26\"],[1.0,\"#f0f921\"]]},\"colorway\":[\"#636efa\",\"#EF553B\",\"#00cc96\",\"#ab63fa\",\"#FFA15A\",\"#19d3f3\",\"#FF6692\",\"#B6E880\",\"#FF97FF\",\"#FECB52\"],\"font\":{\"color\":\"#2a3f5f\"},\"geo\":{\"bgcolor\":\"white\",\"lakecolor\":\"white\",\"landcolor\":\"#E5ECF6\",\"showlakes\":true,\"showland\":true,\"subunitcolor\":\"white\"},\"hoverlabel\":{\"align\":\"left\"},\"hovermode\":\"closest\",\"mapbox\":{\"style\":\"light\"},\"paper_bgcolor\":\"white\",\"plot_bgcolor\":\"#E5ECF6\",\"polar\":{\"angularaxis\":{\"gridcolor\":\"white\",\"linecolor\":\"white\",\"ticks\":\"\"},\"bgcolor\":\"#E5ECF6\",\"radialaxis\":{\"gridcolor\":\"white\",\"linecolor\":\"white\",\"ticks\":\"\"}},\"scene\":{\"xaxis\":{\"backgroundcolor\":\"#E5ECF6\",\"gridcolor\":\"white\",\"gridwidth\":2,\"linecolor\":\"white\",\"showbackground\":true,\"ticks\":\"\",\"zerolinecolor\":\"white\"},\"yaxis\":{\"backgroundcolor\":\"#E5ECF6\",\"gridcolor\":\"white\",\"gridwidth\":2,\"linecolor\":\"white\",\"showbackground\":true,\"ticks\":\"\",\"zerolinecolor\":\"white\"},\"zaxis\":{\"backgroundcolor\":\"#E5ECF6\",\"gridcolor\":\"white\",\"gridwidth\":2,\"linecolor\":\"white\",\"showbackground\":true,\"ticks\":\"\",\"zerolinecolor\":\"white\"}},\"shapedefaults\":{\"line\":{\"color\":\"#2a3f5f\"}},\"ternary\":{\"aaxis\":{\"gridcolor\":\"white\",\"linecolor\":\"white\",\"ticks\":\"\"},\"baxis\":{\"gridcolor\":\"white\",\"linecolor\":\"white\",\"ticks\":\"\"},\"bgcolor\":\"#E5ECF6\",\"caxis\":{\"gridcolor\":\"white\",\"linecolor\":\"white\",\"ticks\":\"\"}},\"title\":{\"x\":0.05},\"xaxis\":{\"automargin\":true,\"gridcolor\":\"white\",\"linecolor\":\"white\",\"ticks\":\"\",\"title\":{\"standoff\":15},\"zerolinecolor\":\"white\",\"zerolinewidth\":2},\"yaxis\":{\"automargin\":true,\"gridcolor\":\"white\",\"linecolor\":\"white\",\"ticks\":\"\",\"title\":{\"standoff\":15},\"zerolinecolor\":\"white\",\"zerolinewidth\":2}}},\"xaxis\":{\"title\":{\"text\":\"Models\"}},\"yaxis\":{\"title\":{\"text\":\"Macro F1\"}}},                        {\"responsive\": true}                    ).then(function(){\n",
              "                            \n",
              "var gd = document.getElementById('01022b26-78eb-4fe2-ba6f-f0da3db6a786');\n",
              "var x = new MutationObserver(function (mutations, observer) {{\n",
              "        var display = window.getComputedStyle(gd).display;\n",
              "        if (!display || display === 'none') {{\n",
              "            console.log([gd, 'removed!']);\n",
              "            Plotly.purge(gd);\n",
              "            observer.disconnect();\n",
              "        }}\n",
              "}});\n",
              "\n",
              "// Listen for the removal of the full notebook cells\n",
              "var notebookContainer = gd.closest('#notebook-container');\n",
              "if (notebookContainer) {{\n",
              "    x.observe(notebookContainer, {childList: true});\n",
              "}}\n",
              "\n",
              "// Listen for the clearing of the current output cell\n",
              "var outputEl = gd.closest('.output');\n",
              "if (outputEl) {{\n",
              "    x.observe(outputEl, {childList: true});\n",
              "}}\n",
              "\n",
              "                        })                };                            </script>        </div>\n",
              "</body>\n",
              "</html>"
            ]
          },
          "metadata": {}
        }
      ]
    },
    {
      "cell_type": "code",
      "execution_count": null,
      "metadata": {
        "colab": {
          "base_uri": "https://localhost:8080/"
        },
        "id": "60fNmjrgpCE3",
        "outputId": "402d67c6-af69-4289-c6b9-1abe1ba0a7b9"
      },
      "outputs": [
        {
          "name": "stdout",
          "output_type": "stream",
          "text": [
            "OrderedDict([(0, '#'), (1, '$'), (2, \"''\"), (3, ','), (4, '-LRB-'), (5, '-NONE-'), (6, '-RRB-'), (7, '.'), (8, ':'), (9, 'CC'), (10, 'CD'), (11, 'DT'), (12, 'EX'), (13, 'FW'), (14, 'IN'), (15, 'JJ'), (16, 'JJR'), (17, 'JJS'), (18, 'LS'), (19, 'MD'), (20, 'NN'), (21, 'NNP'), (22, 'NNPS'), (23, 'NNS'), (24, 'PDT'), (25, 'POS'), (26, 'PRP'), (27, 'PRP$'), (28, 'RB'), (29, 'RBR'), (30, 'RBS'), (31, 'RP'), (32, 'SYM'), (33, 'TO'), (34, 'UH'), (35, 'VB'), (36, 'VBD'), (37, 'VBG'), (38, 'VBN'), (39, 'VBP'), (40, 'VBZ'), (41, 'WDT'), (42, 'WP'), (43, 'WP$'), (44, 'WRB'), (45, '``')])\n"
          ]
        }
      ],
      "source": [
        "print(index2tag)"
      ]
    },
    {
      "cell_type": "code",
      "execution_count": 224,
      "metadata": {
        "id": "QKhtcyT-cf6C",
        "colab": {
          "base_uri": "https://localhost:8080/"
        },
        "outputId": "f8ce50cb-4cf1-401a-d38b-3fcdd2436bf3"
      },
      "outputs": [
        {
          "output_type": "stream",
          "name": "stdout",
          "text": [
            "Test sentence: ['The', 'sad', 'reality', 'is', 'that', 'the', 'retail', 'investor', 'continues', 'to', 'pursue', 'stellar', 'performers', 'first', ',', 'while', 'leaving', 'institutions', 'to', 'grapple', 'with', 'basis', 'points', 'of', 'performance', 'on', 'large', 'sums', 'of', 'money', 'quarter', 'by', 'quarter', '.']\n",
            "Ground truth tags: ['DT', 'JJ', 'NN', 'VBZ', 'IN', 'DT', 'JJ', 'NN', 'VBZ', 'TO', 'VB', 'JJ', 'NNS', 'RB', ',', 'IN', 'VBG', 'NNS', 'TO', 'VB', 'IN', 'NN', 'NNS', 'IN', 'NN', 'IN', 'JJ', 'NNS', 'IN', 'NN', 'NN', 'IN', 'NN', '.']\n",
            "Baseline predictions: ['DT', 'JJ', 'NN', 'VBZ', 'IN', '.', 'JJ', 'NN', 'VBZ', 'TO', 'VB', 'JJ', 'NNS', 'JJ', ',', 'IN', 'VBG', 'NNS', 'TO', 'VB', 'IN', 'JJ', 'NNS', 'IN', 'NN', 'IN', 'JJ', 'NNS', 'IN', 'NN', 'NN', 'IN', 'NN', '.', '.', '.', '.', '.', '.', '.', '.', '.', '.', '.', '.', '.', '.', '.', '.', '.', '.', '.', '.', '.', '.', '.', '.', '.', '.', '.', '.', '.', '.', '.', '.', '.', '.', '.', '.', '.', '.', '.', '.', '.', '.', '.', '.', '.', '.', '.', '.', '.', '.', '.', '.', '.', '.', '.', '.', '.', '.', '.', '.', '.', '.', '.', '.', '.', '.', '.', '.', '.', '.', '.', '.', '.', '.', '.', '.', '.', '.', '.', '.', '.']\n",
            "GRU predictions: ['DT', 'NN', 'NN', 'VBZ', 'IN', 'IN', 'JJ', 'NN', 'VBZ', 'TO', 'VB', 'JJ', 'NNS', 'JJ', ',', 'IN', 'VBG', 'NNS', 'TO', 'VB', 'IN', 'JJ', 'NNS', 'IN', 'NN', 'IN', 'JJ', 'NNS', 'IN', 'NN', 'NN', 'IN', 'NN', '.', '.', '.', '.', '.', '.', '.', '.', '.', '.', '.', '.', '.', '.', '.', '.', '.', '.', '.', '.', '.', '.', '.', '.', '.', '.', '.', '.', '.', '.', '.', '.', '.', '.', '.', '.', '.', '.', '.', '.', '.', '.', '.', '.', '.', '.', '.', '.', '.', '.', '.', '.', '.', '.', '.', '.', '.', '.', '.', '.', '.', '.', '.', '.', '.', '.', '.', '.', '.', '.', '.', '.', '.', '.', '.', '.', '.', '.', '.', '.', '.']\n",
            "Additional LSTM layer predictions: ['DT', 'JJ', 'NN', 'VBZ', 'IN', '.', 'JJ', 'NN', 'VBZ', 'TO', 'VB', 'JJ', 'NNS', 'JJ', ',', 'IN', 'VBG', 'NNS', 'TO', 'VB', 'IN', 'JJ', 'NNS', 'IN', 'NN', 'IN', 'JJ', 'NNS', 'IN', 'NN', 'VBD', 'IN', 'NN', '.', '.', '.', '.', '.', '.', '.', '.', '.', '.', '.', '.', '.', '.', '.', '.', '.', '.', '.', '.', '.', '.', '.', '.', '.', '.', '.', '.', '.', '.', '.', '.', '.', '.', '.', '.', '.', '.', '.', '.', '.', '.', '.', '.', '.', '.', '.', '.', '.', '.', '.', '.', '.', '.', '.', '.', '.', '.', '.', '.', '.', '.', '.', '.', '.', '.', '.', '.', '.', '.', '.', '.', '.', '.', '.', '.', '.', '.', '.', '.', '.']\n",
            "Additional FC layer predictions: ['DT', 'JJ', 'NN', 'VBZ', 'IN', 'IN', 'JJ', 'NN', 'VBZ', 'TO', 'VB', 'JJ', 'NNS', 'JJ', ',', 'IN', 'VBG', 'NNS', 'TO', 'VB', 'IN', 'JJ', 'NNS', 'IN', 'NN', 'IN', 'JJ', 'NNS', 'IN', 'NN', 'NN', 'IN', 'NN', '.', 'IN', 'IN', 'IN', 'IN', 'IN', 'IN', 'IN', 'IN', 'IN', 'IN', 'IN', 'IN', 'IN', 'IN', 'IN', 'IN', 'IN', 'IN', 'IN', 'IN', 'IN', 'IN', 'IN', 'IN', 'IN', 'IN', 'IN', 'IN', 'IN', 'IN', 'IN', 'IN', 'IN', 'IN', 'IN', 'IN', 'IN', 'IN', 'IN', 'IN', 'IN', 'IN', 'IN', 'IN', 'IN', 'IN', 'IN', 'IN', 'IN', 'IN', 'IN', 'IN', 'IN', 'IN', 'IN', 'IN', 'IN', 'IN', 'IN', 'IN', 'IN', 'IN', 'IN', 'IN', 'IN', 'IN', 'IN', 'IN', 'IN', 'IN', 'IN', 'IN', 'IN', 'IN', 'IN', 'IN', 'IN', 'IN', 'IN', 'IN']\n"
          ]
        }
      ],
      "source": [
        "#Test phrase\n",
        "np.random.seed(41)\n",
        "idx = np.random.randint(0, len(X_val_np))\n",
        "\n",
        "print(f'Test sentence: {[index2word[word] for word in X_val_np[idx]]}') \n",
        "\n",
        "#ground truth\n",
        "print(f'Ground truth tags: {[index2tag[tag] for tag in y_val_np[idx]]}')\n",
        "\n",
        "#test bl\n",
        "print(f'Baseline predictions: {[index2tag[tag] for tag in predicted_labels_bl[idx]]}')\n",
        "#test gru\n",
        "print(f'GRU predictions: {[index2tag[tag] for tag in predicted_labels_gru[idx]]}')\n",
        "#test add lstm\n",
        "print(f'Additional LSTM layer predictions: {[index2tag[tag] for tag in predicted_labels_add_lstm[idx]]}')\n",
        "#test add fc\n",
        "print(f'Additional FC layer predictions: {[index2tag[tag] for tag in predicted_labels_add_fc[idx]]}')\n",
        "\n"
      ]
    },
    {
      "cell_type": "code",
      "execution_count": 225,
      "metadata": {
        "id": "PmH-ZgHak9ae",
        "colab": {
          "base_uri": "https://localhost:8080/"
        },
        "outputId": "3aa21be9-5105-446c-daef-4d09776ecf73"
      },
      "outputs": [
        {
          "output_type": "stream",
          "name": "stdout",
          "text": [
            "21/21 [==============================] - 12s 584ms/step\n",
            "No true positive for tag: PDT\n",
            "0\n",
            "0\n",
            "4\n",
            "\n",
            "MACRO F1-score: 0.8760942185008852\n"
          ]
        }
      ],
      "source": [
        "#Computing macro scores on test set\n",
        "#Additional LSTM layer\n",
        "predictions_add_lstm_test = add_lstm_model.predict(X_test)\n",
        "\n",
        "predicted_labels_add_lstm_test = np.argmax(predictions_add_lstm_test, axis=-1)\n",
        "\n",
        "true_pos_add_lstm_test, false_pos_add_lstm_test, false_neg_add_lstm_test, precision_add_lstm_test, recall_add_lstm_test, f1score_add_lstm_test = compute_metrics(predicted_labels_add_lstm_test, tags_test, ignore, y_test, index2tag)\n",
        "\n",
        "macro_f1_add_lstm_test = macro_f1_score(f1score_add_lstm_test)"
      ]
    },
    {
      "cell_type": "code",
      "source": [
        "#Computing macro scores on test set\n",
        "#Additional FC layer\n",
        "predictions_add_fc_test = add_fc_model.predict(X_test)\n",
        "\n",
        "predicted_labels_add_fc_test = np.argmax(predictions_add_fc_test, axis=-1)\n",
        "\n",
        "true_pos_add_fc_test, false_pos_add_fc_test, false_neg_add_fc_test, precision_add_fc_test, recall_add_fc_test, f1score_add_fc_test = compute_metrics(predicted_labels_add_fc_test, tags_test, ignore, y_test, index2tag)\n",
        "\n",
        "macro_f1_add_fc_test = macro_f1_score(f1score_add_fc_test)"
      ],
      "metadata": {
        "colab": {
          "base_uri": "https://localhost:8080/"
        },
        "id": "6ErUcAHqIEWY",
        "outputId": "043033a1-6a3d-4e17-f496-74a87b62ac64"
      },
      "execution_count": 104,
      "outputs": [
        {
          "output_type": "stream",
          "name": "stdout",
          "text": [
            "21/21 [==============================] - 6s 273ms/step\n",
            "No true positive for tag: NNPS\n",
            "0\n",
            "0\n",
            "44\n",
            "\n",
            "No true positive for tag: PDT\n",
            "0\n",
            "0\n",
            "4\n",
            "\n",
            "No true positive for tag: RBS\n",
            "0\n",
            "2\n",
            "3\n",
            "\n",
            "MACRO F1-score: 0.8559268704922863\n"
          ]
        }
      ]
    },
    {
      "cell_type": "code",
      "execution_count": null,
      "metadata": {
        "id": "HxBqGcszE-Ui"
      },
      "outputs": [],
      "source": [
        "# # Create a list of epochs (i.e., the x-axis data)\n",
        "epochs = list(range(1, len(results_baseline.history['val_accuracy'])+1))\n",
        "\n",
        "# # Create a Plotly line plot using the epochs and validation accuracy data\n",
        "fig = go.Figure()\n",
        "fig.add_trace(go.Scatter(x=epochs, y=results_baseline.history['val_accuracy'], name='Baseline - BiLSTM Model', mode='lines+markers'))\n",
        "fig.add_trace(go.Scatter(x=epochs, y=results_gru.history['val_accuracy'], name='GRU Model', mode='lines+markers'))\n",
        "fig.show()\n",
        "\n",
        "# Create a list of epochs (i.e., the x-axis data)\n",
        "epochs = list(range(1, len(results_add_lstm.history['val_accuracy'])+1))\n",
        "\n",
        "fig2 = go.Figure()\n",
        "fig2.add_trace(go.Scatter(x=epochs, y=results_add_lstm.history['val_accuracy'], name='2 BiLSTMs Model', mode='lines+markers'))\n",
        "fig2.add_trace(go.Scatter(x=epochs, y=results_add_fc.history['val_accuracy'], name='2 FCs Model', mode='lines+markers'))\n",
        "fig2.show()"
      ]
    }
  ],
  "metadata": {
    "colab": {
      "provenance": []
    },
    "kernelspec": {
      "display_name": "Python 3",
      "name": "python3"
    },
    "language_info": {
      "name": "python"
    }
  },
  "nbformat": 4,
  "nbformat_minor": 0
}