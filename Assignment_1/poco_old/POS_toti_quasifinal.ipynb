{
  "cells": [
    {
      "cell_type": "markdown",
      "metadata": {
        "id": "013gFxfmSmXR"
      },
      "source": [
        "https://github.com/pranavphoenix/BiLSTM-POS-Tagging/blob/main/BiLSTM_POS_Tagging.ipynb\n",
        "\n",
        "https://linguistics.stackexchange.com/questions/16897/unable-to-understand-meaning-of-tag-none-1-in-penn-treebank-example\n",
        "\n",
        "TODO:\n",
        "- Cacasburo\n",
        "- Guardare creazione dizionario, bisogna rispettare i punti dell'assignment;\n",
        "- Non togliere punctuation e symbols ma evitare di utilizzarli nel calcolo delle metriche, magari utilizzando l'array di pesi 'sample_weight' che si trova nell'altro notebook;\n",
        "- Provare se i risultati migliorano con preprocessing (e.g. lowerando le parole);\n",
        "- Aggiustare il notebook perché fa cagare;"
      ]
    },
    {
      "cell_type": "markdown",
      "metadata": {
        "id": "Y0BInycOeQL6"
      },
      "source": [
        "# Assignment 1\n",
        "\n",
        "**Due to**: 11/01/2022 (dd/mm/yyyy)\n",
        "\n",
        "If you deliver it by 11/12/2021 your assignment will be graded by 11/01/2022.\n",
        "\n",
        "\n",
        "**Credits**: Andrea Galassi, Federico Ruggeri, Paolo Torroni\n",
        "\n",
        "**Summary**: Part-of Speech (POS) tagging as Sequence Labelling using Recurrent Neural Architectures\n",
        "\n",
        "# Execution\n",
        "## 0.1 Imports"
      ]
    },
    {
      "cell_type": "code",
      "execution_count": 2,
      "metadata": {
        "id": "iZyCAH8nVzwS"
      },
      "outputs": [],
      "source": [
        "import nltk\n",
        "import numpy as np\n",
        "import os\n",
        "import re\n",
        "import pandas as pd\n",
        "import seaborn as sns\n",
        "import tensorflow as tf\n",
        "from collections import defaultdict, OrderedDict\n",
        "\n",
        "\n",
        "from keras import backend as K\n",
        "from keras.layers import Dense, LSTM, InputLayer, Bidirectional, TimeDistributed, GRU\n",
        "from keras.layers import Embedding, Activation\n",
        "from keras.models import Sequential\n",
        "from keras.optimizers import Adam\n",
        "from keras_preprocessing.sequence import pad_sequences\n",
        "from keras.utils.np_utils import to_categorical\n",
        "\n",
        "import urllib.request\n",
        "import zipfile\n",
        "import progressbar\n",
        "from IPython.display import display_html\n",
        "from itertools import chain,cycle\n",
        "import plotly.graph_objs as go"
      ]
    },
    {
      "cell_type": "markdown",
      "metadata": {
        "id": "6adQpSgiV3A3"
      },
      "source": [
        "## 0.2 Functions"
      ]
    },
    {
      "cell_type": "code",
      "execution_count": 3,
      "metadata": {
        "id": "sxL2umB0D19Y"
      },
      "outputs": [],
      "source": [
        "# Preprocessing of words\n",
        "def pre_process(df,string):\n",
        "    def text_pre_process(text):\n",
        "        ret = re.sub('RT @(.)+?:\\s|(&#[0-9]+;)|@([\\w\\-]+)|(#)\\S+|(http)s?\\S+|&gt;|^\\s+|\\b\\s+|\\n', '', text)\n",
        "        ret = re.sub('\\s\\s+|[^a-zA-Z\\d\\s:]' , ' ', ret).rstrip().lower()\n",
        "        return ret\n",
        "    return df[string].apply(text_pre_process)\n",
        "\n",
        "# Downloading Glove Word Embeddings\n",
        "pbar = None\n",
        "def show_progress(block_num, block_size, total_size):\n",
        "    global pbar\n",
        "    if pbar is None:\n",
        "        pbar = progressbar.ProgressBar(maxval=total_size)\n",
        "        pbar.start()\n",
        "\n",
        "    downloaded = block_num * block_size\n",
        "    if downloaded < total_size:\n",
        "        pbar.update(downloaded)\n",
        "    else:\n",
        "        pbar.finish()\n",
        "        pbar = None\n",
        "\n",
        "# Display dataframes\n",
        "def display(*args,titles=cycle([''])):\n",
        "    html_str=''\n",
        "    for df,title in zip(args, chain(titles,cycle(['</br>'])) ):\n",
        "        html_str+='<th style=\"text-align:left\"><td style=\"vertical-align:top\">'\n",
        "        html_str+=f'<h4 style=\"text-align: left;\">{title}</h2>'\n",
        "        html_str+=df.to_html().replace('table','table style=\"display:inline\"')\n",
        "        html_str+='</td></th>'\n",
        "    display_html(html_str,raw=True)\n",
        "\n",
        "\n",
        "# Custom accuracy metric\n",
        "def ignore_class_accuracy(classes=[0]):\n",
        "    def ignore_accuracy(y_true, y_pred):\n",
        "        y_true_class = K.argmax(y_true, axis=-1)\n",
        "        y_pred_class = K.argmax(y_pred, axis=-1)\n",
        "        \n",
        "        matches = K.cast(K.equal(y_true_class, y_pred_class), 'int32')\n",
        "        for to_ignore in classes:\n",
        "          ignore_mask = K.cast(K.not_equal(y_pred_class, to_ignore), 'int32')\n",
        "          matches = matches * ignore_mask\n",
        "        accuracy = K.sum(matches) / K.maximum(K.sum(ignore_mask), 1)\n",
        "        return accuracy\n",
        "    return ignore_accuracy\n",
        "\n",
        "# Metrics computation\n",
        "def compute_metrics(predicted_labels, tags_test, ignore, y_ref, index2tag):\n",
        "  true_pos = defaultdict(int)\n",
        "  false_pos = defaultdict(int)\n",
        "  false_neg = defaultdict(int)\n",
        "  precision = defaultdict(float)\n",
        "  recall = defaultdict(float)\n",
        "  f1score = defaultdict(float)\n",
        "\n",
        "  for tag in tags_test:\n",
        "    if tag not in ignore:\n",
        "      for idx_sentence in range(len(y_ref)):\n",
        "        for idx_word in range(PAD_LENGTH):\n",
        "          if index2tag[y_ref[idx_sentence][idx_word]] == tag:\n",
        "            # If the predicted tag matches ground truth we increase true positive count for that tag\n",
        "            if predicted_labels[idx_sentence][idx_word] == y_ref[idx_sentence][idx_word]:\n",
        "              true_pos[index2tag[y_ref[idx_sentence][idx_word]]] += 1\n",
        "            else:\n",
        "            # If the predicted tag does not match ground truth we increase false negative count for that tag\n",
        "            # and false positive count for the wrongly predicted tag\n",
        "              false_neg[index2tag[y_ref[idx_sentence][idx_word]]] += 1\n",
        "              false_pos[index2tag[predicted_labels[idx_sentence][idx_word]]] += 1\n",
        "      # Then we compute precision, recall and F1 scores\n",
        "      if true_pos[tag] != 0:\n",
        "        precision[tag] = true_pos[tag] / (true_pos[tag] + false_pos[tag])\n",
        "        recall[tag] = true_pos[tag] / (true_pos[tag] + false_neg[tag])\n",
        "        f1score[tag] = 2 * ((precision[tag] * recall[tag]) / (precision[tag] + recall[tag])) \n",
        "      else:\n",
        "        print(f'No true positive for tag: {tag}')\n",
        "        print(true_pos[tag])\n",
        "        print(false_pos[tag])\n",
        "        print(false_neg[tag])\n",
        "        print()\n",
        "  return true_pos, false_pos, false_neg, precision, recall, f1score\n",
        "\n",
        "# Macro f1 score\n",
        "def macro_f1_score(f1score):\n",
        "  f1_list = [el[1] for el in f1score.items()]\n",
        "\n",
        "  sum = 0\n",
        "\n",
        "  for p in f1_list:\n",
        "    sum += p\n",
        "  macro_f1 = sum / len(f1score.items())\n",
        "  print(f'MACRO F1-score:',macro_f1)\n",
        "\n",
        "  return macro_f1\n",
        "\n",
        "# Vocabulary update\n",
        "def update_vocab(df,embeddings_index,embedding_dim):\n",
        "  oov_c = 0\n",
        "  dict_words = list(embeddings_index.keys())\n",
        "\n",
        "  for idx,row in df.iterrows():\n",
        "    if row['word'] not in dict_words:\n",
        "      same_w = 0\n",
        "\n",
        "      words_with_same_tag = list(df[df.tag == row['tag']]['word'])[:100]\n",
        "      oov_vector = np.zeros(embedding_dim)\n",
        "      for w in words_with_same_tag:\n",
        "        if w in dict_words:\n",
        "          same_w += 1\n",
        "          oov_vector += embeddings_index[w]\n",
        "\n",
        "      oov_vector = oov_vector/same_w\n",
        "\n",
        "      # words_with_same_tag = [w for w in words_with_same_tag if w in list(embeddings_index.keys())]\n",
        "      # print(len(words_with_same_tag))\n",
        "      \n",
        "      # random_embed = np.random.rand(embedding_dim)\n",
        "      # embeddings_index[word] = random_embed\n",
        "      embeddings_index[word] = oov_vector\n",
        "  print(\"Added\",oov_c,\"OOV words + respective embeddings to the vocabulary.\")\n",
        "  return embeddings_index"
      ]
    },
    {
      "cell_type": "code",
      "execution_count": 4,
      "metadata": {
        "colab": {
          "base_uri": "https://localhost:8080/"
        },
        "id": "SUWmRON8D80m",
        "outputId": "31123520-e083-48f6-d489-77ab086aab86"
      },
      "outputs": [
        {
          "output_type": "stream",
          "name": "stderr",
          "text": [
            "[nltk_data] Downloading package treebank to /root/nltk_data...\n",
            "[nltk_data]   Package treebank is already up-to-date!\n",
            "100% (862182613 of 862182613) |##########| Elapsed Time: 0:02:39 Time:  0:02:39\n"
          ]
        }
      ],
      "source": [
        "# Downloading the dataset\n",
        "nltk.download('treebank')\n",
        "\n",
        "# Download the GloVe embeddings file\n",
        "url = 'http://nlp.stanford.edu/data/glove.6B.zip'\n",
        "urllib.request.urlretrieve(url, 'glove.6B.zip', show_progress)\n",
        "\n",
        "# Extract the zip file\n",
        "zip_ref = zipfile.ZipFile('glove.6B.zip', 'r')\n",
        "zip_ref.extractall()\n",
        "zip_ref.close()"
      ]
    },
    {
      "cell_type": "markdown",
      "metadata": {
        "id": "5filE0ydeiga"
      },
      "source": [
        "## 1. Corpus\n",
        "### 1.1 Pre-processing\n",
        "\n",
        "From the original tags list we removed all the symbols and english punctuation plus:\n",
        "- FW, Foreign Word, because there are no examples in the test set;\n",
        "- UH, Interjection, because there are no examples in the test set;\n",
        "- LS, List Item Marker, because there are no examples in the test set (and because it denotes symbols as well);"
      ]
    },
    {
      "cell_type": "code",
      "execution_count": 5,
      "metadata": {
        "colab": {
          "base_uri": "https://localhost:8080/",
          "height": 611
        },
        "id": "-ulx6UMBHint",
        "outputId": "34180491-113f-454c-c577-cc2f42e99c07"
      },
      "outputs": [
        {
          "output_type": "display_data",
          "data": {
            "text/html": [
              "<th style=\"text-align:left\"><td style=\"vertical-align:top\"><h4 style=\"text-align: left;\">Training set (47356, 3)</h2><table style=\"display:inline\" border=\"1\" class=\"dataframe\">\n",
              "  <thead>\n",
              "    <tr style=\"text-align: right;\">\n",
              "      <th></th>\n",
              "      <th>word</th>\n",
              "      <th>tag</th>\n",
              "      <th>sentence</th>\n",
              "    </tr>\n",
              "  </thead>\n",
              "  <tbody>\n",
              "    <tr>\n",
              "      <th>count</th>\n",
              "      <td>47356</td>\n",
              "      <td>47356</td>\n",
              "      <td>47356</td>\n",
              "    </tr>\n",
              "    <tr>\n",
              "      <th>unique</th>\n",
              "      <td>8009</td>\n",
              "      <td>45</td>\n",
              "      <td>1963</td>\n",
              "    </tr>\n",
              "    <tr>\n",
              "      <th>top</th>\n",
              "      <td>,</td>\n",
              "      <td>NN</td>\n",
              "      <td>1854</td>\n",
              "    </tr>\n",
              "    <tr>\n",
              "      <th>freq</th>\n",
              "      <td>2570</td>\n",
              "      <td>6270</td>\n",
              "      <td>249</td>\n",
              "    </tr>\n",
              "  </tbody>\n",
              "</table style=\"display:inline\"></td></th><th style=\"text-align:left\"><td style=\"vertical-align:top\"><h4 style=\"text-align: left;\">Validation set (31183, 3)</h2><table style=\"display:inline\" border=\"1\" class=\"dataframe\">\n",
              "  <thead>\n",
              "    <tr style=\"text-align: right;\">\n",
              "      <th></th>\n",
              "      <th>word</th>\n",
              "      <th>tag</th>\n",
              "      <th>sentence</th>\n",
              "    </tr>\n",
              "  </thead>\n",
              "  <tbody>\n",
              "    <tr>\n",
              "      <th>count</th>\n",
              "      <td>31183</td>\n",
              "      <td>31183</td>\n",
              "      <td>31183</td>\n",
              "    </tr>\n",
              "    <tr>\n",
              "      <th>unique</th>\n",
              "      <td>5892</td>\n",
              "      <td>44</td>\n",
              "      <td>1299</td>\n",
              "    </tr>\n",
              "    <tr>\n",
              "      <th>top</th>\n",
              "      <td>,</td>\n",
              "      <td>NN</td>\n",
              "      <td>339</td>\n",
              "    </tr>\n",
              "    <tr>\n",
              "      <th>freq</th>\n",
              "      <td>1528</td>\n",
              "      <td>4513</td>\n",
              "      <td>81</td>\n",
              "    </tr>\n",
              "  </tbody>\n",
              "</table style=\"display:inline\"></td></th><th style=\"text-align:left\"><td style=\"vertical-align:top\"><h4 style=\"text-align: left;\">Test set (15545, 3)</h2><table style=\"display:inline\" border=\"1\" class=\"dataframe\">\n",
              "  <thead>\n",
              "    <tr style=\"text-align: right;\">\n",
              "      <th></th>\n",
              "      <th>word</th>\n",
              "      <th>tag</th>\n",
              "      <th>sentence</th>\n",
              "    </tr>\n",
              "  </thead>\n",
              "  <tbody>\n",
              "    <tr>\n",
              "      <th>count</th>\n",
              "      <td>15545</td>\n",
              "      <td>15545</td>\n",
              "      <td>15545</td>\n",
              "    </tr>\n",
              "    <tr>\n",
              "      <th>unique</th>\n",
              "      <td>3623</td>\n",
              "      <td>40</td>\n",
              "      <td>652</td>\n",
              "    </tr>\n",
              "    <tr>\n",
              "      <th>top</th>\n",
              "      <td>,</td>\n",
              "      <td>NN</td>\n",
              "      <td>232</td>\n",
              "    </tr>\n",
              "    <tr>\n",
              "      <th>freq</th>\n",
              "      <td>787</td>\n",
              "      <td>2383</td>\n",
              "      <td>58</td>\n",
              "    </tr>\n",
              "  </tbody>\n",
              "</table style=\"display:inline\"></td></th>"
            ]
          },
          "metadata": {}
        }
      ],
      "source": [
        "# Get the files' list\n",
        "fileids = nltk.corpus.treebank.fileids()\n",
        "\n",
        "# Get the Penn Treebank tagged sentences\n",
        "train_corpus = nltk.corpus.treebank.tagged_sents(fileids[:100])\n",
        "val_corpus = nltk.corpus.treebank.tagged_sents(fileids[100:150])\n",
        "test_corpus = nltk.corpus.treebank.tagged_sents(fileids[150:])\n",
        "\n",
        "# Flatten the lists\n",
        "\n",
        "train_corpus = [tuple(list(item)+[str(idx)]) for idx,sublist in enumerate(train_corpus) for item in sublist if item[1] != '-NONE-']\n",
        "val_corpus = [tuple(list(item)+[str(idx)]) for idx,sublist in enumerate(val_corpus) for item in sublist if item[1] != '-NONE-']\n",
        "test_corpus = [tuple(list(item)+[str(idx)]) for idx,sublist in enumerate(test_corpus) for item in sublist if item[1] != '-NONE-']\n",
        "\n",
        "# train_corpus = [tuple(list(item)+[str(idx)]) for idx,sublist in enumerate(train_corpus) for item in sublist if item[1] not in ignore]\n",
        "# val_corpus = [tuple(list(item)+[str(idx)]) for idx,sublist in enumerate(val_corpus) for item in sublist if item[1] not in ignore]\n",
        "# test_corpus = [tuple(list(item)+[str(idx)]) for idx,sublist in enumerate(test_corpus) for item in sublist if item[1] not in ignore]\n",
        "\n",
        "#train_corpus = [tuple(list(item)+[str(idx)]) for idx,sublist in enumerate(train_corpus) for item in sublist]\n",
        "#val_corpus = [tuple(list(item)+[str(idx)]) for idx,sublist in enumerate(val_corpus) for item in sublist]\n",
        "#test_corpus = [tuple(list(item)+[str(idx)]) for idx,sublist in enumerate(test_corpus) for item in sublist]\n",
        "\n",
        "train_df = pd.DataFrame(train_corpus, columns = ['word', 'tag', 'sentence'])\n",
        "#train_df['word'] = train_df['word'].str.lower()\n",
        "# train_df['word'] = pre_process(train_df,'word')\n",
        "\n",
        "val_df = pd.DataFrame(val_corpus, columns = ['word', 'tag', 'sentence'])\n",
        "#val_df['word'] = val_df['word'].str.lower()\n",
        "# val_df['word'] = pre_process(val_df,'word')\n",
        "\n",
        "test_df = pd.DataFrame(test_corpus, columns = ['word', 'tag', 'sentence'])\n",
        "#test_df['word'] = test_df['word'].str.lower()\n",
        "# test_df['word'] = pre_process(test_df,'word')\n",
        "\n",
        "display(train_df.describe(), val_df.describe(), test_df.describe(), titles = [f'Training set {train_df.shape}', f'Validation set {val_df.shape}', f'Test set {test_df.shape}'])"
      ]
    },
    {
      "cell_type": "code",
      "execution_count": null,
      "metadata": {
        "id": "eKteoO2I-Le7"
      },
      "outputs": [],
      "source": [
        "#lowercase to all classes but NNS and NNPS\n",
        "\n",
        "#for index, row in train_df.iterrows():\n",
        "#  if row['tag'] != 'NNP' or 'NNPS':\n",
        "#    row['word'] = row['word'].lower()\n",
        "#\n",
        "#for index, row in val_df.iterrows():\n",
        "#  if row['tag'] != 'NNP' or 'NNPS':\n",
        "#     row['word'] = row['word'].lower()\n",
        "\n",
        "# for index, row in test_df.iterrows():\n",
        "#   if row['tag'] != 'NNP' or 'NNPS':\n",
        "#     row['word'] = row['word'].lower()"
      ]
    },
    {
      "cell_type": "code",
      "execution_count": 6,
      "metadata": {
        "colab": {
          "base_uri": "https://localhost:8080/"
        },
        "id": "w6MOWORPI8Va",
        "outputId": "92a6b957-c756-4cfa-861c-8f38383d3f11"
      },
      "outputs": [
        {
          "output_type": "stream",
          "name": "stdout",
          "text": [
            "Train tags number: 45\n",
            "Train tags list: ['#', '$', \"''\", ',', '-LRB-', '-RRB-', '.', ':', 'CC', 'CD', 'DT', 'EX', 'FW', 'IN', 'JJ', 'JJR', 'JJS', 'LS', 'MD', 'NN', 'NNP', 'NNPS', 'NNS', 'PDT', 'POS', 'PRP', 'PRP$', 'RB', 'RBR', 'RBS', 'RP', 'SYM', 'TO', 'UH', 'VB', 'VBD', 'VBG', 'VBN', 'VBP', 'VBZ', 'WDT', 'WP', 'WP$', 'WRB', '``']\n",
            "\tClasses in training set for which there are no samples in validation set: ['SYM']\n",
            "\tClasses in training set for which there are no samples in test set: ['#', 'FW', 'LS', 'SYM', 'UH']\n",
            "\n",
            "Validation tags number: 44\n",
            "Validation tags list: ['#', '$', \"''\", ',', '-LRB-', '-RRB-', '.', ':', 'CC', 'CD', 'DT', 'EX', 'FW', 'IN', 'JJ', 'JJR', 'JJS', 'LS', 'MD', 'NN', 'NNP', 'NNPS', 'NNS', 'PDT', 'POS', 'PRP', 'PRP$', 'RB', 'RBR', 'RBS', 'RP', 'TO', 'UH', 'VB', 'VBD', 'VBG', 'VBN', 'VBP', 'VBZ', 'WDT', 'WP', 'WP$', 'WRB', '``']\n",
            "\tClasses in validation set for which there are no samples in test set: ['#', 'FW', 'LS', 'UH']\n",
            "\n",
            "Test tags number: 40\n",
            "Test tags list: ['$', \"''\", ',', '-LRB-', '-RRB-', '.', ':', 'CC', 'CD', 'DT', 'EX', 'IN', 'JJ', 'JJR', 'JJS', 'MD', 'NN', 'NNP', 'NNPS', 'NNS', 'PDT', 'POS', 'PRP', 'PRP$', 'RB', 'RBR', 'RBS', 'RP', 'TO', 'VB', 'VBD', 'VBG', 'VBN', 'VBP', 'VBZ', 'WDT', 'WP', 'WP$', 'WRB', '``']\n"
          ]
        }
      ],
      "source": [
        "tags_train = sorted(list(set([x for x in train_df.tag])))\n",
        "tags_val = sorted(list(set([x for x in val_df.tag])))\n",
        "tags_test = sorted(list(set([x for x in test_df.tag])))\n",
        "\n",
        "max_tags_list = max([len(tags_train),len(tags_val),len(tags_test)])\n",
        "\n",
        "# Training set tags list\n",
        "print(f'Train tags number: {len(tags_train)}')\n",
        "print(f'Train tags list: {tags_train}')\n",
        "\n",
        "exceeding_validation = [el for el in tags_train if el not in tags_val]\n",
        "if exceeding_validation != []:\n",
        "  print(f'\\tClasses in training set for which there are no samples in validation set: {exceeding_validation}')\n",
        "\n",
        "exceeding_test = [el for el in tags_train if el not in tags_test]\n",
        "\n",
        "if exceeding_test != []:\n",
        "  print(f'\\tClasses in training set for which there are no samples in test set: {exceeding_test}')\n",
        "\n",
        "\n",
        "# Validation set tags list\n",
        "print(f'\\nValidation tags number: {len(tags_val)}')\n",
        "print(f'Validation tags list: {tags_val}')\n",
        "\n",
        "exceeding_training = [el for el in tags_val if el not in tags_train]\n",
        "if exceeding_training != []:\n",
        "  print(f'\\tClasses in validation set for which there are no samples in training set: {exceeding_training}')\n",
        "\n",
        "exceeding_test = [el for el in tags_val if el not in tags_test]\n",
        "if exceeding_test != []:\n",
        "  print(f'\\tClasses in validation set for which there are no samples in test set: {exceeding_test}')\n",
        "\n",
        "# Validation set tags list\n",
        "print(f'\\nTest tags number: {len(tags_test)}')\n",
        "print(f'Test tags list: {tags_test}')\n",
        "\n",
        "exceeding_training = [el for el in tags_test if el not in tags_train]\n",
        "if exceeding_training != []:\n",
        "  print(f'\\tClasses in test set for which there are no samples in training set: {exceeding_training}')\n",
        "\n",
        "exceeding_val = [el for el in tags_test if el not in tags_val]\n",
        "if exceeding_val != []:\n",
        "  print(f'\\tClasses in test set set for which there are no samples in validation set: {exceeding_val}')\n",
        "\n",
        "conf_mat_df = pd.DataFrame(columns=tags_train, index=tags_train)\n",
        "conf_mat_df = conf_mat_df.fillna(0)"
      ]
    },
    {
      "cell_type": "code",
      "execution_count": 7,
      "metadata": {
        "colab": {
          "base_uri": "https://localhost:8080/"
        },
        "id": "X5nfdsia2tDY",
        "outputId": "55e4b001-9594-447c-9e11-8ba82d408bdb"
      },
      "outputs": [
        {
          "output_type": "stream",
          "name": "stdout",
          "text": [
            "NN       6270\n",
            "NNP      5202\n",
            "IN       4952\n",
            "DT       4076\n",
            "NNS      3004\n",
            "JJ       2992\n",
            ",        2571\n",
            ".        1959\n",
            "VBD      1548\n",
            "RB       1490\n",
            "CD       1439\n",
            "VB       1195\n",
            "CC       1141\n",
            "VBZ      1133\n",
            "VBN      1031\n",
            "TO       1028\n",
            "PRP       954\n",
            "VBG       763\n",
            "VBP       727\n",
            "MD        413\n",
            "PRP$      409\n",
            "``        409\n",
            "POS       403\n",
            "''        399\n",
            "$         342\n",
            ":         293\n",
            "WDT       204\n",
            "JJR       157\n",
            "WP        141\n",
            "RP        140\n",
            "NNPS       95\n",
            "JJS        93\n",
            "WRB        92\n",
            "RBR        86\n",
            "-RRB-      55\n",
            "-LRB-      52\n",
            "EX         49\n",
            "RBS        19\n",
            "LS         10\n",
            "PDT         9\n",
            "WP$         6\n",
            "FW          2\n",
            "UH          1\n",
            "SYM         1\n",
            "#           1\n",
            "Name: tag, dtype: int64\n"
          ]
        }
      ],
      "source": [
        "print(train_df['tag'].value_counts())"
      ]
    },
    {
      "cell_type": "code",
      "execution_count": 8,
      "metadata": {
        "id": "jlBmUbmIlG0o"
      },
      "outputs": [],
      "source": [
        "# Retriving prepocessed data\n",
        "X_train_raw = train_df.groupby('sentence').word.apply(list).reset_index()['word']\n",
        "X_val_raw = val_df.groupby('sentence').word.apply(list).reset_index()['word']\n",
        "X_test_raw = test_df.groupby('sentence').word.apply(list).reset_index()['word']\n",
        "\n",
        "y_train_raw = train_df.groupby('sentence').tag.apply(list).reset_index()['tag']\n",
        "y_val_raw = val_df.groupby('sentence').tag.apply(list).reset_index()['tag']\n",
        "y_test_raw = test_df.groupby('sentence').tag.apply(list).reset_index()['tag']"
      ]
    },
    {
      "cell_type": "markdown",
      "metadata": {
        "id": "U5kuIrRML6i2"
      },
      "source": [
        "##-Vocabulary part-"
      ]
    },
    {
      "cell_type": "markdown",
      "metadata": {
        "id": "7W8oM6e9LIMt"
      },
      "source": [
        "GloVe Vocabulary (V1)"
      ]
    },
    {
      "cell_type": "code",
      "execution_count": 43,
      "metadata": {
        "colab": {
          "base_uri": "https://localhost:8080/"
        },
        "id": "675MhAFGFQNj",
        "outputId": "aa203e75-7460-4912-c90c-696c95546b89"
      },
      "outputs": [
        {
          "output_type": "stream",
          "name": "stdout",
          "text": [
            "Found 400000 word vectors.\n"
          ]
        }
      ],
      "source": [
        "#Use the 300 dimensional GLove Word Embeddings\n",
        "glove_dir = './'\n",
        "embedding_dim = 300\n",
        "embedding_dict = {} #initialize dictionary\n",
        "f = open(os.path.join(glove_dir, f'glove.6B.{embedding_dim}d.txt'))\n",
        "for line in f:\n",
        "    values = line.split()\n",
        "    word = values[0]\n",
        "    coefs = np.asarray(values[1:], dtype='float32')\n",
        "    embedding_dict[word] = coefs\n",
        "f.close()\n",
        "\n",
        "print('Found %s word vectors.' % len(embedding_dict))"
      ]
    },
    {
      "cell_type": "code",
      "source": [
        "tag_dict = {tag:np.zeros(embedding_dim) for tag in tags_train}\n",
        "tag_count = {tag:0 for tag in tags_train}\n",
        "\n",
        "for idx, row in train_df.iterrows():\n",
        "  for tag in tags_train:\n",
        "    if tag == row['tag']:\n",
        "      if row['word'] in embedding_dict:\n",
        "          tag_count[tag] += 1\n",
        "          tag_dict[tag] += embedding_dict[row['word']]\n",
        "\n",
        "for tag in tags_train:\n",
        "  if np.all(tag_dict[tag]):\n",
        "    tag_dict[tag] = tag_dict[tag] / tag_count[tag]"
      ],
      "metadata": {
        "id": "UvZxgmYgcRp2"
      },
      "execution_count": 44,
      "outputs": []
    },
    {
      "cell_type": "markdown",
      "metadata": {
        "id": "i896YzW_LSxU"
      },
      "source": [
        "V1 + Training set OOV (V2)"
      ]
    },
    {
      "cell_type": "code",
      "execution_count": 45,
      "metadata": {
        "colab": {
          "base_uri": "https://localhost:8080/"
        },
        "id": "XGUNPlD0LYzI",
        "outputId": "01a3429e-2cc6-43a2-9ba6-79cb77d14c7a"
      },
      "outputs": [
        {
          "output_type": "stream",
          "name": "stdout",
          "text": [
            "Added 555 OOV words + respective embeddings to the vocabulary.\n"
          ]
        }
      ],
      "source": [
        "def update_vocab(df,embeddings_index,embedding_dim): \n",
        "  oov_c = 0 \n",
        "  # for word in df.word: \n",
        "  for idx, row in df.iterrows(): \n",
        "    if row['word'].lower() not in embeddings_index: \n",
        "      oov_c += 1\n",
        "      embeddings_index[row['word']] = tag_dict[row['tag']]       \n",
        "    else: \n",
        "      embeddings_index[row['word']] = embeddings_index[row['word'].lower()]  \n",
        "  print(\"Added\",oov_c,\"OOV words + respective embeddings to the vocabulary.\") \n",
        "  return embeddings_index\n",
        "\n",
        "embedding_dict = update_vocab(train_df,embedding_dict,embedding_dim)"
      ]
    },
    {
      "cell_type": "markdown",
      "metadata": {
        "id": "2Y0leABCLdUN"
      },
      "source": [
        "V2 + Validation set OOV (V3)"
      ]
    },
    {
      "cell_type": "code",
      "execution_count": 46,
      "metadata": {
        "colab": {
          "base_uri": "https://localhost:8080/"
        },
        "id": "8t-ArNTCLeKY",
        "outputId": "0ae0cc71-8261-4555-e60f-1706f03a6636"
      },
      "outputs": [
        {
          "output_type": "stream",
          "name": "stdout",
          "text": [
            "Added 305 OOV words + respective embeddings to the vocabulary.\n"
          ]
        }
      ],
      "source": [
        "embedding_dict = update_vocab(val_df,embedding_dict,embedding_dim)"
      ]
    },
    {
      "cell_type": "markdown",
      "metadata": {
        "id": "iOF5z9auLf7z"
      },
      "source": [
        "V3 + Test set OOV (V4)"
      ]
    },
    {
      "cell_type": "code",
      "execution_count": 47,
      "metadata": {
        "colab": {
          "base_uri": "https://localhost:8080/"
        },
        "id": "I_JWqKoDLjBD",
        "outputId": "a41376fc-abbe-435f-fa3a-04d69a280339"
      },
      "outputs": [
        {
          "output_type": "stream",
          "name": "stdout",
          "text": [
            "Added 214 OOV words + respective embeddings to the vocabulary.\n"
          ]
        }
      ],
      "source": [
        "embedding_dict = update_vocab(test_df,embedding_dict,embedding_dim)"
      ]
    },
    {
      "cell_type": "code",
      "execution_count": 48,
      "metadata": {
        "colab": {
          "base_uri": "https://localhost:8080/"
        },
        "id": "FKuxUTPNLkhz",
        "outputId": "f2b4ab1f-a6ad-4000-93a8-aa8bae6f1d12"
      },
      "outputs": [
        {
          "output_type": "stream",
          "name": "stdout",
          "text": [
            "[Debug] Index -> Word vocabulary size: 403745\n",
            "[Debug] Word -> Index vocabulary size: 403745\n"
          ]
        }
      ],
      "source": [
        "#Building the actual word vocabulary\n",
        "\n",
        "index2word = OrderedDict()\n",
        "word2index = OrderedDict()\n",
        "\n",
        "curr_idx = 0\n",
        "for key in embedding_dict.keys():\n",
        "  word2index[key] = curr_idx\n",
        "  index2word[curr_idx] = key\n",
        "  curr_idx += 1\n",
        "\n",
        "vocab_length = len(word2index) \n",
        "print(f'[Debug] Index -> Word vocabulary size: {len(index2word)}')\n",
        "print(f'[Debug] Word -> Index vocabulary size: {len(word2index)}')"
      ]
    },
    {
      "cell_type": "code",
      "execution_count": 49,
      "metadata": {
        "colab": {
          "base_uri": "https://localhost:8080/"
        },
        "id": "-aKNy1vALyWm",
        "outputId": "fdc79dfe-c03c-4290-b292-d8dacb3c5dcb"
      },
      "outputs": [
        {
          "output_type": "stream",
          "name": "stdout",
          "text": [
            "[Debug] Index -> Tag vocabulary size: 45\n",
            "[Debug] Tag -> Index vocabulary size: 45\n"
          ]
        }
      ],
      "source": [
        "#Tag vocabulary\n",
        "\n",
        "tag2index = OrderedDict()\n",
        "index2tag = OrderedDict()\n",
        "\n",
        "curr_id = 0\n",
        "for tag in tags_train:\n",
        "  tag2index[tag] = curr_id\n",
        "  index2tag[curr_id] = tag\n",
        "  curr_id += 1\n",
        "\n",
        "print(f'[Debug] Index -> Tag vocabulary size: {len(index2tag)}')\n",
        "print(f'[Debug] Tag -> Index vocabulary size: {len(tag2index)}')\n"
      ]
    },
    {
      "cell_type": "markdown",
      "metadata": {
        "id": "iKZGDveoMIUI"
      },
      "source": [
        "###da qua continua il preprocessing"
      ]
    },
    {
      "cell_type": "code",
      "execution_count": 50,
      "metadata": {
        "colab": {
          "base_uri": "https://localhost:8080/"
        },
        "id": "PlvH2AwynXAk",
        "outputId": "294eae3e-4aa2-4a42-ce1f-2488b63ff72d"
      },
      "outputs": [
        {
          "output_type": "stream",
          "name": "stdout",
          "text": [
            "-Not encoded\n",
            "\t ['Pierre', 'Vinken', ',', '61', 'years', 'old', ',', 'will', 'join', 'the', 'board', 'as', 'a', 'nonexecutive', 'director', 'Nov.', '29', '.']\n",
            "\t ['NNP', 'NNP', ',', 'CD', 'NNS', 'JJ', ',', 'MD', 'VB', 'DT', 'NN', 'IN', 'DT', 'JJ', 'NN', 'NNP', 'CD', '.']\n",
            "-Encoded\n",
            "\t [400000, 400001, 1, 4978, 82, 167, 1, 43, 1429, 0, 534, 19, 7, 128564, 369, 400002, 1263, 2]\n",
            "\t [20, 20, 3, 9, 22, 14, 3, 18, 34, 10, 19, 13, 10, 14, 19, 20, 9, 6]\n"
          ]
        }
      ],
      "source": [
        "# Tokenising words and tags by their indexes in vocabulary\n",
        "X_train_np, X_val_np, X_test_np, y_train_np, y_val_np, y_test_np = [], [], [], [], [], []\n",
        "\n",
        "# Encode X\n",
        "for sentence in X_train_raw:\n",
        "    sent_int = []\n",
        "    for word in sentence:\n",
        "            sent_int.append(word2index[word])\n",
        "    X_train_np.append(sent_int)\n",
        "\n",
        "for sentence in X_val_raw:\n",
        "    sent_int = []\n",
        "    for word in sentence:\n",
        "            sent_int.append(word2index[word])\n",
        "    X_val_np.append(sent_int)\n",
        "\n",
        "for sentence in X_test_raw:\n",
        "    sent_int = []\n",
        "    for word in sentence:\n",
        "            sent_int.append(word2index[word])\n",
        "    X_test_np.append(sent_int)\n",
        "\n",
        "# Encode Y\n",
        "for sent_tags in y_train_raw:\n",
        "    y_train_np.append([tag2index[tag] for tag in sent_tags])\n",
        "\n",
        "for sent_tags in y_val_raw:\n",
        "    y_val_np.append([tag2index[tag] for tag in sent_tags])\n",
        "\n",
        "for sent_tags in y_test_raw:\n",
        "    y_test_np.append([tag2index[tag] for tag in sent_tags])\n",
        "\n",
        "print('-Not encoded')\n",
        "print('\\t',X_train_raw[0]) \n",
        "print('\\t',y_train_raw[0])\n",
        "print('-Encoded')\n",
        "print('\\t',X_train_np[0])\n",
        "print('\\t',y_train_np[0])"
      ]
    },
    {
      "cell_type": "code",
      "execution_count": 51,
      "metadata": {
        "colab": {
          "base_uri": "https://localhost:8080/",
          "height": 339
        },
        "id": "TWdnd4hWmKee",
        "outputId": "02edfb40-592f-482b-ba6f-4cef8a0328db"
      },
      "outputs": [
        {
          "output_type": "stream",
          "name": "stderr",
          "text": [
            "/usr/local/lib/python3.8/dist-packages/seaborn/_decorators.py:36: FutureWarning: Pass the following variable as a keyword arg: x. From version 0.12, the only valid positional argument will be `data`, and passing other arguments without an explicit keyword will result in an error or misinterpretation.\n",
            "  warnings.warn(\n"
          ]
        },
        {
          "output_type": "execute_result",
          "data": {
            "text/plain": [
              "<matplotlib.axes._subplots.AxesSubplot at 0x7f83f13a2850>"
            ]
          },
          "metadata": {},
          "execution_count": 51
        },
        {
          "output_type": "display_data",
          "data": {
            "text/plain": [
              "<Figure size 432x288 with 1 Axes>"
            ],
            "image/png": "[encoded data removed]"
          },
          "metadata": {
            "needs_background": "light"
          }
        }
      ],
      "source": [
        "lengths = [len(sentence) for sentence in X_train_raw]\n",
        "lengths.sort()\n",
        "\n",
        "sns.boxplot(lengths)"
      ]
    },
    {
      "cell_type": "code",
      "execution_count": 52,
      "metadata": {
        "colab": {
          "base_uri": "https://localhost:8080/"
        },
        "id": "mRSBSBqosWyK",
        "outputId": "03a6e096-65f8-4af2-f3e5-22c294073d1f"
      },
      "outputs": [
        {
          "output_type": "stream",
          "name": "stdout",
          "text": [
            "Length of longest sentence: 249\n",
            "Second longest sentence length: 114\n",
            "-Padded\n",
            "\tX: [400000 400001      1   4978     82    167      1     43   1429      0\n",
            "    534     19      7 128564    369 400002   1263      2      0      0\n",
            "      0      0      0      0      0      0      0      0      0      0\n",
            "      0      0      0      0      0      0      0      0      0      0\n",
            "      0      0      0      0      0      0      0      0      0      0\n",
            "      0      0      0      0      0      0      0      0      0      0\n",
            "      0      0      0      0      0      0      0      0      0      0\n",
            "      0      0      0      0      0      0      0      0      0      0\n",
            "      0      0      0      0      0      0      0      0      0      0\n",
            "      0      0      0      0      0      0      0      0      0      0\n",
            "      0      0      0      0      0      0      0      0      0      0\n",
            "      0      0      0      0]\n",
            "\n",
            "\ty: [20 20  3  9 22 14  3 18 34 10 19 13 10 14 19 20  9  6  0  0  0  0  0  0\n",
            "  0  0  0  0  0  0  0  0  0  0  0  0  0  0  0  0  0  0  0  0  0  0  0  0\n",
            "  0  0  0  0  0  0  0  0  0  0  0  0  0  0  0  0  0  0  0  0  0  0  0  0\n",
            "  0  0  0  0  0  0  0  0  0  0  0  0  0  0  0  0  0  0  0  0  0  0  0  0\n",
            "  0  0  0  0  0  0  0  0  0  0  0  0  0  0  0  0  0  0]\n"
          ]
        }
      ],
      "source": [
        "MAX_LENGTH = lengths[-1] # maximum words in a sentence\n",
        "\n",
        "PAD_LENGTH = lengths[-2]\n",
        "\n",
        "\n",
        "print(f'Length of longest sentence: {MAX_LENGTH}')\n",
        "print(f'Second longest sentence length: {PAD_LENGTH}')\n",
        "\n",
        "\n",
        "X_train = pad_sequences(X_train_np, maxlen=PAD_LENGTH, padding='post')\n",
        "X_val = pad_sequences(X_val_np, maxlen=PAD_LENGTH, padding='post')\n",
        "X_test = pad_sequences(X_test_np, maxlen=PAD_LENGTH, padding='post')\n",
        "\n",
        "y_train = pad_sequences(y_train_np, maxlen=PAD_LENGTH, padding='post')\n",
        "y_val = pad_sequences(y_val_np, maxlen=PAD_LENGTH, padding='post')\n",
        "y_test = pad_sequences(y_test_np, maxlen=PAD_LENGTH, padding='post')\n",
        "print('-Padded')\n",
        "print('\\tX:',X_train[0])\n",
        "print('\\n\\ty:',y_train[0])\n",
        "\n",
        "# List of tags to ignore\n",
        "ignore = [':', '#', '$', '-LRB-', '-RRB-', ',', '.', \"''\", '``', 'SYM']\n"
      ]
    },
    {
      "cell_type": "code",
      "execution_count": 53,
      "metadata": {
        "id": "Tt3IPOjD1AER"
      },
      "outputs": [],
      "source": [
        "y_train_one_hot = to_categorical(y_train, len(tag2index))\n",
        "y_val_one_hot = to_categorical(y_val, len(tag2index))\n",
        "y_test_one_hot = to_categorical(y_test, len(tag2index))"
      ]
    },
    {
      "cell_type": "markdown",
      "metadata": {
        "id": "1SqOgc6v1DfB"
      },
      "source": [
        "## 2. GloVe \n",
        "GloVe (Global Vectors for Word Representation) is a method for learning vector representations of words, called \"word embeddings,\" from a large corpus of text. Word embeddings are numerical representations of words that capture the semantic relationships between words in a continuous, low-dimensional space. They are commonly used as input to natural language processing models, such as language translation and language modeling.\n",
        "\n",
        "GloVe works by learning the co-occurrence statistics of words in a corpus, and using this information to learn word embeddings that capture the semantic relationships between words. The GloVe method produces word embeddings that are trained on a global corpus, as opposed to embeddings that are trained on a specific task or dataset.\n",
        "\n",
        "There are different versions of the GloVe word embeddings, including 50-dimensional, 100-dimensional, and 200-dimensional embeddings. The 50-dimensional version of GloVe embeddings may be better in some applications because they have a lower dimensionality, which can make them easier to work with and more computationally efficient.\n",
        "\n",
        "By using GloVe embeddings as the initial weights for a model, we can take advantage of these pre-trained word representations and fine-tune them for a specific task."
      ]
    },
    {
      "cell_type": "code",
      "execution_count": 54,
      "metadata": {
        "id": "YcvBdLXW1QTY"
      },
      "outputs": [],
      "source": [
        "#Building the Embedding Layer \n",
        "embedding_matrix = np.zeros((len(word2index), embedding_dim))\n",
        "# embedding_matrix = np.standard(0,1,(len(word2index), embedding_dim))\n",
        "for word, i in word2index.items():\n",
        "    embedding_vector = embedding_dict.get(word)\n",
        "    if i < len(word2index):\n",
        "      embedding_matrix[i] = embedding_vector"
      ]
    },
    {
      "cell_type": "markdown",
      "metadata": {
        "id": "AvF_XXvV3Qxe"
      },
      "source": [
        "## 3. Model\n",
        "### 3.1 Baseline \n",
        "Bidirectional LSTM layers are able to process sequential data in both the forward and backward directions, which can allow the model to capture contextual information from both the past and the future. This can be particularly useful for natural language processing tasks, where the meaning of a word can depend on the context in which it is used.\n",
        "\n",
        "In the context of POS tagging, TimeDistributed can be used to apply a tag prediction layer to each word in a sentence. For example, you might have an RNN that processes a sequence of words in a sentence, and at each time step, the RNN outputs a hidden state. You could then apply a TimeDistributed dense layer to the hidden states, which would allow you to predict the POS tag for each word in the sentence.\n",
        "\n",
        "One advantage of using TimeDistributed for POS tagging is that it allows you to predict the POS tag for each word in the sentence simultaneously, rather than having to process the sentence one word at a time. This can be particularly useful when dealing with long sentences, as it can make the tagging process more efficient.\n",
        "\n",
        "Overall, using TimeDistributed for POS tagging can help you build more accurate and efficient models for natural language processing tasks that involve sequential data."
      ]
    },
    {
      "cell_type": "code",
      "execution_count": 56,
      "metadata": {
        "colab": {
          "base_uri": "https://localhost:8080/"
        },
        "id": "WuLsYIaYIBgn",
        "outputId": "1e6a762a-761b-489a-9259-181cdfbdf3cf"
      },
      "outputs": [
        {
          "output_type": "stream",
          "name": "stdout",
          "text": [
            "Model: \"Baseline\"\n",
            "_________________________________________________________________\n",
            " Layer (type)                Output Shape              Param #   \n",
            "=================================================================\n",
            " embedding_1 (Embedding)     (None, 114, 300)          121123500 \n",
            "                                                                 \n",
            " bidirectional_1 (Bidirectio  (None, 114, 512)         1140736   \n",
            " nal)                                                            \n",
            "                                                                 \n",
            " time_distributed_1 (TimeDis  (None, 114, 45)          23085     \n",
            " tributed)                                                       \n",
            "                                                                 \n",
            "=================================================================\n",
            "Total params: 122,287,321\n",
            "Trainable params: 1,163,821\n",
            "Non-trainable params: 121,123,500\n",
            "_________________________________________________________________\n"
          ]
        }
      ],
      "source": [
        "# Define the model\n",
        "baseline_model = Sequential(name='Baseline')\n",
        "\n",
        "# Add the Embedding layer\n",
        "baseline_model.add(Embedding(input_dim=vocab_length, output_dim=embedding_dim, \\\n",
        "                    weights=[embedding_matrix], input_length=PAD_LENGTH, trainable=False,mask_zero=True))\n",
        "\n",
        "# Add the Bidirectional LSTM layer\n",
        "baseline_model.add(Bidirectional(LSTM(units=256, return_sequences=True)))\n",
        "\n",
        "# Add the Dense/Fully-Connected layer\n",
        "baseline_model.add(TimeDistributed(Dense(units=len(tag2index), activation='softmax')))\n",
        "\n",
        "# Compile the model\n",
        "baseline_model.compile(optimizer=Adam(0.01), loss='categorical_crossentropy', metrics=['accuracy',\\\n",
        "                      ignore_class_accuracy([tag2index[tag] for tag in ignore])])\n",
        "\n",
        "# Summary\n",
        "baseline_model.summary()\n",
        " \n",
        "# Callbacks \n",
        "callbacks = [ \n",
        "    tf.keras.callbacks.EarlyStopping(monitor='val_ignore_accuracy', patience=3, restore_best_weights=True,verbose=True), \n",
        "    tf.keras.callbacks.ReduceLROnPlateau(monitor='val_ignore_accuracy', factor=0.5, patience=1, verbose=True, min_lr=0.001) \n",
        "]"
      ]
    },
    {
      "cell_type": "code",
      "execution_count": 57,
      "metadata": {
        "colab": {
          "base_uri": "https://localhost:8080/"
        },
        "id": "PA776HlcMC_h",
        "outputId": "6aca44d1-950a-411c-f58d-32682241f66c"
      },
      "outputs": [
        {
          "output_type": "stream",
          "name": "stdout",
          "text": [
            "Epoch 1/15\n",
            "16/16 [==============================] - 54s 3s/step - loss: 0.3958 - accuracy: 0.4994 - ignore_accuracy: 0.0814 - val_loss: 0.1650 - val_accuracy: 0.7688 - val_ignore_accuracy: 0.1303 - lr: 0.0100\n",
            "Epoch 2/15\n",
            "16/16 [==============================] - 38s 2s/step - loss: 0.1155 - accuracy: 0.8368 - ignore_accuracy: 0.1430 - val_loss: 0.0984 - val_accuracy: 0.8578 - val_ignore_accuracy: 0.1482 - lr: 0.0100\n",
            "Epoch 3/15\n",
            "16/16 [==============================] - 39s 2s/step - loss: 0.0675 - accuracy: 0.9035 - ignore_accuracy: 0.1566 - val_loss: 0.0805 - val_accuracy: 0.8796 - val_ignore_accuracy: 0.1523 - lr: 0.0100\n",
            "Epoch 4/15\n",
            "16/16 [==============================] - 39s 2s/step - loss: 0.0446 - accuracy: 0.9368 - ignore_accuracy: 0.1629 - val_loss: 0.0660 - val_accuracy: 0.9003 - val_ignore_accuracy: 0.1564 - lr: 0.0100\n",
            "Epoch 5/15\n",
            "16/16 [==============================] - 38s 2s/step - loss: 0.0280 - accuracy: 0.9630 - ignore_accuracy: 0.1681 - val_loss: 0.0629 - val_accuracy: 0.9071 - val_ignore_accuracy: 0.1577 - lr: 0.0100\n",
            "Epoch 6/15\n",
            "16/16 [==============================] - ETA: 0s - loss: 0.0175 - accuracy: 0.9802 - ignore_accuracy: 0.1715\n",
            "Epoch 6: ReduceLROnPlateau reducing learning rate to 0.004999999888241291.\n",
            "16/16 [==============================] - 37s 2s/step - loss: 0.0175 - accuracy: 0.9802 - ignore_accuracy: 0.1715 - val_loss: 0.0630 - val_accuracy: 0.9068 - val_ignore_accuracy: 0.1576 - lr: 0.0100\n",
            "Epoch 7/15\n",
            "16/16 [==============================] - 37s 2s/step - loss: 0.0101 - accuracy: 0.9920 - ignore_accuracy: 0.1739 - val_loss: 0.0609 - val_accuracy: 0.9112 - val_ignore_accuracy: 0.1585 - lr: 0.0050\n",
            "Epoch 8/15\n",
            "16/16 [==============================] - ETA: 0s - loss: 0.0068 - accuracy: 0.9962 - ignore_accuracy: 0.1749\n",
            "Epoch 8: ReduceLROnPlateau reducing learning rate to 0.0024999999441206455.\n",
            "16/16 [==============================] - 37s 2s/step - loss: 0.0068 - accuracy: 0.9962 - ignore_accuracy: 0.1749 - val_loss: 0.0625 - val_accuracy: 0.9106 - val_ignore_accuracy: 0.1584 - lr: 0.0050\n",
            "Epoch 9/15\n",
            "16/16 [==============================] - ETA: 0s - loss: 0.0049 - accuracy: 0.9980 - ignore_accuracy: 0.1751\n",
            "Epoch 9: ReduceLROnPlateau reducing learning rate to 0.0012499999720603228.\n",
            "16/16 [==============================] - 37s 2s/step - loss: 0.0049 - accuracy: 0.9980 - ignore_accuracy: 0.1751 - val_loss: 0.0632 - val_accuracy: 0.9091 - val_ignore_accuracy: 0.1581 - lr: 0.0025\n",
            "Epoch 10/15\n",
            "16/16 [==============================] - ETA: 0s - loss: 0.0042 - accuracy: 0.9987 - ignore_accuracy: 0.1753Restoring model weights from the end of the best epoch: 7.\n",
            "\n",
            "Epoch 10: ReduceLROnPlateau reducing learning rate to 0.001.\n",
            "16/16 [==============================] - 37s 2s/step - loss: 0.0042 - accuracy: 0.9987 - ignore_accuracy: 0.1753 - val_loss: 0.0633 - val_accuracy: 0.9098 - val_ignore_accuracy: 0.1582 - lr: 0.0012\n",
            "Epoch 10: early stopping\n"
          ]
        }
      ],
      "source": [
        "results_baseline = baseline_model.fit(X_train, y_train_one_hot, validation_data=(X_val, y_val_one_hot),\\\n",
        "                                      batch_size=128, epochs=15, callbacks = callbacks)"
      ]
    },
    {
      "cell_type": "code",
      "execution_count": 58,
      "metadata": {
        "colab": {
          "base_uri": "https://localhost:8080/"
        },
        "id": "_Q4shasqRWUk",
        "outputId": "8ebebfea-d160-47cd-90d0-bb2f75cebdde"
      },
      "outputs": [
        {
          "output_type": "stream",
          "name": "stdout",
          "text": [
            "41/41 [==============================] - 11s 258ms/step - loss: 0.0609 - accuracy: 0.9112 - ignore_accuracy: 0.1604\n",
            "41/41 [==============================] - 14s 259ms/step\n"
          ]
        }
      ],
      "source": [
        "scores_bl = baseline_model.evaluate(X_val, y_val_one_hot, return_dict = True)\n",
        "\n",
        "# Obtain the predictions made by the model on the validation set\n",
        "predictions_bl = baseline_model.predict(X_val)"
      ]
    },
    {
      "cell_type": "code",
      "execution_count": 59,
      "metadata": {
        "id": "iP2TlmEVynlM"
      },
      "outputs": [],
      "source": [
        "# Convert the class probabilities into class labels\n",
        "predicted_labels_bl = np.argmax(predictions_bl, axis=-1)\n",
        "\n",
        "true_pos_bl, false_pos_bl, false_neg_bl, precision_bl, recall_bl, f1score_bl = compute_metrics(predicted_labels_bl, tags_test, ignore, y_val, index2tag)"
      ]
    },
    {
      "cell_type": "code",
      "execution_count": 60,
      "metadata": {
        "colab": {
          "base_uri": "https://localhost:8080/"
        },
        "id": "J1AkaNs61oC6",
        "outputId": "49be4e6d-f2bf-4aef-f042-8ebf5a34a839"
      },
      "outputs": [
        {
          "output_type": "stream",
          "name": "stdout",
          "text": [
            "Tag: CC\n",
            "\tPrecision: 1.0\n",
            "\tRecall: 0.9841688654353562\n",
            "\tF1-score: 0.9920212765957447\n",
            "Tag: CD\n",
            "\tPrecision: 0.9983539094650206\n",
            "\tRecall: 0.9711769415532426\n",
            "\tF1-score: 0.9845779220779222\n",
            "Tag: DT\n",
            "\tPrecision: 1.0\n",
            "\tRecall: 0.46949891067538124\n",
            "\tF1-score: 0.6389918458117123\n",
            "Tag: EX\n",
            "\tPrecision: 1.0\n",
            "\tRecall: 1.0\n",
            "\tF1-score: 1.0\n",
            "Tag: FW\n",
            "\tPrecision: 0.0\n",
            "\tRecall: 0.0\n",
            "\tF1-score: 0.0\n",
            "Tag: IN\n",
            "\tPrecision: 0.9968233799237611\n",
            "\tRecall: 0.9581679389312977\n",
            "\tF1-score: 0.9771134983652497\n",
            "Tag: JJ\n",
            "\tPrecision: 0.9936224489795918\n",
            "\tRecall: 0.8097713097713097\n",
            "\tF1-score: 0.8923253150057274\n",
            "Tag: JJR\n",
            "\tPrecision: 0.9929577464788732\n",
            "\tRecall: 0.8545454545454545\n",
            "\tF1-score: 0.9185667752442996\n",
            "Tag: JJS\n",
            "\tPrecision: 0.9791666666666666\n",
            "\tRecall: 0.8103448275862069\n",
            "\tF1-score: 0.8867924528301887\n",
            "Tag: LS\n",
            "\tPrecision: 0.0\n",
            "\tRecall: 0.0\n",
            "\tF1-score: 0.0\n",
            "Tag: MD\n",
            "\tPrecision: 1.0\n",
            "\tRecall: 0.9855907780979827\n",
            "\tF1-score: 0.9927431059506531\n",
            "Tag: NN\n",
            "\tPrecision: 0.9513179767276182\n",
            "\tRecall: 0.8876578772435187\n",
            "\tF1-score: 0.9183860614397066\n",
            "Tag: NNP\n",
            "\tPrecision: 0.9018475750577367\n",
            "\tRecall: 0.8664940828402367\n",
            "\tF1-score: 0.8838174273858921\n",
            "Tag: NNPS\n",
            "\tPrecision: 0.8181818181818182\n",
            "\tRecall: 0.08571428571428572\n",
            "\tF1-score: 0.15517241379310345\n",
            "Tag: NNS\n",
            "\tPrecision: 0.9397163120567376\n",
            "\tRecall: 0.8824928639391056\n",
            "\tF1-score: 0.9102060843964671\n",
            "Tag: PDT\n",
            "\tPrecision: 0.5\n",
            "\tRecall: 0.07142857142857142\n",
            "\tF1-score: 0.125\n",
            "Tag: POS\n",
            "\tPrecision: 1.0\n",
            "\tRecall: 1.0\n",
            "\tF1-score: 1.0\n",
            "Tag: PRP\n",
            "\tPrecision: 0.9964539007092199\n",
            "\tRecall: 0.9859649122807017\n",
            "\tF1-score: 0.9911816578483246\n",
            "Tag: PRP$\n",
            "\tPrecision: 0.9923076923076923\n",
            "\tRecall: 1.0\n",
            "\tF1-score: 0.9961389961389961\n",
            "Tag: RB\n",
            "\tPrecision: 0.829938900203666\n",
            "\tRecall: 0.8569926393270242\n",
            "\tF1-score: 0.8432488360062079\n",
            "Tag: RBR\n",
            "\tPrecision: 0.6666666666666666\n",
            "\tRecall: 0.5142857142857142\n",
            "\tF1-score: 0.5806451612903226\n",
            "Tag: RBS\n",
            "\tPrecision: 0.6875\n",
            "\tRecall: 0.8461538461538461\n",
            "\tF1-score: 0.7586206896551724\n",
            "Tag: RP\n",
            "\tPrecision: 0.47058823529411764\n",
            "\tRecall: 0.7441860465116279\n",
            "\tF1-score: 0.5765765765765766\n",
            "Tag: TO\n",
            "\tPrecision: 1.0\n",
            "\tRecall: 1.0\n",
            "\tF1-score: 1.0\n",
            "Tag: UH\n",
            "\tPrecision: 0.0\n",
            "\tRecall: 0.0\n",
            "\tF1-score: 0.0\n",
            "Tag: VB\n",
            "\tPrecision: 0.9357997823721437\n",
            "\tRecall: 0.899581589958159\n",
            "\tF1-score: 0.9173333333333334\n",
            "Tag: VBD\n",
            "\tPrecision: 0.959748427672956\n",
            "\tRecall: 0.8861788617886179\n",
            "\tF1-score: 0.9214975845410628\n",
            "Tag: VBG\n",
            "\tPrecision: 0.8049792531120332\n",
            "\tRecall: 0.8151260504201681\n",
            "\tF1-score: 0.8100208768267223\n",
            "Tag: VBN\n",
            "\tPrecision: 0.85949177877429\n",
            "\tRecall: 0.7801899592944369\n",
            "\tF1-score: 0.8179231863442389\n",
            "Tag: VBP\n",
            "\tPrecision: 0.8915401301518439\n",
            "\tRecall: 0.8934782608695652\n",
            "\tF1-score: 0.8925081433224756\n",
            "Tag: VBZ\n",
            "\tPrecision: 0.9407616361071932\n",
            "\tRecall: 0.9367977528089888\n",
            "\tF1-score: 0.9387755102040816\n",
            "Tag: WDT\n",
            "\tPrecision: 0.8630952380952381\n",
            "\tRecall: 0.9235668789808917\n",
            "\tF1-score: 0.8923076923076922\n",
            "Tag: WP\n",
            "\tPrecision: 0.9523809523809523\n",
            "\tRecall: 1.0\n",
            "\tF1-score: 0.975609756097561\n",
            "Tag: WP$\n",
            "\tPrecision: 1.0\n",
            "\tRecall: 0.75\n",
            "\tF1-score: 0.8571428571428571\n",
            "Tag: WRB\n",
            "\tPrecision: 0.9838709677419355\n",
            "\tRecall: 0.9838709677419355\n",
            "\tF1-score: 0.9838709677419355\n"
          ]
        }
      ],
      "source": [
        "# FORSE DOBBIAMO CONSIDERARE TUTTE LE CLASSI; ANCHE QUELLE PRESENTI SOLO NEL TRAINING TEST, DANDO COME f1 SCORE 0\n",
        "for tag in tags_val:\n",
        "  if tag not in ignore:\n",
        "    print(f'Tag: {tag}')\n",
        "    print(f'\\tPrecision: {precision_bl[tag]}')\n",
        "    print(f'\\tRecall: {recall_bl[tag]}')\n",
        "    print(f'\\tF1-score: {f1score_bl[tag]}')"
      ]
    },
    {
      "cell_type": "code",
      "execution_count": 61,
      "metadata": {
        "colab": {
          "base_uri": "https://localhost:8080/"
        },
        "id": "r14KwxMp6pxZ",
        "outputId": "60e815b9-bb34-4bda-ab74-467fd4b2f09b"
      },
      "outputs": [
        {
          "output_type": "stream",
          "name": "stdout",
          "text": [
            "MACRO F1-score: 0.7722604572649779\n"
          ]
        }
      ],
      "source": [
        "macro_f1_bl = macro_f1_score(f1score_bl)"
      ]
    },
    {
      "cell_type": "markdown",
      "metadata": {
        "id": "_piJrG2VEe1Z"
      },
      "source": [
        "### 3.2 GRU \n",
        "Gated Recurrent Units (GRUs) are a type of recurrent neural network (RNN) that are often used in natural language processing tasks such as part-of-speech (POS) tagging. GRUs are similar to long short-term memory (LSTM) networks, but they have a simpler structure and fewer parameters, making them easier to train and faster to run. In POS tagging, GRUs can be used to process a sequence of words and predict the POS tags for each word in the sequence. GRUs are able to take into account contextual information from the previous words in the sequence, allowing them to make more accurate predictions about the POS tags for the current word. \n",
        "\n",
        "Both BiLSTMs (Bidirectional LSTMs) and Gated Recurrent Units (GRUs) have been shown to perform well on a variety of NLP tasks, including POS tagging, but here we obtained slightly better results than with the baseline; the reason may be that LSTMs are are particularly well-suited for tasks that require the model to remember and make use of long-term dependencies in the data, while the longest sentence in the Penn Treebank dataset has only 171 words and the average of words per sentence is around 20.  "
      ]
    },
    {
      "cell_type": "code",
      "execution_count": 63,
      "metadata": {
        "colab": {
          "base_uri": "https://localhost:8080/"
        },
        "id": "LHd70QrVEhOv",
        "outputId": "869814f6-9cf2-467e-b999-7daaa44efa99"
      },
      "outputs": [
        {
          "output_type": "stream",
          "name": "stdout",
          "text": [
            "Model: \"GRU\"\n",
            "_________________________________________________________________\n",
            " Layer (type)                Output Shape              Param #   \n",
            "=================================================================\n",
            " embedding_3 (Embedding)     (None, 114, 300)          121123500 \n",
            "                                                                 \n",
            " gru_1 (GRU)                 (None, 114, 256)          428544    \n",
            "                                                                 \n",
            " time_distributed_3 (TimeDis  (None, 114, 45)          11565     \n",
            " tributed)                                                       \n",
            "                                                                 \n",
            "=================================================================\n",
            "Total params: 121,563,609\n",
            "Trainable params: 440,109\n",
            "Non-trainable params: 121,123,500\n",
            "_________________________________________________________________\n"
          ]
        }
      ],
      "source": [
        "# Define the model\n",
        "gru_model = tf.keras.Sequential(name='GRU')\n",
        "\n",
        "# Add the Embedding layer\n",
        "gru_model.add(Embedding(input_dim=vocab_length, output_dim=embedding_dim, \\\n",
        "                    weights = [embedding_matrix], input_length = PAD_LENGTH, trainable=False,mask_zero=True ))\n",
        "\n",
        "# Add the GRU layer\n",
        "gru_model.add(GRU(units=256, return_sequences=True))\n",
        "\n",
        "# Add the Dense/Fully-Connected layer\n",
        "gru_model.add(TimeDistributed(Dense(len(tags_train), activation='softmax')))\n",
        "\n",
        "# Compile the model\n",
        "gru_model.compile(optimizer=Adam(0.01), loss='categorical_crossentropy', metrics=['accuracy',ignore_class_accuracy([tag2index[tag] for tag in ignore])])\n",
        "\n",
        "# Summary\n",
        "gru_model.summary()"
      ]
    },
    {
      "cell_type": "code",
      "execution_count": 64,
      "metadata": {
        "colab": {
          "base_uri": "https://localhost:8080/"
        },
        "id": "qBWwuzcuEk_e",
        "outputId": "a09796fb-7b59-461a-c262-f4a745b04b98"
      },
      "outputs": [
        {
          "output_type": "stream",
          "name": "stdout",
          "text": [
            "Epoch 1/15\n",
            "16/16 [==============================] - 21s 1s/step - loss: 0.3065 - accuracy: 0.6045 - ignore_accuracy: 0.1001 - val_loss: 0.1456 - val_accuracy: 0.7905 - val_ignore_accuracy: 0.1347 - lr: 0.0100\n",
            "Epoch 2/15\n",
            "16/16 [==============================] - 15s 960ms/step - loss: 0.1082 - accuracy: 0.8451 - ignore_accuracy: 0.1446 - val_loss: 0.1026 - val_accuracy: 0.8498 - val_ignore_accuracy: 0.1464 - lr: 0.0100\n",
            "Epoch 3/15\n",
            "16/16 [==============================] - 15s 955ms/step - loss: 0.0732 - accuracy: 0.8941 - ignore_accuracy: 0.1545 - val_loss: 0.0882 - val_accuracy: 0.8673 - val_ignore_accuracy: 0.1499 - lr: 0.0100\n",
            "Epoch 4/15\n",
            "16/16 [==============================] - 15s 960ms/step - loss: 0.0534 - accuracy: 0.9221 - ignore_accuracy: 0.1600 - val_loss: 0.0798 - val_accuracy: 0.8811 - val_ignore_accuracy: 0.1526 - lr: 0.0100\n",
            "Epoch 5/15\n",
            "16/16 [==============================] - 15s 963ms/step - loss: 0.0393 - accuracy: 0.9443 - ignore_accuracy: 0.1645 - val_loss: 0.0756 - val_accuracy: 0.8855 - val_ignore_accuracy: 0.1534 - lr: 0.0100\n",
            "Epoch 6/15\n",
            "16/16 [==============================] - 15s 960ms/step - loss: 0.0280 - accuracy: 0.9629 - ignore_accuracy: 0.1683 - val_loss: 0.0725 - val_accuracy: 0.8918 - val_ignore_accuracy: 0.1548 - lr: 0.0100\n",
            "Epoch 7/15\n",
            "16/16 [==============================] - 15s 973ms/step - loss: 0.0192 - accuracy: 0.9772 - ignore_accuracy: 0.1711 - val_loss: 0.0746 - val_accuracy: 0.8924 - val_ignore_accuracy: 0.1549 - lr: 0.0100\n",
            "Epoch 8/15\n",
            "16/16 [==============================] - ETA: 0s - loss: 0.0130 - accuracy: 0.9862 - ignore_accuracy: 0.1730\n",
            "Epoch 8: ReduceLROnPlateau reducing learning rate to 0.004999999888241291.\n",
            "16/16 [==============================] - 15s 952ms/step - loss: 0.0130 - accuracy: 0.9862 - ignore_accuracy: 0.1730 - val_loss: 0.0766 - val_accuracy: 0.8926 - val_ignore_accuracy: 0.1549 - lr: 0.0100\n",
            "Epoch 9/15\n",
            "16/16 [==============================] - 15s 961ms/step - loss: 0.0083 - accuracy: 0.9933 - ignore_accuracy: 0.1744 - val_loss: 0.0763 - val_accuracy: 0.8947 - val_ignore_accuracy: 0.1553 - lr: 0.0050\n",
            "Epoch 10/15\n",
            "16/16 [==============================] - ETA: 0s - loss: 0.0065 - accuracy: 0.9951 - ignore_accuracy: 0.1746\n",
            "Epoch 10: ReduceLROnPlateau reducing learning rate to 0.0024999999441206455.\n",
            "16/16 [==============================] - 15s 958ms/step - loss: 0.0065 - accuracy: 0.9951 - ignore_accuracy: 0.1746 - val_loss: 0.0779 - val_accuracy: 0.8947 - val_ignore_accuracy: 0.1553 - lr: 0.0050\n",
            "Epoch 11/15\n",
            "16/16 [==============================] - ETA: 0s - loss: 0.0052 - accuracy: 0.9967 - ignore_accuracy: 0.1749\n",
            "Epoch 11: ReduceLROnPlateau reducing learning rate to 0.0012499999720603228.\n",
            "16/16 [==============================] - 16s 1s/step - loss: 0.0052 - accuracy: 0.9967 - ignore_accuracy: 0.1749 - val_loss: 0.0781 - val_accuracy: 0.8952 - val_ignore_accuracy: 0.1554 - lr: 0.0025\n",
            "Epoch 12/15\n",
            "16/16 [==============================] - ETA: 0s - loss: 0.0047 - accuracy: 0.9973 - ignore_accuracy: 0.1750\n",
            "Epoch 12: ReduceLROnPlateau reducing learning rate to 0.001.\n",
            "16/16 [==============================] - 20s 1s/step - loss: 0.0047 - accuracy: 0.9973 - ignore_accuracy: 0.1750 - val_loss: 0.0782 - val_accuracy: 0.8944 - val_ignore_accuracy: 0.1552 - lr: 0.0012\n",
            "Epoch 13/15\n",
            "16/16 [==============================] - 15s 948ms/step - loss: 0.0045 - accuracy: 0.9975 - ignore_accuracy: 0.1750 - val_loss: 0.0785 - val_accuracy: 0.8947 - val_ignore_accuracy: 0.1553 - lr: 0.0010\n",
            "Epoch 14/15\n",
            "16/16 [==============================] - ETA: 0s - loss: 0.0043 - accuracy: 0.9977 - ignore_accuracy: 0.1750Restoring model weights from the end of the best epoch: 11.\n",
            "16/16 [==============================] - 19s 1s/step - loss: 0.0043 - accuracy: 0.9977 - ignore_accuracy: 0.1750 - val_loss: 0.0788 - val_accuracy: 0.8948 - val_ignore_accuracy: 0.1553 - lr: 0.0010\n",
            "Epoch 14: early stopping\n"
          ]
        }
      ],
      "source": [
        "results_gru = gru_model.fit(X_train, y_train_one_hot, epochs=15, verbose = True, \\\n",
        "                            validation_data=(X_val, y_val_one_hot), batch_size=128, callbacks = callbacks)"
      ]
    },
    {
      "cell_type": "code",
      "execution_count": 65,
      "metadata": {
        "colab": {
          "base_uri": "https://localhost:8080/"
        },
        "id": "HSpKe6LEEoHy",
        "outputId": "c24a13f5-2c65-4ef8-ec0b-78a4376ce650"
      },
      "outputs": [
        {
          "output_type": "stream",
          "name": "stdout",
          "text": [
            "41/41 [==============================] - 5s 113ms/step - loss: 0.0781 - accuracy: 0.8952 - ignore_accuracy: 0.1572\n",
            "41/41 [==============================] - 6s 109ms/step\n"
          ]
        }
      ],
      "source": [
        "scores_gru = gru_model.evaluate(X_val, y_val_one_hot, return_dict = True)\n",
        "predictions_gru = gru_model.predict(X_val)"
      ]
    },
    {
      "cell_type": "code",
      "execution_count": 66,
      "metadata": {
        "id": "9dKH1rmoJPeA"
      },
      "outputs": [],
      "source": [
        "# Convert the class probabilities into class labels\n",
        "predicted_labels_gru = np.argmax(predictions_gru, axis=-1)\n",
        "\n",
        "true_pos_gru, false_pos_gru, false_neg_gru, precision_gru, recall_gru, f1score_gru = compute_metrics(predicted_labels_gru, tags_test, ignore, y_val, index2tag)\n"
      ]
    },
    {
      "cell_type": "code",
      "execution_count": 67,
      "metadata": {
        "colab": {
          "base_uri": "https://localhost:8080/"
        },
        "id": "fOVmR63mJdN9",
        "outputId": "df6bac47-8cc1-4f2e-8cec-b37a620c2e29"
      },
      "outputs": [
        {
          "output_type": "stream",
          "name": "stdout",
          "text": [
            "MACRO F1-score: 0.8118727890733606\n"
          ]
        }
      ],
      "source": [
        "macro_f1_gru = macro_f1_score(f1score_gru)"
      ]
    },
    {
      "cell_type": "markdown",
      "metadata": {
        "id": "Q4NZ4nhpEr1K"
      },
      "source": [
        "### 3.3 Additional LSTM layer \n",
        "Using two BiLSTMs layers can allow the model to learn more complex patterns in the data and make more accurate predictions. \n",
        "However, they can increase the computational complexity of our model, which may require more computational resources to train.\n",
        "\n",
        "With the same number of epochs the results were similar to the baseline and the training process was slower; it is possible that the model with two BiLSTMs is more prone to overfitting, meaning that it is able to fit the training data very well but is less able to generalize to new data. Another possibility is that the model with two BiLSTMs simply takes longer to train. That is why we raised the training epochs to 20, obtaining better results."
      ]
    },
    {
      "cell_type": "code",
      "execution_count": 68,
      "metadata": {
        "colab": {
          "base_uri": "https://localhost:8080/"
        },
        "id": "yVntK3UwEuGS",
        "outputId": "e361bb59-0e21-4b77-86f4-328c6abd2308"
      },
      "outputs": [
        {
          "output_type": "stream",
          "name": "stdout",
          "text": [
            "Model: \"Additional_LSTM\"\n",
            "_________________________________________________________________\n",
            " Layer (type)                Output Shape              Param #   \n",
            "=================================================================\n",
            " embedding_4 (Embedding)     (None, 114, 300)          121123500 \n",
            "                                                                 \n",
            " bidirectional_2 (Bidirectio  (None, 114, 512)         1140736   \n",
            " nal)                                                            \n",
            "                                                                 \n",
            " bidirectional_3 (Bidirectio  (None, 114, 512)         1574912   \n",
            " nal)                                                            \n",
            "                                                                 \n",
            " time_distributed_4 (TimeDis  (None, 114, 45)          23085     \n",
            " tributed)                                                       \n",
            "                                                                 \n",
            "=================================================================\n",
            "Total params: 123,862,233\n",
            "Trainable params: 2,738,733\n",
            "Non-trainable params: 121,123,500\n",
            "_________________________________________________________________\n"
          ]
        }
      ],
      "source": [
        "# Define the model\n",
        "add_lstm_model = tf.keras.Sequential(name='Additional_LSTM')\n",
        "\n",
        "# Add the Embedding layer\n",
        "add_lstm_model.add(Embedding(input_dim=vocab_length, output_dim=embedding_dim, \\\n",
        "                    weights = [embedding_matrix], input_length = PAD_LENGTH, trainable=False, mask_zero=True))\n",
        "\n",
        "# Add the Bidirectional LSTM layer\n",
        "add_lstm_model.add(Bidirectional(LSTM(units=256, return_sequences=True)))\n",
        "\n",
        "# Add another LSTM layer\n",
        "add_lstm_model.add(Bidirectional(LSTM(units=256, return_sequences=True)))\n",
        "\n",
        "# Add the Dense/Fully-Connected layer\n",
        "add_lstm_model.add(TimeDistributed(Dense(units=len(tags_train), activation='softmax')))\n",
        "\n",
        "# Compile the model\n",
        "add_lstm_model.compile(optimizer=Adam(0.01), loss='categorical_crossentropy', metrics=['accuracy',ignore_class_accuracy([tag2index[tag] for tag in ignore])])\n",
        "\n",
        "# Summary\n",
        "add_lstm_model.summary()"
      ]
    },
    {
      "cell_type": "code",
      "execution_count": 69,
      "metadata": {
        "colab": {
          "base_uri": "https://localhost:8080/"
        },
        "id": "J3omzfumEv48",
        "outputId": "68cc276b-939b-488a-e84e-f150ca378437"
      },
      "outputs": [
        {
          "output_type": "stream",
          "name": "stdout",
          "text": [
            "Epoch 1/20\n",
            "16/16 [==============================] - 127s 7s/step - loss: 0.6777 - accuracy: 0.1648 - ignore_accuracy: 0.0284 - val_loss: 0.4858 - val_accuracy: 0.3303 - val_ignore_accuracy: 0.0511 - lr: 0.0100\n",
            "Epoch 2/20\n",
            "16/16 [==============================] - 98s 6s/step - loss: 0.3556 - accuracy: 0.5015 - ignore_accuracy: 0.0795 - val_loss: 0.2508 - val_accuracy: 0.6584 - val_ignore_accuracy: 0.1101 - lr: 0.0100\n",
            "Epoch 3/20\n",
            "16/16 [==============================] - 96s 6s/step - loss: 0.1834 - accuracy: 0.7517 - ignore_accuracy: 0.1269 - val_loss: 0.1451 - val_accuracy: 0.7995 - val_ignore_accuracy: 0.1367 - lr: 0.0100\n",
            "Epoch 4/20\n",
            "16/16 [==============================] - 96s 6s/step - loss: 0.1088 - accuracy: 0.8506 - ignore_accuracy: 0.1459 - val_loss: 0.1127 - val_accuracy: 0.8369 - val_ignore_accuracy: 0.1441 - lr: 0.0100\n",
            "Epoch 5/20\n",
            "16/16 [==============================] - 95s 6s/step - loss: 0.0749 - accuracy: 0.8944 - ignore_accuracy: 0.1546 - val_loss: 0.0843 - val_accuracy: 0.8760 - val_ignore_accuracy: 0.1517 - lr: 0.0100\n",
            "Epoch 6/20\n",
            "16/16 [==============================] - 96s 6s/step - loss: 0.0500 - accuracy: 0.9323 - ignore_accuracy: 0.1622 - val_loss: 0.0723 - val_accuracy: 0.8956 - val_ignore_accuracy: 0.1557 - lr: 0.0100\n",
            "Epoch 7/20\n",
            "16/16 [==============================] - 95s 6s/step - loss: 0.0340 - accuracy: 0.9553 - ignore_accuracy: 0.1667 - val_loss: 0.0629 - val_accuracy: 0.9103 - val_ignore_accuracy: 0.1584 - lr: 0.0100\n",
            "Epoch 8/20\n",
            "16/16 [==============================] - 96s 6s/step - loss: 0.0228 - accuracy: 0.9713 - ignore_accuracy: 0.1698 - val_loss: 0.0595 - val_accuracy: 0.9169 - val_ignore_accuracy: 0.1596 - lr: 0.0100\n",
            "Epoch 9/20\n",
            "16/16 [==============================] - 95s 6s/step - loss: 0.0150 - accuracy: 0.9824 - ignore_accuracy: 0.1720 - val_loss: 0.0586 - val_accuracy: 0.9181 - val_ignore_accuracy: 0.1599 - lr: 0.0100\n",
            "Epoch 10/20\n",
            "16/16 [==============================] - 95s 6s/step - loss: 0.0095 - accuracy: 0.9904 - ignore_accuracy: 0.1735 - val_loss: 0.0595 - val_accuracy: 0.9201 - val_ignore_accuracy: 0.1602 - lr: 0.0100\n",
            "Epoch 11/20\n",
            "16/16 [==============================] - ETA: 0s - loss: 0.0071 - accuracy: 0.9930 - ignore_accuracy: 0.1740\n",
            "Epoch 11: ReduceLROnPlateau reducing learning rate to 0.004999999888241291.\n",
            "16/16 [==============================] - 96s 6s/step - loss: 0.0071 - accuracy: 0.9930 - ignore_accuracy: 0.1740 - val_loss: 0.0607 - val_accuracy: 0.9193 - val_ignore_accuracy: 0.1600 - lr: 0.0100\n",
            "Epoch 12/20\n",
            "16/16 [==============================] - 96s 6s/step - loss: 0.0043 - accuracy: 0.9968 - ignore_accuracy: 0.1748 - val_loss: 0.0601 - val_accuracy: 0.9218 - val_ignore_accuracy: 0.1606 - lr: 0.0050\n",
            "Epoch 13/20\n",
            "16/16 [==============================] - 97s 6s/step - loss: 0.0030 - accuracy: 0.9983 - ignore_accuracy: 0.1751 - val_loss: 0.0598 - val_accuracy: 0.9238 - val_ignore_accuracy: 0.1610 - lr: 0.0050\n",
            "Epoch 14/20\n",
            "16/16 [==============================] - ETA: 0s - loss: 0.0023 - accuracy: 0.9988 - ignore_accuracy: 0.1753\n",
            "Epoch 14: ReduceLROnPlateau reducing learning rate to 0.0024999999441206455.\n",
            "16/16 [==============================] - 96s 6s/step - loss: 0.0023 - accuracy: 0.9988 - ignore_accuracy: 0.1753 - val_loss: 0.0607 - val_accuracy: 0.9230 - val_ignore_accuracy: 0.1609 - lr: 0.0050\n",
            "Epoch 15/20\n",
            "16/16 [==============================] - ETA: 0s - loss: 0.0019 - accuracy: 0.9994 - ignore_accuracy: 0.1753\n",
            "Epoch 15: ReduceLROnPlateau reducing learning rate to 0.0012499999720603228.\n",
            "16/16 [==============================] - 97s 6s/step - loss: 0.0019 - accuracy: 0.9994 - ignore_accuracy: 0.1753 - val_loss: 0.0606 - val_accuracy: 0.9238 - val_ignore_accuracy: 0.1610 - lr: 0.0025\n",
            "Epoch 16/20\n",
            "16/16 [==============================] - ETA: 0s - loss: 0.0017 - accuracy: 0.9996 - ignore_accuracy: 0.1753\n",
            "Epoch 16: ReduceLROnPlateau reducing learning rate to 0.001.\n",
            "16/16 [==============================] - 100s 6s/step - loss: 0.0017 - accuracy: 0.9996 - ignore_accuracy: 0.1753 - val_loss: 0.0610 - val_accuracy: 0.9238 - val_ignore_accuracy: 0.1610 - lr: 0.0012\n",
            "Epoch 17/20\n",
            "16/16 [==============================] - 106s 7s/step - loss: 0.0016 - accuracy: 0.9997 - ignore_accuracy: 0.1756 - val_loss: 0.0609 - val_accuracy: 0.9239 - val_ignore_accuracy: 0.1610 - lr: 0.0010\n",
            "Epoch 18/20\n",
            "16/16 [==============================] - 100s 6s/step - loss: 0.0015 - accuracy: 0.9997 - ignore_accuracy: 0.1756 - val_loss: 0.0610 - val_accuracy: 0.9241 - val_ignore_accuracy: 0.1611 - lr: 0.0010\n",
            "Epoch 19/20\n",
            "16/16 [==============================] - 99s 6s/step - loss: 0.0015 - accuracy: 0.9996 - ignore_accuracy: 0.1753 - val_loss: 0.0612 - val_accuracy: 0.9241 - val_ignore_accuracy: 0.1611 - lr: 0.0010\n",
            "Epoch 20/20\n",
            "16/16 [==============================] - 103s 6s/step - loss: 0.0014 - accuracy: 0.9997 - ignore_accuracy: 0.1754 - val_loss: 0.0614 - val_accuracy: 0.9243 - val_ignore_accuracy: 0.1611 - lr: 0.0010\n"
          ]
        }
      ],
      "source": [
        "results_add_lstm = add_lstm_model.fit(X_train, y_train_one_hot, epochs=20, verbose = True, \\\n",
        "                                      validation_data=(X_val, y_val_one_hot), batch_size=128, callbacks = callbacks)"
      ]
    },
    {
      "cell_type": "code",
      "execution_count": 70,
      "metadata": {
        "id": "ZRvFuiHCExgc",
        "colab": {
          "base_uri": "https://localhost:8080/"
        },
        "outputId": "18e5086d-fa97-4704-a8cc-77d5790e8c26"
      },
      "outputs": [
        {
          "output_type": "stream",
          "name": "stdout",
          "text": [
            "41/41 [==============================] - 25s 600ms/step - loss: 0.0614 - accuracy: 0.9243 - ignore_accuracy: 0.1630\n",
            "41/41 [==============================] - 32s 637ms/step\n"
          ]
        }
      ],
      "source": [
        "scores_add_lstm = add_lstm_model.evaluate(X_val, y_val_one_hot, return_dict = True)\n",
        "predictions_add_lstm = add_lstm_model.predict(X_val)"
      ]
    },
    {
      "cell_type": "code",
      "execution_count": 71,
      "metadata": {
        "colab": {
          "base_uri": "https://localhost:8080/"
        },
        "id": "e4FEmEZDOnwa",
        "outputId": "5ee2029a-349e-4f6f-bcd4-31b11115ff45"
      },
      "outputs": [
        {
          "output_type": "stream",
          "name": "stdout",
          "text": [
            "No true positive for tag: PDT\n",
            "0\n",
            "0\n",
            "14\n",
            "\n"
          ]
        }
      ],
      "source": [
        "# Convert the class probabilities into class labels\n",
        "predicted_labels_add_lstm = np.argmax(predictions_add_lstm, axis=-1)\n",
        "\n",
        "true_pos_add_lstm, false_pos_add_lstm, false_neg_add_lstm, precision_add_lstm, recall_add_lstm, f1score_add_lstm = compute_metrics(predicted_labels_add_lstm, tags_test, ignore, y_val, index2tag)\n"
      ]
    },
    {
      "cell_type": "code",
      "execution_count": 72,
      "metadata": {
        "colab": {
          "base_uri": "https://localhost:8080/"
        },
        "id": "oKrrPd7ROqfs",
        "outputId": "9f991f6f-9f9c-46f1-f94f-9ee6a7081274"
      },
      "outputs": [
        {
          "output_type": "stream",
          "name": "stdout",
          "text": [
            "MACRO F1-score: 0.8820647810182816\n"
          ]
        }
      ],
      "source": [
        "macro_f1_add_lstm = macro_f1_score(f1score_add_lstm)"
      ]
    },
    {
      "cell_type": "markdown",
      "metadata": {
        "id": "5AtIybGnEzsP"
      },
      "source": [
        "### 3.4 Additional dense layer\n",
        "\n",
        "Using two dense layers, one with a non-linear activation function and one with a softmax activation function, is a common pattern in neural network architectures for classification tasks.\n",
        "\n",
        "The purpose of the non-linear dense layer is to introduce non-linearity into the model, which can allow the model to learn more complex patterns in the data. Common choices for the activation function in this layer include ReLU (Rectified Linear Unit), sigmoid, and tanh.\n",
        "\n",
        "The purpose of the softmax dense layer is to produce a probability distribution over the possible classes. The softmax activation function transforms the output of the preceding layer into a probability distribution, where the sum of the probabilities is equal to 1. This is useful for classification tasks, where you want to predict the probability that an input belongs to each of the possible classes. Using two dense layers in this way can allow the model to learn more complex patterns in the data and make more accurate predictions.\n",
        "\n",
        "We have increased the number of training epochs to 15 for the same reasons as before."
      ]
    },
    {
      "cell_type": "code",
      "execution_count": 73,
      "metadata": {
        "colab": {
          "base_uri": "https://localhost:8080/"
        },
        "id": "CQj_m12zE3So",
        "outputId": "cfc75e8a-2c0d-4c48-fc7a-dda506f539fb"
      },
      "outputs": [
        {
          "output_type": "stream",
          "name": "stdout",
          "text": [
            "Model: \"Additional_FC\"\n",
            "_________________________________________________________________\n",
            " Layer (type)                Output Shape              Param #   \n",
            "=================================================================\n",
            " embedding_5 (Embedding)     (None, 114, 300)          121123500 \n",
            "                                                                 \n",
            " bidirectional_4 (Bidirectio  (None, 114, 512)         1140736   \n",
            " nal)                                                            \n",
            "                                                                 \n",
            " time_distributed_5 (TimeDis  (None, 114, 114)         58482     \n",
            " tributed)                                                       \n",
            "                                                                 \n",
            " time_distributed_6 (TimeDis  (None, 114, 45)          5175      \n",
            " tributed)                                                       \n",
            "                                                                 \n",
            "=================================================================\n",
            "Total params: 122,327,893\n",
            "Trainable params: 1,204,393\n",
            "Non-trainable params: 121,123,500\n",
            "_________________________________________________________________\n"
          ]
        }
      ],
      "source": [
        "# Define the model\n",
        "add_fc_model = tf.keras.Sequential(name='Additional_FC')\n",
        "\n",
        "# Add the Embedding layer\n",
        "add_fc_model.add(Embedding(input_dim=vocab_length, output_dim=embedding_dim, \\\n",
        "                    weights = [embedding_matrix], input_length = PAD_LENGTH, trainable=False, mask_zero=True))\n",
        "\n",
        "# Add the Bidirectional LSTM layer\n",
        "add_fc_model.add(Bidirectional(LSTM(units=256, return_sequences=True)))\n",
        "\n",
        "# Add another Dense layer\n",
        "add_fc_model.add(TimeDistributed(Dense(units=PAD_LENGTH, activation='relu')))\n",
        "\n",
        "# Add the Dense/Fully-Connected layer\n",
        "add_fc_model.add(TimeDistributed(Dense(units=len(tags_train), activation='softmax')))\n",
        "\n",
        "# Compile the model\n",
        "add_fc_model.compile(optimizer=Adam(0.01), loss='categorical_crossentropy', metrics=['accuracy',ignore_class_accuracy([tag2index[tag] for tag in ignore])])\n",
        "\n",
        "# Summary\n",
        "add_fc_model.summary()"
      ]
    },
    {
      "cell_type": "code",
      "execution_count": 74,
      "metadata": {
        "id": "49cnWYeiE5Jt",
        "colab": {
          "base_uri": "https://localhost:8080/"
        },
        "outputId": "98b9b391-4d7e-42a3-d21c-3202ad609df1"
      },
      "outputs": [
        {
          "output_type": "stream",
          "name": "stdout",
          "text": [
            "Epoch 1/20\n",
            "16/16 [==============================] - 53s 3s/step - loss: 0.4667 - accuracy: 0.3853 - ignore_accuracy: 0.0638 - val_loss: 0.2140 - val_accuracy: 0.7193 - val_ignore_accuracy: 0.1217 - lr: 0.0100\n",
            "Epoch 2/20\n",
            "16/16 [==============================] - 39s 2s/step - loss: 0.1438 - accuracy: 0.8046 - ignore_accuracy: 0.1368 - val_loss: 0.1099 - val_accuracy: 0.8463 - val_ignore_accuracy: 0.1458 - lr: 0.0100\n",
            "Epoch 3/20\n",
            "16/16 [==============================] - 39s 2s/step - loss: 0.0739 - accuracy: 0.8976 - ignore_accuracy: 0.1552 - val_loss: 0.0803 - val_accuracy: 0.8845 - val_ignore_accuracy: 0.1535 - lr: 0.0100\n",
            "Epoch 4/20\n",
            "16/16 [==============================] - 39s 2s/step - loss: 0.0438 - accuracy: 0.9381 - ignore_accuracy: 0.1634 - val_loss: 0.0662 - val_accuracy: 0.9028 - val_ignore_accuracy: 0.1570 - lr: 0.0100\n",
            "Epoch 5/20\n",
            "16/16 [==============================] - 39s 2s/step - loss: 0.0258 - accuracy: 0.9644 - ignore_accuracy: 0.1685 - val_loss: 0.0623 - val_accuracy: 0.9130 - val_ignore_accuracy: 0.1590 - lr: 0.0100\n",
            "Epoch 6/20\n",
            "16/16 [==============================] - ETA: 0s - loss: 0.0152 - accuracy: 0.9813 - ignore_accuracy: 0.1718\n",
            "Epoch 6: ReduceLROnPlateau reducing learning rate to 0.004999999888241291.\n",
            "16/16 [==============================] - 40s 3s/step - loss: 0.0152 - accuracy: 0.9813 - ignore_accuracy: 0.1718 - val_loss: 0.0642 - val_accuracy: 0.9138 - val_ignore_accuracy: 0.1590 - lr: 0.0100\n",
            "Epoch 7/20\n",
            "16/16 [==============================] - 40s 3s/step - loss: 0.0082 - accuracy: 0.9921 - ignore_accuracy: 0.1737 - val_loss: 0.0633 - val_accuracy: 0.9176 - val_ignore_accuracy: 0.1598 - lr: 0.0050\n",
            "Epoch 8/20\n",
            "16/16 [==============================] - ETA: 0s - loss: 0.0053 - accuracy: 0.9962 - ignore_accuracy: 0.1748\n",
            "Epoch 8: ReduceLROnPlateau reducing learning rate to 0.0024999999441206455.\n",
            "16/16 [==============================] - 39s 2s/step - loss: 0.0053 - accuracy: 0.9962 - ignore_accuracy: 0.1748 - val_loss: 0.0661 - val_accuracy: 0.9175 - val_ignore_accuracy: 0.1597 - lr: 0.0050\n",
            "Epoch 9/20\n",
            "16/16 [==============================] - ETA: 0s - loss: 0.0037 - accuracy: 0.9981 - ignore_accuracy: 0.1751\n",
            "Epoch 9: ReduceLROnPlateau reducing learning rate to 0.0012499999720603228.\n",
            "16/16 [==============================] - 39s 2s/step - loss: 0.0037 - accuracy: 0.9981 - ignore_accuracy: 0.1751 - val_loss: 0.0677 - val_accuracy: 0.9170 - val_ignore_accuracy: 0.1596 - lr: 0.0025\n",
            "Epoch 10/20\n",
            "16/16 [==============================] - ETA: 0s - loss: 0.0031 - accuracy: 0.9987 - ignore_accuracy: 0.1753\n",
            "Epoch 10: ReduceLROnPlateau reducing learning rate to 0.001.\n",
            "16/16 [==============================] - 39s 2s/step - loss: 0.0031 - accuracy: 0.9987 - ignore_accuracy: 0.1753 - val_loss: 0.0671 - val_accuracy: 0.9181 - val_ignore_accuracy: 0.1599 - lr: 0.0012\n",
            "Epoch 11/20\n",
            "16/16 [==============================] - 38s 2s/step - loss: 0.0028 - accuracy: 0.9989 - ignore_accuracy: 0.1751 - val_loss: 0.0680 - val_accuracy: 0.9172 - val_ignore_accuracy: 0.1597 - lr: 0.0010\n",
            "Epoch 12/20\n",
            "16/16 [==============================] - 39s 2s/step - loss: 0.0027 - accuracy: 0.9991 - ignore_accuracy: 0.1754 - val_loss: 0.0682 - val_accuracy: 0.9174 - val_ignore_accuracy: 0.1597 - lr: 0.0010\n",
            "Epoch 13/20\n",
            "16/16 [==============================] - ETA: 0s - loss: 0.0026 - accuracy: 0.9991 - ignore_accuracy: 0.1752Restoring model weights from the end of the best epoch: 10.\n",
            "16/16 [==============================] - 39s 2s/step - loss: 0.0026 - accuracy: 0.9991 - ignore_accuracy: 0.1752 - val_loss: 0.0690 - val_accuracy: 0.9174 - val_ignore_accuracy: 0.1597 - lr: 0.0010\n",
            "Epoch 13: early stopping\n"
          ]
        }
      ],
      "source": [
        "results_add_fc = add_fc_model.fit(X_train, y_train_one_hot, epochs=20, verbose = True, \\\n",
        "                                  validation_data=(X_val, y_val_one_hot), batch_size=128, callbacks = callbacks)"
      ]
    },
    {
      "cell_type": "code",
      "execution_count": 75,
      "metadata": {
        "id": "dsOyrHcWE62j",
        "colab": {
          "base_uri": "https://localhost:8080/"
        },
        "outputId": "4f2e1bec-7de2-4d85-b3c8-00ac93e9498c"
      },
      "outputs": [
        {
          "output_type": "stream",
          "name": "stdout",
          "text": [
            "41/41 [==============================] - 11s 270ms/step - loss: 0.0671 - accuracy: 0.9181 - ignore_accuracy: 0.1617\n",
            "41/41 [==============================] - 14s 270ms/step\n"
          ]
        }
      ],
      "source": [
        "scores_add_fc = add_fc_model.evaluate(X_val, y_val_one_hot, return_dict = True)\n",
        "predictions_add_fc = add_fc_model.predict(X_val)"
      ]
    },
    {
      "cell_type": "code",
      "execution_count": 76,
      "metadata": {
        "id": "7nKMHckAP4bZ"
      },
      "outputs": [],
      "source": [
        "# Convert the class probabilities into class labels\n",
        "predicted_labels_add_fc = np.argmax(predictions_add_fc, axis=-1)\n",
        "\n",
        "true_pos_add_fc, false_pos_add_fc, false_neg_add_fc, precision_add_fc, recall_add_fc, f1score_add_fc = compute_metrics(predicted_labels_add_fc, tags_test, ignore, y_val, index2tag)\n"
      ]
    },
    {
      "cell_type": "code",
      "execution_count": 77,
      "metadata": {
        "id": "4U2eLG-dQPZ4",
        "colab": {
          "base_uri": "https://localhost:8080/"
        },
        "outputId": "fcd6ca91-8356-46ad-89c3-7efb359f1ffa"
      },
      "outputs": [
        {
          "output_type": "stream",
          "name": "stdout",
          "text": [
            "MACRO F1-score: 0.8358757599059193\n"
          ]
        }
      ],
      "source": [
        "macro_f1_add_fc = macro_f1_score(f1score_add_fc)"
      ]
    },
    {
      "cell_type": "markdown",
      "metadata": {
        "id": "d9ZTfE8sE81P"
      },
      "source": [
        "## 4. Comparisons\n"
      ]
    },
    {
      "cell_type": "code",
      "source": [
        "# Sample data\n",
        "data = [macro_f1_bl,macro_f1_gru,macro_f1_add_lstm,macro_f1_add_fc]\n",
        "\n",
        "# Create figure\n",
        "fig = go.Figure(data=[go.Bar(x=['Baseline','GRU', 'Add. LSTM', 'Add. FC'], y=data)])\n",
        "\n",
        "# Set titles for axes\n",
        "fig.update_layout(xaxis_title='Models', yaxis_title='Macro F1')\n",
        "\n",
        "# Show plot\n",
        "fig.show()\n"
      ],
      "metadata": {
        "colab": {
          "base_uri": "https://localhost:8080/",
          "height": 542
        },
        "id": "ShQ9GoTGzTK-",
        "outputId": "f4975b25-488d-49ae-bd4c-bddfeea5948d"
      },
      "execution_count": 78,
      "outputs": [
        {
          "output_type": "display_data",
          "data": {
            "text/html": [
              "<html>\n",
              "<head><meta charset=\"utf-8\" /></head>\n",
              "<body>\n",
              "    <div>            <script src=\"https://cdnjs.cloudflare.com/ajax/libs/mathjax/2.7.5/MathJax.js?config=TeX-AMS-MML_SVG\"></script><script type=\"text/javascript\">if (window.MathJax) {MathJax.Hub.Config({SVG: {font: \"STIX-Web\"}});}</script>                <script type=\"text/javascript\">window.PlotlyConfig = {MathJaxConfig: 'local'};</script>\n",
              "        <script src=\"https://cdn.plot.ly/plotly-2.8.3.min.js\"></script>                <div id=\"52fde8c0-a806-4f08-b89a-094cf5d3a947\" class=\"plotly-graph-div\" style=\"height:525px; width:100%;\"></div>            <script type=\"text/javascript\">                                    window.PLOTLYENV=window.PLOTLYENV || {};                                    if (document.getElementById(\"52fde8c0-a806-4f08-b89a-094cf5d3a947\")) {                    Plotly.newPlot(                        \"52fde8c0-a806-4f08-b89a-094cf5d3a947\",                        [{\"x\":[\"Baseline\",\"GRU\",\"Add. LSTM\",\"Add. FC\"],\"y\":[0.7722604572649779,0.8118727890733606,0.8820647810182816,0.8358757599059193],\"type\":\"bar\"}],                        {\"template\":{\"data\":{\"bar\":[{\"error_x\":{\"color\":\"#2a3f5f\"},\"error_y\":{\"color\":\"#2a3f5f\"},\"marker\":{\"line\":{\"color\":\"#E5ECF6\",\"width\":0.5},\"pattern\":{\"fillmode\":\"overlay\",\"size\":10,\"solidity\":0.2}},\"type\":\"bar\"}],\"barpolar\":[{\"marker\":{\"line\":{\"color\":\"#E5ECF6\",\"width\":0.5},\"pattern\":{\"fillmode\":\"overlay\",\"size\":10,\"solidity\":0.2}},\"type\":\"barpolar\"}],\"carpet\":[{\"aaxis\":{\"endlinecolor\":\"#2a3f5f\",\"gridcolor\":\"white\",\"linecolor\":\"white\",\"minorgridcolor\":\"white\",\"startlinecolor\":\"#2a3f5f\"},\"baxis\":{\"endlinecolor\":\"#2a3f5f\",\"gridcolor\":\"white\",\"linecolor\":\"white\",\"minorgridcolor\":\"white\",\"startlinecolor\":\"#2a3f5f\"},\"type\":\"carpet\"}],\"choropleth\":[{\"colorbar\":{\"outlinewidth\":0,\"ticks\":\"\"},\"type\":\"choropleth\"}],\"contour\":[{\"colorbar\":{\"outlinewidth\":0,\"ticks\":\"\"},\"colorscale\":[[0.0,\"#0d0887\"],[0.1111111111111111,\"#46039f\"],[0.2222222222222222,\"#7201a8\"],[0.3333333333333333,\"#9c179e\"],[0.4444444444444444,\"#bd3786\"],[0.5555555555555556,\"#d8576b\"],[0.6666666666666666,\"#ed7953\"],[0.7777777777777778,\"#fb9f3a\"],[0.8888888888888888,\"#fdca26\"],[1.0,\"#f0f921\"]],\"type\":\"contour\"}],\"contourcarpet\":[{\"colorbar\":{\"outlinewidth\":0,\"ticks\":\"\"},\"type\":\"contourcarpet\"}],\"heatmap\":[{\"colorbar\":{\"outlinewidth\":0,\"ticks\":\"\"},\"colorscale\":[[0.0,\"#0d0887\"],[0.1111111111111111,\"#46039f\"],[0.2222222222222222,\"#7201a8\"],[0.3333333333333333,\"#9c179e\"],[0.4444444444444444,\"#bd3786\"],[0.5555555555555556,\"#d8576b\"],[0.6666666666666666,\"#ed7953\"],[0.7777777777777778,\"#fb9f3a\"],[0.8888888888888888,\"#fdca26\"],[1.0,\"#f0f921\"]],\"type\":\"heatmap\"}],\"heatmapgl\":[{\"colorbar\":{\"outlinewidth\":0,\"ticks\":\"\"},\"colorscale\":[[0.0,\"#0d0887\"],[0.1111111111111111,\"#46039f\"],[0.2222222222222222,\"#7201a8\"],[0.3333333333333333,\"#9c179e\"],[0.4444444444444444,\"#bd3786\"],[0.5555555555555556,\"#d8576b\"],[0.6666666666666666,\"#ed7953\"],[0.7777777777777778,\"#fb9f3a\"],[0.8888888888888888,\"#fdca26\"],[1.0,\"#f0f921\"]],\"type\":\"heatmapgl\"}],\"histogram\":[{\"marker\":{\"pattern\":{\"fillmode\":\"overlay\",\"size\":10,\"solidity\":0.2}},\"type\":\"histogram\"}],\"histogram2d\":[{\"colorbar\":{\"outlinewidth\":0,\"ticks\":\"\"},\"colorscale\":[[0.0,\"#0d0887\"],[0.1111111111111111,\"#46039f\"],[0.2222222222222222,\"#7201a8\"],[0.3333333333333333,\"#9c179e\"],[0.4444444444444444,\"#bd3786\"],[0.5555555555555556,\"#d8576b\"],[0.6666666666666666,\"#ed7953\"],[0.7777777777777778,\"#fb9f3a\"],[0.8888888888888888,\"#fdca26\"],[1.0,\"#f0f921\"]],\"type\":\"histogram2d\"}],\"histogram2dcontour\":[{\"colorbar\":{\"outlinewidth\":0,\"ticks\":\"\"},\"colorscale\":[[0.0,\"#0d0887\"],[0.1111111111111111,\"#46039f\"],[0.2222222222222222,\"#7201a8\"],[0.3333333333333333,\"#9c179e\"],[0.4444444444444444,\"#bd3786\"],[0.5555555555555556,\"#d8576b\"],[0.6666666666666666,\"#ed7953\"],[0.7777777777777778,\"#fb9f3a\"],[0.8888888888888888,\"#fdca26\"],[1.0,\"#f0f921\"]],\"type\":\"histogram2dcontour\"}],\"mesh3d\":[{\"colorbar\":{\"outlinewidth\":0,\"ticks\":\"\"},\"type\":\"mesh3d\"}],\"parcoords\":[{\"line\":{\"colorbar\":{\"outlinewidth\":0,\"ticks\":\"\"}},\"type\":\"parcoords\"}],\"pie\":[{\"automargin\":true,\"type\":\"pie\"}],\"scatter\":[{\"marker\":{\"colorbar\":{\"outlinewidth\":0,\"ticks\":\"\"}},\"type\":\"scatter\"}],\"scatter3d\":[{\"line\":{\"colorbar\":{\"outlinewidth\":0,\"ticks\":\"\"}},\"marker\":{\"colorbar\":{\"outlinewidth\":0,\"ticks\":\"\"}},\"type\":\"scatter3d\"}],\"scattercarpet\":[{\"marker\":{\"colorbar\":{\"outlinewidth\":0,\"ticks\":\"\"}},\"type\":\"scattercarpet\"}],\"scattergeo\":[{\"marker\":{\"colorbar\":{\"outlinewidth\":0,\"ticks\":\"\"}},\"type\":\"scattergeo\"}],\"scattergl\":[{\"marker\":{\"colorbar\":{\"outlinewidth\":0,\"ticks\":\"\"}},\"type\":\"scattergl\"}],\"scattermapbox\":[{\"marker\":{\"colorbar\":{\"outlinewidth\":0,\"ticks\":\"\"}},\"type\":\"scattermapbox\"}],\"scatterpolar\":[{\"marker\":{\"colorbar\":{\"outlinewidth\":0,\"ticks\":\"\"}},\"type\":\"scatterpolar\"}],\"scatterpolargl\":[{\"marker\":{\"colorbar\":{\"outlinewidth\":0,\"ticks\":\"\"}},\"type\":\"scatterpolargl\"}],\"scatterternary\":[{\"marker\":{\"colorbar\":{\"outlinewidth\":0,\"ticks\":\"\"}},\"type\":\"scatterternary\"}],\"surface\":[{\"colorbar\":{\"outlinewidth\":0,\"ticks\":\"\"},\"colorscale\":[[0.0,\"#0d0887\"],[0.1111111111111111,\"#46039f\"],[0.2222222222222222,\"#7201a8\"],[0.3333333333333333,\"#9c179e\"],[0.4444444444444444,\"#bd3786\"],[0.5555555555555556,\"#d8576b\"],[0.6666666666666666,\"#ed7953\"],[0.7777777777777778,\"#fb9f3a\"],[0.8888888888888888,\"#fdca26\"],[1.0,\"#f0f921\"]],\"type\":\"surface\"}],\"table\":[{\"cells\":{\"fill\":{\"color\":\"#EBF0F8\"},\"line\":{\"color\":\"white\"}},\"header\":{\"fill\":{\"color\":\"#C8D4E3\"},\"line\":{\"color\":\"white\"}},\"type\":\"table\"}]},\"layout\":{\"annotationdefaults\":{\"arrowcolor\":\"#2a3f5f\",\"arrowhead\":0,\"arrowwidth\":1},\"autotypenumbers\":\"strict\",\"coloraxis\":{\"colorbar\":{\"outlinewidth\":0,\"ticks\":\"\"}},\"colorscale\":{\"diverging\":[[0,\"#8e0152\"],[0.1,\"#c51b7d\"],[0.2,\"#de77ae\"],[0.3,\"#f1b6da\"],[0.4,\"#fde0ef\"],[0.5,\"#f7f7f7\"],[0.6,\"#e6f5d0\"],[0.7,\"#b8e186\"],[0.8,\"#7fbc41\"],[0.9,\"#4d9221\"],[1,\"#276419\"]],\"sequential\":[[0.0,\"#0d0887\"],[0.1111111111111111,\"#46039f\"],[0.2222222222222222,\"#7201a8\"],[0.3333333333333333,\"#9c179e\"],[0.4444444444444444,\"#bd3786\"],[0.5555555555555556,\"#d8576b\"],[0.6666666666666666,\"#ed7953\"],[0.7777777777777778,\"#fb9f3a\"],[0.8888888888888888,\"#fdca26\"],[1.0,\"#f0f921\"]],\"sequentialminus\":[[0.0,\"#0d0887\"],[0.1111111111111111,\"#46039f\"],[0.2222222222222222,\"#7201a8\"],[0.3333333333333333,\"#9c179e\"],[0.4444444444444444,\"#bd3786\"],[0.5555555555555556,\"#d8576b\"],[0.6666666666666666,\"#ed7953\"],[0.7777777777777778,\"#fb9f3a\"],[0.8888888888888888,\"#fdca26\"],[1.0,\"#f0f921\"]]},\"colorway\":[\"#636efa\",\"#EF553B\",\"#00cc96\",\"#ab63fa\",\"#FFA15A\",\"#19d3f3\",\"#FF6692\",\"#B6E880\",\"#FF97FF\",\"#FECB52\"],\"font\":{\"color\":\"#2a3f5f\"},\"geo\":{\"bgcolor\":\"white\",\"lakecolor\":\"white\",\"landcolor\":\"#E5ECF6\",\"showlakes\":true,\"showland\":true,\"subunitcolor\":\"white\"},\"hoverlabel\":{\"align\":\"left\"},\"hovermode\":\"closest\",\"mapbox\":{\"style\":\"light\"},\"paper_bgcolor\":\"white\",\"plot_bgcolor\":\"#E5ECF6\",\"polar\":{\"angularaxis\":{\"gridcolor\":\"white\",\"linecolor\":\"white\",\"ticks\":\"\"},\"bgcolor\":\"#E5ECF6\",\"radialaxis\":{\"gridcolor\":\"white\",\"linecolor\":\"white\",\"ticks\":\"\"}},\"scene\":{\"xaxis\":{\"backgroundcolor\":\"#E5ECF6\",\"gridcolor\":\"white\",\"gridwidth\":2,\"linecolor\":\"white\",\"showbackground\":true,\"ticks\":\"\",\"zerolinecolor\":\"white\"},\"yaxis\":{\"backgroundcolor\":\"#E5ECF6\",\"gridcolor\":\"white\",\"gridwidth\":2,\"linecolor\":\"white\",\"showbackground\":true,\"ticks\":\"\",\"zerolinecolor\":\"white\"},\"zaxis\":{\"backgroundcolor\":\"#E5ECF6\",\"gridcolor\":\"white\",\"gridwidth\":2,\"linecolor\":\"white\",\"showbackground\":true,\"ticks\":\"\",\"zerolinecolor\":\"white\"}},\"shapedefaults\":{\"line\":{\"color\":\"#2a3f5f\"}},\"ternary\":{\"aaxis\":{\"gridcolor\":\"white\",\"linecolor\":\"white\",\"ticks\":\"\"},\"baxis\":{\"gridcolor\":\"white\",\"linecolor\":\"white\",\"ticks\":\"\"},\"bgcolor\":\"#E5ECF6\",\"caxis\":{\"gridcolor\":\"white\",\"linecolor\":\"white\",\"ticks\":\"\"}},\"title\":{\"x\":0.05},\"xaxis\":{\"automargin\":true,\"gridcolor\":\"white\",\"linecolor\":\"white\",\"ticks\":\"\",\"title\":{\"standoff\":15},\"zerolinecolor\":\"white\",\"zerolinewidth\":2},\"yaxis\":{\"automargin\":true,\"gridcolor\":\"white\",\"linecolor\":\"white\",\"ticks\":\"\",\"title\":{\"standoff\":15},\"zerolinecolor\":\"white\",\"zerolinewidth\":2}}},\"xaxis\":{\"title\":{\"text\":\"Models\"}},\"yaxis\":{\"title\":{\"text\":\"Macro F1\"}}},                        {\"responsive\": true}                    ).then(function(){\n",
              "                            \n",
              "var gd = document.getElementById('52fde8c0-a806-4f08-b89a-094cf5d3a947');\n",
              "var x = new MutationObserver(function (mutations, observer) {{\n",
              "        var display = window.getComputedStyle(gd).display;\n",
              "        if (!display || display === 'none') {{\n",
              "            console.log([gd, 'removed!']);\n",
              "            Plotly.purge(gd);\n",
              "            observer.disconnect();\n",
              "        }}\n",
              "}});\n",
              "\n",
              "// Listen for the removal of the full notebook cells\n",
              "var notebookContainer = gd.closest('#notebook-container');\n",
              "if (notebookContainer) {{\n",
              "    x.observe(notebookContainer, {childList: true});\n",
              "}}\n",
              "\n",
              "// Listen for the clearing of the current output cell\n",
              "var outputEl = gd.closest('.output');\n",
              "if (outputEl) {{\n",
              "    x.observe(outputEl, {childList: true});\n",
              "}}\n",
              "\n",
              "                        })                };                            </script>        </div>\n",
              "</body>\n",
              "</html>"
            ]
          },
          "metadata": {}
        }
      ]
    },
    {
      "cell_type": "code",
      "execution_count": null,
      "metadata": {
        "colab": {
          "base_uri": "https://localhost:8080/"
        },
        "id": "60fNmjrgpCE3",
        "outputId": "402d67c6-af69-4289-c6b9-1abe1ba0a7b9"
      },
      "outputs": [
        {
          "name": "stdout",
          "output_type": "stream",
          "text": [
            "OrderedDict([(0, '#'), (1, '$'), (2, \"''\"), (3, ','), (4, '-LRB-'), (5, '-NONE-'), (6, '-RRB-'), (7, '.'), (8, ':'), (9, 'CC'), (10, 'CD'), (11, 'DT'), (12, 'EX'), (13, 'FW'), (14, 'IN'), (15, 'JJ'), (16, 'JJR'), (17, 'JJS'), (18, 'LS'), (19, 'MD'), (20, 'NN'), (21, 'NNP'), (22, 'NNPS'), (23, 'NNS'), (24, 'PDT'), (25, 'POS'), (26, 'PRP'), (27, 'PRP$'), (28, 'RB'), (29, 'RBR'), (30, 'RBS'), (31, 'RP'), (32, 'SYM'), (33, 'TO'), (34, 'UH'), (35, 'VB'), (36, 'VBD'), (37, 'VBG'), (38, 'VBN'), (39, 'VBP'), (40, 'VBZ'), (41, 'WDT'), (42, 'WP'), (43, 'WP$'), (44, 'WRB'), (45, '``')])\n"
          ]
        }
      ],
      "source": [
        "print(index2tag)"
      ]
    },
    {
      "cell_type": "code",
      "execution_count": 79,
      "metadata": {
        "id": "QKhtcyT-cf6C",
        "colab": {
          "base_uri": "https://localhost:8080/"
        },
        "outputId": "5a428975-455f-4790-adec-61fa2c2d3660"
      },
      "outputs": [
        {
          "output_type": "stream",
          "name": "stdout",
          "text": [
            "Test sentence: ['The', 'sad', 'reality', 'is', 'that', 'the', 'retail', 'investor', 'continues', 'to', 'pursue', 'stellar', 'performers', 'first', ',', 'while', 'leaving', 'institutions', 'to', 'grapple', 'with', 'basis', 'points', 'of', 'performance', 'on', 'large', 'sums', 'of', 'money', 'quarter', 'by', 'quarter', '.']\n",
            "Ground truth tags: ['DT', 'JJ', 'NN', 'VBZ', 'IN', 'DT', 'JJ', 'NN', 'VBZ', 'TO', 'VB', 'JJ', 'NNS', 'RB', ',', 'IN', 'VBG', 'NNS', 'TO', 'VB', 'IN', 'NN', 'NNS', 'IN', 'NN', 'IN', 'JJ', 'NNS', 'IN', 'NN', 'NN', 'IN', 'NN', '.']\n",
            "Baseline predictions: ['DT', 'NN', 'NN', 'VBZ', 'IN', '.', 'JJ', 'NN', 'VBZ', 'TO', 'VB', 'JJ', 'NNS', 'JJ', ',', 'IN', 'VBG', 'NNS', 'TO', 'VB', 'IN', 'JJ', 'NNS', 'IN', 'NN', 'IN', 'JJ', 'NNS', 'IN', 'NN', 'NN', 'IN', 'NN', '.', '.', '.', '.', '.', '.', '.', '.', '.', '.', '.', '.', '.', '.', '.', '.', '.', '.', '.', '.', '.', '.', '.', '.', '.', '.', '.', '.', '.', '.', '.', '.', '.', '.', '.', '.', '.', '.', '.', '.', '.', '.', '.', '.', '.', '.', '.', '.', '.', '.', '.', '.', '.', '.', '.', '.', '.', '.', '.', '.', '.', '.', '.', '.', '.', '.', '.', '.', '.', '.', '.', '.', '.', '.', '.', '.', '.', '.', '.', '.', '.']\n",
            "GRU predictions: ['DT', 'JJ', 'NN', 'VBZ', 'IN', 'IN', 'NN', 'NN', 'VBZ', 'TO', 'VB', 'JJ', 'NNS', 'JJ', ',', 'IN', 'VBG', 'NNS', 'TO', 'VB', 'IN', 'JJ', 'NNS', 'IN', 'NN', 'IN', 'JJ', 'NNS', 'IN', 'NN', 'VBD', 'IN', 'NN', '.', '.', '.', '.', '.', '.', '.', '.', '.', '.', '.', '.', '.', '.', '.', '.', '.', '.', '.', '.', '.', '.', '.', '.', '.', '.', '.', '.', '.', '.', '.', '.', '.', '.', '.', '.', '.', '.', '.', '.', '.', '.', '.', '.', '.', '.', '.', '.', '.', '.', '.', '.', '.', '.', '.', '.', '.', '.', '.', '.', '.', '.', '.', '.', '.', '.', '.', '.', '.', '.', '.', '.', '.', '.', '.', '.', '.', '.', '.', '.', '.']\n",
            "Additional LSTM layer predictions: ['DT', 'JJ', 'NN', 'VBZ', 'IN', '.', 'JJ', 'NN', 'VBZ', 'TO', 'VB', 'JJ', 'NNS', 'JJ', ',', 'IN', 'VBG', 'NNS', 'TO', 'VB', 'IN', 'JJ', 'NNS', 'IN', 'NN', 'IN', 'JJ', 'NNS', 'IN', 'NN', 'NN', 'IN', 'NN', '.', '.', '.', '.', '.', '.', '.', '.', '.', '.', '.', '.', '.', '.', '.', '.', '.', '.', '.', '.', '.', '.', '.', '.', '.', '.', '.', '.', '.', '.', '.', '.', '.', '.', '.', '.', '.', '.', '.', '.', '.', '.', '.', '.', '.', '.', '.', '.', '.', '.', '.', '.', '.', '.', '.', '.', '.', '.', '.', '.', '.', '.', '.', '.', '.', '.', '.', '.', '.', '.', '.', '.', '.', '.', '.', '.', '.', '.', '.', '.', '.']\n",
            "Additional FC layer predictions: ['DT', 'NN', 'NN', 'VBZ', 'IN', 'NNP', 'JJ', 'NN', 'VBZ', 'TO', 'VB', 'JJ', 'NNS', 'JJ', ',', 'IN', 'VBG', 'NNS', 'TO', 'VB', 'IN', 'JJ', 'NNS', 'IN', 'NN', 'IN', 'JJ', 'NNS', 'IN', 'NN', 'VBN', 'IN', 'NN', '.', 'NNP', 'NNP', 'NNP', 'NNP', 'NNP', 'NNP', 'NNP', 'NNP', 'NNP', 'NNP', 'NNP', 'NNP', 'NNP', 'NNP', 'NNP', 'NNP', 'NNP', 'NNP', 'NNP', 'NNP', 'NNP', 'NNP', 'NNP', 'NNP', 'NNP', 'NNP', 'NNP', 'NNP', 'NNP', 'NNP', 'NNP', 'NNP', 'NNP', 'NNP', 'NNP', 'NNP', 'NNP', 'NNP', 'NNP', 'NNP', 'NNP', 'NNP', 'NNP', 'NNP', 'NNP', 'NNP', 'NNP', 'NNP', 'NNP', 'NNP', 'NNP', 'NNP', 'NNP', 'NNP', 'NNP', 'NNP', 'NNP', 'NNP', 'NNP', 'NNP', 'NNP', 'NNP', 'NNP', 'NNP', 'NNP', 'NNP', 'NNP', 'NNP', 'NNP', 'NNP', 'NNP', 'NNP', 'NNP', 'NNP', 'NNP', 'NNP', 'NNP', 'NNP', 'NNP', 'NNP']\n"
          ]
        }
      ],
      "source": [
        "#Test phrase\n",
        "np.random.seed(41)\n",
        "idx = np.random.randint(0, len(X_val_np))\n",
        "\n",
        "print(f'Test sentence: {[index2word[word] for word in X_val_np[idx]]}') \n",
        "\n",
        "#ground truth\n",
        "print(f'Ground truth tags: {[index2tag[tag] for tag in y_val_np[idx]]}')\n",
        "\n",
        "#test bl\n",
        "print(f'Baseline predictions: {[index2tag[tag] for tag in predicted_labels_bl[idx]]}')\n",
        "#test gru\n",
        "print(f'GRU predictions: {[index2tag[tag] for tag in predicted_labels_gru[idx]]}')\n",
        "#test add lstm\n",
        "print(f'Additional LSTM layer predictions: {[index2tag[tag] for tag in predicted_labels_add_lstm[idx]]}')\n",
        "#test add fc\n",
        "print(f'Additional FC layer predictions: {[index2tag[tag] for tag in predicted_labels_add_fc[idx]]}')\n",
        "\n"
      ]
    },
    {
      "cell_type": "code",
      "execution_count": 80,
      "metadata": {
        "id": "PmH-ZgHak9ae",
        "colab": {
          "base_uri": "https://localhost:8080/"
        },
        "outputId": "e372d948-3ea0-495d-99a5-7cdc844ffe48"
      },
      "outputs": [
        {
          "output_type": "stream",
          "name": "stdout",
          "text": [
            "21/21 [==============================] - 12s 565ms/step\n",
            "No true positive for tag: PDT\n",
            "0\n",
            "0\n",
            "4\n",
            "\n",
            "MACRO F1-score: 0.8937388742557075\n"
          ]
        }
      ],
      "source": [
        "#Computing macro scores on test set\n",
        "#Additional LSTM layer\n",
        "predictions_add_lstm_test = add_lstm_model.predict(X_test)\n",
        "\n",
        "predicted_labels_add_lstm_test = np.argmax(predictions_add_lstm_test, axis=-1)\n",
        "\n",
        "true_pos_add_lstm_test, false_pos_add_lstm_test, false_neg_add_lstm_test, precision_add_lstm_test, recall_add_lstm_test, f1score_add_lstm_test = compute_metrics(predicted_labels_add_lstm_test, tags_test, ignore, y_test, index2tag)\n",
        "\n",
        "macro_f1_add_lstm_test = macro_f1_score(f1score_add_lstm_test)"
      ]
    },
    {
      "cell_type": "code",
      "source": [
        "#Computing macro scores on test set\n",
        "#Additional FC layer\n",
        "predictions_add_fc_test = add_fc_model.predict(X_test)\n",
        "\n",
        "predicted_labels_add_fc_test = np.argmax(predictions_add_fc_test, axis=-1)\n",
        "\n",
        "true_pos_add_fc_test, false_pos_add_fc_test, false_neg_add_fc_test, precision_add_fc_test, recall_add_fc_test, f1score_add_fc_test = compute_metrics(predicted_labels_add_fc_test, tags_test, ignore, y_test, index2tag)\n",
        "\n",
        "macro_f1_add_fc_test = macro_f1_score(f1score_add_fc_test)"
      ],
      "metadata": {
        "colab": {
          "base_uri": "https://localhost:8080/"
        },
        "id": "6ErUcAHqIEWY",
        "outputId": "d77d3e5c-bea7-4c95-8b14-e739a0b08bc1"
      },
      "execution_count": 81,
      "outputs": [
        {
          "output_type": "stream",
          "name": "stdout",
          "text": [
            "21/21 [==============================] - 6s 263ms/step\n",
            "No true positive for tag: PDT\n",
            "0\n",
            "0\n",
            "4\n",
            "\n",
            "MACRO F1-score: 0.8614731552341435\n"
          ]
        }
      ]
    },
    {
      "cell_type": "code",
      "execution_count": 82,
      "metadata": {
        "id": "HxBqGcszE-Ui",
        "colab": {
          "base_uri": "https://localhost:8080/",
          "height": 1000
        },
        "outputId": "6dcde811-8c17-4406-d4ae-4816668d2791"
      },
      "outputs": [
        {
          "output_type": "display_data",
          "data": {
            "text/html": [
              "<html>\n",
              "<head><meta charset=\"utf-8\" /></head>\n",
              "<body>\n",
              "    <div>            <script src=\"https://cdnjs.cloudflare.com/ajax/libs/mathjax/2.7.5/MathJax.js?config=TeX-AMS-MML_SVG\"></script><script type=\"text/javascript\">if (window.MathJax) {MathJax.Hub.Config({SVG: {font: \"STIX-Web\"}});}</script>                <script type=\"text/javascript\">window.PlotlyConfig = {MathJaxConfig: 'local'};</script>\n",
              "        <script src=\"https://cdn.plot.ly/plotly-2.8.3.min.js\"></script>                <div id=\"a650ada9-fb4c-4254-b5cc-7bc012244f32\" class=\"plotly-graph-div\" style=\"height:525px; width:100%;\"></div>            <script type=\"text/javascript\">                                    window.PLOTLYENV=window.PLOTLYENV || {};                                    if (document.getElementById(\"a650ada9-fb4c-4254-b5cc-7bc012244f32\")) {                    Plotly.newPlot(                        \"a650ada9-fb4c-4254-b5cc-7bc012244f32\",                        [{\"mode\":\"lines+markers\",\"name\":\"Baseline - BiLSTM Model\",\"x\":[1,2,3,4,5,6,7,8,9,10],\"y\":[0.7688378095626831,0.8578342199325562,0.8796128034591675,0.9003495573997498,0.9071385264396667,0.9067688584327698,0.9112052321434021,0.9106338620185852,0.9090878367424011,0.9098272323608398],\"type\":\"scatter\"},{\"mode\":\"lines+markers\",\"name\":\"GRU Model\",\"x\":[1,2,3,4,5,6,7,8,9,10],\"y\":[0.7904819250106812,0.8498353362083435,0.8672783374786377,0.8810580372810364,0.8854944109916687,0.8918128609657288,0.892417848110199,0.8925522565841675,0.8946696519851685,0.8947368264198303,0.8951737284660339,0.8944343328475952,0.8947368264198303,0.894804060459137],\"type\":\"scatter\"}],                        {\"template\":{\"data\":{\"bar\":[{\"error_x\":{\"color\":\"#2a3f5f\"},\"error_y\":{\"color\":\"#2a3f5f\"},\"marker\":{\"line\":{\"color\":\"#E5ECF6\",\"width\":0.5},\"pattern\":{\"fillmode\":\"overlay\",\"size\":10,\"solidity\":0.2}},\"type\":\"bar\"}],\"barpolar\":[{\"marker\":{\"line\":{\"color\":\"#E5ECF6\",\"width\":0.5},\"pattern\":{\"fillmode\":\"overlay\",\"size\":10,\"solidity\":0.2}},\"type\":\"barpolar\"}],\"carpet\":[{\"aaxis\":{\"endlinecolor\":\"#2a3f5f\",\"gridcolor\":\"white\",\"linecolor\":\"white\",\"minorgridcolor\":\"white\",\"startlinecolor\":\"#2a3f5f\"},\"baxis\":{\"endlinecolor\":\"#2a3f5f\",\"gridcolor\":\"white\",\"linecolor\":\"white\",\"minorgridcolor\":\"white\",\"startlinecolor\":\"#2a3f5f\"},\"type\":\"carpet\"}],\"choropleth\":[{\"colorbar\":{\"outlinewidth\":0,\"ticks\":\"\"},\"type\":\"choropleth\"}],\"contour\":[{\"colorbar\":{\"outlinewidth\":0,\"ticks\":\"\"},\"colorscale\":[[0.0,\"#0d0887\"],[0.1111111111111111,\"#46039f\"],[0.2222222222222222,\"#7201a8\"],[0.3333333333333333,\"#9c179e\"],[0.4444444444444444,\"#bd3786\"],[0.5555555555555556,\"#d8576b\"],[0.6666666666666666,\"#ed7953\"],[0.7777777777777778,\"#fb9f3a\"],[0.8888888888888888,\"#fdca26\"],[1.0,\"#f0f921\"]],\"type\":\"contour\"}],\"contourcarpet\":[{\"colorbar\":{\"outlinewidth\":0,\"ticks\":\"\"},\"type\":\"contourcarpet\"}],\"heatmap\":[{\"colorbar\":{\"outlinewidth\":0,\"ticks\":\"\"},\"colorscale\":[[0.0,\"#0d0887\"],[0.1111111111111111,\"#46039f\"],[0.2222222222222222,\"#7201a8\"],[0.3333333333333333,\"#9c179e\"],[0.4444444444444444,\"#bd3786\"],[0.5555555555555556,\"#d8576b\"],[0.6666666666666666,\"#ed7953\"],[0.7777777777777778,\"#fb9f3a\"],[0.8888888888888888,\"#fdca26\"],[1.0,\"#f0f921\"]],\"type\":\"heatmap\"}],\"heatmapgl\":[{\"colorbar\":{\"outlinewidth\":0,\"ticks\":\"\"},\"colorscale\":[[0.0,\"#0d0887\"],[0.1111111111111111,\"#46039f\"],[0.2222222222222222,\"#7201a8\"],[0.3333333333333333,\"#9c179e\"],[0.4444444444444444,\"#bd3786\"],[0.5555555555555556,\"#d8576b\"],[0.6666666666666666,\"#ed7953\"],[0.7777777777777778,\"#fb9f3a\"],[0.8888888888888888,\"#fdca26\"],[1.0,\"#f0f921\"]],\"type\":\"heatmapgl\"}],\"histogram\":[{\"marker\":{\"pattern\":{\"fillmode\":\"overlay\",\"size\":10,\"solidity\":0.2}},\"type\":\"histogram\"}],\"histogram2d\":[{\"colorbar\":{\"outlinewidth\":0,\"ticks\":\"\"},\"colorscale\":[[0.0,\"#0d0887\"],[0.1111111111111111,\"#46039f\"],[0.2222222222222222,\"#7201a8\"],[0.3333333333333333,\"#9c179e\"],[0.4444444444444444,\"#bd3786\"],[0.5555555555555556,\"#d8576b\"],[0.6666666666666666,\"#ed7953\"],[0.7777777777777778,\"#fb9f3a\"],[0.8888888888888888,\"#fdca26\"],[1.0,\"#f0f921\"]],\"type\":\"histogram2d\"}],\"histogram2dcontour\":[{\"colorbar\":{\"outlinewidth\":0,\"ticks\":\"\"},\"colorscale\":[[0.0,\"#0d0887\"],[0.1111111111111111,\"#46039f\"],[0.2222222222222222,\"#7201a8\"],[0.3333333333333333,\"#9c179e\"],[0.4444444444444444,\"#bd3786\"],[0.5555555555555556,\"#d8576b\"],[0.6666666666666666,\"#ed7953\"],[0.7777777777777778,\"#fb9f3a\"],[0.8888888888888888,\"#fdca26\"],[1.0,\"#f0f921\"]],\"type\":\"histogram2dcontour\"}],\"mesh3d\":[{\"colorbar\":{\"outlinewidth\":0,\"ticks\":\"\"},\"type\":\"mesh3d\"}],\"parcoords\":[{\"line\":{\"colorbar\":{\"outlinewidth\":0,\"ticks\":\"\"}},\"type\":\"parcoords\"}],\"pie\":[{\"automargin\":true,\"type\":\"pie\"}],\"scatter\":[{\"marker\":{\"colorbar\":{\"outlinewidth\":0,\"ticks\":\"\"}},\"type\":\"scatter\"}],\"scatter3d\":[{\"line\":{\"colorbar\":{\"outlinewidth\":0,\"ticks\":\"\"}},\"marker\":{\"colorbar\":{\"outlinewidth\":0,\"ticks\":\"\"}},\"type\":\"scatter3d\"}],\"scattercarpet\":[{\"marker\":{\"colorbar\":{\"outlinewidth\":0,\"ticks\":\"\"}},\"type\":\"scattercarpet\"}],\"scattergeo\":[{\"marker\":{\"colorbar\":{\"outlinewidth\":0,\"ticks\":\"\"}},\"type\":\"scattergeo\"}],\"scattergl\":[{\"marker\":{\"colorbar\":{\"outlinewidth\":0,\"ticks\":\"\"}},\"type\":\"scattergl\"}],\"scattermapbox\":[{\"marker\":{\"colorbar\":{\"outlinewidth\":0,\"ticks\":\"\"}},\"type\":\"scattermapbox\"}],\"scatterpolar\":[{\"marker\":{\"colorbar\":{\"outlinewidth\":0,\"ticks\":\"\"}},\"type\":\"scatterpolar\"}],\"scatterpolargl\":[{\"marker\":{\"colorbar\":{\"outlinewidth\":0,\"ticks\":\"\"}},\"type\":\"scatterpolargl\"}],\"scatterternary\":[{\"marker\":{\"colorbar\":{\"outlinewidth\":0,\"ticks\":\"\"}},\"type\":\"scatterternary\"}],\"surface\":[{\"colorbar\":{\"outlinewidth\":0,\"ticks\":\"\"},\"colorscale\":[[0.0,\"#0d0887\"],[0.1111111111111111,\"#46039f\"],[0.2222222222222222,\"#7201a8\"],[0.3333333333333333,\"#9c179e\"],[0.4444444444444444,\"#bd3786\"],[0.5555555555555556,\"#d8576b\"],[0.6666666666666666,\"#ed7953\"],[0.7777777777777778,\"#fb9f3a\"],[0.8888888888888888,\"#fdca26\"],[1.0,\"#f0f921\"]],\"type\":\"surface\"}],\"table\":[{\"cells\":{\"fill\":{\"color\":\"#EBF0F8\"},\"line\":{\"color\":\"white\"}},\"header\":{\"fill\":{\"color\":\"#C8D4E3\"},\"line\":{\"color\":\"white\"}},\"type\":\"table\"}]},\"layout\":{\"annotationdefaults\":{\"arrowcolor\":\"#2a3f5f\",\"arrowhead\":0,\"arrowwidth\":1},\"autotypenumbers\":\"strict\",\"coloraxis\":{\"colorbar\":{\"outlinewidth\":0,\"ticks\":\"\"}},\"colorscale\":{\"diverging\":[[0,\"#8e0152\"],[0.1,\"#c51b7d\"],[0.2,\"#de77ae\"],[0.3,\"#f1b6da\"],[0.4,\"#fde0ef\"],[0.5,\"#f7f7f7\"],[0.6,\"#e6f5d0\"],[0.7,\"#b8e186\"],[0.8,\"#7fbc41\"],[0.9,\"#4d9221\"],[1,\"#276419\"]],\"sequential\":[[0.0,\"#0d0887\"],[0.1111111111111111,\"#46039f\"],[0.2222222222222222,\"#7201a8\"],[0.3333333333333333,\"#9c179e\"],[0.4444444444444444,\"#bd3786\"],[0.5555555555555556,\"#d8576b\"],[0.6666666666666666,\"#ed7953\"],[0.7777777777777778,\"#fb9f3a\"],[0.8888888888888888,\"#fdca26\"],[1.0,\"#f0f921\"]],\"sequentialminus\":[[0.0,\"#0d0887\"],[0.1111111111111111,\"#46039f\"],[0.2222222222222222,\"#7201a8\"],[0.3333333333333333,\"#9c179e\"],[0.4444444444444444,\"#bd3786\"],[0.5555555555555556,\"#d8576b\"],[0.6666666666666666,\"#ed7953\"],[0.7777777777777778,\"#fb9f3a\"],[0.8888888888888888,\"#fdca26\"],[1.0,\"#f0f921\"]]},\"colorway\":[\"#636efa\",\"#EF553B\",\"#00cc96\",\"#ab63fa\",\"#FFA15A\",\"#19d3f3\",\"#FF6692\",\"#B6E880\",\"#FF97FF\",\"#FECB52\"],\"font\":{\"color\":\"#2a3f5f\"},\"geo\":{\"bgcolor\":\"white\",\"lakecolor\":\"white\",\"landcolor\":\"#E5ECF6\",\"showlakes\":true,\"showland\":true,\"subunitcolor\":\"white\"},\"hoverlabel\":{\"align\":\"left\"},\"hovermode\":\"closest\",\"mapbox\":{\"style\":\"light\"},\"paper_bgcolor\":\"white\",\"plot_bgcolor\":\"#E5ECF6\",\"polar\":{\"angularaxis\":{\"gridcolor\":\"white\",\"linecolor\":\"white\",\"ticks\":\"\"},\"bgcolor\":\"#E5ECF6\",\"radialaxis\":{\"gridcolor\":\"white\",\"linecolor\":\"white\",\"ticks\":\"\"}},\"scene\":{\"xaxis\":{\"backgroundcolor\":\"#E5ECF6\",\"gridcolor\":\"white\",\"gridwidth\":2,\"linecolor\":\"white\",\"showbackground\":true,\"ticks\":\"\",\"zerolinecolor\":\"white\"},\"yaxis\":{\"backgroundcolor\":\"#E5ECF6\",\"gridcolor\":\"white\",\"gridwidth\":2,\"linecolor\":\"white\",\"showbackground\":true,\"ticks\":\"\",\"zerolinecolor\":\"white\"},\"zaxis\":{\"backgroundcolor\":\"#E5ECF6\",\"gridcolor\":\"white\",\"gridwidth\":2,\"linecolor\":\"white\",\"showbackground\":true,\"ticks\":\"\",\"zerolinecolor\":\"white\"}},\"shapedefaults\":{\"line\":{\"color\":\"#2a3f5f\"}},\"ternary\":{\"aaxis\":{\"gridcolor\":\"white\",\"linecolor\":\"white\",\"ticks\":\"\"},\"baxis\":{\"gridcolor\":\"white\",\"linecolor\":\"white\",\"ticks\":\"\"},\"bgcolor\":\"#E5ECF6\",\"caxis\":{\"gridcolor\":\"white\",\"linecolor\":\"white\",\"ticks\":\"\"}},\"title\":{\"x\":0.05},\"xaxis\":{\"automargin\":true,\"gridcolor\":\"white\",\"linecolor\":\"white\",\"ticks\":\"\",\"title\":{\"standoff\":15},\"zerolinecolor\":\"white\",\"zerolinewidth\":2},\"yaxis\":{\"automargin\":true,\"gridcolor\":\"white\",\"linecolor\":\"white\",\"ticks\":\"\",\"title\":{\"standoff\":15},\"zerolinecolor\":\"white\",\"zerolinewidth\":2}}}},                        {\"responsive\": true}                    ).then(function(){\n",
              "                            \n",
              "var gd = document.getElementById('a650ada9-fb4c-4254-b5cc-7bc012244f32');\n",
              "var x = new MutationObserver(function (mutations, observer) {{\n",
              "        var display = window.getComputedStyle(gd).display;\n",
              "        if (!display || display === 'none') {{\n",
              "            console.log([gd, 'removed!']);\n",
              "            Plotly.purge(gd);\n",
              "            observer.disconnect();\n",
              "        }}\n",
              "}});\n",
              "\n",
              "// Listen for the removal of the full notebook cells\n",
              "var notebookContainer = gd.closest('#notebook-container');\n",
              "if (notebookContainer) {{\n",
              "    x.observe(notebookContainer, {childList: true});\n",
              "}}\n",
              "\n",
              "// Listen for the clearing of the current output cell\n",
              "var outputEl = gd.closest('.output');\n",
              "if (outputEl) {{\n",
              "    x.observe(outputEl, {childList: true});\n",
              "}}\n",
              "\n",
              "                        })                };                            </script>        </div>\n",
              "</body>\n",
              "</html>"
            ]
          },
          "metadata": {}
        },
        {
          "output_type": "display_data",
          "data": {
            "text/html": [
              "<html>\n",
              "<head><meta charset=\"utf-8\" /></head>\n",
              "<body>\n",
              "    <div>            <script src=\"https://cdnjs.cloudflare.com/ajax/libs/mathjax/2.7.5/MathJax.js?config=TeX-AMS-MML_SVG\"></script><script type=\"text/javascript\">if (window.MathJax) {MathJax.Hub.Config({SVG: {font: \"STIX-Web\"}});}</script>                <script type=\"text/javascript\">window.PlotlyConfig = {MathJaxConfig: 'local'};</script>\n",
              "        <script src=\"https://cdn.plot.ly/plotly-2.8.3.min.js\"></script>                <div id=\"f2a8ea14-86fd-4a16-b934-ca54ff61bac1\" class=\"plotly-graph-div\" style=\"height:525px; width:100%;\"></div>            <script type=\"text/javascript\">                                    window.PLOTLYENV=window.PLOTLYENV || {};                                    if (document.getElementById(\"f2a8ea14-86fd-4a16-b934-ca54ff61bac1\")) {                    Plotly.newPlot(                        \"f2a8ea14-86fd-4a16-b934-ca54ff61bac1\",                        [{\"mode\":\"lines+markers\",\"name\":\"2 BiLSTMs Model\",\"x\":[1,2,3,4,5,6,7,8,9,10,11,12,13,14,15,16,17,18,19,20],\"y\":[0.33027490973472595,0.6584324836730957,0.7994555234909058,0.8369295001029968,0.8760166764259338,0.8956443071365356,0.9102977514266968,0.9168851375579834,0.9181286692619324,0.9200779795646667,0.9192713499069214,0.9217584133148193,0.9238085746765137,0.9230355620384216,0.9237749576568604,0.923842191696167,0.9239429831504822,0.9241110682487488,0.9241446256637573,0.9243463277816772],\"type\":\"scatter\"},{\"mode\":\"lines+markers\",\"name\":\"2 FCs Model\",\"x\":[1,2,3,4,5,6,7,8,9,10,11,12,13,14,15,16,17,18,19,20],\"y\":[0.7192646265029907,0.846340000629425,0.8844861388206482,0.9028366208076477,0.9129865169525146,0.9137594699859619,0.9175572991371155,0.9175236821174622,0.9170195460319519,0.9180614352226257,0.9171540141105652,0.917422890663147,0.9173556566238403],\"type\":\"scatter\"}],                        {\"template\":{\"data\":{\"bar\":[{\"error_x\":{\"color\":\"#2a3f5f\"},\"error_y\":{\"color\":\"#2a3f5f\"},\"marker\":{\"line\":{\"color\":\"#E5ECF6\",\"width\":0.5},\"pattern\":{\"fillmode\":\"overlay\",\"size\":10,\"solidity\":0.2}},\"type\":\"bar\"}],\"barpolar\":[{\"marker\":{\"line\":{\"color\":\"#E5ECF6\",\"width\":0.5},\"pattern\":{\"fillmode\":\"overlay\",\"size\":10,\"solidity\":0.2}},\"type\":\"barpolar\"}],\"carpet\":[{\"aaxis\":{\"endlinecolor\":\"#2a3f5f\",\"gridcolor\":\"white\",\"linecolor\":\"white\",\"minorgridcolor\":\"white\",\"startlinecolor\":\"#2a3f5f\"},\"baxis\":{\"endlinecolor\":\"#2a3f5f\",\"gridcolor\":\"white\",\"linecolor\":\"white\",\"minorgridcolor\":\"white\",\"startlinecolor\":\"#2a3f5f\"},\"type\":\"carpet\"}],\"choropleth\":[{\"colorbar\":{\"outlinewidth\":0,\"ticks\":\"\"},\"type\":\"choropleth\"}],\"contour\":[{\"colorbar\":{\"outlinewidth\":0,\"ticks\":\"\"},\"colorscale\":[[0.0,\"#0d0887\"],[0.1111111111111111,\"#46039f\"],[0.2222222222222222,\"#7201a8\"],[0.3333333333333333,\"#9c179e\"],[0.4444444444444444,\"#bd3786\"],[0.5555555555555556,\"#d8576b\"],[0.6666666666666666,\"#ed7953\"],[0.7777777777777778,\"#fb9f3a\"],[0.8888888888888888,\"#fdca26\"],[1.0,\"#f0f921\"]],\"type\":\"contour\"}],\"contourcarpet\":[{\"colorbar\":{\"outlinewidth\":0,\"ticks\":\"\"},\"type\":\"contourcarpet\"}],\"heatmap\":[{\"colorbar\":{\"outlinewidth\":0,\"ticks\":\"\"},\"colorscale\":[[0.0,\"#0d0887\"],[0.1111111111111111,\"#46039f\"],[0.2222222222222222,\"#7201a8\"],[0.3333333333333333,\"#9c179e\"],[0.4444444444444444,\"#bd3786\"],[0.5555555555555556,\"#d8576b\"],[0.6666666666666666,\"#ed7953\"],[0.7777777777777778,\"#fb9f3a\"],[0.8888888888888888,\"#fdca26\"],[1.0,\"#f0f921\"]],\"type\":\"heatmap\"}],\"heatmapgl\":[{\"colorbar\":{\"outlinewidth\":0,\"ticks\":\"\"},\"colorscale\":[[0.0,\"#0d0887\"],[0.1111111111111111,\"#46039f\"],[0.2222222222222222,\"#7201a8\"],[0.3333333333333333,\"#9c179e\"],[0.4444444444444444,\"#bd3786\"],[0.5555555555555556,\"#d8576b\"],[0.6666666666666666,\"#ed7953\"],[0.7777777777777778,\"#fb9f3a\"],[0.8888888888888888,\"#fdca26\"],[1.0,\"#f0f921\"]],\"type\":\"heatmapgl\"}],\"histogram\":[{\"marker\":{\"pattern\":{\"fillmode\":\"overlay\",\"size\":10,\"solidity\":0.2}},\"type\":\"histogram\"}],\"histogram2d\":[{\"colorbar\":{\"outlinewidth\":0,\"ticks\":\"\"},\"colorscale\":[[0.0,\"#0d0887\"],[0.1111111111111111,\"#46039f\"],[0.2222222222222222,\"#7201a8\"],[0.3333333333333333,\"#9c179e\"],[0.4444444444444444,\"#bd3786\"],[0.5555555555555556,\"#d8576b\"],[0.6666666666666666,\"#ed7953\"],[0.7777777777777778,\"#fb9f3a\"],[0.8888888888888888,\"#fdca26\"],[1.0,\"#f0f921\"]],\"type\":\"histogram2d\"}],\"histogram2dcontour\":[{\"colorbar\":{\"outlinewidth\":0,\"ticks\":\"\"},\"colorscale\":[[0.0,\"#0d0887\"],[0.1111111111111111,\"#46039f\"],[0.2222222222222222,\"#7201a8\"],[0.3333333333333333,\"#9c179e\"],[0.4444444444444444,\"#bd3786\"],[0.5555555555555556,\"#d8576b\"],[0.6666666666666666,\"#ed7953\"],[0.7777777777777778,\"#fb9f3a\"],[0.8888888888888888,\"#fdca26\"],[1.0,\"#f0f921\"]],\"type\":\"histogram2dcontour\"}],\"mesh3d\":[{\"colorbar\":{\"outlinewidth\":0,\"ticks\":\"\"},\"type\":\"mesh3d\"}],\"parcoords\":[{\"line\":{\"colorbar\":{\"outlinewidth\":0,\"ticks\":\"\"}},\"type\":\"parcoords\"}],\"pie\":[{\"automargin\":true,\"type\":\"pie\"}],\"scatter\":[{\"marker\":{\"colorbar\":{\"outlinewidth\":0,\"ticks\":\"\"}},\"type\":\"scatter\"}],\"scatter3d\":[{\"line\":{\"colorbar\":{\"outlinewidth\":0,\"ticks\":\"\"}},\"marker\":{\"colorbar\":{\"outlinewidth\":0,\"ticks\":\"\"}},\"type\":\"scatter3d\"}],\"scattercarpet\":[{\"marker\":{\"colorbar\":{\"outlinewidth\":0,\"ticks\":\"\"}},\"type\":\"scattercarpet\"}],\"scattergeo\":[{\"marker\":{\"colorbar\":{\"outlinewidth\":0,\"ticks\":\"\"}},\"type\":\"scattergeo\"}],\"scattergl\":[{\"marker\":{\"colorbar\":{\"outlinewidth\":0,\"ticks\":\"\"}},\"type\":\"scattergl\"}],\"scattermapbox\":[{\"marker\":{\"colorbar\":{\"outlinewidth\":0,\"ticks\":\"\"}},\"type\":\"scattermapbox\"}],\"scatterpolar\":[{\"marker\":{\"colorbar\":{\"outlinewidth\":0,\"ticks\":\"\"}},\"type\":\"scatterpolar\"}],\"scatterpolargl\":[{\"marker\":{\"colorbar\":{\"outlinewidth\":0,\"ticks\":\"\"}},\"type\":\"scatterpolargl\"}],\"scatterternary\":[{\"marker\":{\"colorbar\":{\"outlinewidth\":0,\"ticks\":\"\"}},\"type\":\"scatterternary\"}],\"surface\":[{\"colorbar\":{\"outlinewidth\":0,\"ticks\":\"\"},\"colorscale\":[[0.0,\"#0d0887\"],[0.1111111111111111,\"#46039f\"],[0.2222222222222222,\"#7201a8\"],[0.3333333333333333,\"#9c179e\"],[0.4444444444444444,\"#bd3786\"],[0.5555555555555556,\"#d8576b\"],[0.6666666666666666,\"#ed7953\"],[0.7777777777777778,\"#fb9f3a\"],[0.8888888888888888,\"#fdca26\"],[1.0,\"#f0f921\"]],\"type\":\"surface\"}],\"table\":[{\"cells\":{\"fill\":{\"color\":\"#EBF0F8\"},\"line\":{\"color\":\"white\"}},\"header\":{\"fill\":{\"color\":\"#C8D4E3\"},\"line\":{\"color\":\"white\"}},\"type\":\"table\"}]},\"layout\":{\"annotationdefaults\":{\"arrowcolor\":\"#2a3f5f\",\"arrowhead\":0,\"arrowwidth\":1},\"autotypenumbers\":\"strict\",\"coloraxis\":{\"colorbar\":{\"outlinewidth\":0,\"ticks\":\"\"}},\"colorscale\":{\"diverging\":[[0,\"#8e0152\"],[0.1,\"#c51b7d\"],[0.2,\"#de77ae\"],[0.3,\"#f1b6da\"],[0.4,\"#fde0ef\"],[0.5,\"#f7f7f7\"],[0.6,\"#e6f5d0\"],[0.7,\"#b8e186\"],[0.8,\"#7fbc41\"],[0.9,\"#4d9221\"],[1,\"#276419\"]],\"sequential\":[[0.0,\"#0d0887\"],[0.1111111111111111,\"#46039f\"],[0.2222222222222222,\"#7201a8\"],[0.3333333333333333,\"#9c179e\"],[0.4444444444444444,\"#bd3786\"],[0.5555555555555556,\"#d8576b\"],[0.6666666666666666,\"#ed7953\"],[0.7777777777777778,\"#fb9f3a\"],[0.8888888888888888,\"#fdca26\"],[1.0,\"#f0f921\"]],\"sequentialminus\":[[0.0,\"#0d0887\"],[0.1111111111111111,\"#46039f\"],[0.2222222222222222,\"#7201a8\"],[0.3333333333333333,\"#9c179e\"],[0.4444444444444444,\"#bd3786\"],[0.5555555555555556,\"#d8576b\"],[0.6666666666666666,\"#ed7953\"],[0.7777777777777778,\"#fb9f3a\"],[0.8888888888888888,\"#fdca26\"],[1.0,\"#f0f921\"]]},\"colorway\":[\"#636efa\",\"#EF553B\",\"#00cc96\",\"#ab63fa\",\"#FFA15A\",\"#19d3f3\",\"#FF6692\",\"#B6E880\",\"#FF97FF\",\"#FECB52\"],\"font\":{\"color\":\"#2a3f5f\"},\"geo\":{\"bgcolor\":\"white\",\"lakecolor\":\"white\",\"landcolor\":\"#E5ECF6\",\"showlakes\":true,\"showland\":true,\"subunitcolor\":\"white\"},\"hoverlabel\":{\"align\":\"left\"},\"hovermode\":\"closest\",\"mapbox\":{\"style\":\"light\"},\"paper_bgcolor\":\"white\",\"plot_bgcolor\":\"#E5ECF6\",\"polar\":{\"angularaxis\":{\"gridcolor\":\"white\",\"linecolor\":\"white\",\"ticks\":\"\"},\"bgcolor\":\"#E5ECF6\",\"radialaxis\":{\"gridcolor\":\"white\",\"linecolor\":\"white\",\"ticks\":\"\"}},\"scene\":{\"xaxis\":{\"backgroundcolor\":\"#E5ECF6\",\"gridcolor\":\"white\",\"gridwidth\":2,\"linecolor\":\"white\",\"showbackground\":true,\"ticks\":\"\",\"zerolinecolor\":\"white\"},\"yaxis\":{\"backgroundcolor\":\"#E5ECF6\",\"gridcolor\":\"white\",\"gridwidth\":2,\"linecolor\":\"white\",\"showbackground\":true,\"ticks\":\"\",\"zerolinecolor\":\"white\"},\"zaxis\":{\"backgroundcolor\":\"#E5ECF6\",\"gridcolor\":\"white\",\"gridwidth\":2,\"linecolor\":\"white\",\"showbackground\":true,\"ticks\":\"\",\"zerolinecolor\":\"white\"}},\"shapedefaults\":{\"line\":{\"color\":\"#2a3f5f\"}},\"ternary\":{\"aaxis\":{\"gridcolor\":\"white\",\"linecolor\":\"white\",\"ticks\":\"\"},\"baxis\":{\"gridcolor\":\"white\",\"linecolor\":\"white\",\"ticks\":\"\"},\"bgcolor\":\"#E5ECF6\",\"caxis\":{\"gridcolor\":\"white\",\"linecolor\":\"white\",\"ticks\":\"\"}},\"title\":{\"x\":0.05},\"xaxis\":{\"automargin\":true,\"gridcolor\":\"white\",\"linecolor\":\"white\",\"ticks\":\"\",\"title\":{\"standoff\":15},\"zerolinecolor\":\"white\",\"zerolinewidth\":2},\"yaxis\":{\"automargin\":true,\"gridcolor\":\"white\",\"linecolor\":\"white\",\"ticks\":\"\",\"title\":{\"standoff\":15},\"zerolinecolor\":\"white\",\"zerolinewidth\":2}}}},                        {\"responsive\": true}                    ).then(function(){\n",
              "                            \n",
              "var gd = document.getElementById('f2a8ea14-86fd-4a16-b934-ca54ff61bac1');\n",
              "var x = new MutationObserver(function (mutations, observer) {{\n",
              "        var display = window.getComputedStyle(gd).display;\n",
              "        if (!display || display === 'none') {{\n",
              "            console.log([gd, 'removed!']);\n",
              "            Plotly.purge(gd);\n",
              "            observer.disconnect();\n",
              "        }}\n",
              "}});\n",
              "\n",
              "// Listen for the removal of the full notebook cells\n",
              "var notebookContainer = gd.closest('#notebook-container');\n",
              "if (notebookContainer) {{\n",
              "    x.observe(notebookContainer, {childList: true});\n",
              "}}\n",
              "\n",
              "// Listen for the clearing of the current output cell\n",
              "var outputEl = gd.closest('.output');\n",
              "if (outputEl) {{\n",
              "    x.observe(outputEl, {childList: true});\n",
              "}}\n",
              "\n",
              "                        })                };                            </script>        </div>\n",
              "</body>\n",
              "</html>"
            ]
          },
          "metadata": {}
        }
      ],
      "source": [
        "# # Create a list of epochs (i.e., the x-axis data)\n",
        "epochs = list(range(1, len(results_baseline.history['val_accuracy'])+1))\n",
        "\n",
        "# # Create a Plotly line plot using the epochs and validation accuracy data\n",
        "fig = go.Figure()\n",
        "fig.add_trace(go.Scatter(x=epochs, y=results_baseline.history['val_accuracy'], name='Baseline - BiLSTM Model', mode='lines+markers'))\n",
        "fig.add_trace(go.Scatter(x=epochs, y=results_gru.history['val_accuracy'], name='GRU Model', mode='lines+markers'))\n",
        "fig.show()\n",
        "\n",
        "# Create a list of epochs (i.e., the x-axis data)\n",
        "epochs = list(range(1, len(results_add_lstm.history['val_accuracy'])+1))\n",
        "\n",
        "fig2 = go.Figure()\n",
        "fig2.add_trace(go.Scatter(x=epochs, y=results_add_lstm.history['val_accuracy'], name='2 BiLSTMs Model', mode='lines+markers'))\n",
        "fig2.add_trace(go.Scatter(x=epochs, y=results_add_fc.history['val_accuracy'], name='2 FCs Model', mode='lines+markers'))\n",
        "fig2.show()"
      ]
    }
  ],
  "metadata": {
    "colab": {
      "provenance": []
    },
    "kernelspec": {
      "display_name": "Python 3",
      "name": "python3"
    },
    "language_info": {
      "name": "python"
    }
  },
  "nbformat": 4,
  "nbformat_minor": 0
}